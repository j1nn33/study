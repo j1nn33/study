{
 "cells": [
  {
   "cell_type": "code",
   "execution_count": 3,
   "id": "21e43f94",
   "metadata": {},
   "outputs": [],
   "source": [
    "### Подготовительная часть\n",
    "# импортирование библиотек\n",
    "import pandas as pd\n",
    "import numpy as np\n",
    "# загрузка данных \n",
    "pd.read_csv(filepath_or_buffer = \"../../source/sp500.csv\", \n",
    "            sep =',')\n",
    "# модификация данных \n",
    "sp500 = pd.read_csv(filepath_or_buffer = \"../../source/sp500.csv\", \n",
    "            sep =',',\n",
    "            usecols = ['Symbol', 'GICS Sub-Industry', 'CIK','Founded'],\n",
    "            index_col = 'Symbol')\n",
    "np.random.seed(123)\n",
    "numbers = pd.Series(data = np.random.normal(size=10),\n",
    "                    index = np.arange(25,35))\n",
    "Simpsons = pd.Series({'Homer'  : 120,\n",
    "                     'Marge'  : 60,\n",
    "                     'BArt'   : 35,\n",
    "                     'Lisa'   : 30,\n",
    "                     'Maggie' : 7})"
   ]
  },
  {
   "cell_type": "markdown",
   "id": "b1aacecc",
   "metadata": {},
   "source": [
    "### Удаление"
   ]
  },
  {
   "cell_type": "code",
   "execution_count": 4,
   "id": "34cdb3d0",
   "metadata": {},
   "outputs": [
    {
     "data": {
      "text/plain": [
       "Homer     120\n",
       "Marge      60\n",
       "BArt       35\n",
       "Lisa       30\n",
       "Maggie      7\n",
       "dtype: int64"
      ]
     },
     "execution_count": 4,
     "metadata": {},
     "output_type": "execute_result"
    }
   ],
   "source": [
    "Simpsons"
   ]
  },
  {
   "cell_type": "code",
   "execution_count": 6,
   "id": "fd666609",
   "metadata": {},
   "outputs": [
    {
     "data": {
      "text/plain": [
       "Homer    120\n",
       "Marge     60\n",
       "BArt      35\n",
       "Lisa      30\n",
       "dtype: int64"
      ]
     },
     "execution_count": 6,
     "metadata": {},
     "output_type": "execute_result"
    }
   ],
   "source": [
    "Simpson_copy = Simpsons.copy()\n",
    "del Simpson_copy['Maggie']\n",
    "Simpson_copy"
   ]
  },
  {
   "cell_type": "code",
   "execution_count": 7,
   "id": "3156f24f",
   "metadata": {},
   "outputs": [
    {
     "data": {
      "text/html": [
       "<div>\n",
       "<style scoped>\n",
       "    .dataframe tbody tr th:only-of-type {\n",
       "        vertical-align: middle;\n",
       "    }\n",
       "\n",
       "    .dataframe tbody tr th {\n",
       "        vertical-align: top;\n",
       "    }\n",
       "\n",
       "    .dataframe thead th {\n",
       "        text-align: right;\n",
       "    }\n",
       "</style>\n",
       "<table border=\"1\" class=\"dataframe\">\n",
       "  <thead>\n",
       "    <tr style=\"text-align: right;\">\n",
       "      <th></th>\n",
       "      <th>GICS Sub-Industry</th>\n",
       "      <th>CIK</th>\n",
       "      <th>Founded</th>\n",
       "    </tr>\n",
       "    <tr>\n",
       "      <th>Symbol</th>\n",
       "      <th></th>\n",
       "      <th></th>\n",
       "      <th></th>\n",
       "    </tr>\n",
       "  </thead>\n",
       "  <tbody>\n",
       "    <tr>\n",
       "      <th>MMM</th>\n",
       "      <td>Industrial Conglomerates</td>\n",
       "      <td>66740</td>\n",
       "      <td>1902</td>\n",
       "    </tr>\n",
       "    <tr>\n",
       "      <th>AOS</th>\n",
       "      <td>Building Products</td>\n",
       "      <td>4343243243432434</td>\n",
       "      <td>1916</td>\n",
       "    </tr>\n",
       "    <tr>\n",
       "      <th>ABT</th>\n",
       "      <td>Health Care Equipment</td>\n",
       "      <td>1800</td>\n",
       "      <td>1888</td>\n",
       "    </tr>\n",
       "    <tr>\n",
       "      <th>ABBV</th>\n",
       "      <td>Pharmaceuticals</td>\n",
       "      <td>1551152</td>\n",
       "      <td>2013 (1888)</td>\n",
       "    </tr>\n",
       "    <tr>\n",
       "      <th>ACN</th>\n",
       "      <td>IT Consulting &amp; Other Services</td>\n",
       "      <td>1467373</td>\n",
       "      <td>1989</td>\n",
       "    </tr>\n",
       "  </tbody>\n",
       "</table>\n",
       "</div>"
      ],
      "text/plain": [
       "                     GICS Sub-Industry               CIK      Founded\n",
       "Symbol                                                               \n",
       "MMM           Industrial Conglomerates             66740         1902\n",
       "AOS                  Building Products  4343243243432434         1916\n",
       "ABT              Health Care Equipment              1800         1888\n",
       "ABBV                   Pharmaceuticals           1551152  2013 (1888)\n",
       "ACN     IT Consulting & Other Services           1467373         1989"
      ]
     },
     "execution_count": 7,
     "metadata": {},
     "output_type": "execute_result"
    }
   ],
   "source": [
    "sp500.head()"
   ]
  },
  {
   "cell_type": "code",
   "execution_count": 9,
   "id": "0e6fd2d2",
   "metadata": {},
   "outputs": [],
   "source": [
    "sp500_copy = sp500.copy()\n",
    "del sp500_copy['CIK']"
   ]
  },
  {
   "cell_type": "code",
   "execution_count": 12,
   "id": "cdf2649a",
   "metadata": {},
   "outputs": [
    {
     "data": {
      "text/html": [
       "<div>\n",
       "<style scoped>\n",
       "    .dataframe tbody tr th:only-of-type {\n",
       "        vertical-align: middle;\n",
       "    }\n",
       "\n",
       "    .dataframe tbody tr th {\n",
       "        vertical-align: top;\n",
       "    }\n",
       "\n",
       "    .dataframe thead th {\n",
       "        text-align: right;\n",
       "    }\n",
       "</style>\n",
       "<table border=\"1\" class=\"dataframe\">\n",
       "  <thead>\n",
       "    <tr style=\"text-align: right;\">\n",
       "      <th></th>\n",
       "      <th>GICS Sub-Industry</th>\n",
       "      <th>Founded</th>\n",
       "    </tr>\n",
       "    <tr>\n",
       "      <th>Symbol</th>\n",
       "      <th></th>\n",
       "      <th></th>\n",
       "    </tr>\n",
       "  </thead>\n",
       "  <tbody>\n",
       "    <tr>\n",
       "      <th>MMM</th>\n",
       "      <td>Industrial Conglomerates</td>\n",
       "      <td>1902</td>\n",
       "    </tr>\n",
       "    <tr>\n",
       "      <th>AOS</th>\n",
       "      <td>Building Products</td>\n",
       "      <td>1916</td>\n",
       "    </tr>\n",
       "    <tr>\n",
       "      <th>ABT</th>\n",
       "      <td>Health Care Equipment</td>\n",
       "      <td>1888</td>\n",
       "    </tr>\n",
       "    <tr>\n",
       "      <th>ABBV</th>\n",
       "      <td>Pharmaceuticals</td>\n",
       "      <td>2013 (1888)</td>\n",
       "    </tr>\n",
       "    <tr>\n",
       "      <th>ACN</th>\n",
       "      <td>IT Consulting &amp; Other Services</td>\n",
       "      <td>1989</td>\n",
       "    </tr>\n",
       "  </tbody>\n",
       "</table>\n",
       "</div>"
      ],
      "text/plain": [
       "                     GICS Sub-Industry      Founded\n",
       "Symbol                                             \n",
       "MMM           Industrial Conglomerates         1902\n",
       "AOS                  Building Products         1916\n",
       "ABT              Health Care Equipment         1888\n",
       "ABBV                   Pharmaceuticals  2013 (1888)\n",
       "ACN     IT Consulting & Other Services         1989"
      ]
     },
     "execution_count": 12,
     "metadata": {},
     "output_type": "execute_result"
    }
   ],
   "source": [
    "# вывод первых 5 строк\n",
    "sp500_copy.iloc[:5]"
   ]
  },
  {
   "cell_type": "markdown",
   "id": "5b44a0f8",
   "metadata": {},
   "source": [
    "### POP удаляет и возвращает удаленную часть\n",
    "### для Series применение pop идентично "
   ]
  },
  {
   "cell_type": "code",
   "execution_count": 13,
   "id": "b5fcc260",
   "metadata": {},
   "outputs": [
    {
     "data": {
      "text/html": [
       "<div>\n",
       "<style scoped>\n",
       "    .dataframe tbody tr th:only-of-type {\n",
       "        vertical-align: middle;\n",
       "    }\n",
       "\n",
       "    .dataframe tbody tr th {\n",
       "        vertical-align: top;\n",
       "    }\n",
       "\n",
       "    .dataframe thead th {\n",
       "        text-align: right;\n",
       "    }\n",
       "</style>\n",
       "<table border=\"1\" class=\"dataframe\">\n",
       "  <thead>\n",
       "    <tr style=\"text-align: right;\">\n",
       "      <th></th>\n",
       "      <th>GICS Sub-Industry</th>\n",
       "      <th>CIK</th>\n",
       "      <th>Founded</th>\n",
       "    </tr>\n",
       "    <tr>\n",
       "      <th>Symbol</th>\n",
       "      <th></th>\n",
       "      <th></th>\n",
       "      <th></th>\n",
       "    </tr>\n",
       "  </thead>\n",
       "  <tbody>\n",
       "    <tr>\n",
       "      <th>MMM</th>\n",
       "      <td>Industrial Conglomerates</td>\n",
       "      <td>66740</td>\n",
       "      <td>1902</td>\n",
       "    </tr>\n",
       "    <tr>\n",
       "      <th>AOS</th>\n",
       "      <td>Building Products</td>\n",
       "      <td>4343243243432434</td>\n",
       "      <td>1916</td>\n",
       "    </tr>\n",
       "    <tr>\n",
       "      <th>ABT</th>\n",
       "      <td>Health Care Equipment</td>\n",
       "      <td>1800</td>\n",
       "      <td>1888</td>\n",
       "    </tr>\n",
       "  </tbody>\n",
       "</table>\n",
       "</div>"
      ],
      "text/plain": [
       "               GICS Sub-Industry               CIK Founded\n",
       "Symbol                                                    \n",
       "MMM     Industrial Conglomerates             66740    1902\n",
       "AOS            Building Products  4343243243432434    1916\n",
       "ABT        Health Care Equipment              1800    1888"
      ]
     },
     "execution_count": 13,
     "metadata": {},
     "output_type": "execute_result"
    }
   ],
   "source": [
    "sp500_copy = sp500.copy()\n",
    "sp500_copy.head(3)"
   ]
  },
  {
   "cell_type": "code",
   "execution_count": 14,
   "id": "66906699",
   "metadata": {},
   "outputs": [],
   "source": [
    "# удаление столбца GICS Sub-Industry и возвращение его как серии \n",
    "popped_column = sp500_copy.pop('GICS Sub-Industry')"
   ]
  },
  {
   "cell_type": "code",
   "execution_count": 15,
   "id": "94420320",
   "metadata": {},
   "outputs": [
    {
     "data": {
      "text/html": [
       "<div>\n",
       "<style scoped>\n",
       "    .dataframe tbody tr th:only-of-type {\n",
       "        vertical-align: middle;\n",
       "    }\n",
       "\n",
       "    .dataframe tbody tr th {\n",
       "        vertical-align: top;\n",
       "    }\n",
       "\n",
       "    .dataframe thead th {\n",
       "        text-align: right;\n",
       "    }\n",
       "</style>\n",
       "<table border=\"1\" class=\"dataframe\">\n",
       "  <thead>\n",
       "    <tr style=\"text-align: right;\">\n",
       "      <th></th>\n",
       "      <th>CIK</th>\n",
       "      <th>Founded</th>\n",
       "    </tr>\n",
       "    <tr>\n",
       "      <th>Symbol</th>\n",
       "      <th></th>\n",
       "      <th></th>\n",
       "    </tr>\n",
       "  </thead>\n",
       "  <tbody>\n",
       "    <tr>\n",
       "      <th>MMM</th>\n",
       "      <td>66740</td>\n",
       "      <td>1902</td>\n",
       "    </tr>\n",
       "    <tr>\n",
       "      <th>AOS</th>\n",
       "      <td>4343243243432434</td>\n",
       "      <td>1916</td>\n",
       "    </tr>\n",
       "    <tr>\n",
       "      <th>ABT</th>\n",
       "      <td>1800</td>\n",
       "      <td>1888</td>\n",
       "    </tr>\n",
       "  </tbody>\n",
       "</table>\n",
       "</div>"
      ],
      "text/plain": [
       "                     CIK Founded\n",
       "Symbol                          \n",
       "MMM                66740    1902\n",
       "AOS     4343243243432434    1916\n",
       "ABT                 1800    1888"
      ]
     },
     "execution_count": 15,
     "metadata": {},
     "output_type": "execute_result"
    }
   ],
   "source": [
    "sp500_copy.head(3)"
   ]
  },
  {
   "cell_type": "code",
   "execution_count": 17,
   "id": "3a9a793e",
   "metadata": {},
   "outputs": [
    {
     "data": {
      "text/plain": [
       "Symbol\n",
       "MMM    Industrial Conglomerates\n",
       "AOS           Building Products\n",
       "ABT       Health Care Equipment\n",
       "Name: GICS Sub-Industry, dtype: object"
      ]
     },
     "execution_count": 17,
     "metadata": {},
     "output_type": "execute_result"
    }
   ],
   "source": [
    "popped_column.head(3)"
   ]
  },
  {
   "cell_type": "markdown",
   "id": "40e569d8",
   "metadata": {},
   "source": [
    "### drop возвращает копию данных после удаления (исходный объект удален не будет)\n",
    "### для Series применение идентично "
   ]
  },
  {
   "cell_type": "code",
   "execution_count": 19,
   "id": "0f7535e1",
   "metadata": {},
   "outputs": [
    {
     "data": {
      "text/html": [
       "<div>\n",
       "<style scoped>\n",
       "    .dataframe tbody tr th:only-of-type {\n",
       "        vertical-align: middle;\n",
       "    }\n",
       "\n",
       "    .dataframe tbody tr th {\n",
       "        vertical-align: top;\n",
       "    }\n",
       "\n",
       "    .dataframe thead th {\n",
       "        text-align: right;\n",
       "    }\n",
       "</style>\n",
       "<table border=\"1\" class=\"dataframe\">\n",
       "  <thead>\n",
       "    <tr style=\"text-align: right;\">\n",
       "      <th></th>\n",
       "      <th>GICS Sub-Industry</th>\n",
       "      <th>CIK</th>\n",
       "      <th>Founded</th>\n",
       "    </tr>\n",
       "    <tr>\n",
       "      <th>Symbol</th>\n",
       "      <th></th>\n",
       "      <th></th>\n",
       "      <th></th>\n",
       "    </tr>\n",
       "  </thead>\n",
       "  <tbody>\n",
       "    <tr>\n",
       "      <th>MMM</th>\n",
       "      <td>Industrial Conglomerates</td>\n",
       "      <td>66740</td>\n",
       "      <td>1902</td>\n",
       "    </tr>\n",
       "    <tr>\n",
       "      <th>AOS</th>\n",
       "      <td>Building Products</td>\n",
       "      <td>4343243243432434</td>\n",
       "      <td>1916</td>\n",
       "    </tr>\n",
       "    <tr>\n",
       "      <th>ABT</th>\n",
       "      <td>Health Care Equipment</td>\n",
       "      <td>1800</td>\n",
       "      <td>1888</td>\n",
       "    </tr>\n",
       "  </tbody>\n",
       "</table>\n",
       "</div>"
      ],
      "text/plain": [
       "               GICS Sub-Industry               CIK Founded\n",
       "Symbol                                                    \n",
       "MMM     Industrial Conglomerates             66740    1902\n",
       "AOS            Building Products  4343243243432434    1916\n",
       "ABT        Health Care Equipment              1800    1888"
      ]
     },
     "execution_count": 19,
     "metadata": {},
     "output_type": "execute_result"
    }
   ],
   "source": [
    "sp500_copy = sp500.copy()\n",
    "sp500_copy.head(3)"
   ]
  },
  {
   "cell_type": "markdown",
   "id": "0c149d31",
   "metadata": {},
   "source": [
    " - эта строка вернет новый датафрейм с удаленным столбцом GICS Sub-Industry\n",
    " - копия датафрейма sp500_copy не изменится (те оригинал не затрагивается)"
   ]
  },
  {
   "cell_type": "code",
   "execution_count": 22,
   "id": "78ebb469",
   "metadata": {},
   "outputs": [
    {
     "data": {
      "text/html": [
       "<div>\n",
       "<style scoped>\n",
       "    .dataframe tbody tr th:only-of-type {\n",
       "        vertical-align: middle;\n",
       "    }\n",
       "\n",
       "    .dataframe tbody tr th {\n",
       "        vertical-align: top;\n",
       "    }\n",
       "\n",
       "    .dataframe thead th {\n",
       "        text-align: right;\n",
       "    }\n",
       "</style>\n",
       "<table border=\"1\" class=\"dataframe\">\n",
       "  <thead>\n",
       "    <tr style=\"text-align: right;\">\n",
       "      <th></th>\n",
       "      <th>CIK</th>\n",
       "      <th>Founded</th>\n",
       "    </tr>\n",
       "    <tr>\n",
       "      <th>Symbol</th>\n",
       "      <th></th>\n",
       "      <th></th>\n",
       "    </tr>\n",
       "  </thead>\n",
       "  <tbody>\n",
       "    <tr>\n",
       "      <th>MMM</th>\n",
       "      <td>66740</td>\n",
       "      <td>1902</td>\n",
       "    </tr>\n",
       "    <tr>\n",
       "      <th>AOS</th>\n",
       "      <td>4343243243432434</td>\n",
       "      <td>1916</td>\n",
       "    </tr>\n",
       "    <tr>\n",
       "      <th>ABT</th>\n",
       "      <td>1800</td>\n",
       "      <td>1888</td>\n",
       "    </tr>\n",
       "  </tbody>\n",
       "</table>\n",
       "</div>"
      ],
      "text/plain": [
       "                     CIK Founded\n",
       "Symbol                          \n",
       "MMM                66740    1902\n",
       "AOS     4343243243432434    1916\n",
       "ABT                 1800    1888"
      ]
     },
     "execution_count": 22,
     "metadata": {},
     "output_type": "execute_result"
    }
   ],
   "source": [
    "sp500_copy_after_drop = sp500_copy.drop(['GICS Sub-Industry'], axis = 1)\n",
    "# axis = 1 - параметр для удаления столбцов\n",
    "sp500_copy_after_drop.head(3)"
   ]
  },
  {
   "cell_type": "code",
   "execution_count": 23,
   "id": "6b89ec57",
   "metadata": {},
   "outputs": [
    {
     "data": {
      "text/html": [
       "<div>\n",
       "<style scoped>\n",
       "    .dataframe tbody tr th:only-of-type {\n",
       "        vertical-align: middle;\n",
       "    }\n",
       "\n",
       "    .dataframe tbody tr th {\n",
       "        vertical-align: top;\n",
       "    }\n",
       "\n",
       "    .dataframe thead th {\n",
       "        text-align: right;\n",
       "    }\n",
       "</style>\n",
       "<table border=\"1\" class=\"dataframe\">\n",
       "  <thead>\n",
       "    <tr style=\"text-align: right;\">\n",
       "      <th></th>\n",
       "      <th>GICS Sub-Industry</th>\n",
       "      <th>CIK</th>\n",
       "      <th>Founded</th>\n",
       "    </tr>\n",
       "    <tr>\n",
       "      <th>Symbol</th>\n",
       "      <th></th>\n",
       "      <th></th>\n",
       "      <th></th>\n",
       "    </tr>\n",
       "  </thead>\n",
       "  <tbody>\n",
       "    <tr>\n",
       "      <th>MMM</th>\n",
       "      <td>Industrial Conglomerates</td>\n",
       "      <td>66740</td>\n",
       "      <td>1902</td>\n",
       "    </tr>\n",
       "    <tr>\n",
       "      <th>AOS</th>\n",
       "      <td>Building Products</td>\n",
       "      <td>4343243243432434</td>\n",
       "      <td>1916</td>\n",
       "    </tr>\n",
       "    <tr>\n",
       "      <th>ABT</th>\n",
       "      <td>Health Care Equipment</td>\n",
       "      <td>1800</td>\n",
       "      <td>1888</td>\n",
       "    </tr>\n",
       "    <tr>\n",
       "      <th>ABBV</th>\n",
       "      <td>Pharmaceuticals</td>\n",
       "      <td>1551152</td>\n",
       "      <td>2013 (1888)</td>\n",
       "    </tr>\n",
       "    <tr>\n",
       "      <th>ACN</th>\n",
       "      <td>IT Consulting &amp; Other Services</td>\n",
       "      <td>1467373</td>\n",
       "      <td>1989</td>\n",
       "    </tr>\n",
       "  </tbody>\n",
       "</table>\n",
       "</div>"
      ],
      "text/plain": [
       "                     GICS Sub-Industry               CIK      Founded\n",
       "Symbol                                                               \n",
       "MMM           Industrial Conglomerates             66740         1902\n",
       "AOS                  Building Products  4343243243432434         1916\n",
       "ABT              Health Care Equipment              1800         1888\n",
       "ABBV                   Pharmaceuticals           1551152  2013 (1888)\n",
       "ACN     IT Consulting & Other Services           1467373         1989"
      ]
     },
     "execution_count": 23,
     "metadata": {},
     "output_type": "execute_result"
    }
   ],
   "source": [
    "# получаем копию первый 5 строк \n",
    "sp500_part_copy = sp500.iloc[:5].copy()\n",
    "sp500_part_copy"
   ]
  },
  {
   "cell_type": "code",
   "execution_count": 24,
   "id": "c1282d18",
   "metadata": {},
   "outputs": [
    {
     "data": {
      "text/html": [
       "<div>\n",
       "<style scoped>\n",
       "    .dataframe tbody tr th:only-of-type {\n",
       "        vertical-align: middle;\n",
       "    }\n",
       "\n",
       "    .dataframe tbody tr th {\n",
       "        vertical-align: top;\n",
       "    }\n",
       "\n",
       "    .dataframe thead th {\n",
       "        text-align: right;\n",
       "    }\n",
       "</style>\n",
       "<table border=\"1\" class=\"dataframe\">\n",
       "  <thead>\n",
       "    <tr style=\"text-align: right;\">\n",
       "      <th></th>\n",
       "      <th>GICS Sub-Industry</th>\n",
       "      <th>CIK</th>\n",
       "      <th>Founded</th>\n",
       "    </tr>\n",
       "    <tr>\n",
       "      <th>Symbol</th>\n",
       "      <th></th>\n",
       "      <th></th>\n",
       "      <th></th>\n",
       "    </tr>\n",
       "  </thead>\n",
       "  <tbody>\n",
       "    <tr>\n",
       "      <th>MMM</th>\n",
       "      <td>Industrial Conglomerates</td>\n",
       "      <td>66740</td>\n",
       "      <td>1902</td>\n",
       "    </tr>\n",
       "    <tr>\n",
       "      <th>AOS</th>\n",
       "      <td>Building Products</td>\n",
       "      <td>4343243243432434</td>\n",
       "      <td>1916</td>\n",
       "    </tr>\n",
       "    <tr>\n",
       "      <th>ABBV</th>\n",
       "      <td>Pharmaceuticals</td>\n",
       "      <td>1551152</td>\n",
       "      <td>2013 (1888)</td>\n",
       "    </tr>\n",
       "  </tbody>\n",
       "</table>\n",
       "</div>"
      ],
      "text/plain": [
       "               GICS Sub-Industry               CIK      Founded\n",
       "Symbol                                                         \n",
       "MMM     Industrial Conglomerates             66740         1902\n",
       "AOS            Building Products  4343243243432434         1916\n",
       "ABBV             Pharmaceuticals           1551152  2013 (1888)"
      ]
     },
     "execution_count": 24,
     "metadata": {},
     "output_type": "execute_result"
    }
   ],
   "source": [
    "# удаляем строки с метками ABT, ACN \n",
    "sp500_part_copy = sp500_part_copy.drop(['ABT', 'ACN'], axis=0)\n",
    "# axis = 1 - параметр для удаления строк\n",
    "sp500_part_copy.head(5)"
   ]
  },
  {
   "cell_type": "code",
   "execution_count": 26,
   "id": "0a6fbad8",
   "metadata": {},
   "outputs": [
    {
     "data": {
      "text/plain": [
       "25   -1.085631\n",
       "26    0.997345\n",
       "27    0.282978\n",
       "28   -1.506295\n",
       "29   -0.578600\n",
       "30    1.651437\n",
       "31   -2.426679\n",
       "32   -0.428913\n",
       "33    1.265936\n",
       "34   -0.866740\n",
       "dtype: float64"
      ]
     },
     "execution_count": 26,
     "metadata": {},
     "output_type": "execute_result"
    }
   ],
   "source": [
    "# Фильтрация по условию\n",
    "# Series\n",
    "numbers"
   ]
  },
  {
   "cell_type": "code",
   "execution_count": 27,
   "id": "f1679159",
   "metadata": {},
   "outputs": [
    {
     "data": {
      "text/plain": [
       "25    False\n",
       "26     True\n",
       "27     True\n",
       "28    False\n",
       "29    False\n",
       "30    False\n",
       "31    False\n",
       "32    False\n",
       "33    False\n",
       "34    False\n",
       "dtype: bool"
      ]
     },
     "execution_count": 27,
     "metadata": {},
     "output_type": "execute_result"
    }
   ],
   "source": [
    "# какие строки имеют значение больше 0 и меньше 1 возвращаемое значение True/False\n",
    "logical_results = (numbers > 0) & (numbers <1)\n",
    "logical_results"
   ]
  },
  {
   "cell_type": "code",
   "execution_count": 28,
   "id": "6bc65d33",
   "metadata": {},
   "outputs": [
    {
     "data": {
      "text/plain": [
       "pandas.core.series.Series"
      ]
     },
     "execution_count": 28,
     "metadata": {},
     "output_type": "execute_result"
    }
   ],
   "source": [
    "type(logical_results)"
   ]
  },
  {
   "cell_type": "code",
   "execution_count": 29,
   "id": "fbc9d100",
   "metadata": {},
   "outputs": [
    {
     "data": {
      "text/plain": [
       "26    0.997345\n",
       "27    0.282978\n",
       "dtype: float64"
      ]
     },
     "execution_count": 29,
     "metadata": {},
     "output_type": "execute_result"
    }
   ],
   "source": [
    "# отбираем строки со значением True\n",
    "numbers[logical_results]"
   ]
  },
  {
   "cell_type": "code",
   "execution_count": 32,
   "id": "7839260b",
   "metadata": {},
   "outputs": [
    {
     "data": {
      "text/plain": [
       "25         NaN\n",
       "26    0.997345\n",
       "27    0.282978\n",
       "28         NaN\n",
       "29         NaN\n",
       "30         NaN\n",
       "31         NaN\n",
       "32         NaN\n",
       "33         NaN\n",
       "34         NaN\n",
       "dtype: float64"
      ]
     },
     "execution_count": 32,
     "metadata": {},
     "output_type": "execute_result"
    }
   ],
   "source": [
    "# where когда необходимо сохранить исходную серию \n",
    "numbers.where((numbers > 0 ) & (numbers <1))"
   ]
  },
  {
   "cell_type": "code",
   "execution_count": 33,
   "id": "46558ee6",
   "metadata": {},
   "outputs": [
    {
     "data": {
      "text/plain": [
       "25   -1.000000\n",
       "26    0.997345\n",
       "27    0.282978\n",
       "28   -1.000000\n",
       "29   -1.000000\n",
       "30   -1.000000\n",
       "31   -1.000000\n",
       "32   -1.000000\n",
       "33   -1.000000\n",
       "34   -1.000000\n",
       "dtype: float64"
      ]
     },
     "execution_count": 33,
     "metadata": {},
     "output_type": "execute_result"
    }
   ],
   "source": [
    "numbers.where((numbers > 0 ) & (numbers <1), other= -1)"
   ]
  },
  {
   "cell_type": "code",
   "execution_count": 34,
   "id": "92bddc45",
   "metadata": {},
   "outputs": [
    {
     "data": {
      "text/plain": [
       "False"
      ]
     },
     "execution_count": 34,
     "metadata": {},
     "output_type": "execute_result"
    }
   ],
   "source": [
    "# все ли элементы >=0 ?\n",
    "(numbers >=0).all()"
   ]
  },
  {
   "cell_type": "code",
   "execution_count": 35,
   "id": "9d086e22",
   "metadata": {},
   "outputs": [
    {
     "data": {
      "text/plain": [
       "True"
      ]
     },
     "execution_count": 35,
     "metadata": {},
     "output_type": "execute_result"
    }
   ],
   "source": [
    "# есть ли элементы меньше 2\n",
    "(numbers < 2).any()"
   ]
  },
  {
   "cell_type": "code",
   "execution_count": 37,
   "id": "e396075a",
   "metadata": {},
   "outputs": [
    {
     "data": {
      "text/plain": [
       "8"
      ]
     },
     "execution_count": 37,
     "metadata": {},
     "output_type": "execute_result"
    }
   ],
   "source": [
    "# сколько значений < 1\n",
    "(numbers < 1).sum()"
   ]
  },
  {
   "cell_type": "code",
   "execution_count": 38,
   "id": "491174b1",
   "metadata": {},
   "outputs": [],
   "source": [
    "# DataFrames"
   ]
  },
  {
   "cell_type": "code",
   "execution_count": 40,
   "id": "8e5bb1f3",
   "metadata": {},
   "outputs": [
    {
     "data": {
      "text/plain": [
       "Symbol\n",
       "MMM      True\n",
       "AOS     False\n",
       "ABT      True\n",
       "ABBV    False\n",
       "ACN     False\n",
       "        ...  \n",
       "YUM     False\n",
       "ZBRA    False\n",
       "ZBH     False\n",
       "ZION    False\n",
       "ZTS     False\n",
       "Name: CIK, Length: 503, dtype: bool"
      ]
     },
     "execution_count": 40,
     "metadata": {},
     "output_type": "execute_result"
    }
   ],
   "source": [
    "# какие строки имеют значение CIK <100000?\n",
    "sp500.CIK <100000"
   ]
  },
  {
   "cell_type": "code",
   "execution_count": 41,
   "id": "c394ee38",
   "metadata": {},
   "outputs": [],
   "source": [
    "# получим строки, в которых значение CIK <100000?"
   ]
  },
  {
   "cell_type": "code",
   "execution_count": 42,
   "id": "3a074438",
   "metadata": {},
   "outputs": [
    {
     "data": {
      "text/html": [
       "<div>\n",
       "<style scoped>\n",
       "    .dataframe tbody tr th:only-of-type {\n",
       "        vertical-align: middle;\n",
       "    }\n",
       "\n",
       "    .dataframe tbody tr th {\n",
       "        vertical-align: top;\n",
       "    }\n",
       "\n",
       "    .dataframe thead th {\n",
       "        text-align: right;\n",
       "    }\n",
       "</style>\n",
       "<table border=\"1\" class=\"dataframe\">\n",
       "  <thead>\n",
       "    <tr style=\"text-align: right;\">\n",
       "      <th></th>\n",
       "      <th>GICS Sub-Industry</th>\n",
       "      <th>CIK</th>\n",
       "      <th>Founded</th>\n",
       "    </tr>\n",
       "    <tr>\n",
       "      <th>Symbol</th>\n",
       "      <th></th>\n",
       "      <th></th>\n",
       "      <th></th>\n",
       "    </tr>\n",
       "  </thead>\n",
       "  <tbody>\n",
       "    <tr>\n",
       "      <th>MMM</th>\n",
       "      <td>Industrial Conglomerates</td>\n",
       "      <td>66740</td>\n",
       "      <td>1902</td>\n",
       "    </tr>\n",
       "    <tr>\n",
       "      <th>ABT</th>\n",
       "      <td>Health Care Equipment</td>\n",
       "      <td>1800</td>\n",
       "      <td>1888</td>\n",
       "    </tr>\n",
       "    <tr>\n",
       "      <th>ADM</th>\n",
       "      <td>Agricultural Products &amp; Services</td>\n",
       "      <td>7084</td>\n",
       "      <td>1902</td>\n",
       "    </tr>\n",
       "    <tr>\n",
       "      <th>ADP</th>\n",
       "      <td>Human Resource &amp; Employment Services</td>\n",
       "      <td>8670</td>\n",
       "      <td>1949</td>\n",
       "    </tr>\n",
       "    <tr>\n",
       "      <th>AFL</th>\n",
       "      <td>Life &amp; Health Insurance</td>\n",
       "      <td>4977</td>\n",
       "      <td>1955</td>\n",
       "    </tr>\n",
       "    <tr>\n",
       "      <th>...</th>\n",
       "      <td>...</td>\n",
       "      <td>...</td>\n",
       "      <td>...</td>\n",
       "    </tr>\n",
       "    <tr>\n",
       "      <th>TFC</th>\n",
       "      <td>Regional Banks</td>\n",
       "      <td>92230</td>\n",
       "      <td>1872</td>\n",
       "    </tr>\n",
       "    <tr>\n",
       "      <th>USB</th>\n",
       "      <td>Diversified Banks</td>\n",
       "      <td>36104</td>\n",
       "      <td>1968</td>\n",
       "    </tr>\n",
       "    <tr>\n",
       "      <th>UDR</th>\n",
       "      <td>Residential REITs</td>\n",
       "      <td>74208</td>\n",
       "      <td>1972</td>\n",
       "    </tr>\n",
       "    <tr>\n",
       "      <th>WFC</th>\n",
       "      <td>Diversified Banks</td>\n",
       "      <td>72971</td>\n",
       "      <td>1852</td>\n",
       "    </tr>\n",
       "    <tr>\n",
       "      <th>XEL</th>\n",
       "      <td>Multi-Utilities</td>\n",
       "      <td>72903</td>\n",
       "      <td>1909</td>\n",
       "    </tr>\n",
       "  </tbody>\n",
       "</table>\n",
       "<p>125 rows × 3 columns</p>\n",
       "</div>"
      ],
      "text/plain": [
       "                           GICS Sub-Industry    CIK Founded\n",
       "Symbol                                                     \n",
       "MMM                 Industrial Conglomerates  66740    1902\n",
       "ABT                    Health Care Equipment   1800    1888\n",
       "ADM         Agricultural Products & Services   7084    1902\n",
       "ADP     Human Resource & Employment Services   8670    1949\n",
       "AFL                  Life & Health Insurance   4977    1955\n",
       "...                                      ...    ...     ...\n",
       "TFC                           Regional Banks  92230    1872\n",
       "USB                        Diversified Banks  36104    1968\n",
       "UDR                        Residential REITs  74208    1972\n",
       "WFC                        Diversified Banks  72971    1852\n",
       "XEL                          Multi-Utilities  72903    1909\n",
       "\n",
       "[125 rows x 3 columns]"
      ]
     },
     "execution_count": 42,
     "metadata": {},
     "output_type": "execute_result"
    }
   ],
   "source": [
    "sp500[sp500.CIK < 100000]"
   ]
  },
  {
   "cell_type": "code",
   "execution_count": 43,
   "id": "37ca69f8",
   "metadata": {},
   "outputs": [],
   "source": [
    "# извлекаем лишь те в которых значение CIK <100000 и > 5000"
   ]
  },
  {
   "cell_type": "code",
   "execution_count": 44,
   "id": "4a0c485a",
   "metadata": {},
   "outputs": [
    {
     "data": {
      "text/html": [
       "<div>\n",
       "<style scoped>\n",
       "    .dataframe tbody tr th:only-of-type {\n",
       "        vertical-align: middle;\n",
       "    }\n",
       "\n",
       "    .dataframe tbody tr th {\n",
       "        vertical-align: top;\n",
       "    }\n",
       "\n",
       "    .dataframe thead th {\n",
       "        text-align: right;\n",
       "    }\n",
       "</style>\n",
       "<table border=\"1\" class=\"dataframe\">\n",
       "  <thead>\n",
       "    <tr style=\"text-align: right;\">\n",
       "      <th></th>\n",
       "      <th>GICS Sub-Industry</th>\n",
       "      <th>CIK</th>\n",
       "      <th>Founded</th>\n",
       "    </tr>\n",
       "    <tr>\n",
       "      <th>Symbol</th>\n",
       "      <th></th>\n",
       "      <th></th>\n",
       "      <th></th>\n",
       "    </tr>\n",
       "  </thead>\n",
       "  <tbody>\n",
       "    <tr>\n",
       "      <th>MMM</th>\n",
       "      <td>Industrial Conglomerates</td>\n",
       "      <td>66740</td>\n",
       "      <td>1902</td>\n",
       "    </tr>\n",
       "    <tr>\n",
       "      <th>ADM</th>\n",
       "      <td>Agricultural Products &amp; Services</td>\n",
       "      <td>7084</td>\n",
       "      <td>1902</td>\n",
       "    </tr>\n",
       "    <tr>\n",
       "      <th>ADP</th>\n",
       "      <td>Human Resource &amp; Employment Services</td>\n",
       "      <td>8670</td>\n",
       "      <td>1949</td>\n",
       "    </tr>\n",
       "    <tr>\n",
       "      <th>AAL</th>\n",
       "      <td>Passenger Airlines</td>\n",
       "      <td>6201</td>\n",
       "      <td>1934</td>\n",
       "    </tr>\n",
       "    <tr>\n",
       "      <th>AIG</th>\n",
       "      <td>Property &amp; Casualty Insurance</td>\n",
       "      <td>5272</td>\n",
       "      <td>1919</td>\n",
       "    </tr>\n",
       "    <tr>\n",
       "      <th>...</th>\n",
       "      <td>...</td>\n",
       "      <td>...</td>\n",
       "      <td>...</td>\n",
       "    </tr>\n",
       "    <tr>\n",
       "      <th>TFC</th>\n",
       "      <td>Regional Banks</td>\n",
       "      <td>92230</td>\n",
       "      <td>1872</td>\n",
       "    </tr>\n",
       "    <tr>\n",
       "      <th>USB</th>\n",
       "      <td>Diversified Banks</td>\n",
       "      <td>36104</td>\n",
       "      <td>1968</td>\n",
       "    </tr>\n",
       "    <tr>\n",
       "      <th>UDR</th>\n",
       "      <td>Residential REITs</td>\n",
       "      <td>74208</td>\n",
       "      <td>1972</td>\n",
       "    </tr>\n",
       "    <tr>\n",
       "      <th>WFC</th>\n",
       "      <td>Diversified Banks</td>\n",
       "      <td>72971</td>\n",
       "      <td>1852</td>\n",
       "    </tr>\n",
       "    <tr>\n",
       "      <th>XEL</th>\n",
       "      <td>Multi-Utilities</td>\n",
       "      <td>72903</td>\n",
       "      <td>1909</td>\n",
       "    </tr>\n",
       "  </tbody>\n",
       "</table>\n",
       "<p>116 rows × 3 columns</p>\n",
       "</div>"
      ],
      "text/plain": [
       "                           GICS Sub-Industry    CIK Founded\n",
       "Symbol                                                     \n",
       "MMM                 Industrial Conglomerates  66740    1902\n",
       "ADM         Agricultural Products & Services   7084    1902\n",
       "ADP     Human Resource & Employment Services   8670    1949\n",
       "AAL                       Passenger Airlines   6201    1934\n",
       "AIG            Property & Casualty Insurance   5272    1919\n",
       "...                                      ...    ...     ...\n",
       "TFC                           Regional Banks  92230    1872\n",
       "USB                        Diversified Banks  36104    1968\n",
       "UDR                        Residential REITs  74208    1972\n",
       "WFC                        Diversified Banks  72971    1852\n",
       "XEL                          Multi-Utilities  72903    1909\n",
       "\n",
       "[116 rows x 3 columns]"
      ]
     },
     "execution_count": 44,
     "metadata": {},
     "output_type": "execute_result"
    }
   ],
   "source": [
    "r = sp500[(sp500['CIK'] < 100000) & (sp500['CIK'] > 5000)]\n",
    "r"
   ]
  },
  {
   "cell_type": "code",
   "execution_count": 45,
   "id": "616ca896",
   "metadata": {},
   "outputs": [
    {
     "data": {
      "text/plain": [
       "Symbol\n",
       "MMM    66740\n",
       "ADM     7084\n",
       "ADP     8670\n",
       "AAL     6201\n",
       "AIG     5272\n",
       "       ...  \n",
       "TFC    92230\n",
       "USB    36104\n",
       "UDR    74208\n",
       "WFC    72971\n",
       "XEL    72903\n",
       "Name: CIK, Length: 116, dtype: int64"
      ]
     },
     "execution_count": 45,
     "metadata": {},
     "output_type": "execute_result"
    }
   ],
   "source": [
    "r = sp500[(sp500['CIK'] < 100000) & (sp500.CIK > 5000)]['CIK']\n",
    "r"
   ]
  },
  {
   "cell_type": "code",
   "execution_count": 47,
   "id": "f76b05b2",
   "metadata": {},
   "outputs": [],
   "source": [
    "# извлекаем строки в которых переменная GICS Sub-Industry принимает значение Regional Banks, а CIK больше или равна > 1000"
   ]
  },
  {
   "cell_type": "code",
   "execution_count": 56,
   "id": "c7c4a11c",
   "metadata": {},
   "outputs": [
    {
     "data": {
      "text/html": [
       "<div>\n",
       "<style scoped>\n",
       "    .dataframe tbody tr th:only-of-type {\n",
       "        vertical-align: middle;\n",
       "    }\n",
       "\n",
       "    .dataframe tbody tr th {\n",
       "        vertical-align: top;\n",
       "    }\n",
       "\n",
       "    .dataframe thead th {\n",
       "        text-align: right;\n",
       "    }\n",
       "</style>\n",
       "<table border=\"1\" class=\"dataframe\">\n",
       "  <thead>\n",
       "    <tr style=\"text-align: right;\">\n",
       "      <th></th>\n",
       "      <th>GICS Sub-Industry</th>\n",
       "      <th>CIK</th>\n",
       "      <th>Founded</th>\n",
       "    </tr>\n",
       "    <tr>\n",
       "      <th>Symbol</th>\n",
       "      <th></th>\n",
       "      <th></th>\n",
       "      <th></th>\n",
       "    </tr>\n",
       "  </thead>\n",
       "  <tbody>\n",
       "    <tr>\n",
       "      <th>CFG</th>\n",
       "      <td>Regional Banks</td>\n",
       "      <td>759944</td>\n",
       "      <td>1828</td>\n",
       "    </tr>\n",
       "    <tr>\n",
       "      <th>FITB</th>\n",
       "      <td>Regional Banks</td>\n",
       "      <td>35527</td>\n",
       "      <td>1858</td>\n",
       "    </tr>\n",
       "    <tr>\n",
       "      <th>HBAN</th>\n",
       "      <td>Regional Banks</td>\n",
       "      <td>49196</td>\n",
       "      <td>1866</td>\n",
       "    </tr>\n",
       "    <tr>\n",
       "      <th>KEY</th>\n",
       "      <td>Regional Banks</td>\n",
       "      <td>91576</td>\n",
       "      <td>1825</td>\n",
       "    </tr>\n",
       "    <tr>\n",
       "      <th>MTB</th>\n",
       "      <td>Regional Banks</td>\n",
       "      <td>36270</td>\n",
       "      <td>1856</td>\n",
       "    </tr>\n",
       "    <tr>\n",
       "      <th>PNC</th>\n",
       "      <td>Regional Banks</td>\n",
       "      <td>713676</td>\n",
       "      <td>1845</td>\n",
       "    </tr>\n",
       "    <tr>\n",
       "      <th>RF</th>\n",
       "      <td>Regional Banks</td>\n",
       "      <td>1281761</td>\n",
       "      <td>1971</td>\n",
       "    </tr>\n",
       "    <tr>\n",
       "      <th>TFC</th>\n",
       "      <td>Regional Banks</td>\n",
       "      <td>92230</td>\n",
       "      <td>1872</td>\n",
       "    </tr>\n",
       "    <tr>\n",
       "      <th>ZION</th>\n",
       "      <td>Regional Banks</td>\n",
       "      <td>109380</td>\n",
       "      <td>1873</td>\n",
       "    </tr>\n",
       "  </tbody>\n",
       "</table>\n",
       "</div>"
      ],
      "text/plain": [
       "       GICS Sub-Industry      CIK Founded\n",
       "Symbol                                   \n",
       "CFG       Regional Banks   759944    1828\n",
       "FITB      Regional Banks    35527    1858\n",
       "HBAN      Regional Banks    49196    1866\n",
       "KEY       Regional Banks    91576    1825\n",
       "MTB       Regional Banks    36270    1856\n",
       "PNC       Regional Banks   713676    1845\n",
       "RF        Regional Banks  1281761    1971\n",
       "TFC       Regional Banks    92230    1872\n",
       "ZION      Regional Banks   109380    1873"
      ]
     },
     "execution_count": 56,
     "metadata": {},
     "output_type": "execute_result"
    }
   ],
   "source": [
    "r = sp500[(sp500['GICS Sub-Industry'] =='Regional Banks') & \n",
    "          (sp500.CIK >= 1000)]\n",
    "r"
   ]
  },
  {
   "cell_type": "code",
   "execution_count": 57,
   "id": "aec12dfe",
   "metadata": {},
   "outputs": [
    {
     "data": {
      "text/html": [
       "<div>\n",
       "<style scoped>\n",
       "    .dataframe tbody tr th:only-of-type {\n",
       "        vertical-align: middle;\n",
       "    }\n",
       "\n",
       "    .dataframe tbody tr th {\n",
       "        vertical-align: top;\n",
       "    }\n",
       "\n",
       "    .dataframe thead th {\n",
       "        text-align: right;\n",
       "    }\n",
       "</style>\n",
       "<table border=\"1\" class=\"dataframe\">\n",
       "  <thead>\n",
       "    <tr style=\"text-align: right;\">\n",
       "      <th></th>\n",
       "      <th>GICS Sub-Industry</th>\n",
       "      <th>CIK</th>\n",
       "    </tr>\n",
       "    <tr>\n",
       "      <th>Symbol</th>\n",
       "      <th></th>\n",
       "      <th></th>\n",
       "    </tr>\n",
       "  </thead>\n",
       "  <tbody>\n",
       "    <tr>\n",
       "      <th>CFG</th>\n",
       "      <td>Regional Banks</td>\n",
       "      <td>759944</td>\n",
       "    </tr>\n",
       "    <tr>\n",
       "      <th>FITB</th>\n",
       "      <td>Regional Banks</td>\n",
       "      <td>35527</td>\n",
       "    </tr>\n",
       "    <tr>\n",
       "      <th>HBAN</th>\n",
       "      <td>Regional Banks</td>\n",
       "      <td>49196</td>\n",
       "    </tr>\n",
       "    <tr>\n",
       "      <th>KEY</th>\n",
       "      <td>Regional Banks</td>\n",
       "      <td>91576</td>\n",
       "    </tr>\n",
       "    <tr>\n",
       "      <th>MTB</th>\n",
       "      <td>Regional Banks</td>\n",
       "      <td>36270</td>\n",
       "    </tr>\n",
       "    <tr>\n",
       "      <th>PNC</th>\n",
       "      <td>Regional Banks</td>\n",
       "      <td>713676</td>\n",
       "    </tr>\n",
       "    <tr>\n",
       "      <th>RF</th>\n",
       "      <td>Regional Banks</td>\n",
       "      <td>1281761</td>\n",
       "    </tr>\n",
       "    <tr>\n",
       "      <th>TFC</th>\n",
       "      <td>Regional Banks</td>\n",
       "      <td>92230</td>\n",
       "    </tr>\n",
       "    <tr>\n",
       "      <th>ZION</th>\n",
       "      <td>Regional Banks</td>\n",
       "      <td>109380</td>\n",
       "    </tr>\n",
       "  </tbody>\n",
       "</table>\n",
       "</div>"
      ],
      "text/plain": [
       "       GICS Sub-Industry      CIK\n",
       "Symbol                           \n",
       "CFG       Regional Banks   759944\n",
       "FITB      Regional Banks    35527\n",
       "HBAN      Regional Banks    49196\n",
       "KEY       Regional Banks    91576\n",
       "MTB       Regional Banks    36270\n",
       "PNC       Regional Banks   713676\n",
       "RF        Regional Banks  1281761\n",
       "TFC       Regional Banks    92230\n",
       "ZION      Regional Banks   109380"
      ]
     },
     "execution_count": 57,
     "metadata": {},
     "output_type": "execute_result"
    }
   ],
   "source": [
    "r = sp500[(sp500['GICS Sub-Industry'] =='Regional Banks')& \n",
    "          (sp500.CIK >= 1000)][['GICS Sub-Industry','CIK']]\n",
    "r"
   ]
  },
  {
   "cell_type": "code",
   "execution_count": 46,
   "id": "be3ad5b5",
   "metadata": {},
   "outputs": [],
   "source": [
    "# метод isin"
   ]
  },
  {
   "cell_type": "code",
   "execution_count": 64,
   "id": "32c01fd9",
   "metadata": {},
   "outputs": [
    {
     "data": {
      "text/plain": [
       "Symbol\n",
       "MMM     False\n",
       "AOS     False\n",
       "ABT     False\n",
       "ABBV    False\n",
       "ACN     False\n",
       "        ...  \n",
       "YUM     False\n",
       "ZBRA    False\n",
       "ZBH     False\n",
       "ZION    False\n",
       "ZTS     False\n",
       "Name: CIK, Length: 503, dtype: bool"
      ]
     },
     "execution_count": 64,
     "metadata": {},
     "output_type": "execute_result"
    }
   ],
   "source": [
    "s_tmp = sp500.CIK.isin([91576])\n",
    "s_tmp"
   ]
  },
  {
   "cell_type": "code",
   "execution_count": 65,
   "id": "2551546c",
   "metadata": {},
   "outputs": [
    {
     "data": {
      "text/html": [
       "<div>\n",
       "<style scoped>\n",
       "    .dataframe tbody tr th:only-of-type {\n",
       "        vertical-align: middle;\n",
       "    }\n",
       "\n",
       "    .dataframe tbody tr th {\n",
       "        vertical-align: top;\n",
       "    }\n",
       "\n",
       "    .dataframe thead th {\n",
       "        text-align: right;\n",
       "    }\n",
       "</style>\n",
       "<table border=\"1\" class=\"dataframe\">\n",
       "  <thead>\n",
       "    <tr style=\"text-align: right;\">\n",
       "      <th></th>\n",
       "      <th>GICS Sub-Industry</th>\n",
       "      <th>CIK</th>\n",
       "      <th>Founded</th>\n",
       "    </tr>\n",
       "    <tr>\n",
       "      <th>Symbol</th>\n",
       "      <th></th>\n",
       "      <th></th>\n",
       "      <th></th>\n",
       "    </tr>\n",
       "  </thead>\n",
       "  <tbody>\n",
       "    <tr>\n",
       "      <th>KEY</th>\n",
       "      <td>Regional Banks</td>\n",
       "      <td>91576</td>\n",
       "      <td>1825</td>\n",
       "    </tr>\n",
       "  </tbody>\n",
       "</table>\n",
       "</div>"
      ],
      "text/plain": [
       "       GICS Sub-Industry    CIK Founded\n",
       "Symbol                                 \n",
       "KEY       Regional Banks  91576    1825"
      ]
     },
     "execution_count": 65,
     "metadata": {},
     "output_type": "execute_result"
    }
   ],
   "source": [
    "sp500[s_tmp].head()"
   ]
  },
  {
   "cell_type": "code",
   "execution_count": 66,
   "id": "6c80fb0f",
   "metadata": {},
   "outputs": [],
   "source": [
    "# использование метода .query"
   ]
  },
  {
   "cell_type": "code",
   "execution_count": 67,
   "id": "ecce1072",
   "metadata": {},
   "outputs": [
    {
     "data": {
      "text/html": [
       "<div>\n",
       "<style scoped>\n",
       "    .dataframe tbody tr th:only-of-type {\n",
       "        vertical-align: middle;\n",
       "    }\n",
       "\n",
       "    .dataframe tbody tr th {\n",
       "        vertical-align: top;\n",
       "    }\n",
       "\n",
       "    .dataframe thead th {\n",
       "        text-align: right;\n",
       "    }\n",
       "</style>\n",
       "<table border=\"1\" class=\"dataframe\">\n",
       "  <thead>\n",
       "    <tr style=\"text-align: right;\">\n",
       "      <th></th>\n",
       "      <th>GICS Sub-Industry</th>\n",
       "      <th>CIK</th>\n",
       "    </tr>\n",
       "    <tr>\n",
       "      <th>Symbol</th>\n",
       "      <th></th>\n",
       "      <th></th>\n",
       "    </tr>\n",
       "  </thead>\n",
       "  <tbody>\n",
       "    <tr>\n",
       "      <th>CFG</th>\n",
       "      <td>Regional Banks</td>\n",
       "      <td>759944</td>\n",
       "    </tr>\n",
       "    <tr>\n",
       "      <th>FITB</th>\n",
       "      <td>Regional Banks</td>\n",
       "      <td>35527</td>\n",
       "    </tr>\n",
       "    <tr>\n",
       "      <th>HBAN</th>\n",
       "      <td>Regional Banks</td>\n",
       "      <td>49196</td>\n",
       "    </tr>\n",
       "    <tr>\n",
       "      <th>KEY</th>\n",
       "      <td>Regional Banks</td>\n",
       "      <td>91576</td>\n",
       "    </tr>\n",
       "    <tr>\n",
       "      <th>MTB</th>\n",
       "      <td>Regional Banks</td>\n",
       "      <td>36270</td>\n",
       "    </tr>\n",
       "    <tr>\n",
       "      <th>PNC</th>\n",
       "      <td>Regional Banks</td>\n",
       "      <td>713676</td>\n",
       "    </tr>\n",
       "    <tr>\n",
       "      <th>RF</th>\n",
       "      <td>Regional Banks</td>\n",
       "      <td>1281761</td>\n",
       "    </tr>\n",
       "    <tr>\n",
       "      <th>TFC</th>\n",
       "      <td>Regional Banks</td>\n",
       "      <td>92230</td>\n",
       "    </tr>\n",
       "    <tr>\n",
       "      <th>ZION</th>\n",
       "      <td>Regional Banks</td>\n",
       "      <td>109380</td>\n",
       "    </tr>\n",
       "  </tbody>\n",
       "</table>\n",
       "</div>"
      ],
      "text/plain": [
       "       GICS Sub-Industry      CIK\n",
       "Symbol                           \n",
       "CFG       Regional Banks   759944\n",
       "FITB      Regional Banks    35527\n",
       "HBAN      Regional Banks    49196\n",
       "KEY       Regional Banks    91576\n",
       "MTB       Regional Banks    36270\n",
       "PNC       Regional Banks   713676\n",
       "RF        Regional Banks  1281761\n",
       "TFC       Regional Banks    92230\n",
       "ZION      Regional Banks   109380"
      ]
     },
     "execution_count": 67,
     "metadata": {},
     "output_type": "execute_result"
    }
   ],
   "source": [
    "r = sp500[(sp500['GICS Sub-Industry'] =='Regional Banks')& \n",
    "          (sp500.CIK >= 1000)][['GICS Sub-Industry','CIK']]\n",
    "r"
   ]
  },
  {
   "cell_type": "code",
   "execution_count": 81,
   "id": "9cfc6dce",
   "metadata": {},
   "outputs": [
    {
     "data": {
      "text/html": [
       "<div>\n",
       "<style scoped>\n",
       "    .dataframe tbody tr th:only-of-type {\n",
       "        vertical-align: middle;\n",
       "    }\n",
       "\n",
       "    .dataframe tbody tr th {\n",
       "        vertical-align: top;\n",
       "    }\n",
       "\n",
       "    .dataframe thead th {\n",
       "        text-align: right;\n",
       "    }\n",
       "</style>\n",
       "<table border=\"1\" class=\"dataframe\">\n",
       "  <thead>\n",
       "    <tr style=\"text-align: right;\">\n",
       "      <th></th>\n",
       "      <th>CIK</th>\n",
       "      <th>Founded</th>\n",
       "    </tr>\n",
       "    <tr>\n",
       "      <th>Symbol</th>\n",
       "      <th></th>\n",
       "      <th></th>\n",
       "    </tr>\n",
       "  </thead>\n",
       "  <tbody>\n",
       "    <tr>\n",
       "      <th>KEY</th>\n",
       "      <td>91576</td>\n",
       "      <td>1825</td>\n",
       "    </tr>\n",
       "  </tbody>\n",
       "</table>\n",
       "</div>"
      ],
      "text/plain": [
       "          CIK Founded\n",
       "Symbol               \n",
       "KEY     91576    1825"
      ]
     },
     "execution_count": 81,
     "metadata": {},
     "output_type": "execute_result"
    }
   ],
   "source": [
    "q = sp500.query(\"CIK>=1000 & Symbol=='KEY'\")[['CIK', 'Founded']]\n",
    "q"
   ]
  },
  {
   "cell_type": "code",
   "execution_count": null,
   "id": "d4bfcdea",
   "metadata": {},
   "outputs": [],
   "source": []
  }
 ],
 "metadata": {
  "kernelspec": {
   "display_name": "Python 3 (ipykernel)",
   "language": "python",
   "name": "python3"
  },
  "language_info": {
   "codemirror_mode": {
    "name": "ipython",
    "version": 3
   },
   "file_extension": ".py",
   "mimetype": "text/x-python",
   "name": "python",
   "nbconvert_exporter": "python",
   "pygments_lexer": "ipython3",
   "version": "3.11.4"
  }
 },
 "nbformat": 4,
 "nbformat_minor": 5
}
