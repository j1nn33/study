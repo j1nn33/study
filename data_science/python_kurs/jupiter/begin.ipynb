{
 "cells": [
  {
   "cell_type": "code",
   "execution_count": 2,
   "id": "cfa0ec9e",
   "metadata": {},
   "outputs": [
    {
     "name": "stdout",
     "output_type": "stream",
     "text": [
      "Python is awesomerrrrr!\n"
     ]
    }
   ],
   "source": [
    "str_1 = \"Python\"\n",
    "str_2 = \"awesomerrrrr!\"\n",
    "\n",
    "print(str_1 + \" is \" + str_2)"
   ]
  },
  {
   "cell_type": "code",
   "execution_count": 24,
   "id": "099e0b12",
   "metadata": {},
   "outputs": [
    {
     "data": {
      "text/plain": [
       "2"
      ]
     },
     "execution_count": 24,
     "metadata": {},
     "output_type": "execute_result"
    }
   ],
   "source": [
    "a=True\n",
    "b=False\n",
    "#a and b\n",
    "#(a and b) or b\n",
    "#(a and b) or not (a and b)\n",
    "#a and b or not (a or b) or b\n",
    "#b and b or not a and (a or b or a) or not (a or b) \n",
    "#1<<2\n",
    "#1&0|1>>1\n",
    "#1&0|1>>0\n",
    "0b101 & 0b111 ^ 0b111 | 0b010"
   ]
  },
  {
   "cell_type": "code",
   "execution_count": null,
   "id": "bf6b3b4a",
   "metadata": {},
   "outputs": [],
   "source": []
  }
 ],
 "metadata": {
  "kernelspec": {
   "display_name": "Python 3 (ipykernel)",
   "language": "python",
   "name": "python3"
  },
  "language_info": {
   "codemirror_mode": {
    "name": "ipython",
    "version": 3
   },
   "file_extension": ".py",
   "mimetype": "text/x-python",
   "name": "python",
   "nbconvert_exporter": "python",
   "pygments_lexer": "ipython3",
   "version": "3.10.9"
  }
 },
 "nbformat": 4,
 "nbformat_minor": 5
}
