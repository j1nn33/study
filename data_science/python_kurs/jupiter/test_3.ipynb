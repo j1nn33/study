{
 "cells": [
  {
   "cell_type": "code",
   "execution_count": 1,
   "id": "8db09bba",
   "metadata": {},
   "outputs": [
    {
     "ename": "ModuleNotFoundError",
     "evalue": "No module named 'seaborn'",
     "output_type": "error",
     "traceback": [
      "\u001b[0;31m---------------------------------------------------------------------------\u001b[0m",
      "\u001b[0;31mModuleNotFoundError\u001b[0m                       Traceback (most recent call last)",
      "Cell \u001b[0;32mIn[1], line 4\u001b[0m\n\u001b[1;32m      2\u001b[0m \u001b[38;5;28;01mimport\u001b[39;00m \u001b[38;5;21;01mnumpy\u001b[39;00m \u001b[38;5;28;01mas\u001b[39;00m \u001b[38;5;21;01mnp\u001b[39;00m\n\u001b[1;32m      3\u001b[0m \u001b[38;5;28;01mimport\u001b[39;00m \u001b[38;5;21;01mmatplotlib\u001b[39;00m\u001b[38;5;21;01m.\u001b[39;00m\u001b[38;5;21;01mpyplot\u001b[39;00m \u001b[38;5;28;01mas\u001b[39;00m \u001b[38;5;21;01mplt\u001b[39;00m\n\u001b[0;32m----> 4\u001b[0m \u001b[38;5;28;01mimport\u001b[39;00m \u001b[38;5;21;01mseaborn\u001b[39;00m \u001b[38;5;28;01mas\u001b[39;00m \u001b[38;5;21;01msns\u001b[39;00m\n\u001b[1;32m      5\u001b[0m get_ipython()\u001b[38;5;241m.\u001b[39mrun_line_magic(\u001b[38;5;124m'\u001b[39m\u001b[38;5;124mmatplotlib\u001b[39m\u001b[38;5;124m'\u001b[39m, \u001b[38;5;124m'\u001b[39m\u001b[38;5;124minline\u001b[39m\u001b[38;5;124m'\u001b[39m)\n",
      "\u001b[0;31mModuleNotFoundError\u001b[0m: No module named 'seaborn'"
     ]
    }
   ],
   "source": [
    "import pandas as pd\n",
    "import numpy as np\n",
    "import matplotlib.pyplot as plt\n",
    "import seaborn as sns\n",
    "%matplotlib inline"
   ]
  },
  {
   "cell_type": "code",
   "execution_count": 2,
   "id": "973c20b1",
   "metadata": {},
   "outputs": [],
   "source": [
    "# Таблица содержит историю транзакций клиентов за 1 год и 3 месяца\n",
    "# customer_id - идентификатор клиента \n",
    "# tr_datetime - день и время транзкации\n",
    "# mcc_code    - mcc_code транзакции\n",
    "# tr_type     - тип транзакции\n",
    "# amount      - сумма + зачисление клиенту - списание у клиента \n",
    "# term_id     - идентификатор терминала\n",
    "\n",
    "transactions = pd.read_csv(filepath_or_buffer = \"../../source/transactions.csv\", \n",
    "                           sep =',',\n",
    "                           nrows=1000000)\n",
    "#transactions"
   ]
  },
  {
   "cell_type": "code",
   "execution_count": 3,
   "id": "68c84a70",
   "metadata": {},
   "outputs": [],
   "source": [
    "# Таблица содержит информацию по полу части клиентов, для которых он известен, для остальных он не известен\n",
    "# customer_id - идентификатор клиента \n",
    "# tgender     - пол\n",
    "\n",
    "gender_train = pd.read_csv(filepath_or_buffer = \"../../source/gender_train.csv\", \n",
    "            sep =',')\n",
    "#gender_train"
   ]
  },
  {
   "cell_type": "code",
   "execution_count": 4,
   "id": "696d855d",
   "metadata": {},
   "outputs": [],
   "source": [
    "# Таблица содержит описание mcc_code транзакций\n",
    "# mcc_code        - mcc_code транзакции \n",
    "# mcc_description - описание \n",
    "\n",
    "tr_mcc_codes = pd.read_csv(filepath_or_buffer = \"../../source/tr_mcc_codes.csv\", \n",
    "            sep =';')"
   ]
  },
  {
   "cell_type": "code",
   "execution_count": 6,
   "id": "95a711ac",
   "metadata": {},
   "outputs": [],
   "source": [
    "# Таблица содержит описание типов транзакций\n",
    "# tr_type        - тип транзакции \n",
    "# tr_description - описание \n",
    "\n",
    "tr_types = pd.read_csv(filepath_or_buffer = \"../../source/tr_types.csv\", \n",
    "            sep =';')"
   ]
  },
  {
   "cell_type": "markdown",
   "id": "81dd447b",
   "metadata": {},
   "source": [
    "### Task 0"
   ]
  },
  {
   "cell_type": "code",
   "execution_count": 7,
   "id": "09b5573d",
   "metadata": {},
   "outputs": [],
   "source": [
    "# Соедините transactions с всеми остальными таблицами (tr_mcc_codes, tr_types, gender_train). \n",
    "#Причём с gender_train необходимо смёрджиться с помощью left join, а с оставшимися датафреймами - через inner.\n",
    "#После получения результата таблицы gender_train, tr_types, tr_mcc_codes можно удалить.\n",
    "#В результате соединения датафреймов должно получиться 999584 строки."
   ]
  },
  {
   "cell_type": "markdown",
   "id": "9bff1d44",
   "metadata": {},
   "source": [
    "### Task 1"
   ]
  },
  {
   "cell_type": "code",
   "execution_count": null,
   "id": "485ed938",
   "metadata": {},
   "outputs": [],
   "source": [
    "#Определите модуль разницы между средними тратами женщин и мужчин (трата - отрицательное значение amount).\n",
    "# ответ в виде 111.11\n",
    "\n",
    "# Пояснения \n",
    "# Если в результате для М получилось [-1, -3, -5], а для Ж [-1, -2, -3]\n",
    "# то модуль разницы между средними арифметическими -3 и -2 будет равен 1\n",
    "\n",
    "# Обратите внимание, что для вычисления модуля разности точных знаний о том, \n",
    "# какой класc относится к мужчинам, а какой - к женщинам, не требуется.\n",
    "\n",
    "# Округления проводить в самом конце"
   ]
  },
  {
   "cell_type": "markdown",
   "id": "9167f37a",
   "metadata": {},
   "source": [
    "### Task 2"
   ]
  },
  {
   "cell_type": "code",
   "execution_count": null,
   "id": "261b0a5a",
   "metadata": {},
   "outputs": [],
   "source": []
  },
  {
   "cell_type": "markdown",
   "id": "cd1dd3a3",
   "metadata": {},
   "source": [
    "### Task 3"
   ]
  },
  {
   "cell_type": "code",
   "execution_count": null,
   "id": "14560251",
   "metadata": {},
   "outputs": [],
   "source": [
    "#По всем типам транзакций рассчитайте максимальную сумму прихода на карту \n",
    "#(из строго положительных сумм по столбцу amount) отдельно для мужчин и женщин (назовите ее \"max_income\"). \n",
    "# Оставьте по 10 типов транзакций для мужчин и для женщин, наименьших среди всех типов транзакций по \n",
    "# полученным значениям \"max_income\".\n",
    "# Выделите среди них те типы транзакций, которые встречаются одновременно и у мужчин, и у женщин"
   ]
  },
  {
   "cell_type": "markdown",
   "id": "3488f21e",
   "metadata": {},
   "source": [
    "### Task 4"
   ]
  },
  {
   "cell_type": "markdown",
   "id": "2990b650",
   "metadata": {},
   "source": [
    "### Task 5"
   ]
  },
  {
   "cell_type": "code",
   "execution_count": null,
   "id": "b0bb0762",
   "metadata": {},
   "outputs": [],
   "source": []
  }
 ],
 "metadata": {
  "kernelspec": {
   "display_name": "Python 3 (ipykernel)",
   "language": "python",
   "name": "python3"
  },
  "language_info": {
   "codemirror_mode": {
    "name": "ipython",
    "version": 3
   },
   "file_extension": ".py",
   "mimetype": "text/x-python",
   "name": "python",
   "nbconvert_exporter": "python",
   "pygments_lexer": "ipython3",
   "version": "3.10.7"
  }
 },
 "nbformat": 4,
 "nbformat_minor": 5
}
