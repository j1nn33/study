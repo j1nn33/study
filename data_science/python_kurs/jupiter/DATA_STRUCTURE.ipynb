{
 "cells": [
  {
   "cell_type": "code",
   "execution_count": 1,
   "metadata": {},
   "outputs": [],
   "source": [
    "# импортирование библиотек"
   ]
  },
  {
   "cell_type": "code",
   "execution_count": 2,
   "metadata": {},
   "outputs": [],
   "source": [
    "import pandas as pd\n",
    "import numpy as np"
   ]
  },
  {
   "cell_type": "code",
   "execution_count": 3,
   "metadata": {},
   "outputs": [],
   "source": [
    "# структуры данных\n",
    "\n",
    "# Serise\n",
    "# создание Serise из значений их списка целых чисел"
   ]
  },
  {
   "cell_type": "markdown",
   "metadata": {},
   "source": [
    "## Создание Series, DataFrame из списков (list)"
   ]
  },
  {
   "cell_type": "code",
   "execution_count": 4,
   "metadata": {
    "scrolled": true
   },
   "outputs": [],
   "source": [
    "s = pd.Series(data=[10, 11, 12, 13, 14],\n",
    "               index=[1 ,2, 3, 5, 7])\n",
    "\n",
    "# объект Series создается из списка data\n",
    "# index - инедксные метки \n",
    "# dtype: int64 - тип данных который имеют значения объекта Series\n",
    "s"
   ]
  },
  {
   "cell_type": "code",
   "execution_count": 5,
   "metadata": {},
   "outputs": [],
   "source": [
    "s = pd.Series(data=[10, 11, 12, 13, 14])\n",
    "\n",
    "# объект Series создается из списка data\n",
    "# если параметр index - не задавать то инедксные метки будут начинаться с 0, 1, 2 ...\n",
    "# dtype: int64 - тип данных который имеют значения объекта Series\n",
    "s"
   ]
  },
  {
   "cell_type": "code",
   "execution_count": 6,
   "metadata": {},
   "outputs": [],
   "source": [
    "# создание Serise из значений их строковых значений\n",
    "s = pd.Series(['Blue', 'Yellow', 'Green'])\n",
    "s"
   ]
  },
  {
   "cell_type": "code",
   "execution_count": 7,
   "metadata": {},
   "outputs": [],
   "source": [
    "# создание Serise из 5 элементов, каждый элемент которого это - list [1,2]\n",
    "l = [[1,2]]\n",
    "s = pd.Series(l*5)\n",
    "s"
   ]
  },
  {
   "cell_type": "code",
   "execution_count": 8,
   "metadata": {},
   "outputs": [],
   "source": [
    "# тоже самое только другая запись \n",
    "l = [1,2]\n",
    "s = pd.Series([l]*5)\n",
    "s"
   ]
  },
  {
   "cell_type": "code",
   "execution_count": 9,
   "metadata": {},
   "outputs": [],
   "source": [
    "# DataFrame\n",
    "# создание DataFrame из двумерного списка\n",
    "df = pd.DataFrame([[10, 11], [20,21], [30, 31]])\n",
    "df"
   ]
  },
  {
   "cell_type": "code",
   "execution_count": 10,
   "metadata": {},
   "outputs": [],
   "source": [
    "# задание имен столбцов\n",
    "df = pd.DataFrame([[10, 11], [20,21], [30, 31]],\n",
    "                 columns=['A', 'B'])\n",
    "df"
   ]
  },
  {
   "cell_type": "code",
   "execution_count": 11,
   "metadata": {},
   "outputs": [],
   "source": [
    "# Создание DataFrame для списка объектво Series\n",
    "series_1 = pd.Series([70, 90])\n",
    "series_2 = pd.Series([71, 91])\n",
    "df = pd.DataFrame([series_1, series_2])\n",
    "df"
   ]
  },
  {
   "cell_type": "code",
   "execution_count": 12,
   "metadata": {},
   "outputs": [],
   "source": [
    "# задание имен столбцов после создания DataFrame\n",
    "df.columns = ['col_1', 'col_2']\n",
    "df"
   ]
  },
  {
   "cell_type": "markdown",
   "metadata": {},
   "source": [
    "## Создание Series, DataFrame из словаря (dict)"
   ]
  },
  {
   "cell_type": "code",
   "execution_count": 13,
   "metadata": {},
   "outputs": [],
   "source": [
    "s = pd.Series({'Homer'  : 'Dad',\n",
    "               'Marge'  : 'Mom',\n",
    "               'BArt'   : 'Son',\n",
    "               'Lisa'   : 'Daughter',\n",
    "               'Maggie' : 'Daughter'})\n",
    "s"
   ]
  },
  {
   "cell_type": "code",
   "execution_count": 14,
   "metadata": {},
   "outputs": [],
   "source": [
    "# Создание DataFrame с помощью словаря\n",
    "list_1 = [70, 71]\n",
    "list_2 = [90, 91]\n",
    "temperatures = {'col_1' : list_1,\n",
    "                'col_2' : list_2}\n",
    "pd.DataFrame(temperatures)\n"
   ]
  },
  {
   "cell_type": "code",
   "execution_count": 15,
   "metadata": {},
   "outputs": [],
   "source": [
    "# Создание DataFrame с помощью словаря состоящего из объектов Series\n",
    "series_1 = pd.Series([70, 71])\n",
    "series_2 = pd.Series([90, 91])\n",
    "\n",
    "df = pd.DataFrame({'col_1' : series_1,\n",
    "                   'col_2' : series_2})\n",
    "df"
   ]
  },
  {
   "cell_type": "markdown",
   "metadata": {},
   "source": [
    "## Создание Series, DataFrame при помощи функций"
   ]
  },
  {
   "cell_type": "code",
   "execution_count": 16,
   "metadata": {},
   "outputs": [],
   "source": [
    "# Создание Series используя np.arange - последовательность чисел от start -> stop-1 с шагом step\n",
    "# np.arange(start, stop, step)\n",
    "s = pd.Series(np.arange(10, 20, 2))\n",
    "s"
   ]
  },
  {
   "cell_type": "code",
   "execution_count": 17,
   "metadata": {},
   "outputs": [],
   "source": [
    "# Создание Series из 5 значений, равномерно разбивающих отрезок\n",
    "s = pd.Series(np.linspace(0, 9, 5))\n",
    "s"
   ]
  },
  {
   "cell_type": "code",
   "execution_count": 18,
   "metadata": {},
   "outputs": [],
   "source": [
    "# Генератор случайных чисел \n",
    "# seed - позволит завиксировать (запоминить результат гернерации) случайный результат для будущих воспроизведений результатов\n",
    "# Функция random.seed() в Python используется для инициализации случайных чисел. \n",
    "# По умолчанию генератор случайных чисел использует текущее системное время.\n",
    "# Если вы дважды используете одно и то же начальное значение, вы получите один и тот же результат, что означает случайное число дважды.\n",
    "\n",
    "# создание Series из 5 нормально распреедленных случайных чисел\n",
    "\n",
    "np.random.seed(123)\n",
    "s = pd.Series(np.random.normal(size=5))\n",
    "s"
   ]
  },
  {
   "cell_type": "code",
   "execution_count": 19,
   "metadata": {},
   "outputs": [],
   "source": [
    "# Создание  DataFrame размером 4х3\n",
    "np.random.seed(123)\n",
    "df = pd.DataFrame(np.random.normal(size=12).reshape(4,3),\n",
    "                  index=['ind_1','ind_2','ind_3','ind_4'],\n",
    "                  columns=['col_1','col_2','col_3'])\n",
    "df"
   ]
  },
  {
   "cell_type": "markdown",
   "metadata": {},
   "source": [
    "## из Файла"
   ]
  },
  {
   "cell_type": "code",
   "execution_count": 20,
   "metadata": {},
   "outputs": [],
   "source": [
    "pd.read_csv(filepath_or_buffer = \"../../source/sp500.csv\", \n",
    "            sep =',')"
   ]
  },
  {
   "cell_type": "code",
   "execution_count": 21,
   "metadata": {},
   "outputs": [],
   "source": [
    "# по количеству строк\n",
    "pd.read_csv(filepath_or_buffer = \"../../source/sp500.csv\", \n",
    "            sep =',',\n",
    "            nrows = 3)"
   ]
  },
  {
   "cell_type": "code",
   "execution_count": 22,
   "metadata": {},
   "outputs": [],
   "source": [
    "# по столбцам\n",
    "pd.read_csv(filepath_or_buffer = \"../../source/sp500.csv\", \n",
    "            sep =',',\n",
    "            nrows = 3,\n",
    "            usecols = ['Symbol', 'GICS Sub-Industry', 'CIK'])"
   ]
  },
  {
   "cell_type": "code",
   "execution_count": 23,
   "metadata": {},
   "outputs": [],
   "source": [
    "# index - задает столбец который будет использоваться в качестве индекса\n",
    "pd.read_csv(filepath_or_buffer = \"../../source/sp500.csv\", \n",
    "            sep =',',\n",
    "            nrows = 3,\n",
    "            usecols = ['Symbol', 'GICS Sub-Industry', 'CIK'],\n",
    "            index_col = 'Symbol')"
   ]
  },
  {
   "cell_type": "code",
   "execution_count": 24,
   "metadata": {},
   "outputs": [],
   "source": [
    "# итератор создаем размер в 50 строк \n",
    "df_chunk = pd.read_csv(filepath_or_buffer = \"../../source/sp500.csv\", \n",
    "            sep =',',\n",
    "            chunksize=50,\n",
    "            usecols = ['Symbol', 'GICS Sub-Industry', 'CIK'],\n",
    "            index_col = 'Symbol')"
   ]
  },
  {
   "cell_type": "code",
   "execution_count": 25,
   "metadata": {},
   "outputs": [],
   "source": [
    "for df_tmp in df_chunk:\n",
    "    print('DataFrame part:', df_tmp.shape)"
   ]
  },
  {
   "cell_type": "code",
   "execution_count": 26,
   "metadata": {},
   "outputs": [],
   "source": [
    "sp500 = pd.read_csv(filepath_or_buffer = \"../../source/sp500.csv\", \n",
    "            sep =',',\n",
    "            usecols = ['Symbol', 'GICS Sub-Industry', 'CIK','Founded'],\n",
    "            index_col = 'Symbol')\n",
    "sp500"
   ]
  },
  {
   "cell_type": "markdown",
   "metadata": {},
   "source": [
    "## Свойства Series, DataFrame"
   ]
  },
  {
   "cell_type": "code",
   "execution_count": 27,
   "metadata": {},
   "outputs": [],
   "source": [
    "Simpsons = pd.Series({'Homer'  : 120,\n",
    "                     'Marge'  : 60,\n",
    "                     'BArt'   : 35,\n",
    "                     'Lisa'   : 30,\n",
    "                     'Maggie' : 7})\n",
    "Simpsons"
   ]
  },
  {
   "cell_type": "code",
   "execution_count": 28,
   "metadata": {},
   "outputs": [],
   "source": [
    "np.random.seed(123)\n",
    "numbers = pd.Series(data = np.random.normal(size=10),\n",
    "                    index = np.arange(25,35))\n",
    "numbers"
   ]
  },
  {
   "cell_type": "code",
   "execution_count": 29,
   "metadata": {},
   "outputs": [],
   "source": [
    "## тип данных - узнать "
   ]
  },
  {
   "cell_type": "code",
   "execution_count": 30,
   "metadata": {},
   "outputs": [],
   "source": [
    "Simpsons.dtype"
   ]
  },
  {
   "cell_type": "code",
   "execution_count": 31,
   "metadata": {},
   "outputs": [],
   "source": [
    "sp500.dtypes"
   ]
  },
  {
   "cell_type": "code",
   "execution_count": 32,
   "metadata": {},
   "outputs": [],
   "source": [
    "# Получение кол-ва элементов Series\n",
    "print ('Кол-во элементов способ -1 ', len(Simpsons))\n",
    "print ('Кол-во элементов способ -2 ', Simpsons.size)\n",
    "print ('Кол-во элементов способ -3 ', Simpsons.shape)\n",
    "# Получение кол-ва элементов DataFrame\n",
    "print ('Кол-во строк способ -1 ', len(sp500))\n",
    "print ('Кол-во элементов способ -2 ', sp500.size)\n",
    "print ('Кол-во строк, столбцов способ -3 ', sp500.shape)"
   ]
  },
  {
   "cell_type": "code",
   "execution_count": 33,
   "metadata": {},
   "outputs": [],
   "source": [
    "# Количество уникальных элементов \n",
    "Simpsons.nunique()"
   ]
  },
  {
   "cell_type": "code",
   "execution_count": 34,
   "metadata": {},
   "outputs": [],
   "source": [
    "sp500.nunique()"
   ]
  },
  {
   "cell_type": "code",
   "execution_count": 35,
   "metadata": {},
   "outputs": [],
   "source": [
    "# инедксы и значения "
   ]
  },
  {
   "cell_type": "code",
   "execution_count": null,
   "metadata": {},
   "outputs": [],
   "source": []
  },
  {
   "cell_type": "code",
   "execution_count": null,
   "metadata": {},
   "outputs": [],
   "source": []
  },
  {
   "cell_type": "code",
   "execution_count": null,
   "metadata": {},
   "outputs": [],
   "source": []
  }
 ],
 "metadata": {
  "kernelspec": {
   "display_name": "Python 3 (ipykernel)",
   "language": "python",
   "name": "python3"
  },
  "language_info": {
   "codemirror_mode": {
    "name": "ipython",
    "version": 3
   },
   "file_extension": ".py",
   "mimetype": "text/x-python",
   "name": "python",
   "nbconvert_exporter": "python",
   "pygments_lexer": "ipython3",
   "version": "3.10.7"
  }
 },
 "nbformat": 4,
 "nbformat_minor": 2
}
