{
 "cells": [
  {
   "cell_type": "markdown",
   "id": "132aa6ff",
   "metadata": {},
   "source": [
    "### task 1\n",
    " 1. Создать Series из последовательности 15 значений, равномерно разбивающих отрезок [0, 20] \n",
    " 2. Определить отношение элементов полученной серии к их предыдущим элементам (*)\n",
    " 3. В результате получить среднее полученного вектора, оставив в нем только, те значения которые не более чем 1.5 (**)\n",
    " \n",
    " Пояснения\n",
    " - *  последовательность из 3-х значений равномерно разбивающих отрезок [0, 1] то значения [0, 0.5, 1]\n",
    " - ** пусть список элементов a = [1, 2, 3, 12], отношения элементов к предыдущим равны [NaN, 2, 1.5, 4] под условеи не более чем 1.5 останентся 1 элемент и среднее знчение будет 1.5"
   ]
  },
  {
   "cell_type": "code",
   "execution_count": 20,
   "id": "c198a3c5",
   "metadata": {},
   "outputs": [],
   "source": [
    "import pandas as pd\n",
    "import numpy as np"
   ]
  },
  {
   "cell_type": "code",
   "execution_count": 21,
   "id": "50133722",
   "metadata": {},
   "outputs": [
    {
     "data": {
      "text/plain": [
       "0      0.000000\n",
       "1      1.428571\n",
       "2      2.857143\n",
       "3      4.285714\n",
       "4      5.714286\n",
       "5      7.142857\n",
       "6      8.571429\n",
       "7     10.000000\n",
       "8     11.428571\n",
       "9     12.857143\n",
       "10    14.285714\n",
       "11    15.714286\n",
       "12    17.142857\n",
       "13    18.571429\n",
       "14    20.000000\n",
       "dtype: float64"
      ]
     },
     "execution_count": 21,
     "metadata": {},
     "output_type": "execute_result"
    }
   ],
   "source": [
    "# task 1.1\n",
    "s_1 = pd.Series(np.linspace(0, 20, 15))\n",
    "s_1"
   ]
  },
  {
   "cell_type": "code",
   "execution_count": 22,
   "id": "098abc29",
   "metadata": {},
   "outputs": [
    {
     "data": {
      "text/plain": [
       "0    0.0\n",
       "dtype: float64"
      ]
     },
     "execution_count": 22,
     "metadata": {},
     "output_type": "execute_result"
    }
   ],
   "source": [
    "# идея создать второй Series со смещением отностильно певого \n",
    "# s_2 Series c 1-ым элементом\n",
    "s_2 =pd.Series(s_1[0])\n",
    "s_2"
   ]
  },
  {
   "cell_type": "code",
   "execution_count": 23,
   "id": "85efd278",
   "metadata": {},
   "outputs": [
    {
     "data": {
      "text/plain": [
       "0      0.000000\n",
       "1      0.000000\n",
       "2      1.428571\n",
       "3      2.857143\n",
       "4      4.285714\n",
       "5      5.714286\n",
       "6      7.142857\n",
       "7      8.571429\n",
       "8     10.000000\n",
       "9     11.428571\n",
       "10    12.857143\n",
       "11    14.285714\n",
       "12    15.714286\n",
       "13    17.142857\n",
       "14    18.571429\n",
       "dtype: float64"
      ]
     },
     "execution_count": 23,
     "metadata": {},
     "output_type": "execute_result"
    }
   ],
   "source": [
    "# добавление к s_2 s_1 и удаление последнего элемента \n",
    "s_2 = s_2.append(s_1,ignore_index=True)\n",
    "s_2 = s_2[0:15]\n",
    "s_2"
   ]
  },
  {
   "cell_type": "code",
   "execution_count": 24,
   "id": "852d5cef",
   "metadata": {},
   "outputs": [
    {
     "data": {
      "text/plain": [
       "0          NaN\n",
       "1          inf\n",
       "2     2.000000\n",
       "3     1.500000\n",
       "4     1.333333\n",
       "5     1.250000\n",
       "6     1.200000\n",
       "7     1.166667\n",
       "8     1.142857\n",
       "9     1.125000\n",
       "10    1.111111\n",
       "11    1.100000\n",
       "12    1.090909\n",
       "13    1.083333\n",
       "14    1.076923\n",
       "dtype: float64"
      ]
     },
     "execution_count": 24,
     "metadata": {},
     "output_type": "execute_result"
    }
   ],
   "source": [
    "# получение отношения элементов\n",
    "s_3 = s_1 / s_2\n",
    "s_3"
   ]
  },
  {
   "cell_type": "code",
   "execution_count": 25,
   "id": "02f516a3",
   "metadata": {},
   "outputs": [
    {
     "data": {
      "text/plain": [
       "4     1.333333\n",
       "5     1.250000\n",
       "6     1.200000\n",
       "7     1.166667\n",
       "8     1.142857\n",
       "9     1.125000\n",
       "10    1.111111\n",
       "11    1.100000\n",
       "12    1.090909\n",
       "13    1.083333\n",
       "14    1.076923\n",
       "dtype: float64"
      ]
     },
     "execution_count": 25,
     "metadata": {},
     "output_type": "execute_result"
    }
   ],
   "source": [
    "# task 1.3\n",
    "s_4 =s_3[s_3 < 1.5]\n",
    "s_4\n"
   ]
  },
  {
   "cell_type": "code",
   "execution_count": 26,
   "id": "9a84f39c",
   "metadata": {},
   "outputs": [
    {
     "data": {
      "text/plain": [
       "1.1527394322848867"
      ]
     },
     "execution_count": 26,
     "metadata": {},
     "output_type": "execute_result"
    }
   ],
   "source": [
    "s_4.mean()"
   ]
  },
  {
   "cell_type": "markdown",
   "id": "1bb11be2",
   "metadata": {},
   "source": [
    "ответы выбрать максимально близкий к верному ответ\n",
    "1) 1.24\n",
    "2) 1.18\n",
    "3) 0.71\n",
    "4) 1.13"
   ]
  },
  {
   "cell_type": "code",
   "execution_count": 27,
   "id": "8ac2148f",
   "metadata": {},
   "outputs": [
    {
     "data": {
      "text/plain": [
       "-0.08726056771511326"
      ]
     },
     "execution_count": 27,
     "metadata": {},
     "output_type": "execute_result"
    }
   ],
   "source": [
    "s_4.mean()-1.24"
   ]
  },
  {
   "cell_type": "code",
   "execution_count": 28,
   "id": "fa57b8e6",
   "metadata": {},
   "outputs": [
    {
     "data": {
      "text/plain": [
       "-0.027260567715113204"
      ]
     },
     "execution_count": 28,
     "metadata": {},
     "output_type": "execute_result"
    }
   ],
   "source": [
    "s_4.mean()-1.18"
   ]
  },
  {
   "cell_type": "markdown",
   "id": "9d197a0b",
   "metadata": {},
   "source": [
    "### task_2 ответ 1"
   ]
  },
  {
   "cell_type": "code",
   "execution_count": 29,
   "id": "68747df6",
   "metadata": {},
   "outputs": [
    {
     "data": {
      "text/plain": [
       "0    abcde\n",
       "dtype: object"
      ]
     },
     "execution_count": 29,
     "metadata": {},
     "output_type": "execute_result"
    }
   ],
   "source": [
    "s_2_1 = pd.Series('abcde')\n",
    "s_2_1"
   ]
  },
  {
   "cell_type": "code",
   "execution_count": 30,
   "id": "1efc2c21",
   "metadata": {},
   "outputs": [
    {
     "data": {
      "text/plain": [
       "0    abcde\n",
       "dtype: object"
      ]
     },
     "execution_count": 30,
     "metadata": {},
     "output_type": "execute_result"
    }
   ],
   "source": [
    "s_2_2 = pd.Series(['abcde'])\n",
    "s_2_2"
   ]
  },
  {
   "cell_type": "code",
   "execution_count": 31,
   "id": "e2cd4123",
   "metadata": {},
   "outputs": [
    {
     "data": {
      "text/plain": [
       "0    a\n",
       "1    b\n",
       "2    c\n",
       "3    d\n",
       "4    e\n",
       "dtype: object"
      ]
     },
     "execution_count": 31,
     "metadata": {},
     "output_type": "execute_result"
    }
   ],
   "source": [
    "s_2_3 = pd.Series(list('abcde'))\n",
    "s_2_3"
   ]
  },
  {
   "cell_type": "code",
   "execution_count": 32,
   "id": "5ad9febf",
   "metadata": {},
   "outputs": [
    {
     "data": {
      "text/plain": [
       "0    abcde\n",
       "dtype: object"
      ]
     },
     "execution_count": 32,
     "metadata": {},
     "output_type": "execute_result"
    }
   ],
   "source": [
    "s_2_4 = pd.Series(\"abcde\")\n",
    "s_2_4"
   ]
  },
  {
   "cell_type": "code",
   "execution_count": 33,
   "id": "e45d8439",
   "metadata": {},
   "outputs": [],
   "source": [
    "# task 1.2\n",
    "\n"
   ]
  },
  {
   "cell_type": "markdown",
   "id": "b0acec7a",
   "metadata": {},
   "source": [
    "### task_3\n",
    "По клиенту пришли зашумленные данные s Series по его транзакциям\n",
    "- создать новый Series, значения которого совпадают со значениями s, а индексы - целочисленные значения от 2 до 12, не включая 12.\n",
    "- выберете из s элементы с индексами 3 и 5. после чего просумируйте их, сохранив результата (1)\n",
    "- выбеерте из s только целочисленные элементы имеют тип int и вычислите их дисперсию (2) (полученые значнеия округлить до 2 х знаков )"
   ]
  },
  {
   "cell_type": "code",
   "execution_count": 34,
   "id": "f4ad70a2",
   "metadata": {
    "scrolled": true
   },
   "outputs": [
    {
     "data": {
      "text/plain": [
       "6         1\n",
       "8         2\n",
       "10      3.1\n",
       "12      hi!\n",
       "14        5\n",
       "16     -512\n",
       "18    12.42\n",
       "20     sber\n",
       "22     10.1\n",
       "24       98\n",
       "dtype: object"
      ]
     },
     "execution_count": 34,
     "metadata": {},
     "output_type": "execute_result"
    }
   ],
   "source": [
    "s = pd.Series(data=['1', 2, 3.1, 'hi!', 5, -512, 12.42, 'sber', 10.10, 98],\n",
    "              index=range(6, 26, 2))\n",
    "s"
   ]
  },
  {
   "cell_type": "code",
   "execution_count": 35,
   "id": "8d1489e0",
   "metadata": {},
   "outputs": [],
   "source": [
    "# создать новый Series, значения которого совпадают со значениями s, а индексы - целочисленные значения от 2 до 12, не включая 12."
   ]
  },
  {
   "cell_type": "code",
   "execution_count": 36,
   "id": "1d592bb0",
   "metadata": {},
   "outputs": [
    {
     "data": {
      "text/plain": [
       "2         1\n",
       "3         2\n",
       "4       3.1\n",
       "5       hi!\n",
       "6         5\n",
       "7      -512\n",
       "8     12.42\n",
       "9      sber\n",
       "10     10.1\n",
       "11       98\n",
       "dtype: object"
      ]
     },
     "execution_count": 36,
     "metadata": {},
     "output_type": "execute_result"
    }
   ],
   "source": [
    "# а индексы - целочисленные значения от 2 до 12, не включая 12\n",
    "a = list(range(2, 12))\n",
    "#a\n",
    "s = pd.Series (s.values, index=a)\n",
    "s"
   ]
  },
  {
   "cell_type": "code",
   "execution_count": 37,
   "id": "aa6ed7a5",
   "metadata": {},
   "outputs": [],
   "source": [
    "# выберете из s элементы с индексами 3 и 5. после чего просумируйте их, сохранив результата (1)\n",
    "#s_1 = s[3]+s[5]\n",
    "# s_1"
   ]
  },
  {
   "cell_type": "code",
   "execution_count": 38,
   "id": "4616fda2",
   "metadata": {},
   "outputs": [
    {
     "data": {
      "text/plain": [
       "3        2\n",
       "6        5\n",
       "7     -512\n",
       "11      98\n",
       "dtype: object"
      ]
     },
     "execution_count": 38,
     "metadata": {},
     "output_type": "execute_result"
    }
   ],
   "source": [
    "# ыбеерте из s только целочисленные элементы имеют тип int и вычислите их дисперсию (2) (полученые значнеия округлить до 2 х знаков )\n",
    "# df['col'] = df['col'].apply ( lambda x: ' value1 ' if x < 20 else ' value2')\n",
    "# фильтарация по значениям\n",
    "s_2 = s[s.apply(lambda x: isinstance(x, int))]\n",
    "#s_2 = s[s.apply(lambda x: isinstance(x, str))]\n",
    "#s_2 = s[s.apply(lambda x: isinstance(x, float))]\n",
    "s_2"
   ]
  },
  {
   "cell_type": "code",
   "execution_count": 39,
   "id": "79e87c3b",
   "metadata": {},
   "outputs": [],
   "source": [
    "# вычислите их дисперсию (2) (полученые значнеия округлить до 2 х знаков )\n",
    "#  ddof=0 позволит нам вычислить дисперсию генеральной совокупности. \n",
    "#  ddof=1 позволит нам оценить дисперсию генеральной совокупности с использованием выборки данных"
   ]
  },
  {
   "cell_type": "code",
   "execution_count": 40,
   "id": "99aa478e",
   "metadata": {},
   "outputs": [
    {
     "data": {
      "text/plain": [
       "57591.19"
      ]
     },
     "execution_count": 40,
     "metadata": {},
     "output_type": "execute_result"
    }
   ],
   "source": [
    "round(s_2.var(ddof=0),2)"
   ]
  },
  {
   "cell_type": "code",
   "execution_count": 41,
   "id": "f7619c08",
   "metadata": {},
   "outputs": [
    {
     "data": {
      "text/plain": [
       "76788.25"
      ]
     },
     "execution_count": 41,
     "metadata": {},
     "output_type": "execute_result"
    }
   ],
   "source": [
    "s_2.var()"
   ]
  },
  {
   "cell_type": "markdown",
   "id": "5b785b96",
   "metadata": {},
   "source": [
    "### Task_4\n",
    "- 1 Сгенерируйте Series из 100 значений нормально распреедленной СВ (np.random.normal с дефолтными параметрами - нулевым средним и единичной дисперсией)\n",
    "- 2 Возвдедите каждое значение серии в 3 степень, а значение индекса увеличте в 3 раза\n",
    "- 3 - вывести сумму элементов, строго меньших 2.6, имеющих нечентые значения индекса\n",
    "    - вывести кол-во значений серии меньше 0"
   ]
  },
  {
   "cell_type": "code",
   "execution_count": null,
   "id": "65e5c5fd",
   "metadata": {},
   "outputs": [],
   "source": []
  },
  {
   "cell_type": "code",
   "execution_count": 278,
   "id": "22a007dc",
   "metadata": {},
   "outputs": [
    {
     "data": {
      "text/plain": [
       "0    -0.357519\n",
       "1     0.148448\n",
       "2     0.993531\n",
       "3     1.838968\n",
       "4    -0.744026\n",
       "        ...   \n",
       "95    0.950296\n",
       "96    0.737315\n",
       "97   -0.739985\n",
       "98   -1.376260\n",
       "99    0.052260\n",
       "Length: 100, dtype: float64"
      ]
     },
     "execution_count": 278,
     "metadata": {},
     "output_type": "execute_result"
    }
   ],
   "source": [
    "np.random.seed(242)\n",
    "s = pd.Series(np.random.normal(size=100))\n",
    "s"
   ]
  },
  {
   "cell_type": "code",
   "execution_count": 279,
   "id": "3d542c25",
   "metadata": {},
   "outputs": [
    {
     "data": {
      "text/plain": [
       "0    -0.045698\n",
       "1     0.003271\n",
       "2     0.980718\n",
       "3     6.219024\n",
       "4    -0.411874\n",
       "        ...   \n",
       "95    0.858176\n",
       "96    0.400829\n",
       "97   -0.405199\n",
       "98   -2.606764\n",
       "99    0.000143\n",
       "Length: 100, dtype: float64"
      ]
     },
     "execution_count": 279,
     "metadata": {},
     "output_type": "execute_result"
    }
   ],
   "source": [
    "s=s**3\n",
    "s"
   ]
  },
  {
   "cell_type": "code",
   "execution_count": 280,
   "id": "dabbae86",
   "metadata": {},
   "outputs": [],
   "source": [
    "index_to_list = list(s.index.values*3)\n",
    "#index_to_list "
   ]
  },
  {
   "cell_type": "code",
   "execution_count": 281,
   "id": "462c4bc6",
   "metadata": {},
   "outputs": [
    {
     "data": {
      "text/plain": [
       "0     -0.045698\n",
       "3      0.003271\n",
       "6      0.980718\n",
       "9      6.219024\n",
       "12    -0.411874\n",
       "         ...   \n",
       "285    0.858176\n",
       "288    0.400829\n",
       "291   -0.405199\n",
       "294   -2.606764\n",
       "297    0.000143\n",
       "Length: 100, dtype: float64"
      ]
     },
     "execution_count": 281,
     "metadata": {},
     "output_type": "execute_result"
    }
   ],
   "source": [
    "s_s = pd.Series(s.values,index=index_to_list)\n",
    "s_s\n",
    "#s = pd.Series([12,-4,7,9], index=['a','b','c','d'])"
   ]
  },
  {
   "cell_type": "code",
   "execution_count": 282,
   "id": "34a23f11",
   "metadata": {},
   "outputs": [
    {
     "data": {
      "text/plain": [
       "0     -0.045698\n",
       "3      0.003271\n",
       "6      0.980718\n",
       "9      6.219024\n",
       "12    -0.411874\n",
       "         ...   \n",
       "285    0.858176\n",
       "288    0.400829\n",
       "291   -0.405199\n",
       "294   -2.606764\n",
       "297    0.000143\n",
       "Length: 100, dtype: float64"
      ]
     },
     "execution_count": 282,
     "metadata": {},
     "output_type": "execute_result"
    }
   ],
   "source": [
    "# Генерация сразу \n",
    "s=0\n",
    "np.random.seed(242)\n",
    "s = pd.Series(np.random.normal(size=100)**3, index=[x * 3 for x in range(100)])\n",
    "s"
   ]
  },
  {
   "cell_type": "code",
   "execution_count": 283,
   "id": "ee66fb27",
   "metadata": {},
   "outputs": [],
   "source": [
    "# вывести сумму элементов, строго меньших 2.6, имеющих нечентые значения индекса\n",
    "# &   - выводит пересечение значений \n",
    "# and - выводит последнее значение "
   ]
  },
  {
   "cell_type": "code",
   "execution_count": 284,
   "id": "90eef46a",
   "metadata": {},
   "outputs": [],
   "source": [
    "list_a = []\n",
    "for i in s.index:\n",
    "    if ((i%2 == 1) and s[i]<2.6):\n",
    "        list_a.append(s[i])\n",
    "#list_a"
   ]
  },
  {
   "cell_type": "code",
   "execution_count": 288,
   "id": "0f49737e",
   "metadata": {},
   "outputs": [
    {
     "data": {
      "text/plain": [
       "-15.15"
      ]
     },
     "execution_count": 288,
     "metadata": {},
     "output_type": "execute_result"
    }
   ],
   "source": [
    "total=0\n",
    "for i in list_a:\n",
    "    total=total+i\n",
    "round(total,2)"
   ]
  },
  {
   "cell_type": "code",
   "execution_count": null,
   "id": "3751aef9",
   "metadata": {},
   "outputs": [],
   "source": [
    "# вывести кол-во значений серии меньше 0"
   ]
  },
  {
   "cell_type": "code",
   "execution_count": 299,
   "id": "919eccc0",
   "metadata": {},
   "outputs": [
    {
     "data": {
      "text/plain": [
       "[-0.045698174560496324,\n",
       " -0.4118740168791422,\n",
       " -0.029600718482273074,\n",
       " -0.3783535794297271,\n",
       " -0.08465516263612408,\n",
       " -0.3798956388791661,\n",
       " -0.10923259091495788,\n",
       " -0.00013353431440378077,\n",
       " -1.2904711057356149,\n",
       " -0.116584398727013,\n",
       " -2.55041978636538,\n",
       " -0.037409777528445626,\n",
       " -0.00045933160508152644,\n",
       " -0.009413268481914629,\n",
       " -0.23834206513794814,\n",
       " -0.5157118225601921,\n",
       " -0.0209124806334437,\n",
       " -4.526993354821416,\n",
       " -0.4644972997249122,\n",
       " -2.553432262633488,\n",
       " -7.092218337818363e-06,\n",
       " -0.012414062675111023,\n",
       " -7.0969052534061925,\n",
       " -5.140766561140775,\n",
       " -0.015363931224075904,\n",
       " -1.7720452018734867,\n",
       " -2.0106862887487917,\n",
       " -6.887738139391898,\n",
       " -0.22525364637882875,\n",
       " -0.10308359640904276,\n",
       " -4.015152670909428e-05,\n",
       " -0.12581799269041974,\n",
       " -0.1451293682274146,\n",
       " -1.1349833843775938,\n",
       " -3.652493475759129,\n",
       " -0.08371839470550295,\n",
       " -2.491928461838518,\n",
       " -2.0115868954164293,\n",
       " -0.027125433366646648,\n",
       " -0.17099380889088867,\n",
       " -8.043359355377456,\n",
       " -0.03293495584017849,\n",
       " -0.03174701922267609,\n",
       " -0.02164011899366821,\n",
       " -0.006735313815925853,\n",
       " -0.4847929325100325,\n",
       " -0.9872077261747998,\n",
       " -0.5888336588853346,\n",
       " -0.021599414411860144,\n",
       " -0.40519942615140836,\n",
       " -2.606764214856779]"
      ]
     },
     "execution_count": 299,
     "metadata": {},
     "output_type": "execute_result"
    }
   ],
   "source": [
    "list_b = []\n",
    "for i in s.index:\n",
    "    if (s[i]>0 and s[i]<2.6):\n",
    "        list_b.append(s[i])\n",
    "list_b\n",
    "\n",
    "list_v = []\n",
    "for i in s.index:\n",
    "    if (s[i]<0):\n",
    "        list_v.append(s[i])\n",
    "list_v"
   ]
  },
  {
   "cell_type": "code",
   "execution_count": 302,
   "id": "589a8655",
   "metadata": {},
   "outputs": [
    {
     "data": {
      "text/plain": [
       "51"
      ]
     },
     "execution_count": 302,
     "metadata": {},
     "output_type": "execute_result"
    }
   ],
   "source": [
    "s_3 = pd.Series(list_v)\n",
    "s_3.count()"
   ]
  },
  {
   "cell_type": "code",
   "execution_count": 287,
   "id": "ed43d3f0",
   "metadata": {},
   "outputs": [
    {
     "name": "stdout",
     "output_type": "stream",
     "text": [
      "-15.15,51\n"
     ]
    }
   ],
   "source": [
    "# второй способ более короткий\n",
    "np.random.seed(242)\n",
    "s = pd.Series(np.random.normal(size=100)**3, index=[x * 3 for x in range(100)])\n",
    "print(round(s[s < 2.6][lambda x: x.index % 2 ==1].sum(), 2), s[s < 0].count(), sep=',')\n"
   ]
  },
  {
   "cell_type": "markdown",
   "id": "67c033d0",
   "metadata": {},
   "source": [
    "### --------------------------------------------------------------------------------------------------------------------------------"
   ]
  },
  {
   "cell_type": "code",
   "execution_count": null,
   "id": "d95ed2b6",
   "metadata": {},
   "outputs": [],
   "source": []
  },
  {
   "cell_type": "markdown",
   "id": "791cfde9",
   "metadata": {},
   "source": [
    "### --------------------------------------------------------------------------------------------------------------------------------\n",
    "### Полезные вещи"
   ]
  },
  {
   "cell_type": "code",
   "execution_count": 26,
   "id": "262185e7",
   "metadata": {},
   "outputs": [
    {
     "data": {
      "text/plain": [
       "[6, 8, 10, 12, 14, 16, 18, 20, 22, 24]"
      ]
     },
     "execution_count": 26,
     "metadata": {},
     "output_type": "execute_result"
    }
   ],
   "source": [
    "# Получение индексов из series\n",
    "index_to_list = list(s.index.values)\n",
    "index_to_list "
   ]
  },
  {
   "cell_type": "code",
   "execution_count": null,
   "id": "a35c08d7",
   "metadata": {},
   "outputs": [],
   "source": [
    "a = 5\n",
    "if a % 2 == 0:\n",
    "    print('Четное число')\n",
    "else:\n",
    "    print('Нечентное число')\n",
    ">>> Нечетное число"
   ]
  },
  {
   "cell_type": "code",
   "execution_count": null,
   "id": "ea1fcc6f",
   "metadata": {},
   "outputs": [],
   "source": [
    "# Перебор элементов\n",
    "for i, v in arr.items():\n",
    "    print(f'index: {i} and value: {v}')"
   ]
  },
  {
   "cell_type": "code",
   "execution_count": 42,
   "id": "aab788f4",
   "metadata": {},
   "outputs": [
    {
     "data": {
      "text/plain": [
       "[3, 4, 5, 6, 7, 8, 9, 10, 11]"
      ]
     },
     "execution_count": 42,
     "metadata": {},
     "output_type": "execute_result"
    }
   ],
   "source": [
    "# Получение списка где элементы целочисленные значения от 2 до 12, не включая 12.\n",
    "#index_to_list_div.append(index_to_list[i]//2) \n",
    "index_to_list_div =[]\n",
    "for i in range(len(index_to_list)):\n",
    "    a = index_to_list[i]//2\n",
    "    if (a >= 2) and (a <12):\n",
    "        index_to_list_div.append(a)\n",
    "\n",
    "index_to_list_div"
   ]
  },
  {
   "cell_type": "code",
   "execution_count": null,
   "id": "6905b02f",
   "metadata": {},
   "outputs": [],
   "source": [
    "# создали список из диапазона range(6, 26, 2) целочисленного поделелненого \n",
    "a= [i//2 for i in range(2, 12, 1) ]\n",
    "a"
   ]
  },
  {
   "cell_type": "code",
   "execution_count": null,
   "id": "284d243e",
   "metadata": {},
   "outputs": [],
   "source": [
    "# удаление элементов по списку индексов\n",
    "s_1 = s.copy()\n",
    "for i in s_2.index:\n",
    "    del s_1[i]\n",
    "s_1    "
   ]
  }
 ],
 "metadata": {
  "kernelspec": {
   "display_name": "Python 3 (ipykernel)",
   "language": "python",
   "name": "python3"
  },
  "language_info": {
   "codemirror_mode": {
    "name": "ipython",
    "version": 3
   },
   "file_extension": ".py",
   "mimetype": "text/x-python",
   "name": "python",
   "nbconvert_exporter": "python",
   "pygments_lexer": "ipython3",
   "version": "3.11.5"
  }
 },
 "nbformat": 4,
 "nbformat_minor": 5
}
