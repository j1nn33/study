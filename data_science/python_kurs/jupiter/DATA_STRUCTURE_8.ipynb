{
 "cells": [
  {
   "cell_type": "markdown",
   "id": "72095cba",
   "metadata": {},
   "source": [
    "### Математические операции"
   ]
  },
  {
   "cell_type": "code",
   "execution_count": 1,
   "id": "f602304d",
   "metadata": {},
   "outputs": [],
   "source": [
    "# импорт и настройка\n",
    "# импортирование библиотек\n",
    "import pandas as pd\n",
    "import numpy as np\n",
    "pd.options.display.max_rows = 10\n",
    "sp500 = pd.read_csv(\"../../source/sp500_2.csv\", \n",
    "                    index_col='Symbol',\n",
    "                    usecols=['Symbol','Sector','Price','BooK Value'])"
   ]
  },
  {
   "cell_type": "code",
   "execution_count": null,
   "id": "7095486b",
   "metadata": {},
   "outputs": [],
   "source": []
  }
 ],
 "metadata": {
  "kernelspec": {
   "display_name": "Python 3 (ipykernel)",
   "language": "python",
   "name": "python3"
  },
  "language_info": {
   "codemirror_mode": {
    "name": "ipython",
    "version": 3
   },
   "file_extension": ".py",
   "mimetype": "text/x-python",
   "name": "python",
   "nbconvert_exporter": "python",
   "pygments_lexer": "ipython3",
   "version": "3.11.4"
  }
 },
 "nbformat": 4,
 "nbformat_minor": 5
}
