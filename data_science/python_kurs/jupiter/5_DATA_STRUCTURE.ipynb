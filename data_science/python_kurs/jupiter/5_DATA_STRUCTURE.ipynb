{
 "cells": [
  {
   "cell_type": "code",
   "execution_count": 2,
   "id": "53c8dbbb",
   "metadata": {},
   "outputs": [],
   "source": [
    "### Подготовительная часть\n",
    "# импортирование библиотек\n",
    "import pandas as pd\n",
    "import numpy as np\n",
    "# загрузка данных \n",
    "pd.read_csv(filepath_or_buffer = \"../../source/sp500_1.csv\", \n",
    "            sep =',')\n",
    "# модификация данных \n",
    "sp500 = pd.read_csv(filepath_or_buffer = \"../../source/sp500_1.csv\", \n",
    "            sep =',',\n",
    "            usecols = ['Symbol', 'Sector', 'Price','Founded'],\n",
    "            index_col = 'Symbol')\n",
    "np.random.seed(123)\n",
    "numbers = pd.Series(data = np.random.normal(size=10),\n",
    "                    index = np.arange(25,35))\n",
    "Simpsons = pd.Series({'Homer'  : 120,\n",
    "                     'Marge'  : 60,\n",
    "                     'BArt'   : 35,\n",
    "                     'Lisa'   : 30,\n",
    "                     'Maggie' : 7})"
   ]
  },
  {
   "cell_type": "markdown",
   "id": "9eec7850",
   "metadata": {},
   "source": [
    "### Добавелние"
   ]
  },
  {
   "cell_type": "code",
   "execution_count": 3,
   "id": "43334ec4",
   "metadata": {},
   "outputs": [],
   "source": [
    "# Создание копии, чтобы исходные данные не менять"
   ]
  },
  {
   "cell_type": "code",
   "execution_count": 4,
   "id": "141d064d",
   "metadata": {},
   "outputs": [],
   "source": [
    "sp500_copy=sp500.copy()"
   ]
  },
  {
   "cell_type": "code",
   "execution_count": 5,
   "id": "b421d4f8",
   "metadata": {},
   "outputs": [],
   "source": [
    "# Добавление столбца - добавление в конец"
   ]
  },
  {
   "cell_type": "code",
   "execution_count": 6,
   "id": "5a964cb6",
   "metadata": {},
   "outputs": [
    {
     "data": {
      "text/html": [
       "<div>\n",
       "<style scoped>\n",
       "    .dataframe tbody tr th:only-of-type {\n",
       "        vertical-align: middle;\n",
       "    }\n",
       "\n",
       "    .dataframe tbody tr th {\n",
       "        vertical-align: top;\n",
       "    }\n",
       "\n",
       "    .dataframe thead th {\n",
       "        text-align: right;\n",
       "    }\n",
       "</style>\n",
       "<table border=\"1\" class=\"dataframe\">\n",
       "  <thead>\n",
       "    <tr style=\"text-align: right;\">\n",
       "      <th></th>\n",
       "      <th>Sector</th>\n",
       "      <th>Price</th>\n",
       "      <th>Founded</th>\n",
       "      <th>RoundedPrice</th>\n",
       "    </tr>\n",
       "    <tr>\n",
       "      <th>Symbol</th>\n",
       "      <th></th>\n",
       "      <th></th>\n",
       "      <th></th>\n",
       "      <th></th>\n",
       "    </tr>\n",
       "  </thead>\n",
       "  <tbody>\n",
       "    <tr>\n",
       "      <th>MMM</th>\n",
       "      <td>Industrials</td>\n",
       "      <td>66740</td>\n",
       "      <td>1902</td>\n",
       "      <td>66740</td>\n",
       "    </tr>\n",
       "    <tr>\n",
       "      <th>AOS</th>\n",
       "      <td>Industrials</td>\n",
       "      <td>4343243243432434</td>\n",
       "      <td>1916</td>\n",
       "      <td>4343243243432434</td>\n",
       "    </tr>\n",
       "    <tr>\n",
       "      <th>ABT</th>\n",
       "      <td>Health Care</td>\n",
       "      <td>1800</td>\n",
       "      <td>1888</td>\n",
       "      <td>1800</td>\n",
       "    </tr>\n",
       "  </tbody>\n",
       "</table>\n",
       "</div>"
      ],
      "text/plain": [
       "             Sector             Price Founded      RoundedPrice\n",
       "Symbol                                                         \n",
       "MMM     Industrials             66740    1902             66740\n",
       "AOS     Industrials  4343243243432434    1916  4343243243432434\n",
       "ABT     Health Care              1800    1888              1800"
      ]
     },
     "execution_count": 6,
     "metadata": {},
     "output_type": "execute_result"
    }
   ],
   "source": [
    "sp500_copy['RoundedPrice'] = sp500_copy.Price.round()\n",
    "sp500_copy.head(3)"
   ]
  },
  {
   "cell_type": "code",
   "execution_count": 7,
   "id": "5cd7ec24",
   "metadata": {},
   "outputs": [],
   "source": [
    "# метод insert - можно выбрать позицию куда вставить столбец"
   ]
  },
  {
   "cell_type": "code",
   "execution_count": 8,
   "id": "64e4f186",
   "metadata": {},
   "outputs": [],
   "source": [
    "sp500_copy=sp500.copy()"
   ]
  },
  {
   "cell_type": "code",
   "execution_count": 9,
   "id": "ff14e07d",
   "metadata": {},
   "outputs": [],
   "source": [
    "# вставляем столебц RoundedPrice в качестве третьго столбца датафрейма"
   ]
  },
  {
   "cell_type": "code",
   "execution_count": 10,
   "id": "b7560553",
   "metadata": {},
   "outputs": [
    {
     "data": {
      "text/html": [
       "<div>\n",
       "<style scoped>\n",
       "    .dataframe tbody tr th:only-of-type {\n",
       "        vertical-align: middle;\n",
       "    }\n",
       "\n",
       "    .dataframe tbody tr th {\n",
       "        vertical-align: top;\n",
       "    }\n",
       "\n",
       "    .dataframe thead th {\n",
       "        text-align: right;\n",
       "    }\n",
       "</style>\n",
       "<table border=\"1\" class=\"dataframe\">\n",
       "  <thead>\n",
       "    <tr style=\"text-align: right;\">\n",
       "      <th></th>\n",
       "      <th>Sector</th>\n",
       "      <th>RoundedPrice</th>\n",
       "      <th>Price</th>\n",
       "      <th>Founded</th>\n",
       "    </tr>\n",
       "    <tr>\n",
       "      <th>Symbol</th>\n",
       "      <th></th>\n",
       "      <th></th>\n",
       "      <th></th>\n",
       "      <th></th>\n",
       "    </tr>\n",
       "  </thead>\n",
       "  <tbody>\n",
       "    <tr>\n",
       "      <th>MMM</th>\n",
       "      <td>Industrials</td>\n",
       "      <td>66740</td>\n",
       "      <td>66740</td>\n",
       "      <td>1902</td>\n",
       "    </tr>\n",
       "    <tr>\n",
       "      <th>AOS</th>\n",
       "      <td>Industrials</td>\n",
       "      <td>4343243243432434</td>\n",
       "      <td>4343243243432434</td>\n",
       "      <td>1916</td>\n",
       "    </tr>\n",
       "    <tr>\n",
       "      <th>ABT</th>\n",
       "      <td>Health Care</td>\n",
       "      <td>1800</td>\n",
       "      <td>1800</td>\n",
       "      <td>1888</td>\n",
       "    </tr>\n",
       "    <tr>\n",
       "      <th>ABBV</th>\n",
       "      <td>Health Care</td>\n",
       "      <td>1551152</td>\n",
       "      <td>1551152</td>\n",
       "      <td>2013 (1888)</td>\n",
       "    </tr>\n",
       "    <tr>\n",
       "      <th>ACN</th>\n",
       "      <td>Information Technology</td>\n",
       "      <td>1467373</td>\n",
       "      <td>1467373</td>\n",
       "      <td>1989</td>\n",
       "    </tr>\n",
       "  </tbody>\n",
       "</table>\n",
       "</div>"
      ],
      "text/plain": [
       "                        Sector      RoundedPrice             Price  \\\n",
       "Symbol                                                               \n",
       "MMM                Industrials             66740             66740   \n",
       "AOS                Industrials  4343243243432434  4343243243432434   \n",
       "ABT                Health Care              1800              1800   \n",
       "ABBV               Health Care           1551152           1551152   \n",
       "ACN     Information Technology           1467373           1467373   \n",
       "\n",
       "            Founded  \n",
       "Symbol               \n",
       "MMM            1902  \n",
       "AOS            1916  \n",
       "ABT            1888  \n",
       "ABBV    2013 (1888)  \n",
       "ACN            1989  "
      ]
     },
     "execution_count": 10,
     "metadata": {},
     "output_type": "execute_result"
    }
   ],
   "source": [
    "sp500_copy.insert(1, 'RoundedPrice', sp500_copy.Price.round())\n",
    "sp500_copy.head(5)"
   ]
  },
  {
   "cell_type": "code",
   "execution_count": 11,
   "id": "622f34f3",
   "metadata": {},
   "outputs": [],
   "source": [
    "# метод assign()\n",
    "sp500_copy=sp500.copy()"
   ]
  },
  {
   "cell_type": "code",
   "execution_count": 12,
   "id": "481ad776",
   "metadata": {},
   "outputs": [],
   "source": [
    "# одноверменное добавение двух столбцов"
   ]
  },
  {
   "cell_type": "code",
   "execution_count": 15,
   "id": "f7b2627a",
   "metadata": {},
   "outputs": [
    {
     "data": {
      "text/html": [
       "<div>\n",
       "<style scoped>\n",
       "    .dataframe tbody tr th:only-of-type {\n",
       "        vertical-align: middle;\n",
       "    }\n",
       "\n",
       "    .dataframe tbody tr th {\n",
       "        vertical-align: top;\n",
       "    }\n",
       "\n",
       "    .dataframe thead th {\n",
       "        text-align: right;\n",
       "    }\n",
       "</style>\n",
       "<table border=\"1\" class=\"dataframe\">\n",
       "  <thead>\n",
       "    <tr style=\"text-align: right;\">\n",
       "      <th></th>\n",
       "      <th>Sector</th>\n",
       "      <th>Price</th>\n",
       "      <th>Founded</th>\n",
       "      <th>Rounded_price</th>\n",
       "      <th>R_BookValue_Price</th>\n",
       "    </tr>\n",
       "    <tr>\n",
       "      <th>Symbol</th>\n",
       "      <th></th>\n",
       "      <th></th>\n",
       "      <th></th>\n",
       "      <th></th>\n",
       "      <th></th>\n",
       "    </tr>\n",
       "  </thead>\n",
       "  <tbody>\n",
       "    <tr>\n",
       "      <th>MMM</th>\n",
       "      <td>Industrials</td>\n",
       "      <td>66740</td>\n",
       "      <td>1902</td>\n",
       "      <td>66740</td>\n",
       "      <td>1.0</td>\n",
       "    </tr>\n",
       "    <tr>\n",
       "      <th>AOS</th>\n",
       "      <td>Industrials</td>\n",
       "      <td>4343243243432434</td>\n",
       "      <td>1916</td>\n",
       "      <td>4343243243432434</td>\n",
       "      <td>1.0</td>\n",
       "    </tr>\n",
       "    <tr>\n",
       "      <th>ABT</th>\n",
       "      <td>Health Care</td>\n",
       "      <td>1800</td>\n",
       "      <td>1888</td>\n",
       "      <td>1800</td>\n",
       "      <td>1.0</td>\n",
       "    </tr>\n",
       "    <tr>\n",
       "      <th>ABBV</th>\n",
       "      <td>Health Care</td>\n",
       "      <td>1551152</td>\n",
       "      <td>2013 (1888)</td>\n",
       "      <td>1551152</td>\n",
       "      <td>1.0</td>\n",
       "    </tr>\n",
       "    <tr>\n",
       "      <th>ACN</th>\n",
       "      <td>Information Technology</td>\n",
       "      <td>1467373</td>\n",
       "      <td>1989</td>\n",
       "      <td>1467373</td>\n",
       "      <td>1.0</td>\n",
       "    </tr>\n",
       "    <tr>\n",
       "      <th>...</th>\n",
       "      <td>...</td>\n",
       "      <td>...</td>\n",
       "      <td>...</td>\n",
       "      <td>...</td>\n",
       "      <td>...</td>\n",
       "    </tr>\n",
       "    <tr>\n",
       "      <th>YUM</th>\n",
       "      <td>Consumer Discretionary</td>\n",
       "      <td>1041061</td>\n",
       "      <td>1997</td>\n",
       "      <td>1041061</td>\n",
       "      <td>1.0</td>\n",
       "    </tr>\n",
       "    <tr>\n",
       "      <th>ZBRA</th>\n",
       "      <td>Information Technology</td>\n",
       "      <td>877212</td>\n",
       "      <td>1969</td>\n",
       "      <td>877212</td>\n",
       "      <td>1.0</td>\n",
       "    </tr>\n",
       "    <tr>\n",
       "      <th>ZBH</th>\n",
       "      <td>Health Care</td>\n",
       "      <td>1136869</td>\n",
       "      <td>1927</td>\n",
       "      <td>1136869</td>\n",
       "      <td>1.0</td>\n",
       "    </tr>\n",
       "    <tr>\n",
       "      <th>ZION</th>\n",
       "      <td>Financials</td>\n",
       "      <td>109380</td>\n",
       "      <td>1873</td>\n",
       "      <td>109380</td>\n",
       "      <td>1.0</td>\n",
       "    </tr>\n",
       "    <tr>\n",
       "      <th>ZTS</th>\n",
       "      <td>Health Care</td>\n",
       "      <td>1555280</td>\n",
       "      <td>1952</td>\n",
       "      <td>1555280</td>\n",
       "      <td>1.0</td>\n",
       "    </tr>\n",
       "  </tbody>\n",
       "</table>\n",
       "<p>503 rows × 5 columns</p>\n",
       "</div>"
      ],
      "text/plain": [
       "                        Sector             Price      Founded  \\\n",
       "Symbol                                                          \n",
       "MMM                Industrials             66740         1902   \n",
       "AOS                Industrials  4343243243432434         1916   \n",
       "ABT                Health Care              1800         1888   \n",
       "ABBV               Health Care           1551152  2013 (1888)   \n",
       "ACN     Information Technology           1467373         1989   \n",
       "...                        ...               ...          ...   \n",
       "YUM     Consumer Discretionary           1041061         1997   \n",
       "ZBRA    Information Technology            877212         1969   \n",
       "ZBH                Health Care           1136869         1927   \n",
       "ZION                Financials            109380         1873   \n",
       "ZTS                Health Care           1555280         1952   \n",
       "\n",
       "           Rounded_price  R_BookValue_Price  \n",
       "Symbol                                       \n",
       "MMM                66740                1.0  \n",
       "AOS     4343243243432434                1.0  \n",
       "ABT                 1800                1.0  \n",
       "ABBV             1551152                1.0  \n",
       "ACN              1467373                1.0  \n",
       "...                  ...                ...  \n",
       "YUM              1041061                1.0  \n",
       "ZBRA              877212                1.0  \n",
       "ZBH              1136869                1.0  \n",
       "ZION              109380                1.0  \n",
       "ZTS              1555280                1.0  \n",
       "\n",
       "[503 rows x 5 columns]"
      ]
     },
     "execution_count": 15,
     "metadata": {},
     "output_type": "execute_result"
    }
   ],
   "source": [
    "sp500_copy.assign(Rounded_price=sp500_copy.Price.round(),\n",
    "                  R_BookValue_Price=lambda x: (x['Price'] / x['Rounded_price']))"
   ]
  },
  {
   "cell_type": "markdown",
   "id": "623988d6",
   "metadata": {},
   "source": [
    "### Выравнивание данных\n",
    "- автоматическое согласование связанных друг с другом значний нескольких объектов на основе меток индекса\n",
    "- используется для избежаиня ошибко сопоставления данных их нескольких наборов данных"
   ]
  },
  {
   "cell_type": "code",
   "execution_count": 17,
   "id": "e6c209c7",
   "metadata": {},
   "outputs": [
    {
     "data": {
      "text/plain": [
       "a    77\n",
       "b    33\n",
       "f    11\n",
       "dtype: int64"
      ]
     },
     "execution_count": 17,
     "metadata": {},
     "output_type": "execute_result"
    }
   ],
   "source": [
    "# Series\n",
    "# Создание серий для работы \n",
    "s_1 = pd.Series(data=[77,33,11], index=['a','b','f'])\n",
    "s_1"
   ]
  },
  {
   "cell_type": "code",
   "execution_count": 18,
   "id": "5e087c1f",
   "metadata": {},
   "outputs": [
    {
     "data": {
      "text/plain": [
       "c    11\n",
       "b     5\n",
       "a     6\n",
       "dtype: int64"
      ]
     },
     "execution_count": 18,
     "metadata": {},
     "output_type": "execute_result"
    }
   ],
   "source": [
    "s_2 = pd.Series(data=[11,5,6], index=['c','b','a'])\n",
    "s_2"
   ]
  },
  {
   "cell_type": "code",
   "execution_count": 19,
   "id": "2e2928b0",
   "metadata": {},
   "outputs": [],
   "source": [
    "# для непересекающейся части индексов будут получены значения NaN"
   ]
  },
  {
   "cell_type": "code",
   "execution_count": 20,
   "id": "9dc8d410",
   "metadata": {},
   "outputs": [
    {
     "data": {
      "text/plain": [
       "a    83.0\n",
       "b    38.0\n",
       "c     NaN\n",
       "f     NaN\n",
       "dtype: float64"
      ]
     },
     "execution_count": 20,
     "metadata": {},
     "output_type": "execute_result"
    }
   ],
   "source": [
    "s_1+s_2"
   ]
  },
  {
   "cell_type": "code",
   "execution_count": 21,
   "id": "caec87fe",
   "metadata": {},
   "outputs": [
    {
     "data": {
      "text/plain": [
       "a    77\n",
       "a    33\n",
       "a    15\n",
       "d     3\n",
       "dtype: int64"
      ]
     },
     "execution_count": 21,
     "metadata": {},
     "output_type": "execute_result"
    }
   ],
   "source": [
    "# Метки не обязатлеьно должны быть уникальными\n",
    "s_1 = pd.Series(data=[77,33,15,3], index=['a','a','a','d'])\n",
    "s_1"
   ]
  },
  {
   "cell_type": "code",
   "execution_count": 22,
   "id": "fcf3b1b4",
   "metadata": {},
   "outputs": [
    {
     "data": {
      "text/plain": [
       "c    11\n",
       "a     5\n",
       "a     6\n",
       "dtype: int64"
      ]
     },
     "execution_count": 22,
     "metadata": {},
     "output_type": "execute_result"
    }
   ],
   "source": [
    "s_2 =  pd.Series(data=[11,5,6], index=['c','a','a'])\n",
    "s_2"
   ]
  },
  {
   "cell_type": "code",
   "execution_count": 23,
   "id": "f1d61558",
   "metadata": {},
   "outputs": [
    {
     "data": {
      "text/plain": [
       "a    82.0\n",
       "a    38.0\n",
       "a    20.0\n",
       "a    83.0\n",
       "a    39.0\n",
       "a    21.0\n",
       "c     NaN\n",
       "d     NaN\n",
       "dtype: float64"
      ]
     },
     "execution_count": 23,
     "metadata": {},
     "output_type": "execute_result"
    }
   ],
   "source": [
    "# 3-метки а и 2-метки а дают в результате 6 меток а (те произведение кол-ва меток)\n",
    "s_2 + s_1"
   ]
  },
  {
   "cell_type": "code",
   "execution_count": 24,
   "id": "b1e66ffc",
   "metadata": {},
   "outputs": [],
   "source": [
    "# DataFrame"
   ]
  },
  {
   "cell_type": "code",
   "execution_count": 25,
   "id": "0e0ae99c",
   "metadata": {},
   "outputs": [],
   "source": [
    "sp500_part_1 = sp500.iloc[0:5, 0:2].copy()\n",
    "sp500_part_2 = sp500.iloc[2:7, 1:3].copy()"
   ]
  },
  {
   "cell_type": "code",
   "execution_count": 26,
   "id": "39b3060a",
   "metadata": {},
   "outputs": [
    {
     "data": {
      "text/html": [
       "<div>\n",
       "<style scoped>\n",
       "    .dataframe tbody tr th:only-of-type {\n",
       "        vertical-align: middle;\n",
       "    }\n",
       "\n",
       "    .dataframe tbody tr th {\n",
       "        vertical-align: top;\n",
       "    }\n",
       "\n",
       "    .dataframe thead th {\n",
       "        text-align: right;\n",
       "    }\n",
       "</style>\n",
       "<table border=\"1\" class=\"dataframe\">\n",
       "  <thead>\n",
       "    <tr style=\"text-align: right;\">\n",
       "      <th></th>\n",
       "      <th>Sector</th>\n",
       "      <th>Price</th>\n",
       "    </tr>\n",
       "    <tr>\n",
       "      <th>Symbol</th>\n",
       "      <th></th>\n",
       "      <th></th>\n",
       "    </tr>\n",
       "  </thead>\n",
       "  <tbody>\n",
       "    <tr>\n",
       "      <th>MMM</th>\n",
       "      <td>Industrials</td>\n",
       "      <td>66740</td>\n",
       "    </tr>\n",
       "    <tr>\n",
       "      <th>AOS</th>\n",
       "      <td>Industrials</td>\n",
       "      <td>4343243243432434</td>\n",
       "    </tr>\n",
       "    <tr>\n",
       "      <th>ABT</th>\n",
       "      <td>Health Care</td>\n",
       "      <td>1800</td>\n",
       "    </tr>\n",
       "    <tr>\n",
       "      <th>ABBV</th>\n",
       "      <td>Health Care</td>\n",
       "      <td>1551152</td>\n",
       "    </tr>\n",
       "    <tr>\n",
       "      <th>ACN</th>\n",
       "      <td>Information Technology</td>\n",
       "      <td>1467373</td>\n",
       "    </tr>\n",
       "  </tbody>\n",
       "</table>\n",
       "</div>"
      ],
      "text/plain": [
       "                        Sector             Price\n",
       "Symbol                                          \n",
       "MMM                Industrials             66740\n",
       "AOS                Industrials  4343243243432434\n",
       "ABT                Health Care              1800\n",
       "ABBV               Health Care           1551152\n",
       "ACN     Information Technology           1467373"
      ]
     },
     "execution_count": 26,
     "metadata": {},
     "output_type": "execute_result"
    }
   ],
   "source": [
    "sp500_part_1"
   ]
  },
  {
   "cell_type": "code",
   "execution_count": 27,
   "id": "4ca4d5a0",
   "metadata": {},
   "outputs": [
    {
     "data": {
      "text/html": [
       "<div>\n",
       "<style scoped>\n",
       "    .dataframe tbody tr th:only-of-type {\n",
       "        vertical-align: middle;\n",
       "    }\n",
       "\n",
       "    .dataframe tbody tr th {\n",
       "        vertical-align: top;\n",
       "    }\n",
       "\n",
       "    .dataframe thead th {\n",
       "        text-align: right;\n",
       "    }\n",
       "</style>\n",
       "<table border=\"1\" class=\"dataframe\">\n",
       "  <thead>\n",
       "    <tr style=\"text-align: right;\">\n",
       "      <th></th>\n",
       "      <th>Price</th>\n",
       "      <th>Founded</th>\n",
       "    </tr>\n",
       "    <tr>\n",
       "      <th>Symbol</th>\n",
       "      <th></th>\n",
       "      <th></th>\n",
       "    </tr>\n",
       "  </thead>\n",
       "  <tbody>\n",
       "    <tr>\n",
       "      <th>ABT</th>\n",
       "      <td>1800</td>\n",
       "      <td>1888</td>\n",
       "    </tr>\n",
       "    <tr>\n",
       "      <th>ABBV</th>\n",
       "      <td>1551152</td>\n",
       "      <td>2013 (1888)</td>\n",
       "    </tr>\n",
       "    <tr>\n",
       "      <th>ACN</th>\n",
       "      <td>1467373</td>\n",
       "      <td>1989</td>\n",
       "    </tr>\n",
       "    <tr>\n",
       "      <th>ATVI</th>\n",
       "      <td>718877</td>\n",
       "      <td>2008</td>\n",
       "    </tr>\n",
       "    <tr>\n",
       "      <th>ADM</th>\n",
       "      <td>7084</td>\n",
       "      <td>1902</td>\n",
       "    </tr>\n",
       "  </tbody>\n",
       "</table>\n",
       "</div>"
      ],
      "text/plain": [
       "          Price      Founded\n",
       "Symbol                      \n",
       "ABT        1800         1888\n",
       "ABBV    1551152  2013 (1888)\n",
       "ACN     1467373         1989\n",
       "ATVI     718877         2008\n",
       "ADM        7084         1902"
      ]
     },
     "execution_count": 27,
     "metadata": {},
     "output_type": "execute_result"
    }
   ],
   "source": [
    "sp500_part_2"
   ]
  },
  {
   "cell_type": "code",
   "execution_count": 28,
   "id": "3a5e00f1",
   "metadata": {},
   "outputs": [
    {
     "data": {
      "text/html": [
       "<div>\n",
       "<style scoped>\n",
       "    .dataframe tbody tr th:only-of-type {\n",
       "        vertical-align: middle;\n",
       "    }\n",
       "\n",
       "    .dataframe tbody tr th {\n",
       "        vertical-align: top;\n",
       "    }\n",
       "\n",
       "    .dataframe thead th {\n",
       "        text-align: right;\n",
       "    }\n",
       "</style>\n",
       "<table border=\"1\" class=\"dataframe\">\n",
       "  <thead>\n",
       "    <tr style=\"text-align: right;\">\n",
       "      <th></th>\n",
       "      <th>Founded</th>\n",
       "      <th>Price</th>\n",
       "      <th>Sector</th>\n",
       "    </tr>\n",
       "    <tr>\n",
       "      <th>Symbol</th>\n",
       "      <th></th>\n",
       "      <th></th>\n",
       "      <th></th>\n",
       "    </tr>\n",
       "  </thead>\n",
       "  <tbody>\n",
       "    <tr>\n",
       "      <th>ABBV</th>\n",
       "      <td>NaN</td>\n",
       "      <td>3102304.0</td>\n",
       "      <td>NaN</td>\n",
       "    </tr>\n",
       "    <tr>\n",
       "      <th>ABT</th>\n",
       "      <td>NaN</td>\n",
       "      <td>3600.0</td>\n",
       "      <td>NaN</td>\n",
       "    </tr>\n",
       "    <tr>\n",
       "      <th>ACN</th>\n",
       "      <td>NaN</td>\n",
       "      <td>2934746.0</td>\n",
       "      <td>NaN</td>\n",
       "    </tr>\n",
       "    <tr>\n",
       "      <th>ADM</th>\n",
       "      <td>NaN</td>\n",
       "      <td>NaN</td>\n",
       "      <td>NaN</td>\n",
       "    </tr>\n",
       "    <tr>\n",
       "      <th>AOS</th>\n",
       "      <td>NaN</td>\n",
       "      <td>NaN</td>\n",
       "      <td>NaN</td>\n",
       "    </tr>\n",
       "    <tr>\n",
       "      <th>ATVI</th>\n",
       "      <td>NaN</td>\n",
       "      <td>NaN</td>\n",
       "      <td>NaN</td>\n",
       "    </tr>\n",
       "    <tr>\n",
       "      <th>MMM</th>\n",
       "      <td>NaN</td>\n",
       "      <td>NaN</td>\n",
       "      <td>NaN</td>\n",
       "    </tr>\n",
       "  </tbody>\n",
       "</table>\n",
       "</div>"
      ],
      "text/plain": [
       "        Founded      Price  Sector\n",
       "Symbol                            \n",
       "ABBV        NaN  3102304.0     NaN\n",
       "ABT         NaN     3600.0     NaN\n",
       "ACN         NaN  2934746.0     NaN\n",
       "ADM         NaN        NaN     NaN\n",
       "AOS         NaN        NaN     NaN\n",
       "ATVI        NaN        NaN     NaN\n",
       "MMM         NaN        NaN     NaN"
      ]
     },
     "execution_count": 28,
     "metadata": {},
     "output_type": "execute_result"
    }
   ],
   "source": [
    "sp500_part_1 + sp500_part_2"
   ]
  },
  {
   "cell_type": "code",
   "execution_count": 29,
   "id": "5c40e28f",
   "metadata": {},
   "outputs": [],
   "source": [
    "# происходит выравнивание при создании датафрейма"
   ]
  },
  {
   "cell_type": "code",
   "execution_count": 30,
   "id": "4e14ee99",
   "metadata": {},
   "outputs": [
    {
     "data": {
      "text/html": [
       "<div>\n",
       "<style scoped>\n",
       "    .dataframe tbody tr th:only-of-type {\n",
       "        vertical-align: middle;\n",
       "    }\n",
       "\n",
       "    .dataframe tbody tr th {\n",
       "        vertical-align: top;\n",
       "    }\n",
       "\n",
       "    .dataframe thead th {\n",
       "        text-align: right;\n",
       "    }\n",
       "</style>\n",
       "<table border=\"1\" class=\"dataframe\">\n",
       "  <thead>\n",
       "    <tr style=\"text-align: right;\">\n",
       "      <th></th>\n",
       "      <th>col_1</th>\n",
       "      <th>col_2</th>\n",
       "      <th>col_3</th>\n",
       "    </tr>\n",
       "  </thead>\n",
       "  <tbody>\n",
       "    <tr>\n",
       "      <th>0</th>\n",
       "      <td>70.0</td>\n",
       "      <td>71.0</td>\n",
       "      <td>NaN</td>\n",
       "    </tr>\n",
       "    <tr>\n",
       "      <th>1</th>\n",
       "      <td>90.0</td>\n",
       "      <td>91.0</td>\n",
       "      <td>85.0</td>\n",
       "    </tr>\n",
       "    <tr>\n",
       "      <th>2</th>\n",
       "      <td>NaN</td>\n",
       "      <td>NaN</td>\n",
       "      <td>87.0</td>\n",
       "    </tr>\n",
       "  </tbody>\n",
       "</table>\n",
       "</div>"
      ],
      "text/plain": [
       "   col_1  col_2  col_3\n",
       "0   70.0   71.0    NaN\n",
       "1   90.0   91.0   85.0\n",
       "2    NaN    NaN   87.0"
      ]
     },
     "execution_count": 30,
     "metadata": {},
     "output_type": "execute_result"
    }
   ],
   "source": [
    "series_1 = pd.Series([70,90])\n",
    "series_2 = pd.Series([71,91])\n",
    "series_3 = pd.Series([85,87], index=[1, 2])\n",
    "df = pd.DataFrame({'col_1': series_1,\n",
    "                   'col_2': series_2,\n",
    "                   'col_3': series_3,})\n",
    "df"
   ]
  },
  {
   "cell_type": "markdown",
   "id": "a1bbef51",
   "metadata": {},
   "source": [
    "### Сортировка"
   ]
  },
  {
   "cell_type": "code",
   "execution_count": 31,
   "id": "d9731ff0",
   "metadata": {},
   "outputs": [
    {
     "data": {
      "text/html": [
       "<div>\n",
       "<style scoped>\n",
       "    .dataframe tbody tr th:only-of-type {\n",
       "        vertical-align: middle;\n",
       "    }\n",
       "\n",
       "    .dataframe tbody tr th {\n",
       "        vertical-align: top;\n",
       "    }\n",
       "\n",
       "    .dataframe thead th {\n",
       "        text-align: right;\n",
       "    }\n",
       "</style>\n",
       "<table border=\"1\" class=\"dataframe\">\n",
       "  <thead>\n",
       "    <tr style=\"text-align: right;\">\n",
       "      <th></th>\n",
       "      <th>Sector</th>\n",
       "      <th>Price</th>\n",
       "      <th>Founded</th>\n",
       "    </tr>\n",
       "    <tr>\n",
       "      <th>Symbol</th>\n",
       "      <th></th>\n",
       "      <th></th>\n",
       "      <th></th>\n",
       "    </tr>\n",
       "  </thead>\n",
       "  <tbody>\n",
       "    <tr>\n",
       "      <th>MMM</th>\n",
       "      <td>Industrials</td>\n",
       "      <td>66740</td>\n",
       "      <td>1902</td>\n",
       "    </tr>\n",
       "    <tr>\n",
       "      <th>AOS</th>\n",
       "      <td>Industrials</td>\n",
       "      <td>4343243243432434</td>\n",
       "      <td>1916</td>\n",
       "    </tr>\n",
       "    <tr>\n",
       "      <th>ABT</th>\n",
       "      <td>Health Care</td>\n",
       "      <td>1800</td>\n",
       "      <td>1888</td>\n",
       "    </tr>\n",
       "    <tr>\n",
       "      <th>ABBV</th>\n",
       "      <td>Health Care</td>\n",
       "      <td>1551152</td>\n",
       "      <td>2013 (1888)</td>\n",
       "    </tr>\n",
       "    <tr>\n",
       "      <th>ACN</th>\n",
       "      <td>Information Technology</td>\n",
       "      <td>1467373</td>\n",
       "      <td>1989</td>\n",
       "    </tr>\n",
       "  </tbody>\n",
       "</table>\n",
       "</div>"
      ],
      "text/plain": [
       "                        Sector             Price      Founded\n",
       "Symbol                                                       \n",
       "MMM                Industrials             66740         1902\n",
       "AOS                Industrials  4343243243432434         1916\n",
       "ABT                Health Care              1800         1888\n",
       "ABBV               Health Care           1551152  2013 (1888)\n",
       "ACN     Information Technology           1467373         1989"
      ]
     },
     "execution_count": 31,
     "metadata": {},
     "output_type": "execute_result"
    }
   ],
   "source": [
    "# по индексу\n",
    "sp500.head()"
   ]
  },
  {
   "cell_type": "code",
   "execution_count": 32,
   "id": "b1985de7",
   "metadata": {},
   "outputs": [
    {
     "data": {
      "text/html": [
       "<div>\n",
       "<style scoped>\n",
       "    .dataframe tbody tr th:only-of-type {\n",
       "        vertical-align: middle;\n",
       "    }\n",
       "\n",
       "    .dataframe tbody tr th {\n",
       "        vertical-align: top;\n",
       "    }\n",
       "\n",
       "    .dataframe thead th {\n",
       "        text-align: right;\n",
       "    }\n",
       "</style>\n",
       "<table border=\"1\" class=\"dataframe\">\n",
       "  <thead>\n",
       "    <tr style=\"text-align: right;\">\n",
       "      <th></th>\n",
       "      <th>Sector</th>\n",
       "      <th>Price</th>\n",
       "      <th>Founded</th>\n",
       "    </tr>\n",
       "    <tr>\n",
       "      <th>Symbol</th>\n",
       "      <th></th>\n",
       "      <th></th>\n",
       "      <th></th>\n",
       "    </tr>\n",
       "  </thead>\n",
       "  <tbody>\n",
       "    <tr>\n",
       "      <th>A</th>\n",
       "      <td>Health Care</td>\n",
       "      <td>1090872</td>\n",
       "      <td>1999</td>\n",
       "    </tr>\n",
       "    <tr>\n",
       "      <th>AAL</th>\n",
       "      <td>Industrials</td>\n",
       "      <td>6201</td>\n",
       "      <td>1934</td>\n",
       "    </tr>\n",
       "    <tr>\n",
       "      <th>AAP</th>\n",
       "      <td>Consumer Discretionary</td>\n",
       "      <td>1158449</td>\n",
       "      <td>1932</td>\n",
       "    </tr>\n",
       "    <tr>\n",
       "      <th>AAPL</th>\n",
       "      <td>Information Technology</td>\n",
       "      <td>320193</td>\n",
       "      <td>1977</td>\n",
       "    </tr>\n",
       "    <tr>\n",
       "      <th>ABBV</th>\n",
       "      <td>Health Care</td>\n",
       "      <td>1551152</td>\n",
       "      <td>2013 (1888)</td>\n",
       "    </tr>\n",
       "  </tbody>\n",
       "</table>\n",
       "</div>"
      ],
      "text/plain": [
       "                        Sector    Price      Founded\n",
       "Symbol                                              \n",
       "A                  Health Care  1090872         1999\n",
       "AAL                Industrials     6201         1934\n",
       "AAP     Consumer Discretionary  1158449         1932\n",
       "AAPL    Information Technology   320193         1977\n",
       "ABBV               Health Care  1551152  2013 (1888)"
      ]
     },
     "execution_count": 32,
     "metadata": {},
     "output_type": "execute_result"
    }
   ],
   "source": [
    "sp500.sort_index().head()"
   ]
  },
  {
   "cell_type": "code",
   "execution_count": 33,
   "id": "b82d1592",
   "metadata": {},
   "outputs": [
    {
     "data": {
      "text/html": [
       "<div>\n",
       "<style scoped>\n",
       "    .dataframe tbody tr th:only-of-type {\n",
       "        vertical-align: middle;\n",
       "    }\n",
       "\n",
       "    .dataframe tbody tr th {\n",
       "        vertical-align: top;\n",
       "    }\n",
       "\n",
       "    .dataframe thead th {\n",
       "        text-align: right;\n",
       "    }\n",
       "</style>\n",
       "<table border=\"1\" class=\"dataframe\">\n",
       "  <thead>\n",
       "    <tr style=\"text-align: right;\">\n",
       "      <th></th>\n",
       "      <th>Founded</th>\n",
       "      <th>Price</th>\n",
       "      <th>Sector</th>\n",
       "    </tr>\n",
       "    <tr>\n",
       "      <th>Symbol</th>\n",
       "      <th></th>\n",
       "      <th></th>\n",
       "      <th></th>\n",
       "    </tr>\n",
       "  </thead>\n",
       "  <tbody>\n",
       "    <tr>\n",
       "      <th>MMM</th>\n",
       "      <td>1902</td>\n",
       "      <td>66740</td>\n",
       "      <td>Industrials</td>\n",
       "    </tr>\n",
       "    <tr>\n",
       "      <th>AOS</th>\n",
       "      <td>1916</td>\n",
       "      <td>4343243243432434</td>\n",
       "      <td>Industrials</td>\n",
       "    </tr>\n",
       "    <tr>\n",
       "      <th>ABT</th>\n",
       "      <td>1888</td>\n",
       "      <td>1800</td>\n",
       "      <td>Health Care</td>\n",
       "    </tr>\n",
       "    <tr>\n",
       "      <th>ABBV</th>\n",
       "      <td>2013 (1888)</td>\n",
       "      <td>1551152</td>\n",
       "      <td>Health Care</td>\n",
       "    </tr>\n",
       "    <tr>\n",
       "      <th>ACN</th>\n",
       "      <td>1989</td>\n",
       "      <td>1467373</td>\n",
       "      <td>Information Technology</td>\n",
       "    </tr>\n",
       "  </tbody>\n",
       "</table>\n",
       "</div>"
      ],
      "text/plain": [
       "            Founded             Price                  Sector\n",
       "Symbol                                                       \n",
       "MMM            1902             66740             Industrials\n",
       "AOS            1916  4343243243432434             Industrials\n",
       "ABT            1888              1800             Health Care\n",
       "ABBV    2013 (1888)           1551152             Health Care\n",
       "ACN            1989           1467373  Information Technology"
      ]
     },
     "execution_count": 33,
     "metadata": {},
     "output_type": "execute_result"
    }
   ],
   "source": [
    "# axis=1 - сортировка по именам столбцов\n",
    "sp500.sort_index(axis=1).head()"
   ]
  },
  {
   "cell_type": "code",
   "execution_count": 34,
   "id": "402b6f6c",
   "metadata": {},
   "outputs": [],
   "source": [
    "# по значению "
   ]
  },
  {
   "cell_type": "code",
   "execution_count": 35,
   "id": "30f53d60",
   "metadata": {},
   "outputs": [
    {
     "data": {
      "text/html": [
       "<div>\n",
       "<style scoped>\n",
       "    .dataframe tbody tr th:only-of-type {\n",
       "        vertical-align: middle;\n",
       "    }\n",
       "\n",
       "    .dataframe tbody tr th {\n",
       "        vertical-align: top;\n",
       "    }\n",
       "\n",
       "    .dataframe thead th {\n",
       "        text-align: right;\n",
       "    }\n",
       "</style>\n",
       "<table border=\"1\" class=\"dataframe\">\n",
       "  <thead>\n",
       "    <tr style=\"text-align: right;\">\n",
       "      <th></th>\n",
       "      <th>Sector</th>\n",
       "      <th>Price</th>\n",
       "      <th>Founded</th>\n",
       "    </tr>\n",
       "    <tr>\n",
       "      <th>Symbol</th>\n",
       "      <th></th>\n",
       "      <th></th>\n",
       "      <th></th>\n",
       "    </tr>\n",
       "  </thead>\n",
       "  <tbody>\n",
       "    <tr>\n",
       "      <th>ABT</th>\n",
       "      <td>Health Care</td>\n",
       "      <td>1800</td>\n",
       "      <td>1888</td>\n",
       "    </tr>\n",
       "    <tr>\n",
       "      <th>AMD</th>\n",
       "      <td>Information Technology</td>\n",
       "      <td>2488</td>\n",
       "      <td>1969</td>\n",
       "    </tr>\n",
       "    <tr>\n",
       "      <th>APD</th>\n",
       "      <td>Materials</td>\n",
       "      <td>2969</td>\n",
       "      <td>1940</td>\n",
       "    </tr>\n",
       "    <tr>\n",
       "      <th>SWKS</th>\n",
       "      <td>Information Technology</td>\n",
       "      <td>4127</td>\n",
       "      <td>2002</td>\n",
       "    </tr>\n",
       "    <tr>\n",
       "      <th>HWM</th>\n",
       "      <td>Industrials</td>\n",
       "      <td>4281</td>\n",
       "      <td>2016</td>\n",
       "    </tr>\n",
       "  </tbody>\n",
       "</table>\n",
       "</div>"
      ],
      "text/plain": [
       "                        Sector  Price Founded\n",
       "Symbol                                       \n",
       "ABT                Health Care   1800    1888\n",
       "AMD     Information Technology   2488    1969\n",
       "APD                  Materials   2969    1940\n",
       "SWKS    Information Technology   4127    2002\n",
       "HWM                Industrials   4281    2016"
      ]
     },
     "execution_count": 35,
     "metadata": {},
     "output_type": "execute_result"
    }
   ],
   "source": [
    "sp500.sort_values(by='Price').head()"
   ]
  },
  {
   "cell_type": "code",
   "execution_count": 36,
   "id": "5707c9be",
   "metadata": {},
   "outputs": [
    {
     "data": {
      "text/html": [
       "<div>\n",
       "<style scoped>\n",
       "    .dataframe tbody tr th:only-of-type {\n",
       "        vertical-align: middle;\n",
       "    }\n",
       "\n",
       "    .dataframe tbody tr th {\n",
       "        vertical-align: top;\n",
       "    }\n",
       "\n",
       "    .dataframe thead th {\n",
       "        text-align: right;\n",
       "    }\n",
       "</style>\n",
       "<table border=\"1\" class=\"dataframe\">\n",
       "  <thead>\n",
       "    <tr style=\"text-align: right;\">\n",
       "      <th></th>\n",
       "      <th>Sector</th>\n",
       "      <th>Price</th>\n",
       "      <th>Founded</th>\n",
       "    </tr>\n",
       "    <tr>\n",
       "      <th>Symbol</th>\n",
       "      <th></th>\n",
       "      <th></th>\n",
       "      <th></th>\n",
       "    </tr>\n",
       "  </thead>\n",
       "  <tbody>\n",
       "    <tr>\n",
       "      <th>AOS</th>\n",
       "      <td>Industrials</td>\n",
       "      <td>4343243243432434</td>\n",
       "      <td>1916</td>\n",
       "    </tr>\n",
       "    <tr>\n",
       "      <th>GEHC</th>\n",
       "      <td>Health Care</td>\n",
       "      <td>1932393</td>\n",
       "      <td>1994</td>\n",
       "    </tr>\n",
       "    <tr>\n",
       "      <th>CEG</th>\n",
       "      <td>Utilities</td>\n",
       "      <td>1868275</td>\n",
       "      <td>1999</td>\n",
       "    </tr>\n",
       "    <tr>\n",
       "      <th>APA</th>\n",
       "      <td>Energy</td>\n",
       "      <td>1841666</td>\n",
       "      <td>1954</td>\n",
       "    </tr>\n",
       "    <tr>\n",
       "      <th>OGN</th>\n",
       "      <td>Health Care</td>\n",
       "      <td>1821825</td>\n",
       "      <td>2021</td>\n",
       "    </tr>\n",
       "  </tbody>\n",
       "</table>\n",
       "</div>"
      ],
      "text/plain": [
       "             Sector             Price Founded\n",
       "Symbol                                       \n",
       "AOS     Industrials  4343243243432434    1916\n",
       "GEHC    Health Care           1932393    1994\n",
       "CEG       Utilities           1868275    1999\n",
       "APA          Energy           1841666    1954\n",
       "OGN     Health Care           1821825    2021"
      ]
     },
     "execution_count": 36,
     "metadata": {},
     "output_type": "execute_result"
    }
   ],
   "source": [
    "sp500.sort_values(by='Price', ascending=False).head()"
   ]
  },
  {
   "cell_type": "code",
   "execution_count": 37,
   "id": "b37be617",
   "metadata": {},
   "outputs": [],
   "source": [
    "# наибольшее и наименшие значения"
   ]
  },
  {
   "cell_type": "code",
   "execution_count": 38,
   "id": "20ecbe32",
   "metadata": {},
   "outputs": [
    {
     "data": {
      "text/html": [
       "<div>\n",
       "<style scoped>\n",
       "    .dataframe tbody tr th:only-of-type {\n",
       "        vertical-align: middle;\n",
       "    }\n",
       "\n",
       "    .dataframe tbody tr th {\n",
       "        vertical-align: top;\n",
       "    }\n",
       "\n",
       "    .dataframe thead th {\n",
       "        text-align: right;\n",
       "    }\n",
       "</style>\n",
       "<table border=\"1\" class=\"dataframe\">\n",
       "  <thead>\n",
       "    <tr style=\"text-align: right;\">\n",
       "      <th></th>\n",
       "      <th>Sector</th>\n",
       "      <th>Price</th>\n",
       "      <th>Founded</th>\n",
       "    </tr>\n",
       "    <tr>\n",
       "      <th>Symbol</th>\n",
       "      <th></th>\n",
       "      <th></th>\n",
       "      <th></th>\n",
       "    </tr>\n",
       "  </thead>\n",
       "  <tbody>\n",
       "    <tr>\n",
       "      <th>ABT</th>\n",
       "      <td>Health Care</td>\n",
       "      <td>1800</td>\n",
       "      <td>1888</td>\n",
       "    </tr>\n",
       "    <tr>\n",
       "      <th>AMD</th>\n",
       "      <td>Information Technology</td>\n",
       "      <td>2488</td>\n",
       "      <td>1969</td>\n",
       "    </tr>\n",
       "    <tr>\n",
       "      <th>APD</th>\n",
       "      <td>Materials</td>\n",
       "      <td>2969</td>\n",
       "      <td>1940</td>\n",
       "    </tr>\n",
       "    <tr>\n",
       "      <th>SWKS</th>\n",
       "      <td>Information Technology</td>\n",
       "      <td>4127</td>\n",
       "      <td>2002</td>\n",
       "    </tr>\n",
       "    <tr>\n",
       "      <th>HWM</th>\n",
       "      <td>Industrials</td>\n",
       "      <td>4281</td>\n",
       "      <td>2016</td>\n",
       "    </tr>\n",
       "  </tbody>\n",
       "</table>\n",
       "</div>"
      ],
      "text/plain": [
       "                        Sector  Price Founded\n",
       "Symbol                                       \n",
       "ABT                Health Care   1800    1888\n",
       "AMD     Information Technology   2488    1969\n",
       "APD                  Materials   2969    1940\n",
       "SWKS    Information Technology   4127    2002\n",
       "HWM                Industrials   4281    2016"
      ]
     },
     "execution_count": 38,
     "metadata": {},
     "output_type": "execute_result"
    }
   ],
   "source": [
    "sp500.nsmallest(5, 'Price')"
   ]
  },
  {
   "cell_type": "code",
   "execution_count": 39,
   "id": "a734c9a8",
   "metadata": {},
   "outputs": [
    {
     "data": {
      "text/html": [
       "<div>\n",
       "<style scoped>\n",
       "    .dataframe tbody tr th:only-of-type {\n",
       "        vertical-align: middle;\n",
       "    }\n",
       "\n",
       "    .dataframe tbody tr th {\n",
       "        vertical-align: top;\n",
       "    }\n",
       "\n",
       "    .dataframe thead th {\n",
       "        text-align: right;\n",
       "    }\n",
       "</style>\n",
       "<table border=\"1\" class=\"dataframe\">\n",
       "  <thead>\n",
       "    <tr style=\"text-align: right;\">\n",
       "      <th></th>\n",
       "      <th>Sector</th>\n",
       "      <th>Price</th>\n",
       "      <th>Founded</th>\n",
       "    </tr>\n",
       "    <tr>\n",
       "      <th>Symbol</th>\n",
       "      <th></th>\n",
       "      <th></th>\n",
       "      <th></th>\n",
       "    </tr>\n",
       "  </thead>\n",
       "  <tbody>\n",
       "    <tr>\n",
       "      <th>AOS</th>\n",
       "      <td>Industrials</td>\n",
       "      <td>4343243243432434</td>\n",
       "      <td>1916</td>\n",
       "    </tr>\n",
       "    <tr>\n",
       "      <th>GEHC</th>\n",
       "      <td>Health Care</td>\n",
       "      <td>1932393</td>\n",
       "      <td>1994</td>\n",
       "    </tr>\n",
       "    <tr>\n",
       "      <th>CEG</th>\n",
       "      <td>Utilities</td>\n",
       "      <td>1868275</td>\n",
       "      <td>1999</td>\n",
       "    </tr>\n",
       "    <tr>\n",
       "      <th>APA</th>\n",
       "      <td>Energy</td>\n",
       "      <td>1841666</td>\n",
       "      <td>1954</td>\n",
       "    </tr>\n",
       "    <tr>\n",
       "      <th>OGN</th>\n",
       "      <td>Health Care</td>\n",
       "      <td>1821825</td>\n",
       "      <td>2021</td>\n",
       "    </tr>\n",
       "  </tbody>\n",
       "</table>\n",
       "</div>"
      ],
      "text/plain": [
       "             Sector             Price Founded\n",
       "Symbol                                       \n",
       "AOS     Industrials  4343243243432434    1916\n",
       "GEHC    Health Care           1932393    1994\n",
       "CEG       Utilities           1868275    1999\n",
       "APA          Energy           1841666    1954\n",
       "OGN     Health Care           1821825    2021"
      ]
     },
     "execution_count": 39,
     "metadata": {},
     "output_type": "execute_result"
    }
   ],
   "source": [
    "sp500.nlargest(5, 'Price')"
   ]
  },
  {
   "cell_type": "code",
   "execution_count": null,
   "id": "16e33a7d",
   "metadata": {},
   "outputs": [],
   "source": []
  }
 ],
 "metadata": {
  "kernelspec": {
   "display_name": "Python 3 (ipykernel)",
   "language": "python",
   "name": "python3"
  },
  "language_info": {
   "codemirror_mode": {
    "name": "ipython",
    "version": 3
   },
   "file_extension": ".py",
   "mimetype": "text/x-python",
   "name": "python",
   "nbconvert_exporter": "python",
   "pygments_lexer": "ipython3",
   "version": "3.10.7"
  }
 },
 "nbformat": 4,
 "nbformat_minor": 5
}
