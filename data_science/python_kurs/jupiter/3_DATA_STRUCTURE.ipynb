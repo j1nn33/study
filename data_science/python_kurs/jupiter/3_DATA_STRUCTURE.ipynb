{
 "cells": [
  {
   "cell_type": "code",
   "execution_count": 1,
   "id": "69913356",
   "metadata": {},
   "outputs": [],
   "source": [
    "### Подготовительная часть"
   ]
  },
  {
   "cell_type": "code",
   "execution_count": 2,
   "id": "fbf36922",
   "metadata": {},
   "outputs": [],
   "source": [
    "# импортирование библиотек\n",
    "import pandas as pd\n",
    "import numpy as np"
   ]
  },
  {
   "cell_type": "code",
   "execution_count": 3,
   "id": "15e1acba",
   "metadata": {},
   "outputs": [
    {
     "data": {
      "text/html": [
       "<div>\n",
       "<style scoped>\n",
       "    .dataframe tbody tr th:only-of-type {\n",
       "        vertical-align: middle;\n",
       "    }\n",
       "\n",
       "    .dataframe tbody tr th {\n",
       "        vertical-align: top;\n",
       "    }\n",
       "\n",
       "    .dataframe thead th {\n",
       "        text-align: right;\n",
       "    }\n",
       "</style>\n",
       "<table border=\"1\" class=\"dataframe\">\n",
       "  <thead>\n",
       "    <tr style=\"text-align: right;\">\n",
       "      <th></th>\n",
       "      <th>Symbol</th>\n",
       "      <th>Security</th>\n",
       "      <th>GICS Sector</th>\n",
       "      <th>GICS Sub-Industry</th>\n",
       "      <th>Headquarters Location</th>\n",
       "      <th>Date added</th>\n",
       "      <th>CIK</th>\n",
       "      <th>Founded</th>\n",
       "    </tr>\n",
       "  </thead>\n",
       "  <tbody>\n",
       "    <tr>\n",
       "      <th>0</th>\n",
       "      <td>MMM</td>\n",
       "      <td>3M</td>\n",
       "      <td>Industrials</td>\n",
       "      <td>Industrial Conglomerates</td>\n",
       "      <td>Saint Paul, Minnesota</td>\n",
       "      <td>1957-03-04</td>\n",
       "      <td>66740</td>\n",
       "      <td>1902</td>\n",
       "    </tr>\n",
       "    <tr>\n",
       "      <th>1</th>\n",
       "      <td>AOS</td>\n",
       "      <td>A. O. Smith</td>\n",
       "      <td>Industrials</td>\n",
       "      <td>Building Products</td>\n",
       "      <td>Milwaukee, Wisconsin</td>\n",
       "      <td>2017-07-26</td>\n",
       "      <td>4343243243432434</td>\n",
       "      <td>1916</td>\n",
       "    </tr>\n",
       "    <tr>\n",
       "      <th>2</th>\n",
       "      <td>ABT</td>\n",
       "      <td>Abbott</td>\n",
       "      <td>Health Care</td>\n",
       "      <td>Health Care Equipment</td>\n",
       "      <td>North Chicago, Illinois</td>\n",
       "      <td>1957-03-04</td>\n",
       "      <td>1800</td>\n",
       "      <td>1888</td>\n",
       "    </tr>\n",
       "    <tr>\n",
       "      <th>3</th>\n",
       "      <td>ABBV</td>\n",
       "      <td>AbbVie</td>\n",
       "      <td>Health Care</td>\n",
       "      <td>Pharmaceuticals</td>\n",
       "      <td>North Chicago, Illinois</td>\n",
       "      <td>2012-12-31</td>\n",
       "      <td>1551152</td>\n",
       "      <td>2013 (1888)</td>\n",
       "    </tr>\n",
       "    <tr>\n",
       "      <th>4</th>\n",
       "      <td>ACN</td>\n",
       "      <td>Accenture</td>\n",
       "      <td>Information Technology</td>\n",
       "      <td>IT Consulting &amp; Other Services</td>\n",
       "      <td>Dublin, Ireland</td>\n",
       "      <td>2011-07-06</td>\n",
       "      <td>1467373</td>\n",
       "      <td>1989</td>\n",
       "    </tr>\n",
       "    <tr>\n",
       "      <th>...</th>\n",
       "      <td>...</td>\n",
       "      <td>...</td>\n",
       "      <td>...</td>\n",
       "      <td>...</td>\n",
       "      <td>...</td>\n",
       "      <td>...</td>\n",
       "      <td>...</td>\n",
       "      <td>...</td>\n",
       "    </tr>\n",
       "    <tr>\n",
       "      <th>498</th>\n",
       "      <td>YUM</td>\n",
       "      <td>Yum! Brands</td>\n",
       "      <td>Consumer Discretionary</td>\n",
       "      <td>Restaurants</td>\n",
       "      <td>Louisville, Kentucky</td>\n",
       "      <td>1997-10-06</td>\n",
       "      <td>1041061</td>\n",
       "      <td>1997</td>\n",
       "    </tr>\n",
       "    <tr>\n",
       "      <th>499</th>\n",
       "      <td>ZBRA</td>\n",
       "      <td>Zebra Technologies</td>\n",
       "      <td>Information Technology</td>\n",
       "      <td>Electronic Equipment &amp; Instruments</td>\n",
       "      <td>Lincolnshire, Illinois</td>\n",
       "      <td>2019-12-23</td>\n",
       "      <td>877212</td>\n",
       "      <td>1969</td>\n",
       "    </tr>\n",
       "    <tr>\n",
       "      <th>500</th>\n",
       "      <td>ZBH</td>\n",
       "      <td>Zimmer Biomet</td>\n",
       "      <td>Health Care</td>\n",
       "      <td>Health Care Equipment</td>\n",
       "      <td>Warsaw, Indiana</td>\n",
       "      <td>2001-08-07</td>\n",
       "      <td>1136869</td>\n",
       "      <td>1927</td>\n",
       "    </tr>\n",
       "    <tr>\n",
       "      <th>501</th>\n",
       "      <td>ZION</td>\n",
       "      <td>Zions Bancorporation</td>\n",
       "      <td>Financials</td>\n",
       "      <td>Regional Banks</td>\n",
       "      <td>Salt Lake City, Utah</td>\n",
       "      <td>2001-06-22</td>\n",
       "      <td>109380</td>\n",
       "      <td>1873</td>\n",
       "    </tr>\n",
       "    <tr>\n",
       "      <th>502</th>\n",
       "      <td>ZTS</td>\n",
       "      <td>Zoetis</td>\n",
       "      <td>Health Care</td>\n",
       "      <td>Pharmaceuticals</td>\n",
       "      <td>Parsippany, New Jersey</td>\n",
       "      <td>2013-06-21</td>\n",
       "      <td>1555280</td>\n",
       "      <td>1952</td>\n",
       "    </tr>\n",
       "  </tbody>\n",
       "</table>\n",
       "<p>503 rows × 8 columns</p>\n",
       "</div>"
      ],
      "text/plain": [
       "    Symbol              Security             GICS Sector  \\\n",
       "0      MMM                    3M             Industrials   \n",
       "1      AOS           A. O. Smith             Industrials   \n",
       "2      ABT                Abbott             Health Care   \n",
       "3     ABBV                AbbVie             Health Care   \n",
       "4      ACN             Accenture  Information Technology   \n",
       "..     ...                   ...                     ...   \n",
       "498    YUM           Yum! Brands  Consumer Discretionary   \n",
       "499   ZBRA    Zebra Technologies  Information Technology   \n",
       "500    ZBH         Zimmer Biomet             Health Care   \n",
       "501   ZION  Zions Bancorporation              Financials   \n",
       "502    ZTS                Zoetis             Health Care   \n",
       "\n",
       "                      GICS Sub-Industry    Headquarters Location  Date added  \\\n",
       "0              Industrial Conglomerates    Saint Paul, Minnesota  1957-03-04   \n",
       "1                     Building Products     Milwaukee, Wisconsin  2017-07-26   \n",
       "2                 Health Care Equipment  North Chicago, Illinois  1957-03-04   \n",
       "3                       Pharmaceuticals  North Chicago, Illinois  2012-12-31   \n",
       "4        IT Consulting & Other Services          Dublin, Ireland  2011-07-06   \n",
       "..                                  ...                      ...         ...   \n",
       "498                         Restaurants     Louisville, Kentucky  1997-10-06   \n",
       "499  Electronic Equipment & Instruments   Lincolnshire, Illinois  2019-12-23   \n",
       "500               Health Care Equipment          Warsaw, Indiana  2001-08-07   \n",
       "501                      Regional Banks     Salt Lake City, Utah  2001-06-22   \n",
       "502                     Pharmaceuticals   Parsippany, New Jersey  2013-06-21   \n",
       "\n",
       "                  CIK      Founded  \n",
       "0               66740         1902  \n",
       "1    4343243243432434         1916  \n",
       "2                1800         1888  \n",
       "3             1551152  2013 (1888)  \n",
       "4             1467373         1989  \n",
       "..                ...          ...  \n",
       "498           1041061         1997  \n",
       "499            877212         1969  \n",
       "500           1136869         1927  \n",
       "501            109380         1873  \n",
       "502           1555280         1952  \n",
       "\n",
       "[503 rows x 8 columns]"
      ]
     },
     "execution_count": 3,
     "metadata": {},
     "output_type": "execute_result"
    }
   ],
   "source": [
    "# загрузка данных \n",
    "pd.read_csv(filepath_or_buffer = \"../../source/sp500.csv\", \n",
    "            sep =',')"
   ]
  },
  {
   "cell_type": "code",
   "execution_count": 17,
   "id": "357a319f",
   "metadata": {},
   "outputs": [],
   "source": [
    "# модификация данных \n",
    "sp500 = pd.read_csv(filepath_or_buffer = \"../../source/sp500.csv\", \n",
    "            sep =',',\n",
    "            usecols = ['Symbol', 'GICS Sub-Industry', 'CIK','Founded'],\n",
    "            index_col = 'Symbol')"
   ]
  },
  {
   "cell_type": "code",
   "execution_count": 37,
   "id": "10d52a91",
   "metadata": {},
   "outputs": [
    {
     "data": {
      "text/plain": [
       "25   -1.085631\n",
       "26    0.997345\n",
       "27    0.282978\n",
       "28   -1.506295\n",
       "29   -0.578600\n",
       "30    1.651437\n",
       "31   -2.426679\n",
       "32   -0.428913\n",
       "33    1.265936\n",
       "34   -0.866740\n",
       "dtype: float64"
      ]
     },
     "execution_count": 37,
     "metadata": {},
     "output_type": "execute_result"
    }
   ],
   "source": [
    "np.random.seed(123)\n",
    "numbers = pd.Series(data = np.random.normal(size=10),\n",
    "                    index = np.arange(25,35))\n",
    "numbers"
   ]
  },
  {
   "cell_type": "markdown",
   "id": "69ccfcfd",
   "metadata": {},
   "source": [
    "### Срезы данных"
   ]
  },
  {
   "cell_type": "code",
   "execution_count": 5,
   "id": "07efee8e",
   "metadata": {},
   "outputs": [],
   "source": [
    "# Series"
   ]
  },
  {
   "cell_type": "markdown",
   "id": "684e924a",
   "metadata": {},
   "source": [
    "Задаем срез по правилу: [начальная позиция: конечная позиция: величина шага], при этом:\n",
    "- Первая граница - не включается \n",
    "- шаг может быть отрицатлеьным\n",
    "- Позиция также может быть отрицательной - тогда отсчет происходит \"с другого конца\"\n",
    "- Нумерация происходит от нуля\n",
    "При созаднии среза копирование данных не производится"
   ]
  },
  {
   "cell_type": "code",
   "execution_count": 8,
   "id": "2d2ccc0b",
   "metadata": {},
   "outputs": [
    {
     "data": {
      "text/plain": [
       "26    0.997345\n",
       "27    0.282978\n",
       "28   -1.506295\n",
       "29   -0.578600\n",
       "30    1.651437\n",
       "dtype: float64"
      ]
     },
     "execution_count": 8,
     "metadata": {},
     "output_type": "execute_result"
    }
   ],
   "source": [
    "numbers.iloc[1:6]"
   ]
  },
  {
   "cell_type": "code",
   "execution_count": 9,
   "id": "af9e1b79",
   "metadata": {},
   "outputs": [
    {
     "data": {
      "text/plain": [
       "26    0.997345\n",
       "28   -1.506295\n",
       "30    1.651437\n",
       "dtype: float64"
      ]
     },
     "execution_count": 9,
     "metadata": {},
     "output_type": "execute_result"
    }
   ],
   "source": [
    "numbers.iloc[1:6:2]"
   ]
  },
  {
   "cell_type": "code",
   "execution_count": 10,
   "id": "61467db5",
   "metadata": {},
   "outputs": [
    {
     "data": {
      "text/plain": [
       "25   -1.085631\n",
       "26    0.997345\n",
       "27    0.282978\n",
       "28   -1.506295\n",
       "29   -0.578600\n",
       "30    1.651437\n",
       "dtype: float64"
      ]
     },
     "execution_count": 10,
     "metadata": {},
     "output_type": "execute_result"
    }
   ],
   "source": [
    "numbers.iloc[:6]"
   ]
  },
  {
   "cell_type": "code",
   "execution_count": 11,
   "id": "c7b9558c",
   "metadata": {},
   "outputs": [
    {
     "data": {
      "text/plain": [
       "28   -1.506295\n",
       "29   -0.578600\n",
       "30    1.651437\n",
       "31   -2.426679\n",
       "32   -0.428913\n",
       "33    1.265936\n",
       "34   -0.866740\n",
       "dtype: float64"
      ]
     },
     "execution_count": 11,
     "metadata": {},
     "output_type": "execute_result"
    }
   ],
   "source": [
    "numbers.iloc[3:]"
   ]
  },
  {
   "cell_type": "code",
   "execution_count": 12,
   "id": "cb7b7dd3",
   "metadata": {},
   "outputs": [
    {
     "data": {
      "text/plain": [
       "30    1.651437\n",
       "29   -0.578600\n",
       "28   -1.506295\n",
       "27    0.282978\n",
       "26    0.997345\n",
       "25   -1.085631\n",
       "dtype: float64"
      ]
     },
     "execution_count": 12,
     "metadata": {},
     "output_type": "execute_result"
    }
   ],
   "source": [
    "numbers.iloc[5::-1]"
   ]
  },
  {
   "cell_type": "code",
   "execution_count": 13,
   "id": "f22ea5ff",
   "metadata": {},
   "outputs": [
    {
     "data": {
      "text/plain": [
       "31   -2.426679\n",
       "32   -0.428913\n",
       "33    1.265936\n",
       "34   -0.866740\n",
       "dtype: float64"
      ]
     },
     "execution_count": 13,
     "metadata": {},
     "output_type": "execute_result"
    }
   ],
   "source": [
    "numbers.iloc[-4:] # отбор последний 4 строк"
   ]
  },
  {
   "cell_type": "code",
   "execution_count": 14,
   "id": "0f1a220f",
   "metadata": {},
   "outputs": [],
   "source": [
    "# DataFrame"
   ]
  },
  {
   "cell_type": "code",
   "execution_count": 18,
   "id": "f15434c0",
   "metadata": {},
   "outputs": [
    {
     "data": {
      "text/html": [
       "<div>\n",
       "<style scoped>\n",
       "    .dataframe tbody tr th:only-of-type {\n",
       "        vertical-align: middle;\n",
       "    }\n",
       "\n",
       "    .dataframe tbody tr th {\n",
       "        vertical-align: top;\n",
       "    }\n",
       "\n",
       "    .dataframe thead th {\n",
       "        text-align: right;\n",
       "    }\n",
       "</style>\n",
       "<table border=\"1\" class=\"dataframe\">\n",
       "  <thead>\n",
       "    <tr style=\"text-align: right;\">\n",
       "      <th></th>\n",
       "      <th>GICS Sub-Industry</th>\n",
       "      <th>CIK</th>\n",
       "      <th>Founded</th>\n",
       "    </tr>\n",
       "    <tr>\n",
       "      <th>Symbol</th>\n",
       "      <th></th>\n",
       "      <th></th>\n",
       "      <th></th>\n",
       "    </tr>\n",
       "  </thead>\n",
       "  <tbody>\n",
       "    <tr>\n",
       "      <th>MMM</th>\n",
       "      <td>Industrial Conglomerates</td>\n",
       "      <td>66740</td>\n",
       "      <td>1902</td>\n",
       "    </tr>\n",
       "    <tr>\n",
       "      <th>AOS</th>\n",
       "      <td>Building Products</td>\n",
       "      <td>4343243243432434</td>\n",
       "      <td>1916</td>\n",
       "    </tr>\n",
       "    <tr>\n",
       "      <th>ABT</th>\n",
       "      <td>Health Care Equipment</td>\n",
       "      <td>1800</td>\n",
       "      <td>1888</td>\n",
       "    </tr>\n",
       "    <tr>\n",
       "      <th>ABBV</th>\n",
       "      <td>Pharmaceuticals</td>\n",
       "      <td>1551152</td>\n",
       "      <td>2013 (1888)</td>\n",
       "    </tr>\n",
       "    <tr>\n",
       "      <th>ACN</th>\n",
       "      <td>IT Consulting &amp; Other Services</td>\n",
       "      <td>1467373</td>\n",
       "      <td>1989</td>\n",
       "    </tr>\n",
       "  </tbody>\n",
       "</table>\n",
       "</div>"
      ],
      "text/plain": [
       "                     GICS Sub-Industry               CIK      Founded\n",
       "Symbol                                                               \n",
       "MMM           Industrial Conglomerates             66740         1902\n",
       "AOS                  Building Products  4343243243432434         1916\n",
       "ABT              Health Care Equipment              1800         1888\n",
       "ABBV                   Pharmaceuticals           1551152  2013 (1888)\n",
       "ACN     IT Consulting & Other Services           1467373         1989"
      ]
     },
     "execution_count": 18,
     "metadata": {},
     "output_type": "execute_result"
    }
   ],
   "source": [
    "sp500.iloc[:5]"
   ]
  },
  {
   "cell_type": "code",
   "execution_count": 19,
   "id": "2fe5c6e4",
   "metadata": {},
   "outputs": [
    {
     "data": {
      "text/html": [
       "<div>\n",
       "<style scoped>\n",
       "    .dataframe tbody tr th:only-of-type {\n",
       "        vertical-align: middle;\n",
       "    }\n",
       "\n",
       "    .dataframe tbody tr th {\n",
       "        vertical-align: top;\n",
       "    }\n",
       "\n",
       "    .dataframe thead th {\n",
       "        text-align: right;\n",
       "    }\n",
       "</style>\n",
       "<table border=\"1\" class=\"dataframe\">\n",
       "  <thead>\n",
       "    <tr style=\"text-align: right;\">\n",
       "      <th></th>\n",
       "      <th>GICS Sub-Industry</th>\n",
       "      <th>CIK</th>\n",
       "      <th>Founded</th>\n",
       "    </tr>\n",
       "    <tr>\n",
       "      <th>Symbol</th>\n",
       "      <th></th>\n",
       "      <th></th>\n",
       "      <th></th>\n",
       "    </tr>\n",
       "  </thead>\n",
       "  <tbody>\n",
       "    <tr>\n",
       "      <th>ACN</th>\n",
       "      <td>IT Consulting &amp; Other Services</td>\n",
       "      <td>1467373</td>\n",
       "      <td>1989</td>\n",
       "    </tr>\n",
       "    <tr>\n",
       "      <th>ABBV</th>\n",
       "      <td>Pharmaceuticals</td>\n",
       "      <td>1551152</td>\n",
       "      <td>2013 (1888)</td>\n",
       "    </tr>\n",
       "    <tr>\n",
       "      <th>ABT</th>\n",
       "      <td>Health Care Equipment</td>\n",
       "      <td>1800</td>\n",
       "      <td>1888</td>\n",
       "    </tr>\n",
       "    <tr>\n",
       "      <th>AOS</th>\n",
       "      <td>Building Products</td>\n",
       "      <td>4343243243432434</td>\n",
       "      <td>1916</td>\n",
       "    </tr>\n",
       "    <tr>\n",
       "      <th>MMM</th>\n",
       "      <td>Industrial Conglomerates</td>\n",
       "      <td>66740</td>\n",
       "      <td>1902</td>\n",
       "    </tr>\n",
       "  </tbody>\n",
       "</table>\n",
       "</div>"
      ],
      "text/plain": [
       "                     GICS Sub-Industry               CIK      Founded\n",
       "Symbol                                                               \n",
       "ACN     IT Consulting & Other Services           1467373         1989\n",
       "ABBV                   Pharmaceuticals           1551152  2013 (1888)\n",
       "ABT              Health Care Equipment              1800         1888\n",
       "AOS                  Building Products  4343243243432434         1916\n",
       "MMM           Industrial Conglomerates             66740         1902"
      ]
     },
     "execution_count": 19,
     "metadata": {},
     "output_type": "execute_result"
    }
   ],
   "source": [
    "sp500.iloc[4::-1]"
   ]
  },
  {
   "cell_type": "code",
   "execution_count": 20,
   "id": "b7e98145",
   "metadata": {},
   "outputs": [],
   "source": [
    "# строки, начиная с метки MMM и заканчивая меткой ACN"
   ]
  },
  {
   "cell_type": "code",
   "execution_count": 21,
   "id": "d58e6c09",
   "metadata": {},
   "outputs": [
    {
     "data": {
      "text/html": [
       "<div>\n",
       "<style scoped>\n",
       "    .dataframe tbody tr th:only-of-type {\n",
       "        vertical-align: middle;\n",
       "    }\n",
       "\n",
       "    .dataframe tbody tr th {\n",
       "        vertical-align: top;\n",
       "    }\n",
       "\n",
       "    .dataframe thead th {\n",
       "        text-align: right;\n",
       "    }\n",
       "</style>\n",
       "<table border=\"1\" class=\"dataframe\">\n",
       "  <thead>\n",
       "    <tr style=\"text-align: right;\">\n",
       "      <th></th>\n",
       "      <th>GICS Sub-Industry</th>\n",
       "      <th>CIK</th>\n",
       "      <th>Founded</th>\n",
       "    </tr>\n",
       "    <tr>\n",
       "      <th>Symbol</th>\n",
       "      <th></th>\n",
       "      <th></th>\n",
       "      <th></th>\n",
       "    </tr>\n",
       "  </thead>\n",
       "  <tbody>\n",
       "    <tr>\n",
       "      <th>MMM</th>\n",
       "      <td>Industrial Conglomerates</td>\n",
       "      <td>66740</td>\n",
       "      <td>1902</td>\n",
       "    </tr>\n",
       "    <tr>\n",
       "      <th>AOS</th>\n",
       "      <td>Building Products</td>\n",
       "      <td>4343243243432434</td>\n",
       "      <td>1916</td>\n",
       "    </tr>\n",
       "    <tr>\n",
       "      <th>ABT</th>\n",
       "      <td>Health Care Equipment</td>\n",
       "      <td>1800</td>\n",
       "      <td>1888</td>\n",
       "    </tr>\n",
       "    <tr>\n",
       "      <th>ABBV</th>\n",
       "      <td>Pharmaceuticals</td>\n",
       "      <td>1551152</td>\n",
       "      <td>2013 (1888)</td>\n",
       "    </tr>\n",
       "    <tr>\n",
       "      <th>ACN</th>\n",
       "      <td>IT Consulting &amp; Other Services</td>\n",
       "      <td>1467373</td>\n",
       "      <td>1989</td>\n",
       "    </tr>\n",
       "  </tbody>\n",
       "</table>\n",
       "</div>"
      ],
      "text/plain": [
       "                     GICS Sub-Industry               CIK      Founded\n",
       "Symbol                                                               \n",
       "MMM           Industrial Conglomerates             66740         1902\n",
       "AOS                  Building Products  4343243243432434         1916\n",
       "ABT              Health Care Equipment              1800         1888\n",
       "ABBV                   Pharmaceuticals           1551152  2013 (1888)\n",
       "ACN     IT Consulting & Other Services           1467373         1989"
      ]
     },
     "execution_count": 21,
     "metadata": {},
     "output_type": "execute_result"
    }
   ],
   "source": [
    "sp500.loc['MMM':'ACN']"
   ]
  },
  {
   "cell_type": "markdown",
   "id": "a5ab2f3a",
   "metadata": {},
   "source": [
    "### копирование и ссылки"
   ]
  },
  {
   "cell_type": "code",
   "execution_count": 39,
   "id": "f4a756bd",
   "metadata": {},
   "outputs": [
    {
     "data": {
      "text/plain": [
       "26    0.997345\n",
       "27    0.282978\n",
       "28   -1.506295\n",
       "29   -0.578600\n",
       "dtype: float64"
      ]
     },
     "execution_count": 39,
     "metadata": {},
     "output_type": "execute_result"
    }
   ],
   "source": [
    "# сохранили элементы с 1 по 4\n",
    "n = numbers.iloc[[1,2,3,4]]\n",
    "n"
   ]
  },
  {
   "cell_type": "code",
   "execution_count": 38,
   "id": "da534b57",
   "metadata": {},
   "outputs": [
    {
     "data": {
      "text/plain": [
       "26    0.0\n",
       "27    0.0\n",
       "28    0.0\n",
       "29    0.0\n",
       "dtype: float64"
      ]
     },
     "execution_count": 38,
     "metadata": {},
     "output_type": "execute_result"
    }
   ],
   "source": [
    "# присваиваем значение 0 всем элементам \n",
    "n.loc[:] = 0\n",
    "n"
   ]
  },
  {
   "cell_type": "code",
   "execution_count": 40,
   "id": "c54467fd",
   "metadata": {},
   "outputs": [
    {
     "data": {
      "text/plain": [
       "25   -1.085631\n",
       "26    0.997345\n",
       "27    0.282978\n",
       "28   -1.506295\n",
       "29   -0.578600\n",
       "30    1.651437\n",
       "31   -2.426679\n",
       "32   -0.428913\n",
       "33    1.265936\n",
       "34   -0.866740\n",
       "dtype: float64"
      ]
     },
     "execution_count": 40,
     "metadata": {},
     "output_type": "execute_result"
    }
   ],
   "source": [
    "# numbers - остался без измениений\n",
    "numbers"
   ]
  },
  {
   "cell_type": "code",
   "execution_count": 41,
   "id": "182ea9a0",
   "metadata": {},
   "outputs": [
    {
     "data": {
      "text/plain": [
       "26    0.997345\n",
       "27    0.282978\n",
       "28   -1.506295\n",
       "29   -0.578600\n",
       "dtype: float64"
      ]
     },
     "execution_count": 41,
     "metadata": {},
     "output_type": "execute_result"
    }
   ],
   "source": [
    "n = numbers.iloc[[1,2,3,4]]\n",
    "n"
   ]
  },
  {
   "cell_type": "code",
   "execution_count": 42,
   "id": "5a99745b",
   "metadata": {},
   "outputs": [],
   "source": [
    "# при создании среза используется ссылка на оригинальные данные \n",
    "k = numbers[1:5]\n",
    "k.loc[:]=0"
   ]
  },
  {
   "cell_type": "code",
   "execution_count": 43,
   "id": "a9444750",
   "metadata": {},
   "outputs": [
    {
     "data": {
      "text/plain": [
       "26    0.0\n",
       "27    0.0\n",
       "28    0.0\n",
       "29    0.0\n",
       "dtype: float64"
      ]
     },
     "execution_count": 43,
     "metadata": {},
     "output_type": "execute_result"
    }
   ],
   "source": [
    "k"
   ]
  },
  {
   "cell_type": "code",
   "execution_count": 44,
   "id": "1dadac33",
   "metadata": {},
   "outputs": [
    {
     "data": {
      "text/plain": [
       "25   -1.085631\n",
       "26    0.000000\n",
       "27    0.000000\n",
       "28    0.000000\n",
       "29    0.000000\n",
       "30    1.651437\n",
       "31   -2.426679\n",
       "32   -0.428913\n",
       "33    1.265936\n",
       "34   -0.866740\n",
       "dtype: float64"
      ]
     },
     "execution_count": 44,
     "metadata": {},
     "output_type": "execute_result"
    }
   ],
   "source": [
    "numbers"
   ]
  },
  {
   "cell_type": "code",
   "execution_count": 45,
   "id": "895717ce",
   "metadata": {},
   "outputs": [
    {
     "data": {
      "text/plain": [
       "25   -1.085631\n",
       "26    0.997345\n",
       "27    0.282978\n",
       "28   -1.506295\n",
       "29   -0.578600\n",
       "30    1.651437\n",
       "31   -2.426679\n",
       "32   -0.428913\n",
       "33    1.265936\n",
       "34   -0.866740\n",
       "dtype: float64"
      ]
     },
     "execution_count": 45,
     "metadata": {},
     "output_type": "execute_result"
    }
   ],
   "source": [
    "# восстановим пероночальный numbers\n",
    "numbers[1:5] = n\n",
    "numbers"
   ]
  },
  {
   "cell_type": "code",
   "execution_count": null,
   "id": "49e1db6c",
   "metadata": {},
   "outputs": [],
   "source": []
  }
 ],
 "metadata": {
  "kernelspec": {
   "display_name": "Python 3 (ipykernel)",
   "language": "python",
   "name": "python3"
  },
  "language_info": {
   "codemirror_mode": {
    "name": "ipython",
    "version": 3
   },
   "file_extension": ".py",
   "mimetype": "text/x-python",
   "name": "python",
   "nbconvert_exporter": "python",
   "pygments_lexer": "ipython3",
   "version": "3.10.7"
  }
 },
 "nbformat": 4,
 "nbformat_minor": 5
}
