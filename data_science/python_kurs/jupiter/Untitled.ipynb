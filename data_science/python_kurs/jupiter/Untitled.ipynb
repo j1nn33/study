{
 "cells": [
  {
   "cell_type": "code",
   "execution_count": null,
   "id": "0a7446a3",
   "metadata": {},
   "outputs": [],
   "source": []
  }
 ],
 "metadata": {
  "kernelspec": {
   "display_name": "Python 3 (ipykernel)",
   "language": "python",
   "name": "python3"
  }
 },
 "nbformat": 4,
 "nbformat_minor": 5
}
