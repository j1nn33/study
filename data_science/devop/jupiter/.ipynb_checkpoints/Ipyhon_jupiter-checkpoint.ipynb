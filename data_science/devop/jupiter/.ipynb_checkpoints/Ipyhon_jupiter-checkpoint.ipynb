{
 "cells": [
  {
   "cell_type": "markdown",
   "id": "985e8abe",
   "metadata": {},
   "source": [
    "перед командой ls указан символ !, по которому IPython распознает инструкции командной оболочки bash"
   ]
  },
  {
   "cell_type": "code",
   "execution_count": 1,
   "id": "b1db012a",
   "metadata": {},
   "outputs": [
    {
     "data": {
      "text/plain": [
       "IPython.utils.text.SList"
      ]
     },
     "execution_count": 1,
     "metadata": {},
     "output_type": "execute_result"
    }
   ],
   "source": [
    "var_ls = !ls -la\n",
    "type(var_ls)"
   ]
  },
  {
   "cell_type": "code",
   "execution_count": null,
   "id": "e0950d12",
   "metadata": {},
   "outputs": [],
   "source": []
  }
 ],
 "metadata": {
  "kernelspec": {
   "display_name": "Python 3 (ipykernel)",
   "language": "python",
   "name": "python3"
  },
  "language_info": {
   "codemirror_mode": {
    "name": "ipython",
    "version": 3
   },
   "file_extension": ".py",
   "mimetype": "text/x-python",
   "name": "python",
   "nbconvert_exporter": "python",
   "pygments_lexer": "ipython3",
   "version": "3.10.7"
  }
 },
 "nbformat": 4,
 "nbformat_minor": 5
}
