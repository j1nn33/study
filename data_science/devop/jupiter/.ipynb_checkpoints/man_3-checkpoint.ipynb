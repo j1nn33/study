{
 "cells": [
  {
   "cell_type": "code",
   "execution_count": 7,
   "id": "f8e8e8a8",
   "metadata": {},
   "outputs": [
    {
     "data": {
      "text/plain": [
       "4687"
      ]
     },
     "execution_count": 7,
     "metadata": {},
     "output_type": "execute_result"
    }
   ],
   "source": [
    "# FILE \n",
    "# read, возвращающий содержимое файла в виде строкового значения\n",
    "\n",
    "file_path = '../../source/bookofdreams.txt'\n",
    "open_file = open(file_path, 'r')\n",
    "text = open_file.read()\n",
    "len(text)"
   ]
  },
  {
   "cell_type": "code",
   "execution_count": 9,
   "id": "90fe559e",
   "metadata": {},
   "outputs": [
    {
     "data": {
      "text/plain": [
       "'о'"
      ]
     },
     "execution_count": 9,
     "metadata": {},
     "output_type": "execute_result"
    }
   ],
   "source": [
    "text[167]"
   ]
  },
  {
   "cell_type": "code",
   "execution_count": 10,
   "id": "4b183ecb",
   "metadata": {},
   "outputs": [],
   "source": [
    "open_file.close()"
   ]
  },
  {
   "cell_type": "code",
   "execution_count": 11,
   "id": "59bf4f0d",
   "metadata": {},
   "outputs": [],
   "source": [
    "# oткрывать с помощью операторов with. не требуется закрывать их явно. Python сам закроет файл\n",
    "with open(file_path, 'r') as open_file:\n",
    "    text = open_file.readlines()"
   ]
  },
  {
   "cell_type": "code",
   "execution_count": 14,
   "id": "c6f68644",
   "metadata": {},
   "outputs": [
    {
     "data": {
      "text/plain": [
       "'Прилагательное «собачье» имеет два значения: 1. прямое: что-то, что принадлежит собаке; 2. переносное: нечто очень плохое. Сердце Шарикова собачье во втором значении, то есть плохое именно потому, что оно уже не собачье, а человеческое.'"
      ]
     },
     "execution_count": 14,
     "metadata": {},
     "output_type": "execute_result"
    }
   ],
   "source": [
    "text[7]"
   ]
  },
  {
   "cell_type": "code",
   "execution_count": 15,
   "id": "23449ca9",
   "metadata": {},
   "outputs": [
    {
     "data": {
      "text/plain": [
       "True"
      ]
     },
     "execution_count": 15,
     "metadata": {},
     "output_type": "execute_result"
    }
   ],
   "source": [
    " # Проверка что файл закрыт\n",
    "open_file.closed"
   ]
  },
  {
   "cell_type": "code",
   "execution_count": null,
   "id": "a4b6d8f3",
   "metadata": {},
   "outputs": [],
   "source": [
    "# чтения двоичных файлов  добавить b в модификатор режима\n",
    "file_path = 'bookofdreamsghos00lang.pdf'\n",
    "with open(file_path, 'rb') as open_file:\n",
    "    btext = open_file.read()"
   ]
  },
  {
   "cell_type": "code",
   "execution_count": null,
   "id": "3b9aa79a",
   "metadata": {},
   "outputs": [],
   "source": [
    "btext[0]"
   ]
  },
  {
   "cell_type": "code",
   "execution_count": null,
   "id": "a54b385e",
   "metadata": {},
   "outputs": [],
   "source": [
    "# Запись в файл  метод write команды pathlib перезаписывает уже существующие файлы.\n",
    "with open('../../source/file.txt', 'w') as opened_file:\n",
    "    opened_file.write(text)"
   ]
  },
  {
   "cell_type": "code",
   "execution_count": 16,
   "id": "3942cf03",
   "metadata": {},
   "outputs": [],
   "source": [
    "# pathlib - функции для чтения и записи файлов\n",
    "import pathlib"
   ]
  },
  {
   "cell_type": "code",
   "execution_count": 17,
   "id": "e3d507bf",
   "metadata": {},
   "outputs": [],
   "source": [
    "path = pathlib.Path( \"../../source/bookofdreams.txt\")"
   ]
  },
  {
   "cell_type": "code",
   "execution_count": 19,
   "id": "55e0a734",
   "metadata": {},
   "outputs": [
    {
     "data": {
      "text/plain": [
       "'По сюжету повесть «Собачье сердце» близка роману «Остров Моро» Герберта Уэллса, в котором профессор-маньяк занимается созданием гибридов людей и животных хирургическим путём. \\nОднако Преображенский не маньяк, он творит с благой целью, проводит эксперименты ради всего человечества, хочет победить время. \\nВ творчестве Булгакова всем людям, которые метят на место Бога, Вселенная дает свой ответ. \\nНапример, герою «Мастера и Маргариты» Берлиозу, который был так уверен, что может планировать свою жизнь хотя бы на день, отрезало голову, а к профессору Преображенскому, который стремился найти средство от бессмертия, явилась смерть в лице Шарикова, жаждущего убивать, мучить.\\nФамилию профессора Преображенского можно назвать говорящей, однако он не смог преобразить собаку, создать из неё человека, в сущности, он просто с помощью собачьего тела воскресил уголовника Клима Чугункина. \\nПреображенский, поняв это, превратил Шарикова обратно в собаку, вернул ему его беззлобное собачье сердце. \\nТекст строится на активной языковой игре: использовании метафор, фразеологизмов, омонимов, каламбуров. Даже название «Собачье сердце» построено на многозначности. \\nПрилагательное «собачье» имеет два значения: 1. прямое: что-то, что принадлежит собаке; 2. переносное: нечто очень плохое. Сердце Шарикова собачье во втором значении, то есть плохое именно потому, что оно уже не собачье, а человеческое.'"
      ]
     },
     "execution_count": 19,
     "metadata": {},
     "output_type": "execute_result"
    }
   ],
   "source": [
    "path.read_text()"
   ]
  },
  {
   "cell_type": "code",
   "execution_count": null,
   "id": "02a12ceb",
   "metadata": {},
   "outputs": [],
   "source": [
    "# Записать \n",
    " path = pathlib.Path(\"../../source/wribookofdreams.txt\")"
   ]
  }
 ],
 "metadata": {
  "kernelspec": {
   "display_name": "Python 3 (ipykernel)",
   "language": "python",
   "name": "python3"
  },
  "language_info": {
   "codemirror_mode": {
    "name": "ipython",
    "version": 3
   },
   "file_extension": ".py",
   "mimetype": "text/x-python",
   "name": "python",
   "nbconvert_exporter": "python",
   "pygments_lexer": "ipython3",
   "version": "3.11.5"
  }
 },
 "nbformat": 4,
 "nbformat_minor": 5
}
