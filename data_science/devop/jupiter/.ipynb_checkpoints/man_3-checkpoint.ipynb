{
 "cells": [
  {
   "cell_type": "code",
   "execution_count": 2,
   "id": "e42ee936",
   "metadata": {},
   "outputs": [
    {
     "data": {
      "text/plain": [
       "589088"
      ]
     },
     "execution_count": 2,
     "metadata": {},
     "output_type": "execute_result"
    }
   ],
   "source": [
    "# FILE \n",
    "# read, возвращающий содержимое файла в виде строкового значения\n",
    "\n",
    "file_path = '../../source/bookofdreams.txt'\n",
    "open_file = open(file_path, 'r')\n",
    "text = open_file.read()\n",
    "len(text)"
   ]
  },
  {
   "cell_type": "code",
   "execution_count": null,
   "id": "4ace2209",
   "metadata": {},
   "outputs": [],
   "source": []
  }
 ],
 "metadata": {
  "kernelspec": {
   "display_name": "Python 3 (ipykernel)",
   "language": "python",
   "name": "python3"
  },
  "language_info": {
   "codemirror_mode": {
    "name": "ipython",
    "version": 3
   },
   "file_extension": ".py",
   "mimetype": "text/x-python",
   "name": "python",
   "nbconvert_exporter": "python",
   "pygments_lexer": "ipython3",
   "version": "3.10.7"
  }
 },
 "nbformat": 4,
 "nbformat_minor": 5
}
