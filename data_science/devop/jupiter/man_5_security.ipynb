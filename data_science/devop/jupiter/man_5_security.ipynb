{
 "cells": [
  {
   "cell_type": "markdown",
   "id": "81d33e5f",
   "metadata": {},
   "source": [
    "### Шифрование текста"
   ]
  },
  {
   "cell_type": "code",
   "execution_count": 1,
   "id": "89b89094",
   "metadata": {},
   "outputs": [],
   "source": [
    "# Хеширование\n",
    "# хешировать пароль с помощью алгоритма MD5"
   ]
  },
  {
   "cell_type": "code",
   "execution_count": 7,
   "id": "40d5563d",
   "metadata": {},
   "outputs": [
    {
     "name": "stdout",
     "output_type": "stream",
     "text": [
      "b'This is the password or document text'\n"
     ]
    },
    {
     "data": {
      "text/plain": [
       "b' \\xf5\\x06\\xe6\\xfc\\x1c\\xbe\\x86\\xddj\\x96C\\x10\\x0f5E'"
      ]
     },
     "execution_count": 7,
     "metadata": {},
     "output_type": "execute_result"
    }
   ],
   "source": [
    "import hashlib\n",
    "secret = \"This is the password or document text\"\n",
    "bsecret = secret.encode()\n",
    "print (bsecret)\n",
    "m = hashlib.md5()\n",
    "m.update(bsecret)\n",
    "m.digest()"
   ]
  },
  {
   "cell_type": "code",
   "execution_count": 8,
   "id": "50e413f6",
   "metadata": {},
   "outputs": [],
   "source": [
    "# шифровании с симметричным ключом"
   ]
  },
  {
   "cell_type": "code",
   "execution_count": 9,
   "id": "f906f929",
   "metadata": {},
   "outputs": [
    {
     "data": {
      "text/plain": [
       "b'tms5YSL0jMtTBm6RUcFUKP2FdyAqjk9dKJFNTNRehxI='"
      ]
     },
     "execution_count": 9,
     "metadata": {},
     "output_type": "execute_result"
    }
   ],
   "source": [
    "# генерация ключа\n",
    "# хранении такого ключа в файле необходимо использовать двоичный тип данных\n",
    "from cryptography.fernet import Fernet\n",
    "key = Fernet.generate_key()\n",
    "key"
   ]
  },
  {
   "cell_type": "code",
   "execution_count": 10,
   "id": "bfc0f8f9",
   "metadata": {},
   "outputs": [],
   "source": [
    "# шифрование данных с помощью объекта Fernet"
   ]
  },
  {
   "cell_type": "code",
   "execution_count": 11,
   "id": "96097ca8",
   "metadata": {},
   "outputs": [
    {
     "data": {
      "text/plain": [
       "b'gAAAAABlkac_WanumcOzwJ788l-kiz7OnbEdxR1uIFx1-GMEjsjSRFBZST_3CV7b3rllLV338y3mPDt_ckY0GdzipbkP7AWgjQ=='"
      ]
     },
     "execution_count": 11,
     "metadata": {},
     "output_type": "execute_result"
    }
   ],
   "source": [
    "f = Fernet(key)\n",
    "message = b\"Secrets go here\"\n",
    "encrypted = f.encrypt(message)\n",
    "encrypted"
   ]
  },
  {
   "cell_type": "code",
   "execution_count": 12,
   "id": "6a46720b",
   "metadata": {},
   "outputs": [
    {
     "data": {
      "text/plain": [
       "b'Secrets go here'"
      ]
     },
     "execution_count": 12,
     "metadata": {},
     "output_type": "execute_result"
    }
   ],
   "source": [
    "# Расшифровать данные можно с помощью объекта Fernet, созданного на основе того же ключа:\n",
    "f = Fernet(key)\n",
    "f.decrypt(encrypted)"
   ]
  },
  {
   "cell_type": "code",
   "execution_count": 13,
   "id": "d951c124",
   "metadata": {},
   "outputs": [],
   "source": [
    "# шифровании с асимметричным ключом используется пара ключей: один \n",
    "# открытый, а второй секретный.\n",
    "# RSA"
   ]
  },
  {
   "cell_type": "code",
   "execution_count": 14,
   "id": "4354f799",
   "metadata": {},
   "outputs": [
    {
     "data": {
      "text/plain": [
       "<cryptography.hazmat.backends.openssl.rsa._RSAPrivateKey at 0x7fe3fc313450>"
      ]
     },
     "execution_count": 14,
     "metadata": {},
     "output_type": "execute_result"
    }
   ],
   "source": [
    "from cryptography.hazmat.backends import default_backend\n",
    "from cryptography.hazmat.primitives.asymmetric import rsa\n",
    "private_key = rsa.generate_private_key(public_exponent=65537,\n",
    "                                       key_size=4096,\n",
    "                                       backend=default_backend())\n",
    "private_key"
   ]
  },
  {
   "cell_type": "code",
   "execution_count": 15,
   "id": "4e87f0b3",
   "metadata": {},
   "outputs": [
    {
     "data": {
      "text/plain": [
       "<cryptography.hazmat.backends.openssl.rsa._RSAPublicKey at 0x7fe3fc344050>"
      ]
     },
     "execution_count": 15,
     "metadata": {},
     "output_type": "execute_result"
    }
   ],
   "source": [
    "public_key = private_key.public_key\n",
    "public_key = private_key.public_key()\n",
    "public_key"
   ]
  },
  {
   "cell_type": "code",
   "execution_count": 16,
   "id": "7185d8f0",
   "metadata": {},
   "outputs": [],
   "source": [
    "# Далее зашифровать данные с помощью открытого ключа"
   ]
  },
  {
   "cell_type": "code",
   "execution_count": 17,
   "id": "a80b3efb",
   "metadata": {},
   "outputs": [],
   "source": [
    "message = b\"More secrets go here\""
   ]
  },
  {
   "cell_type": "code",
   "execution_count": 18,
   "id": "a970a496",
   "metadata": {},
   "outputs": [],
   "source": [
    "from cryptography.hazmat.primitives.asymmetric import padding\n",
    "from cryptography.hazmat.primitives import hashes\n",
    "encrypted = public_key.encrypt(message,\n",
    "                               padding.OAEP(mgf=padding.MGF1(algorithm=hashes.SHA256()),\n",
    "                               algorithm=hashes.SHA256(),\n",
    "                               label=None))"
   ]
  },
  {
   "cell_type": "code",
   "execution_count": 19,
   "id": "9f7eef47",
   "metadata": {},
   "outputs": [],
   "source": [
    "# расшифровать их с помощью секретного ключа:"
   ]
  },
  {
   "cell_type": "code",
   "execution_count": 20,
   "id": "6e303fe3",
   "metadata": {},
   "outputs": [
    {
     "data": {
      "text/plain": [
       "b'More secrets go here'"
      ]
     },
     "execution_count": 20,
     "metadata": {},
     "output_type": "execute_result"
    }
   ],
   "source": [
    "decrypted = private_key.decrypt(encrypted,\n",
    "                                padding.OAEP(mgf=padding.MGF1(algorithm=hashes.SHA256()),\n",
    "                                algorithm=hashes.SHA256(),\n",
    "                                label=None))\n",
    "decrypted"
   ]
  },
  {
   "cell_type": "code",
   "execution_count": null,
   "id": "4910e534",
   "metadata": {},
   "outputs": [],
   "source": []
  }
 ],
 "metadata": {
  "kernelspec": {
   "display_name": "Python 3 (ipykernel)",
   "language": "python",
   "name": "python3"
  },
  "language_info": {
   "codemirror_mode": {
    "name": "ipython",
    "version": 3
   },
   "file_extension": ".py",
   "mimetype": "text/x-python",
   "name": "python",
   "nbconvert_exporter": "python",
   "pygments_lexer": "ipython3",
   "version": "3.11.5"
  }
 },
 "nbformat": 4,
 "nbformat_minor": 5
}
