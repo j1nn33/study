{
 "cells": [
  {
   "cell_type": "markdown",
   "id": "abe0fcad",
   "metadata": {},
   "source": [
    "### Поиск в тексте с помощью регулярных выражений"
   ]
  },
  {
   "cell_type": "code",
   "execution_count": 18,
   "id": "e8da8ae6",
   "metadata": {},
   "outputs": [],
   "source": [
    "# HTTP-сервер  пример строки журнала\n",
    "# <IP-адрес> <Id клиента> <Id пользователя> <Время> <Запрос> <Состояние> <Размер>\n",
    "# 127.0.0.1 - swills [13/Nov/2019:14:43:30 -0800] \"GET /assets/234 HTTP/1.0\" 200 2326\n",
    "#\n",
    "# формирование регулярных выражений по частям"
   ]
  },
  {
   "cell_type": "code",
   "execution_count": 19,
   "id": "58ed6281",
   "metadata": {},
   "outputs": [],
   "source": [
    "import re"
   ]
  },
  {
   "cell_type": "code",
   "execution_count": 42,
   "id": "54dcd336",
   "metadata": {},
   "outputs": [],
   "source": [
    "line = '127.0.0.1 - rj [13/Nov/2019:14:43:30 -0000] \"GET HTTP/1.0\" 200'"
   ]
  },
  {
   "cell_type": "code",
   "execution_count": 49,
   "id": "ccdcd409",
   "metadata": {},
   "outputs": [],
   "source": [
    "# re.search(r'(?P<IP>\\d+\\.\\d+\\.\\d+\\.\\d+)', line)\n",
    "# re.search(pattern, string)\n",
    "#\n",
    "# search - используется для поиска подстроки, которая соответствует шаблону\n",
    "# возвращает объект Match, если подстрока найдена, None если подстрока не найдена\n",
    "# ? Ноль или одно вхождение\n",
    "# (?P<name>...). Переменная name это название группы\n",
    "# \\d  Любая цифра \n",
    "# . Один любой символ, кроме новой строки \\n\n",
    "# \\. - экранирование точки\n",
    "# + Одно или более символ\n",
    "#\n"
   ]
  },
  {
   "cell_type": "code",
   "execution_count": 50,
   "id": "55be1a72",
   "metadata": {},
   "outputs": [
    {
     "data": {
      "text/plain": [
       "<re.Match object; span=(0, 9), match='127.0.0.1'>"
      ]
     },
     "execution_count": 50,
     "metadata": {},
     "output_type": "execute_result"
    }
   ],
   "source": [
    "re.search(r'(?P<IP>\\d+\\.\\d+\\.\\d+\\.\\d+)', line)"
   ]
  },
  {
   "cell_type": "code",
   "execution_count": 75,
   "id": "15b4d663",
   "metadata": {},
   "outputs": [
    {
     "name": "stdout",
     "output_type": "stream",
     "text": [
      "<re.Match object; span=(0, 9), match='127.0.0.1'>\n"
     ]
    }
   ],
   "source": [
    "m = re.search(r'(?P<IP>\\d+\\.\\d+\\.\\d+\\.\\d+)', line)\n",
    "print (m)"
   ]
  },
  {
   "cell_type": "code",
   "execution_count": 60,
   "id": "436f8cb4",
   "metadata": {},
   "outputs": [
    {
     "data": {
      "text/plain": [
       "'127.0.0.1'"
      ]
     },
     "execution_count": 60,
     "metadata": {},
     "output_type": "execute_result"
    }
   ],
   "source": [
    "m.group('IP')"
   ]
  },
  {
   "cell_type": "code",
   "execution_count": 61,
   "id": "05a56ef2",
   "metadata": {},
   "outputs": [],
   "source": [
    "# регулярное выражение для получения времени"
   ]
  },
  {
   "cell_type": "code",
   "execution_count": 180,
   "id": "bc90da90",
   "metadata": {},
   "outputs": [],
   "source": [
    "r = r'(?P<Time>\\W\\d\\d/\\w{3}/\\d{4}:\\d{2}:\\d{2}:\\d{2}\\s\\W\\d{4}\\W)'\n",
    "m = re.search(r, line)"
   ]
  },
  {
   "cell_type": "code",
   "execution_count": 181,
   "id": "e8a5446f",
   "metadata": {},
   "outputs": [
    {
     "data": {
      "text/plain": [
       "'[13/Nov/2019:14:43:30 -0000]'"
      ]
     },
     "execution_count": 181,
     "metadata": {},
     "output_type": "execute_result"
    }
   ],
   "source": [
    "m.group('Time')"
   ]
  },
  {
   "cell_type": "code",
   "execution_count": 121,
   "id": "d5d9fd54",
   "metadata": {},
   "outputs": [
    {
     "data": {
      "text/plain": [
       "'127.0.0.1 - rj [13/Nov/2019:14:43:30 -0000] \"GET HTTP/1.0\" 200'"
      ]
     },
     "execution_count": 121,
     "metadata": {},
     "output_type": "execute_result"
    }
   ],
   "source": [
    "line"
   ]
  },
  {
   "cell_type": "code",
   "execution_count": 184,
   "id": "c0e12ae2",
   "metadata": {},
   "outputs": [
    {
     "name": "stdout",
     "output_type": "stream",
     "text": [
      "<re.Match object; span=(0, 58), match='127.0.0.1 - rj [13/Nov/2019:14:43:30 -0000] \"GET >\n"
     ]
    }
   ],
   "source": [
    "# захватить сразу несколько элементов — IP-адрес, пользователя, время и запрос\n",
    "r = r'(?P<IP>\\d+\\.\\d+\\.\\d+\\.\\d+)'\n",
    "r += r' - (?P<User>\\w+) '\n",
    "#r += r'\\[(?P<Time>\\d\\d/\\w{3}/\\d{4}:\\d{2}:\\d{2}:\\d{2})'\n",
    "r += r'(?P<Time>\\W\\d\\d/\\w{3}/\\d{4}:\\d{2}:\\d{2}:\\d{2}\\s\\W\\d{4}\\W)'\n",
    "r += r' (?P<Request>\".+\")'\n",
    "m = re.search(r, line)\n",
    "print (m)"
   ]
  },
  {
   "cell_type": "code",
   "execution_count": 185,
   "id": "ab04d61f",
   "metadata": {},
   "outputs": [
    {
     "data": {
      "text/plain": [
       "'127.0.0.1'"
      ]
     },
     "execution_count": 185,
     "metadata": {},
     "output_type": "execute_result"
    }
   ],
   "source": [
    "m.group('IP')"
   ]
  },
  {
   "cell_type": "code",
   "execution_count": 186,
   "id": "b06e0bdc",
   "metadata": {},
   "outputs": [
    {
     "data": {
      "text/plain": [
       "'rj'"
      ]
     },
     "execution_count": 186,
     "metadata": {},
     "output_type": "execute_result"
    }
   ],
   "source": [
    "m.group('User')"
   ]
  },
  {
   "cell_type": "code",
   "execution_count": 187,
   "id": "ac10c248",
   "metadata": {},
   "outputs": [
    {
     "data": {
      "text/plain": [
       "'[13/Nov/2019:14:43:30 -0000]'"
      ]
     },
     "execution_count": 187,
     "metadata": {},
     "output_type": "execute_result"
    }
   ],
   "source": [
    "m.group('Time')"
   ]
  },
  {
   "cell_type": "code",
   "execution_count": 188,
   "id": "4be5e9ca",
   "metadata": {},
   "outputs": [
    {
     "data": {
      "text/plain": [
       "'\"GET HTTP/1.0\"'"
      ]
     },
     "execution_count": 188,
     "metadata": {},
     "output_type": "execute_result"
    }
   ],
   "source": [
    "m.group('Request')"
   ]
  },
  {
   "cell_type": "code",
   "execution_count": null,
   "id": "c335e657",
   "metadata": {},
   "outputs": [],
   "source": []
  }
 ],
 "metadata": {
  "kernelspec": {
   "display_name": "Python 3 (ipykernel)",
   "language": "python",
   "name": "python3"
  },
  "language_info": {
   "codemirror_mode": {
    "name": "ipython",
    "version": 3
   },
   "file_extension": ".py",
   "mimetype": "text/x-python",
   "name": "python",
   "nbconvert_exporter": "python",
   "pygments_lexer": "ipython3",
   "version": "3.11.5"
  }
 },
 "nbformat": 4,
 "nbformat_minor": 5
}
