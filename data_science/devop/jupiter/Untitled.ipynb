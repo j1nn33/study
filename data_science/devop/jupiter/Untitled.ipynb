{
 "cells": [
  {
   "cell_type": "markdown",
   "id": "e98b04cf",
   "metadata": {},
   "source": [
    "перед командой ls указан символ !, по которому IPython распознает инструкции командной оболочки bash"
   ]
  },
  {
   "cell_type": "code",
   "execution_count": 1,
   "id": "0b5653f5",
   "metadata": {},
   "outputs": [
    {
     "data": {
      "text/plain": [
       "IPython.utils.text.SList"
      ]
     },
     "execution_count": 1,
     "metadata": {},
     "output_type": "execute_result"
    }
   ],
   "source": [
    "var_ls = !ls -la\n",
    "type(var_ls)"
   ]
  },
  {
   "cell_type": "markdown",
   "id": "c8926673",
   "metadata": {},
   "source": [
    "результаты присваиваются переменной var_ls Python типа IPython.utils.text.SList. Тип SList преобразует обычную ин\u0002струкцию командной оболочки в объект с тремя основными методами: fields, grep и sort\n",
    "Метод sort может распознать пробелы из df - команды Unix и отсортировать третий столбец по размеру"
   ]
  },
  {
   "cell_type": "code",
   "execution_count": 4,
   "id": "5be60d6c",
   "metadata": {},
   "outputs": [
    {
     "data": {
      "text/plain": [
       "['/dev/mapper/ubuntu--vg-ubuntu--lv   18G   16G  805M  96% /',\n",
       " '/dev/sda2                          1.8G  267M  1.4G  17% /boot',\n",
       " 'Filesystem                         Size  Used Avail Use% Mounted on',\n",
       " 'tmpfs                              195M  4.0K  195M   1% /run/user/1000',\n",
       " 'tmpfs                              195M  968K  194M   1% /run',\n",
       " 'tmpfs                              5.0M     0  5.0M   0% /run/lock',\n",
       " 'tmpfs                              971M     0  971M   0% /dev/shm']"
      ]
     },
     "execution_count": 4,
     "metadata": {},
     "output_type": "execute_result"
    }
   ],
   "source": [
    "python_df = !df -h\n",
    "python_df.sort(3, nums = True)"
   ]
  },
  {
   "cell_type": "code",
   "execution_count": 5,
   "id": "7245ee9d",
   "metadata": {},
   "outputs": [
    {
     "data": {
      "text/plain": [
       "['-rwxr-xr-x 1 root root      30952 Aug 22  2022 kill',\n",
       " 'lrwxrwxrwx 1 root root         14 Aug 22  2022 pidof -> /sbin/killall5',\n",
       " 'lrwxrwxrwx 1 root root          5 Aug 22  2022 pkill -> pgrep',\n",
       " '-rwxr-xr-x 1 root root      30952 Aug 22  2022 skill',\n",
       " 'lrwxrwxrwx 1 root root          5 Aug 22  2022 snice -> skill']"
      ]
     },
     "execution_count": 5,
     "metadata": {},
     "output_type": "execute_result"
    }
   ],
   "source": [
    "ls = !ls -l /usr/bin\n",
    "ls.grep(\"kill\")"
   ]
  },
  {
   "cell_type": "code",
   "execution_count": null,
   "id": "8c6d40b9",
   "metadata": {},
   "outputs": [],
   "source": []
  }
 ],
 "metadata": {
  "kernelspec": {
   "display_name": "Python 3 (ipykernel)",
   "language": "python",
   "name": "python3"
  },
  "language_info": {
   "codemirror_mode": {
    "name": "ipython",
    "version": 3
   },
   "file_extension": ".py",
   "mimetype": "text/x-python",
   "name": "python",
   "nbconvert_exporter": "python",
   "pygments_lexer": "ipython3",
   "version": "3.10.9"
  }
 },
 "nbformat": 4,
 "nbformat_minor": 5
}
