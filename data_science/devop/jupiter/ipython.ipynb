{
 "cells": [
  {
   "cell_type": "code",
   "execution_count": 3,
   "metadata": {},
   "outputs": [
    {
     "name": "stdout",
     "output_type": "stream",
     "text": [
      "i is 45\n"
     ]
    }
   ],
   "source": [
    "range(0, 10)\n",
    "list(range(10))\n",
    "\n",
    "i = 45\n",
    "if i == 45:\n",
    "    print('i is 45')\n",
    "elif i == 35:\n",
    "    print('i is 35')\n",
    "elif i > 10:\n",
    "    print('i is greater than 10')\n",
    "else:\n",
    "    print('I dont know much about i...')\n",
    "\n",
    "\n",
    "\n",
    "    "
   ]
  },
  {
   "cell_type": "code",
   "execution_count": 4,
   "metadata": {},
   "outputs": [
    {
     "name": "stdout",
     "output_type": "stream",
     "text": [
      "0\n",
      "2\n",
      "4\n",
      "6\n",
      "8\n",
      "10\n",
      "12\n",
      "14\n",
      "16\n",
      "18\n",
      "The count is 0\n",
      "The count is 1\n",
      "The count is 2\n"
     ]
    }
   ],
   "source": [
    "\t\n",
    "for i in range(10):\n",
    "    x = i*2\n",
    "    print(x)\n",
    "\t\n",
    "count = 0\n",
    "while count < 3:\n",
    "    print(f\"The count is {count}\")\n",
    "    count += 1\n",
    "\t\n",
    "\n",
    "\n"
   ]
  },
  {
   "cell_type": "code",
   "execution_count": 5,
   "metadata": {},
   "outputs": [
    {
     "name": "stdout",
     "output_type": "stream",
     "text": [
      "Gumby\n",
      "PlayDo\n",
      "Plato\n",
      "We tried to pop too many thinkers\n",
      "pop from empty list\n"
     ]
    }
   ],
   "source": [
    "# Обработка исключений\n",
    "\n",
    "thinkers = ['Plato', 'PlayDo', 'Gumby']\n",
    "while True:\n",
    "   try:\n",
    "       thinker = thinkers.pop()\n",
    "       print(thinker)\n",
    "   except IndexError as e:\n",
    "       print(\"We tried to pop too many thinkers\")\n",
    "       print(e)\n",
    "       break\n",
    "\t   \n",
    "\t   \n"
   ]
  },
  {
   "cell_type": "code",
   "execution_count": 6,
   "metadata": {},
   "outputs": [
    {
     "data": {
      "text/plain": [
       "{'key-1': 'value-1', 'key-2': 'value-2'}"
      ]
     },
     "execution_count": 6,
     "metadata": {},
     "output_type": "execute_result"
    }
   ],
   "source": [
    "my_sequence = [0, 1, 2, 0, 1, 2, 3, 0, 1, 2, 3, 4]\n",
    "len(my_sequence)\n",
    "min(my_sequence)\n",
    "max(my_sequence)\n",
    "my_sequence.count(1)\n",
    "\n",
    "# Ассоциативные массивы\n",
    "kv_list = [['key-1', 'value-1'], ['key-2', 'value-2']]\n",
    "dict(kv_list)\n",
    "# {'key-1': 'value-1', 'key-2': 'value-2'}\n",
    "\n",
    "map = {'key-1': 'value-1', 'key-2': 'value-2'}\n",
    "map\n",
    "# {'key-1': 'value-1', 'key-2': 'value-2'}\n",
    "\n"
   ]
  },
  {
   "cell_type": "code",
   "execution_count": 7,
   "metadata": {},
   "outputs": [
    {
     "name": "stdout",
     "output_type": "stream",
     "text": [
      "6\n",
      "9\n"
     ]
    },
    {
     "data": {
      "text/plain": [
       "[[5, 'b', 0], [2, 'c', 1], [0, 'a', 2]]"
      ]
     },
     "execution_count": 7,
     "metadata": {},
     "output_type": "execute_result"
    }
   ],
   "source": [
    "# функции\n",
    "def keywords(first=1, second=2):\n",
    "    '''Присваиваем значения по умолчанию'''\n",
    "    print(f\"first: {first}\")\n",
    "    print(f\"second: {second}\")\n",
    "# Функции как объекты\n",
    "def double(input):\n",
    "    '''Удваивает input'''\n",
    "    return input*2\n",
    "\n",
    "double\n",
    "#<function double at 0x107d34ae8>\n",
    "#type(double)\n",
    "#<class 'function'>\n",
    "\n",
    "def triple(input):\n",
    "    '''Утраивает input'''\n",
    "    return input*3\n",
    "    \n",
    "functions = [double, triple]\n",
    "for function in functions:\n",
    "    print(function(3))\n",
    "\n",
    "#6\n",
    "#9\t\n",
    "\n",
    "# Анонимные функции\n",
    "\n",
    "items = [[0, 'a', 2], [5, 'b', 0], [2, 'c', 1]]\n",
    "sorted(items)\n",
    "# [[0, 'a', 2], [2, 'c', 1], [5, 'b', 0]]\n",
    "\n",
    "def second(item):\n",
    "    '''Возвращает второй элемент'''\n",
    "    return item[1]\n",
    "\n",
    "sorted(items, key=second)\n",
    "[[0, 'a', 2], [5, 'b', 0], [2, 'c', 1]]\n",
    "\n",
    "# lambda <Параметр>: <Возвращаемое значение>\n",
    "\n",
    "sorted(items, key=lambda item: item[1])\n",
    "# [[0, 'a', 2], [5, 'b', 0], [2, 'c', 1]]\n",
    "sorted(items, key=lambda item: item[2])\n",
    "# [[5, 'b', 0], [2, 'c', 1], [0, 'a', 2]]"
   ]
  },
  {
   "cell_type": "code",
   "execution_count": 8,
   "metadata": {},
   "outputs": [
    {
     "data": {
      "text/plain": [
       "<re.Match object; span=(13, 29), match='ekoenig@vpwk.com'>"
      ]
     },
     "execution_count": 8,
     "metadata": {},
     "output_type": "execute_result"
    }
   ],
   "source": [
    "# Регулярные выражения\n",
    "import re\n",
    "\n",
    "cc_list = '''Ezra Koenig <ekoenig@vpwk.com>,\n",
    "             Rostam Batmanglij <rostam@vpwk.com>,\n",
    "             Chris Tomson <ctomson@vpwk.com,\n",
    "             Bobbi Baio <bbaio@vpwk.com'''\n",
    "\n",
    "# узнать, присутствует ли какое-то имя в этом тексте\n",
    "re.search(r'Rostam', cc_list)\n",
    "\n",
    "# Наборы символов\n",
    "# о указывать группы символов, каждый из которых может встречаться в конкретном месте\n",
    "re.search(r'[RB]obb[iy]', cc_list)\n",
    "re.search(r'Chr[a-z][a-z]', cc_list)\n",
    "re.search(r'[A-Za-z]+', cc_list)\n",
    "# Число в фигурных скобках задает точное количество символов\n",
    "re.search(r'[A-Za-z]{6}', cc_list)\n",
    "# экранировать '.' \n",
    "re.search(r'[A-Za-z]+@[a-z]+\\.[a-z]+', cc_list)\n",
    "# Классы символов\n",
    "# \\w, эквивалентный [a-zA-Z0-9_]\n",
    "# \\d, эквивалентный [0-9]\n",
    "# Для сопоставления с несколькими символами можно задействовать модификатор +:\n",
    "\n",
    "re.search(r'\\w+', cc_list)\n",
    "# шаблон для адреса электронной почты\n",
    "re.search(r'\\w+\\@\\w+\\.\\w+', cc_list)\n",
    "\n"
   ]
  },
  {
   "cell_type": "code",
   "execution_count": 10,
   "metadata": {},
   "outputs": [
    {
     "data": {
      "text/plain": [
       "2"
      ]
     },
     "execution_count": 10,
     "metadata": {},
     "output_type": "execute_result"
    }
   ],
   "source": [
    "# Генераторы\n",
    "def count():\n",
    "    n = 0\n",
    "    while True:\n",
    "        n += 1\n",
    "        yield n\n",
    "    \n",
    "counter = count()\n",
    "next(counter)\n",
    "next(counter)\n"
   ]
  },
  {
   "cell_type": "code",
   "execution_count": null,
   "metadata": {},
   "outputs": [],
   "source": []
  }
 ],
 "metadata": {
  "kernelspec": {
   "display_name": "Python 3 (ipykernel)",
   "language": "python",
   "name": "python3"
  },
  "language_info": {
   "codemirror_mode": {
    "name": "ipython",
    "version": 3
   },
   "file_extension": ".py",
   "mimetype": "text/x-python",
   "name": "python",
   "nbconvert_exporter": "python",
   "pygments_lexer": "ipython3",
   "version": "3.10.7"
  }
 },
 "nbformat": 4,
 "nbformat_minor": 2
}
