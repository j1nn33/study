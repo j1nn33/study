{
 "cells": [
  {
   "cell_type": "markdown",
   "id": "985e8abe",
   "metadata": {},
   "source": [
    "перед командой ls указан символ !, по которому IPython распознает инструкции командной оболочки bash"
   ]
  },
  {
   "cell_type": "code",
   "execution_count": 1,
   "id": "b1db012a",
   "metadata": {},
   "outputs": [
    {
     "data": {
      "text/plain": [
       "IPython.utils.text.SList"
      ]
     },
     "execution_count": 1,
     "metadata": {},
     "output_type": "execute_result"
    }
   ],
   "source": [
    "var_ls = !ls -la\n",
    "type(var_ls)"
   ]
  },
  {
   "cell_type": "markdown",
   "id": "972dece3",
   "metadata": {},
   "source": [
    "результаты присваиваются переменной var_ls Python типа IPython.utils.text.SList. Тип SList преобразует обычную ин\u0002струкцию командной оболочки в объект с тремя основными методами: fields, grep и sort\n",
    "Метод sort может распознать пробелы из df - команды Unix и отсортировать третий столбец по размеру"
   ]
  },
  {
   "cell_type": "code",
   "execution_count": 4,
   "id": "f9e0c1a6",
   "metadata": {},
   "outputs": [
    {
     "data": {
      "text/plain": [
       "['/dev/mapper/ubuntu--vg-ubuntu--lv   18G   16G  805M  96% /',\n",
       " '/dev/sda2                          1.8G  267M  1.4G  17% /boot',\n",
       " 'Filesystem                         Size  Used Avail Use% Mounted on',\n",
       " 'tmpfs                              195M  4.0K  195M   1% /run/user/1000',\n",
       " 'tmpfs                              195M  968K  194M   1% /run',\n",
       " 'tmpfs                              5.0M     0  5.0M   0% /run/lock',\n",
       " 'tmpfs                              971M     0  971M   0% /dev/shm']"
      ]
     },
     "execution_count": 4,
     "metadata": {},
     "output_type": "execute_result"
    }
   ],
   "source": [
    "python_df = !df -h\n",
    "python_df.sort(3, nums = True)"
   ]
  },
  {
   "cell_type": "code",
   "execution_count": 5,
   "id": "f76ed466",
   "metadata": {},
   "outputs": [
    {
     "data": {
      "text/plain": [
       "['-rwxr-xr-x 1 root root      30952 Aug 22  2022 kill',\n",
       " 'lrwxrwxrwx 1 root root         14 Aug 22  2022 pidof -> /sbin/killall5',\n",
       " 'lrwxrwxrwx 1 root root          5 Aug 22  2022 pkill -> pgrep',\n",
       " '-rwxr-xr-x 1 root root      30952 Aug 22  2022 skill',\n",
       " 'lrwxrwxrwx 1 root root          5 Aug 22  2022 snice -> skill']"
      ]
     },
     "execution_count": 5,
     "metadata": {},
     "output_type": "execute_result"
    }
   ],
   "source": [
    "ls = !ls -l /usr/bin\n",
    "ls.grep(\"kill\")"
   ]
  },
  {
   "cell_type": "code",
   "execution_count": 6,
   "id": "413c08e5",
   "metadata": {},
   "outputs": [
    {
     "name": "stdout",
     "output_type": "stream",
     "text": [
      "Linux devops 5.19.0-38-generic #39-Ubuntu SMP PREEMPT_DYNAMIC Fri Mar 17 17:33:16 UTC 2023 x86_64 x86_64 x86_64 GNU/Linux\n"
     ]
    }
   ],
   "source": [
    "%%bash\n",
    "uname -a"
   ]
  },
  {
   "cell_type": "markdown",
   "id": "f9d2249c",
   "metadata": {},
   "source": [
    "%%writefile, позволяющая писать и тестировать сценарии Python или bash прямо во время работы и выполнять их с помощью IPython"
   ]
  },
  {
   "cell_type": "code",
   "execution_count": 7,
   "id": "5b7bbe9f",
   "metadata": {},
   "outputs": [
    {
     "name": "stdout",
     "output_type": "stream",
     "text": [
      "Writing print_time.py\n"
     ]
    }
   ],
   "source": [
    "%%writefile print_time.py\n",
    "#!/usr/bin/env python\n",
    "import datetime\n",
    "print(datetime.datetime.now().time())"
   ]
  },
  {
   "cell_type": "code",
   "execution_count": 8,
   "id": "a513ef76",
   "metadata": {},
   "outputs": [
    {
     "name": "stdout",
     "output_type": "stream",
     "text": [
      "#!/usr/bin/env python\r\n",
      "import datetime\r\n",
      "print(datetime.datetime.now().time())\r\n"
     ]
    }
   ],
   "source": [
    "cat print_time.py"
   ]
  },
  {
   "cell_type": "code",
   "execution_count": 9,
   "id": "5796b540",
   "metadata": {},
   "outputs": [
    {
     "name": "stdout",
     "output_type": "stream",
     "text": [
      "#!/usr/bin/env python\r\n",
      "import datetime\r\n",
      "print(datetime.datetime.now().time())\r\n"
     ]
    }
   ],
   "source": [
    "cat print_time.py"
   ]
  },
  {
   "cell_type": "code",
   "execution_count": 10,
   "id": "897eef61",
   "metadata": {},
   "outputs": [
    {
     "name": "stdout",
     "output_type": "stream",
     "text": [
      "15:59:40.761102\r\n"
     ]
    }
   ],
   "source": [
    " !python print_time.py"
   ]
  },
  {
   "cell_type": "markdown",
   "id": "852cebb3",
   "metadata": {},
   "source": [
    "%who - загруженные в памяти интерактивные переменные"
   ]
  },
  {
   "cell_type": "code",
   "execution_count": 11,
   "id": "54d8f3cb",
   "metadata": {},
   "outputs": [
    {
     "name": "stdout",
     "output_type": "stream",
     "text": [
      "ls\t python_df\t var_ls\t \n"
     ]
    }
   ],
   "source": [
    "%who"
   ]
  },
  {
   "cell_type": "markdown",
   "id": "7d9cfa29",
   "metadata": {},
   "source": [
    "Подключение по SSH\n",
    "passfile - в каталгое должен быть passfile в котором записан пароль от ssh"
   ]
  },
  {
   "cell_type": "code",
   "execution_count": null,
   "id": "76428875",
   "metadata": {},
   "outputs": [],
   "source": [
    "cmd = !sshpass -fpassfile ssh hadoop@192.168.1.131 -o \"StrictHostKeyChecking=no\" '/usr/local/hadoop/bin/yarn application -list'\n",
    "#cmd = !sshpass -fpassfile ssh hadoop@192.168.1.131 'date'\n",
    "\n",
    "#applications = subprocess.check_output(cmd, shell = True).splitlines()\n",
    "cmd\n"
   ]
  }
 ],
 "metadata": {
  "kernelspec": {
   "display_name": "Python 3 (ipykernel)",
   "language": "python",
   "name": "python3"
  },
  "language_info": {
   "codemirror_mode": {
    "name": "ipython",
    "version": 3
   },
   "file_extension": ".py",
   "mimetype": "text/x-python",
   "name": "python",
   "nbconvert_exporter": "python",
   "pygments_lexer": "ipython3",
   "version": "3.11.5"
  }
 },
 "nbformat": 4,
 "nbformat_minor": 5
}
