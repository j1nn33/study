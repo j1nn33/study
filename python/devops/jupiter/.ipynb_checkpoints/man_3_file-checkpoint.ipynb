{
 "cells": [
  {
   "cell_type": "code",
   "execution_count": 11,
   "id": "f8e8e8a8",
   "metadata": {},
   "outputs": [
    {
     "data": {
      "text/plain": [
       "1391"
      ]
     },
     "execution_count": 11,
     "metadata": {},
     "output_type": "execute_result"
    }
   ],
   "source": [
    "# FILE \n",
    "# read, возвращающий содержимое файла в виде строкового значения\n",
    "\n",
    "file_path = '../../source/bookofdreams.txt'\n",
    "open_file = open(file_path, 'r')\n",
    "text = open_file.read()\n",
    "len(text)"
   ]
  },
  {
   "cell_type": "code",
   "execution_count": 15,
   "id": "90fe559e",
   "metadata": {},
   "outputs": [
    {
     "data": {
      "text/plain": [
       "'т'"
      ]
     },
     "execution_count": 15,
     "metadata": {},
     "output_type": "execute_result"
    }
   ],
   "source": [
    "text[7]"
   ]
  },
  {
   "cell_type": "code",
   "execution_count": 5,
   "id": "4b183ecb",
   "metadata": {},
   "outputs": [],
   "source": [
    "open_file.close()"
   ]
  },
  {
   "cell_type": "code",
   "execution_count": 6,
   "id": "59bf4f0d",
   "metadata": {},
   "outputs": [],
   "source": [
    "# oткрывать с помощью операторов with. не требуется закрывать их явно. Python сам закроет файл\n",
    "with open(file_path, 'r') as open_file:\n",
    "    text = open_file.readlines()"
   ]
  },
  {
   "cell_type": "code",
   "execution_count": 16,
   "id": "c6f68644",
   "metadata": {},
   "outputs": [
    {
     "data": {
      "text/plain": [
       "'т'"
      ]
     },
     "execution_count": 16,
     "metadata": {},
     "output_type": "execute_result"
    }
   ],
   "source": [
    "text[7]"
   ]
  },
  {
   "cell_type": "code",
   "execution_count": 17,
   "id": "23449ca9",
   "metadata": {},
   "outputs": [
    {
     "data": {
      "text/plain": [
       "False"
      ]
     },
     "execution_count": 17,
     "metadata": {},
     "output_type": "execute_result"
    }
   ],
   "source": [
    " # Проверка что файл закрыт\n",
    "open_file.closed"
   ]
  },
  {
   "cell_type": "code",
   "execution_count": 18,
   "id": "a4b6d8f3",
   "metadata": {},
   "outputs": [],
   "source": [
    "# чтения двоичных файлов  добавить b в модификатор режима\n",
    "file_path = '../../source/bookofdreams.txt'\n",
    "with open(file_path, 'rb') as open_file:\n",
    "    btext = open_file.read()"
   ]
  },
  {
   "cell_type": "code",
   "execution_count": 19,
   "id": "3b9aa79a",
   "metadata": {},
   "outputs": [
    {
     "data": {
      "text/plain": [
       "208"
      ]
     },
     "execution_count": 19,
     "metadata": {},
     "output_type": "execute_result"
    }
   ],
   "source": [
    "btext[0]"
   ]
  },
  {
   "cell_type": "code",
   "execution_count": 20,
   "id": "a54b385e",
   "metadata": {},
   "outputs": [],
   "source": [
    "# Запись в файл  метод write команды pathlib перезаписывает уже существующие файлы.\n",
    "#  сохранить существующее содержимое файла и просто добавить данные в его конец, используйте флаг a\n",
    "\n",
    "with open('../../source/file.txt', 'w') as opened_file:\n",
    "    opened_file.write(text)"
   ]
  },
  {
   "cell_type": "code",
   "execution_count": 29,
   "id": "3942cf03",
   "metadata": {},
   "outputs": [],
   "source": [
    "# pathlib - функции для чтения и записи файлов\n",
    "import pathlib"
   ]
  },
  {
   "cell_type": "code",
   "execution_count": 30,
   "id": "e3d507bf",
   "metadata": {},
   "outputs": [],
   "source": [
    "path = pathlib.Path( \"../../source/bookofdreams.txt\")"
   ]
  },
  {
   "cell_type": "code",
   "execution_count": 31,
   "id": "55e0a734",
   "metadata": {},
   "outputs": [],
   "source": [
    "text_1 = path.read_text()"
   ]
  },
  {
   "cell_type": "code",
   "execution_count": 35,
   "id": "034794a8",
   "metadata": {},
   "outputs": [
    {
     "data": {
      "text/plain": [
       "'По сюжету повесть «Собачье сердце» близка роману «Остров Моро» Герберта Уэллса, в котором профессор-маньяк занимается созданием гибридов людей и животных хирургическим путём. \\nОднако Преображенский не маньяк, он творит с благой целью, проводит эксперименты ради всего человечества, хочет победить время. \\nВ творчестве Булгакова всем людям, которые метят на место Бога, Вселенная дает свой ответ. \\nНапример, герою «Мастера и Маргариты» Берлиозу, который был так уверен, что может планировать свою жизнь хотя бы на день, отрезало голову, а к профессору Преображенскому, который стремился найти средство от бессмертия, явилась смерть в лице Шарикова, жаждущего убивать, мучить.\\nФамилию профессора Преображенского можно назвать говорящей, однако он не смог преобразить собаку, создать из неё человека, в сущности, он просто с помощью собачьего тела воскресил уголовника Клима Чугункина. \\nПреображенский, поняв это, превратил Шарикова обратно в собаку, вернул ему его беззлобное собачье сердце. \\nТекст строится на активной языковой игре: использовании метафор, фразеологизмов, омонимов, каламбуров. Даже название «Собачье сердце» построено на многозначности. \\nПрилагательное «собачье» имеет два значения: 1. прямое: что-то, что принадлежит собаке; 2. переносное: нечто очень плохое. Сердце Шарикова собачье во втором значении, то есть плохое именно потому, что оно уже не собачье, а человеческое.'"
      ]
     },
     "execution_count": 35,
     "metadata": {},
     "output_type": "execute_result"
    }
   ],
   "source": [
    "text_1"
   ]
  },
  {
   "cell_type": "code",
   "execution_count": 38,
   "id": "02a12ceb",
   "metadata": {},
   "outputs": [
    {
     "data": {
      "text/plain": [
       "PosixPath('../../source/wribookofdreams.txt')"
      ]
     },
     "execution_count": 38,
     "metadata": {},
     "output_type": "execute_result"
    }
   ],
   "source": [
    "\n",
    "path = pathlib.Path(\"../../source/wribookofdreams.txt\")\n",
    "path"
   ]
  },
  {
   "cell_type": "code",
   "execution_count": 40,
   "id": "ef89d4fd",
   "metadata": {},
   "outputs": [],
   "source": [
    "# Записать в файл\n",
    "with open(path, 'w') as opened_file:\n",
    "    opened_file.write(text_1)"
   ]
  },
  {
   "cell_type": "markdown",
   "id": "de9e79fe",
   "metadata": {},
   "source": [
    "### JSON-файлы"
   ]
  },
  {
   "cell_type": "code",
   "execution_count": 41,
   "id": "0e1e6371",
   "metadata": {},
   "outputs": [],
   "source": [
    "# можно использовать стандартные методы read и readlines файлового объекта\n",
    "# Результат нельзя будет применить сразу же, поскольку он будет выглядеть как \n",
    "# одна строка или список строк в зависимости от выбранного метода чтения"
   ]
  },
  {
   "cell_type": "code",
   "execution_count": 42,
   "id": "8b5345ea",
   "metadata": {},
   "outputs": [
    {
     "data": {
      "text/plain": [
       "['{\\n',\n",
       " '    \"Version\": \"2012-10-17\",\\n',\n",
       " '    \"Statement\": {\\n',\n",
       " '        \"Effect\": \"Allow\",\\n',\n",
       " '        \"Action\": \"service-prefix:action-name\",\\n',\n",
       " '        \"Resource\": \"*\",\\n',\n",
       " '        \"Condition\": {\\n',\n",
       " '            \"DateGreaterThan\": {\"aws:CurrentTime\": \"2017-07-01T00:00:00Z\"},\\n',\n",
       " '            \"DateLessThan\": {\"aws:CurrentTime\": \"2017-12-31T23:59:59Z\"}\\n',\n",
       " '        }\\n',\n",
       " '    }\\n',\n",
       " '}   ']"
      ]
     },
     "execution_count": 42,
     "metadata": {},
     "output_type": "execute_result"
    }
   ],
   "source": [
    "with open ('../../source/service-policy.json', 'r') as opened_file:\n",
    "    text = opened_file.readlines()\n",
    "text"
   ]
  },
  {
   "cell_type": "code",
   "execution_count": 43,
   "id": "b149cbe4",
   "metadata": {},
   "outputs": [],
   "source": [
    "#  воспользоваться модулем json"
   ]
  },
  {
   "cell_type": "code",
   "execution_count": 44,
   "id": "f84635ec",
   "metadata": {},
   "outputs": [],
   "source": [
    "import json"
   ]
  },
  {
   "cell_type": "code",
   "execution_count": 55,
   "id": "cd657eff",
   "metadata": {},
   "outputs": [
    {
     "data": {
      "text/plain": [
       "{'Version': '2012-10-17',\n",
       " 'Statement': {'Effect': 'Allow',\n",
       "  'Action': 'service-prefix:action-name',\n",
       "  'Resource': 'S3',\n",
       "  'Condition': {'DateGreaterThan': {'aws:CurrentTime': '2017-07-01T00:00:00Z'},\n",
       "   'DateLessThan': {'aws:CurrentTime': '2017-12-31T23:59:59Z'}}}}"
      ]
     },
     "execution_count": 55,
     "metadata": {},
     "output_type": "execute_result"
    }
   ],
   "source": [
    "with open('../../source/service-policy.json', 'r') as opened_file:\n",
    "    policy = json.load(opened_file)\n",
    "policy"
   ]
  },
  {
   "cell_type": "code",
   "execution_count": 56,
   "id": "dd72774d",
   "metadata": {},
   "outputs": [],
   "source": [
    " from pprint import pprint"
   ]
  },
  {
   "cell_type": "code",
   "execution_count": 62,
   "id": "47a48f77",
   "metadata": {},
   "outputs": [
    {
     "name": "stdout",
     "output_type": "stream",
     "text": [
      "{'Statement': {'Action': 'service-prefix:action-name',\n",
      "               'Condition': {'DateGreaterThan': {'aws:CurrentTime': '2017-07-01T00:00:00Z'},\n",
      "                             'DateLessThan': {'aws:CurrentTime': '2017-12-31T23:59:59Z'}},\n",
      "               'Effect': 'Allow',\n",
      "               'Resource': 'S4'},\n",
      " 'Version': '2012-10-17'}\n"
     ]
    }
   ],
   "source": [
    "pprint(policy)"
   ]
  },
  {
   "cell_type": "code",
   "execution_count": 49,
   "id": "5a1be2af",
   "metadata": {},
   "outputs": [],
   "source": [
    "# Теперь можно работать с данными с исходной структурой из файла"
   ]
  },
  {
   "cell_type": "code",
   "execution_count": 64,
   "id": "8fbac4cb",
   "metadata": {},
   "outputs": [
    {
     "name": "stdout",
     "output_type": "stream",
     "text": [
      "{'Statement': {'Action': 'service-prefix:action-name',\n",
      "               'Condition': {'DateGreaterThan': {'aws:CurrentTime': '2017-07-01T00:00:00Z'},\n",
      "                             'DateLessThan': {'aws:CurrentTime': '2017-12-31T23:59:59Z'}},\n",
      "               'Effect': 'Allow',\n",
      "               'Resource': 'S5'},\n",
      " 'Version': '2012-10-17'}\n"
     ]
    }
   ],
   "source": [
    "policy['Statement']['Resource'] = 'S5'\n",
    "pprint(policy)"
   ]
  },
  {
   "cell_type": "code",
   "execution_count": 53,
   "id": "b4c18b91",
   "metadata": {},
   "outputs": [],
   "source": [
    "# С помощью метода json.dump можно записать ассоциативный массив Python в JSON-файл."
   ]
  },
  {
   "cell_type": "code",
   "execution_count": 65,
   "id": "d515a7fb",
   "metadata": {},
   "outputs": [],
   "source": [
    "with open('../../source/service-policy.json', 'w') as opened_file:\n",
    "    json.dump(policy, opened_file)\n",
    "    "
   ]
  },
  {
   "cell_type": "markdown",
   "id": "d65cf419",
   "metadata": {},
   "source": [
    "### YAML"
   ]
  },
  {
   "cell_type": "code",
   "execution_count": 66,
   "id": "200da7b2",
   "metadata": {},
   "outputs": [],
   "source": [
    "import yaml"
   ]
  },
  {
   "cell_type": "code",
   "execution_count": 67,
   "id": "6aa513aa",
   "metadata": {},
   "outputs": [
    {
     "name": "stdout",
     "output_type": "stream",
     "text": [
      "[{'hosts': 'webservers',\n",
      "  'remote_user': 'root',\n",
      "  'tasks': [{'name': 'ensure apache is at the latest version',\n",
      "             'yum': {'name': 'httpd', 'state': 'latest'}}],\n",
      "  'vars': {'http_port': 80, 'max_clients': 200}}]\n"
     ]
    }
   ],
   "source": [
    "with open('../../source/verify-apache.yml', 'r') as opened_file:\n",
    "    verify_apache = yaml.safe_load(opened_file)\n",
    "pprint(verify_apache)"
   ]
  },
  {
   "cell_type": "markdown",
   "id": "9f434a31",
   "metadata": {},
   "source": [
    "### XML"
   ]
  },
  {
   "cell_type": "code",
   "execution_count": 5,
   "id": "d74909c2",
   "metadata": {},
   "outputs": [
    {
     "data": {
      "text/plain": [
       "<Element 'shiporder' at 0x7fe1587f30b0>"
      ]
     },
     "execution_count": 5,
     "metadata": {},
     "output_type": "execute_result"
    }
   ],
   "source": [
    "import xml.etree.ElementTree as ET\n",
    "tree = ET.parse('../../source/xml_test.xml')\n",
    "root = tree.getroot()\n",
    "root"
   ]
  },
  {
   "cell_type": "code",
   "execution_count": 6,
   "id": "b1fe7cc3",
   "metadata": {},
   "outputs": [
    {
     "name": "stdout",
     "output_type": "stream",
     "text": [
      "orderperson {}\n",
      "shipto {}\n",
      "item {}\n",
      "item {}\n"
     ]
    }
   ],
   "source": [
    "#Обход дерева можно выполнить посредством прохода в цикле дочерних узлов:\n",
    "for child in root:\n",
    "    print(child.tag, child.attrib)\n"
   ]
  },
  {
   "cell_type": "code",
   "execution_count": 9,
   "id": "ccd3f2bd",
   "metadata": {},
   "outputs": [
    {
     "data": {
      "text/plain": [
       "{'default': 'http://www.w3.org/2005/Atom'}"
      ]
     },
     "execution_count": 9,
     "metadata": {},
     "output_type": "execute_result"
    }
   ],
   "source": [
    "ns = {'default':'http://www.w3.org/2005/Atom'}\n",
    "ns"
   ]
  },
  {
   "cell_type": "code",
   "execution_count": 8,
   "id": "3afbe0be",
   "metadata": {},
   "outputs": [],
   "source": [
    "authors = root.findall(\"default:entry/default:author/default:name\", ns)\n",
    "for author in authors:\n",
    "    print(author.text)"
   ]
  },
  {
   "cell_type": "markdown",
   "id": "107353cb",
   "metadata": {},
   "source": [
    "### CSV"
   ]
  },
  {
   "cell_type": "code",
   "execution_count": 1,
   "id": "a2f144a6",
   "metadata": {},
   "outputs": [
    {
     "ename": "IndentationError",
     "evalue": "expected an indented block after 'for' statement on line 5 (3009297702.py, line 6)",
     "output_type": "error",
     "traceback": [
      "\u001b[0;36m  Cell \u001b[0;32mIn[1], line 6\u001b[0;36m\u001b[0m\n\u001b[0;31m    print(next(off_reader))\u001b[0m\n\u001b[0m    ^\u001b[0m\n\u001b[0;31mIndentationError\u001b[0m\u001b[0;31m:\u001b[0m expected an indented block after 'for' statement on line 5\n"
     ]
    }
   ],
   "source": [
    "import csv\n",
    "file_path = '/path/<file_name>.csv'\n",
    "with open(file_path, newline='') as csv_file:\n",
    "    off_reader = csv.reader(csv_file, delimiter=',')\n",
    "    for _ in range(5):\n",
    "    print(next(off_reader))"
   ]
  },
  {
   "cell_type": "code",
   "execution_count": null,
   "id": "ed4a1fa7",
   "metadata": {},
   "outputs": [],
   "source": []
  }
 ],
 "metadata": {
  "kernelspec": {
   "display_name": "Python 3 (ipykernel)",
   "language": "python",
   "name": "python3"
  },
  "language_info": {
   "codemirror_mode": {
    "name": "ipython",
    "version": 3
   },
   "file_extension": ".py",
   "mimetype": "text/x-python",
   "name": "python",
   "nbconvert_exporter": "python",
   "pygments_lexer": "ipython3",
   "version": "3.11.5"
  }
 },
 "nbformat": 4,
 "nbformat_minor": 5
}
