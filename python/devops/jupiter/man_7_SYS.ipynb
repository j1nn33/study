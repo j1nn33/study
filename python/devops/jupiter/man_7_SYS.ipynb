{
 "cells": [
  {
   "cell_type": "markdown",
   "id": "b760c8a9",
   "metadata": {},
   "source": [
    "Модуль sys предоставляет доступ к переменным и методам, тесно связанным \n",
    "с интерпретатором Python"
   ]
  },
  {
   "cell_type": "code",
   "execution_count": 1,
   "id": "816641bf",
   "metadata": {},
   "outputs": [],
   "source": [
    "import sys"
   ]
  },
  {
   "cell_type": "code",
   "execution_count": 2,
   "id": "7cd8dded",
   "metadata": {},
   "outputs": [
    {
     "data": {
      "text/plain": [
       "'little'"
      ]
     },
     "execution_count": 2,
     "metadata": {},
     "output_type": "execute_result"
    }
   ],
   "source": [
    "# Узнать порядок байтов в архитектуре\n",
    "sys.byteorder"
   ]
  },
  {
   "cell_type": "code",
   "execution_count": 3,
   "id": "a0c64023",
   "metadata": {},
   "outputs": [
    {
     "data": {
      "text/plain": [
       "28"
      ]
     },
     "execution_count": 3,
     "metadata": {},
     "output_type": "execute_result"
    }
   ],
   "source": [
    "# Размер объектов Python\n",
    "sys.getsizeof(1)"
   ]
  },
  {
   "cell_type": "code",
   "execution_count": 5,
   "id": "0db82ba1",
   "metadata": {},
   "outputs": [
    {
     "data": {
      "text/plain": [
       "'linux'"
      ]
     },
     "execution_count": 5,
     "metadata": {},
     "output_type": "execute_result"
    }
   ],
   "source": [
    "# Узнать какая ОС\n",
    "sys.platform"
   ]
  },
  {
   "cell_type": "markdown",
   "id": "3f9c327a",
   "metadata": {},
   "source": [
    "ситуация, когда необходимо задействовать возможности \n",
    "языка или модули, доступные только в определенных версиях Python. Управлять \n",
    "поведением в зависимости от текущего интерпретатора Python можно с помо\u0002щью sys.version_info. В следующем примере выводятся различные сообщения \n",
    "для Python 3.7, Python версий выше 3, но ниже 3.7 и Python версий ниже 3:"
   ]
  },
  {
   "cell_type": "code",
   "execution_count": 6,
   "id": "18945338",
   "metadata": {},
   "outputs": [
    {
     "name": "stdout",
     "output_type": "stream",
     "text": [
      "All is good.\n"
     ]
    }
   ],
   "source": [
    "if sys.version_info.major < 3:\n",
    " print(\"You need to update your Python version\")\n",
    "elif sys.version_info.minor < 7:\n",
    " print(\"You are not running the latest version of Python\")\n",
    "else:\n",
    " print(\"All is good.\")"
   ]
  },
  {
   "cell_type": "code",
   "execution_count": null,
   "id": "8fec6be3",
   "metadata": {},
   "outputs": [],
   "source": []
  }
 ],
 "metadata": {
  "kernelspec": {
   "display_name": "Python 3 (ipykernel)",
   "language": "python",
   "name": "python3"
  },
  "language_info": {
   "codemirror_mode": {
    "name": "ipython",
    "version": 3
   },
   "file_extension": ".py",
   "mimetype": "text/x-python",
   "name": "python",
   "nbconvert_exporter": "python",
   "pygments_lexer": "ipython3",
   "version": "3.11.5"
  }
 },
 "nbformat": 4,
 "nbformat_minor": 5
}
