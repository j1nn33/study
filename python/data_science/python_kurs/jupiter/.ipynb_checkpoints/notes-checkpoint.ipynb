{
 "cells": [
  {
   "cell_type": "code",
   "execution_count": 85,
   "id": "b4703702",
   "metadata": {},
   "outputs": [],
   "source": [
    "import pandas as pd\n",
    "import numpy as np"
   ]
  },
  {
   "cell_type": "markdown",
   "id": "c8bf6709",
   "metadata": {},
   "source": [
    "### Структуры данных: серии и датафреймы\n",
    "### Создаем датафреймы и загружаем в них данные\n",
    "### Исследуем загруженные данные\n",
    "### Получаем данные из датафреймов\n",
    "### Считаем производные метрики\n",
    "### Объединяем несколько датафреймов\n",
    "### Решаем задачу"
   ]
  },
  {
   "cell_type": "code",
   "execution_count": 86,
   "id": "8d36e29d",
   "metadata": {},
   "outputs": [],
   "source": [
    "# load file \n",
    "data = pd.read_csv(filepath_or_buffer = \"../../source/transactions.csv\", \n",
    "                           sep =',',\n",
    "                           nrows=1000000)\n",
    "# Экселевские таблицы\n",
    "# pd.read_excel('file.xlsx', sheet_name='Sheet1')\n",
    "# назначить колонку индексом,\n",
    "# pd.read_csv('file.csv', index_col='id')"
   ]
  },
  {
   "cell_type": "markdown",
   "id": "93dfb41f",
   "metadata": {},
   "source": [
    "# Структуры данных: серии и датафреймы\n",
    "Серии — одномерные массивы данных. Они очень похожи на списки, но отличаются по поведению — например, операции применяются к списку целиком, а в сериях — поэлементно.\n",
    "\n",
    "То есть, если список умножить на 2, получите тот же список, повторенный 2 раза."
   ]
  },
  {
   "cell_type": "code",
   "execution_count": 87,
   "id": "0a29afdb",
   "metadata": {},
   "outputs": [
    {
     "data": {
      "text/plain": [
       "[1, 2, 3, 1, 2, 3]"
      ]
     },
     "execution_count": 87,
     "metadata": {},
     "output_type": "execute_result"
    }
   ],
   "source": [
    "vector = [1, 2, 3]\n",
    "vector * 2"
   ]
  },
  {
   "cell_type": "code",
   "execution_count": 88,
   "id": "01f88224",
   "metadata": {},
   "outputs": [
    {
     "data": {
      "text/plain": [
       "0    2\n",
       "1    4\n",
       "2    6\n",
       "dtype: int64"
      ]
     },
     "execution_count": 88,
     "metadata": {},
     "output_type": "execute_result"
    }
   ],
   "source": [
    "series = pd.Series([1, 2, 3])\n",
    "series * 2"
   ]
  },
  {
   "cell_type": "markdown",
   "id": "98e51f1e",
   "metadata": {},
   "source": [
    "первый столбик вывода. Это индекс, в котором хранятся адреса каждого элемента серии. Каждый элемент потом можно получать, обратившись по нужному адресу."
   ]
  },
  {
   "cell_type": "code",
   "execution_count": 89,
   "id": "35cdd0ba",
   "metadata": {},
   "outputs": [
    {
     "data": {
      "text/plain": [
       "'foo'"
      ]
     },
     "execution_count": 89,
     "metadata": {},
     "output_type": "execute_result"
    }
   ],
   "source": [
    "series = pd.Series(['foo', 'bar'])\n",
    "series[0]"
   ]
  },
  {
   "cell_type": "markdown",
   "id": "defa7f7a",
   "metadata": {},
   "source": [
    " отличие серий от списков — в качестве индексов можно использовать произвольные значения, это делает данные нагляднее. Представим, что мы анализируем помесячные продажи. Используем в качестве индексов названия месяцев, значениями будет выручка"
   ]
  },
  {
   "cell_type": "code",
   "execution_count": 90,
   "id": "b3696cda",
   "metadata": {},
   "outputs": [
    {
     "data": {
      "text/plain": [
       "jan    100\n",
       "feb    200\n",
       "mar    300\n",
       "apr    400\n",
       "dtype: int64"
      ]
     },
     "execution_count": 90,
     "metadata": {},
     "output_type": "execute_result"
    }
   ],
   "source": [
    "months = ['jan', 'feb', 'mar', 'apr']\n",
    "sales = [100, 200, 300, 400]\n",
    "data = pd.Series(data=sales, index=months)\n",
    "data"
   ]
  },
  {
   "cell_type": "code",
   "execution_count": 91,
   "id": "10e15a6e",
   "metadata": {},
   "outputs": [
    {
     "data": {
      "text/plain": [
       "200"
      ]
     },
     "execution_count": 91,
     "metadata": {},
     "output_type": "execute_result"
    }
   ],
   "source": [
    "data['feb']"
   ]
  },
  {
   "cell_type": "markdown",
   "id": "24367678",
   "metadata": {},
   "source": [
    "серии — одномерный массив данных, в них удобно хранить измерения по одному. На практике удобнее группировать данные вместе. Например, если мы анализируем помесячные продажи, полезно видеть не только выручку, но и количество проданных товаров, количество новых клиентов и средний чек. Для этого отлично подходят датафреймы"
   ]
  },
  {
   "cell_type": "markdown",
   "id": "22126c58",
   "metadata": {},
   "source": [
    "Датафреймы — это таблицы.\n",
    "Технически, колонки датафреймов — это серии. Поскольку в колонках обычно описывают одни и те же объекты, то все колонки делят один и тот же индекс:"
   ]
  },
  {
   "cell_type": "code",
   "execution_count": 92,
   "id": "21788112",
   "metadata": {},
   "outputs": [
    {
     "data": {
      "text/html": [
       "<div>\n",
       "<style scoped>\n",
       "    .dataframe tbody tr th:only-of-type {\n",
       "        vertical-align: middle;\n",
       "    }\n",
       "\n",
       "    .dataframe tbody tr th {\n",
       "        vertical-align: top;\n",
       "    }\n",
       "\n",
       "    .dataframe thead th {\n",
       "        text-align: right;\n",
       "    }\n",
       "</style>\n",
       "<table border=\"1\" class=\"dataframe\">\n",
       "  <thead>\n",
       "    <tr style=\"text-align: right;\">\n",
       "      <th></th>\n",
       "      <th>revenue</th>\n",
       "      <th>items_sold</th>\n",
       "      <th>new_clients</th>\n",
       "    </tr>\n",
       "  </thead>\n",
       "  <tbody>\n",
       "    <tr>\n",
       "      <th>jan</th>\n",
       "      <td>100</td>\n",
       "      <td>23</td>\n",
       "      <td>10</td>\n",
       "    </tr>\n",
       "    <tr>\n",
       "      <th>feb</th>\n",
       "      <td>200</td>\n",
       "      <td>43</td>\n",
       "      <td>20</td>\n",
       "    </tr>\n",
       "    <tr>\n",
       "      <th>mar</th>\n",
       "      <td>300</td>\n",
       "      <td>55</td>\n",
       "      <td>30</td>\n",
       "    </tr>\n",
       "    <tr>\n",
       "      <th>apr</th>\n",
       "      <td>400</td>\n",
       "      <td>65</td>\n",
       "      <td>40</td>\n",
       "    </tr>\n",
       "  </tbody>\n",
       "</table>\n",
       "</div>"
      ],
      "text/plain": [
       "     revenue  items_sold  new_clients\n",
       "jan      100          23           10\n",
       "feb      200          43           20\n",
       "mar      300          55           30\n",
       "apr      400          65           40"
      ]
     },
     "execution_count": 92,
     "metadata": {},
     "output_type": "execute_result"
    }
   ],
   "source": [
    "months = ['jan', 'feb', 'mar', 'apr']\n",
    "sales = {\n",
    "         'revenue':     [100, 200, 300, 400],\n",
    "         'items_sold':  [23, 43, 55, 65],\n",
    "         'new_clients': [10, 20, 30, 40]\n",
    "         }\n",
    "sales_df = pd.DataFrame(data=sales, index=months)\n",
    "sales_df"
   ]
  },
  {
   "cell_type": "markdown",
   "id": "9db3c7d8",
   "metadata": {},
   "source": [
    "### Создаем датафреймы и загружаем данные\n",
    "не знаем, что собой представляют данные, и не можем задать структуру заранее. Тогда удобно создать пустой датафрейм и позже наполнить его данными."
   ]
  },
  {
   "cell_type": "code",
   "execution_count": 93,
   "id": "bc57cdf0",
   "metadata": {},
   "outputs": [],
   "source": [
    "df = pd.DataFrame()"
   ]
  },
  {
   "cell_type": "markdown",
   "id": "d1e9040e",
   "metadata": {},
   "source": [
    "данные уже есть, но хранятся в переменной из стандартного Python, например, в словаре. Чтобы получить датафрейм, эту переменную передаем в ту же команду"
   ]
  },
  {
   "cell_type": "code",
   "execution_count": 94,
   "id": "5f84a3ba",
   "metadata": {},
   "outputs": [],
   "source": [
    "df = pd.DataFrame(data=sales, index=months)"
   ]
  },
  {
   "cell_type": "code",
   "execution_count": 95,
   "id": "51eedea8",
   "metadata": {},
   "outputs": [
    {
     "data": {
      "text/html": [
       "<div>\n",
       "<style scoped>\n",
       "    .dataframe tbody tr th:only-of-type {\n",
       "        vertical-align: middle;\n",
       "    }\n",
       "\n",
       "    .dataframe tbody tr th {\n",
       "        vertical-align: top;\n",
       "    }\n",
       "\n",
       "    .dataframe thead th {\n",
       "        text-align: right;\n",
       "    }\n",
       "</style>\n",
       "<table border=\"1\" class=\"dataframe\">\n",
       "  <thead>\n",
       "    <tr style=\"text-align: right;\">\n",
       "      <th></th>\n",
       "      <th>computers</th>\n",
       "      <th>cars</th>\n",
       "      <th>soft</th>\n",
       "      <th>bicycles</th>\n",
       "    </tr>\n",
       "  </thead>\n",
       "  <tbody>\n",
       "    <tr>\n",
       "      <th>0</th>\n",
       "      <td>10</td>\n",
       "      <td>1.0</td>\n",
       "      <td>3</td>\n",
       "      <td>NaN</td>\n",
       "    </tr>\n",
       "    <tr>\n",
       "      <th>1</th>\n",
       "      <td>4</td>\n",
       "      <td>NaN</td>\n",
       "      <td>5</td>\n",
       "      <td>1.0</td>\n",
       "    </tr>\n",
       "    <tr>\n",
       "      <th>2</th>\n",
       "      <td>6</td>\n",
       "      <td>2.0</td>\n",
       "      <td>3</td>\n",
       "      <td>NaN</td>\n",
       "    </tr>\n",
       "  </tbody>\n",
       "</table>\n",
       "</div>"
      ],
      "text/plain": [
       "   computers  cars  soft  bicycles\n",
       "0         10   1.0     3       NaN\n",
       "1          4   NaN     5       1.0\n",
       "2          6   2.0     3       NaN"
      ]
     },
     "execution_count": 95,
     "metadata": {},
     "output_type": "execute_result"
    }
   ],
   "source": [
    "goods_sold = [\n",
    "                {'computers': 10, 'cars': 1, 'soft': 3},\n",
    "                {'computers': 4, 'soft': 5, 'bicycles': 1},\n",
    "                {'computers': 6, 'cars': 2, 'soft': 3}\n",
    "    ]\n",
    "pd.DataFrame(goods_sold)"
   ]
  },
  {
   "cell_type": "markdown",
   "id": "f40e5904",
   "metadata": {},
   "source": [
    "### Исследуем загруженные данные"
   ]
  },
  {
   "cell_type": "markdown",
   "id": "918cc8f9",
   "metadata": {},
   "source": [
    "orders = pd.read_csv('orders.csv', index_col='id')\n",
    "\n",
    ".shape показывает, сколько в датафрейме строк и колонок. Он возвращает пару значений (n_rows, n_columns). \n",
    "orders.shape\n",
    "\n",
    ".columns узнаем названия колонок  \n",
    ".dtypes узнаем типы данных, находящихся в каждой колонке  \n",
    ".index посмотрим, как называются строки  \n",
    ".describe() узнать разброс значений, среднюю стоимость и медиану  \n",
    "     orders.describe() \n",
    "     \n",
    ".head()   из начала датафрейма  \n",
    ".sample() случайных записей  "
   ]
  },
  {
   "cell_type": "markdown",
   "id": "1b5b7ceb",
   "metadata": {},
   "source": [
    "### Получаем данные из датафреймов"
   ]
  },
  {
   "cell_type": "code",
   "execution_count": 96,
   "id": "17de5e0e",
   "metadata": {},
   "outputs": [
    {
     "data": {
      "text/html": [
       "<div>\n",
       "<style scoped>\n",
       "    .dataframe tbody tr th:only-of-type {\n",
       "        vertical-align: middle;\n",
       "    }\n",
       "\n",
       "    .dataframe tbody tr th {\n",
       "        vertical-align: top;\n",
       "    }\n",
       "\n",
       "    .dataframe thead th {\n",
       "        text-align: right;\n",
       "    }\n",
       "</style>\n",
       "<table border=\"1\" class=\"dataframe\">\n",
       "  <thead>\n",
       "    <tr style=\"text-align: right;\">\n",
       "      <th></th>\n",
       "      <th>order_date</th>\n",
       "      <th>ship_mode</th>\n",
       "      <th>customer_id</th>\n",
       "      <th>sales</th>\n",
       "    </tr>\n",
       "  </thead>\n",
       "  <tbody>\n",
       "    <tr>\n",
       "      <th>100006</th>\n",
       "      <td>2014-09-07</td>\n",
       "      <td>Standard</td>\n",
       "      <td>DK-13375</td>\n",
       "      <td>377.970</td>\n",
       "    </tr>\n",
       "    <tr>\n",
       "      <th>100090</th>\n",
       "      <td>2014-07-08</td>\n",
       "      <td>First</td>\n",
       "      <td>EB-13705</td>\n",
       "      <td>699.192</td>\n",
       "    </tr>\n",
       "    <tr>\n",
       "      <th>100293</th>\n",
       "      <td>2014-03-14</td>\n",
       "      <td>Standard</td>\n",
       "      <td>NF-18475</td>\n",
       "      <td>91.056</td>\n",
       "    </tr>\n",
       "    <tr>\n",
       "      <th>100328</th>\n",
       "      <td>2014-01-28</td>\n",
       "      <td>Standard</td>\n",
       "      <td>JC-15340</td>\n",
       "      <td>3.928</td>\n",
       "    </tr>\n",
       "  </tbody>\n",
       "</table>\n",
       "</div>"
      ],
      "text/plain": [
       "        order_date ship_mode customer_id    sales\n",
       "100006  2014-09-07  Standard    DK-13375  377.970\n",
       "100090  2014-07-08     First    EB-13705  699.192\n",
       "100293  2014-03-14  Standard    NF-18475   91.056\n",
       "100328  2014-01-28  Standard    JC-15340    3.928"
      ]
     },
     "execution_count": 96,
     "metadata": {},
     "output_type": "execute_result"
    }
   ],
   "source": [
    "id = [100006, 100090, 100293, 100328]\n",
    "sales = {\n",
    "         'order_date':     ['2014-09-07', '2014-07-08', '2014-03-14', '2014-01-28'],\n",
    "         'ship_mode':  ['Standard', 'First', 'Standard', 'Standard'],\n",
    "         'customer_id': ['DK-13375', 'EB-13705', 'NF-18475', 'JC-15340'],\n",
    "         'sales': [377.970, 699.192, 91.056, 3.928]\n",
    "         }\n",
    "orders = pd.DataFrame(data=sales, index=id)\n",
    "orders"
   ]
  },
  {
   "cell_type": "code",
   "execution_count": 97,
   "id": "1a18926f",
   "metadata": {},
   "outputs": [
    {
     "data": {
      "text/plain": [
       "100006    377.970\n",
       "100090    699.192\n",
       "100293     91.056\n",
       "100328      3.928\n",
       "Name: sales, dtype: float64"
      ]
     },
     "execution_count": 97,
     "metadata": {},
     "output_type": "execute_result"
    }
   ],
   "source": [
    "orders['sales']\n",
    "# результат команды — новый датафрейм с таким же индексом."
   ]
  },
  {
   "cell_type": "markdown",
   "id": "3290b610",
   "metadata": {},
   "source": [
    "orders[['customer_id', 'sales']]"
   ]
  },
  {
   "cell_type": "markdown",
   "id": "1273bfe6",
   "metadata": {},
   "source": [
    "строка. Их можно фильтровать по индексу и по порядку. Например, мы хотим вывести только заказы 100006, 100090 "
   ]
  },
  {
   "cell_type": "code",
   "execution_count": 98,
   "id": "b8314821",
   "metadata": {},
   "outputs": [
    {
     "data": {
      "text/html": [
       "<div>\n",
       "<style scoped>\n",
       "    .dataframe tbody tr th:only-of-type {\n",
       "        vertical-align: middle;\n",
       "    }\n",
       "\n",
       "    .dataframe tbody tr th {\n",
       "        vertical-align: top;\n",
       "    }\n",
       "\n",
       "    .dataframe thead th {\n",
       "        text-align: right;\n",
       "    }\n",
       "</style>\n",
       "<table border=\"1\" class=\"dataframe\">\n",
       "  <thead>\n",
       "    <tr style=\"text-align: right;\">\n",
       "      <th></th>\n",
       "      <th>order_date</th>\n",
       "      <th>ship_mode</th>\n",
       "      <th>customer_id</th>\n",
       "      <th>sales</th>\n",
       "    </tr>\n",
       "  </thead>\n",
       "  <tbody>\n",
       "    <tr>\n",
       "      <th>100006</th>\n",
       "      <td>2014-09-07</td>\n",
       "      <td>Standard</td>\n",
       "      <td>DK-13375</td>\n",
       "      <td>377.970</td>\n",
       "    </tr>\n",
       "    <tr>\n",
       "      <th>100090</th>\n",
       "      <td>2014-07-08</td>\n",
       "      <td>First</td>\n",
       "      <td>EB-13705</td>\n",
       "      <td>699.192</td>\n",
       "    </tr>\n",
       "  </tbody>\n",
       "</table>\n",
       "</div>"
      ],
      "text/plain": [
       "        order_date ship_mode customer_id    sales\n",
       "100006  2014-09-07  Standard    DK-13375  377.970\n",
       "100090  2014-07-08     First    EB-13705  699.192"
      ]
     },
     "execution_count": 98,
     "metadata": {},
     "output_type": "execute_result"
    }
   ],
   "source": [
    "show_these_orders = [100006, 100090]\n",
    "orders.loc[show_these_orders]"
   ]
  },
  {
   "cell_type": "markdown",
   "id": "798971e6",
   "metadata": {},
   "source": [
    "остать просто заказы с 1 по 3 по порядку, вне зависимости от их номеров в таблицемы. Тогда используют команду .iloc[]"
   ]
  },
  {
   "cell_type": "code",
   "execution_count": 99,
   "id": "d7def43c",
   "metadata": {},
   "outputs": [
    {
     "data": {
      "text/html": [
       "<div>\n",
       "<style scoped>\n",
       "    .dataframe tbody tr th:only-of-type {\n",
       "        vertical-align: middle;\n",
       "    }\n",
       "\n",
       "    .dataframe tbody tr th {\n",
       "        vertical-align: top;\n",
       "    }\n",
       "\n",
       "    .dataframe thead th {\n",
       "        text-align: right;\n",
       "    }\n",
       "</style>\n",
       "<table border=\"1\" class=\"dataframe\">\n",
       "  <thead>\n",
       "    <tr style=\"text-align: right;\">\n",
       "      <th></th>\n",
       "      <th>order_date</th>\n",
       "      <th>ship_mode</th>\n",
       "      <th>customer_id</th>\n",
       "      <th>sales</th>\n",
       "    </tr>\n",
       "  </thead>\n",
       "  <tbody>\n",
       "    <tr>\n",
       "      <th>100090</th>\n",
       "      <td>2014-07-08</td>\n",
       "      <td>First</td>\n",
       "      <td>EB-13705</td>\n",
       "      <td>699.192</td>\n",
       "    </tr>\n",
       "    <tr>\n",
       "      <th>100293</th>\n",
       "      <td>2014-03-14</td>\n",
       "      <td>Standard</td>\n",
       "      <td>NF-18475</td>\n",
       "      <td>91.056</td>\n",
       "    </tr>\n",
       "    <tr>\n",
       "      <th>100328</th>\n",
       "      <td>2014-01-28</td>\n",
       "      <td>Standard</td>\n",
       "      <td>JC-15340</td>\n",
       "      <td>3.928</td>\n",
       "    </tr>\n",
       "  </tbody>\n",
       "</table>\n",
       "</div>"
      ],
      "text/plain": [
       "        order_date ship_mode customer_id    sales\n",
       "100090  2014-07-08     First    EB-13705  699.192\n",
       "100293  2014-03-14  Standard    NF-18475   91.056\n",
       "100328  2014-01-28  Standard    JC-15340    3.928"
      ]
     },
     "execution_count": 99,
     "metadata": {},
     "output_type": "execute_result"
    }
   ],
   "source": [
    "show_these_orders = [1, 2, 3]\n",
    "orders.iloc[show_these_orders]"
   ]
  },
  {
   "cell_type": "code",
   "execution_count": 100,
   "id": "e35a4a1c",
   "metadata": {},
   "outputs": [
    {
     "data": {
      "text/html": [
       "<div>\n",
       "<style scoped>\n",
       "    .dataframe tbody tr th:only-of-type {\n",
       "        vertical-align: middle;\n",
       "    }\n",
       "\n",
       "    .dataframe tbody tr th {\n",
       "        vertical-align: top;\n",
       "    }\n",
       "\n",
       "    .dataframe thead th {\n",
       "        text-align: right;\n",
       "    }\n",
       "</style>\n",
       "<table border=\"1\" class=\"dataframe\">\n",
       "  <thead>\n",
       "    <tr style=\"text-align: right;\">\n",
       "      <th></th>\n",
       "      <th>customer_id</th>\n",
       "      <th>sales</th>\n",
       "    </tr>\n",
       "  </thead>\n",
       "  <tbody>\n",
       "    <tr>\n",
       "      <th>100293</th>\n",
       "      <td>NF-18475</td>\n",
       "      <td>91.056</td>\n",
       "    </tr>\n",
       "    <tr>\n",
       "      <th>100328</th>\n",
       "      <td>JC-15340</td>\n",
       "      <td>3.928</td>\n",
       "    </tr>\n",
       "  </tbody>\n",
       "</table>\n",
       "</div>"
      ],
      "text/plain": [
       "       customer_id   sales\n",
       "100293    NF-18475  91.056\n",
       "100328    JC-15340   3.928"
      ]
     },
     "execution_count": 100,
     "metadata": {},
     "output_type": "execute_result"
    }
   ],
   "source": [
    "# фильтровать датафреймы по колонкам и столбцам одновременно\n",
    "columns = ['customer_id', 'sales']\n",
    "rows = [100293, 100328]\n",
    "orders.loc[rows][columns]"
   ]
  },
  {
   "cell_type": "markdown",
   "id": "d7699277",
   "metadata": {},
   "source": [
    "### Если — то. Условные операторы"
   ]
  },
  {
   "cell_type": "markdown",
   "id": "255691ec",
   "metadata": {},
   "source": [
    "нужно узнать, откуда приходят самые большие заказы. Начнем с того, что достанем все покупки стоимостью более 100"
   ]
  },
  {
   "cell_type": "code",
   "execution_count": 101,
   "id": "34dbe4d5",
   "metadata": {},
   "outputs": [
    {
     "data": {
      "text/html": [
       "<div>\n",
       "<style scoped>\n",
       "    .dataframe tbody tr th:only-of-type {\n",
       "        vertical-align: middle;\n",
       "    }\n",
       "\n",
       "    .dataframe tbody tr th {\n",
       "        vertical-align: top;\n",
       "    }\n",
       "\n",
       "    .dataframe thead th {\n",
       "        text-align: right;\n",
       "    }\n",
       "</style>\n",
       "<table border=\"1\" class=\"dataframe\">\n",
       "  <thead>\n",
       "    <tr style=\"text-align: right;\">\n",
       "      <th></th>\n",
       "      <th>order_date</th>\n",
       "      <th>ship_mode</th>\n",
       "      <th>customer_id</th>\n",
       "      <th>sales</th>\n",
       "    </tr>\n",
       "  </thead>\n",
       "  <tbody>\n",
       "    <tr>\n",
       "      <th>100006</th>\n",
       "      <td>2014-09-07</td>\n",
       "      <td>Standard</td>\n",
       "      <td>DK-13375</td>\n",
       "      <td>377.970</td>\n",
       "    </tr>\n",
       "    <tr>\n",
       "      <th>100090</th>\n",
       "      <td>2014-07-08</td>\n",
       "      <td>First</td>\n",
       "      <td>EB-13705</td>\n",
       "      <td>699.192</td>\n",
       "    </tr>\n",
       "  </tbody>\n",
       "</table>\n",
       "</div>"
      ],
      "text/plain": [
       "        order_date ship_mode customer_id    sales\n",
       "100006  2014-09-07  Standard    DK-13375  377.970\n",
       "100090  2014-07-08     First    EB-13705  699.192"
      ]
     },
     "execution_count": 101,
     "metadata": {},
     "output_type": "execute_result"
    }
   ],
   "source": [
    "filter_large = orders['sales'] > 100\n",
    "orders.loc[filter_large]"
   ]
  },
  {
   "cell_type": "markdown",
   "id": "fea84329",
   "metadata": {},
   "source": [
    "операция orders['sales'] > 100 идет по каждому элементу серии и, если условие выполняется, возвращает True. Если не выполняется — False. Получившуюся серию сохраняем в переменную filter_large  \n",
    "Вторая команда фильтрует строки датафрейма с помощью серии. Если элемент filter_large равен True, заказ отобразится, если False — нет. Результат — датафрейм с заказами, стоимостью более 100"
   ]
  },
  {
   "cell_type": "markdown",
   "id": "b05168ad",
   "metadata": {},
   "source": [
    "сколько дорогих заказов было доставлено первым классом"
   ]
  },
  {
   "cell_type": "code",
   "execution_count": 102,
   "id": "bf3f2f3b",
   "metadata": {},
   "outputs": [
    {
     "data": {
      "text/html": [
       "<div>\n",
       "<style scoped>\n",
       "    .dataframe tbody tr th:only-of-type {\n",
       "        vertical-align: middle;\n",
       "    }\n",
       "\n",
       "    .dataframe tbody tr th {\n",
       "        vertical-align: top;\n",
       "    }\n",
       "\n",
       "    .dataframe thead th {\n",
       "        text-align: right;\n",
       "    }\n",
       "</style>\n",
       "<table border=\"1\" class=\"dataframe\">\n",
       "  <thead>\n",
       "    <tr style=\"text-align: right;\">\n",
       "      <th></th>\n",
       "      <th>order_date</th>\n",
       "      <th>ship_mode</th>\n",
       "      <th>customer_id</th>\n",
       "      <th>sales</th>\n",
       "    </tr>\n",
       "  </thead>\n",
       "  <tbody>\n",
       "    <tr>\n",
       "      <th>100090</th>\n",
       "      <td>2014-07-08</td>\n",
       "      <td>First</td>\n",
       "      <td>EB-13705</td>\n",
       "      <td>699.192</td>\n",
       "    </tr>\n",
       "  </tbody>\n",
       "</table>\n",
       "</div>"
      ],
      "text/plain": [
       "        order_date ship_mode customer_id    sales\n",
       "100090  2014-07-08     First    EB-13705  699.192"
      ]
     },
     "execution_count": 102,
     "metadata": {},
     "output_type": "execute_result"
    }
   ],
   "source": [
    "filter_large = orders['sales'] > 100\n",
    "filter_first_class = orders['ship_mode'] == 'First'\n",
    "orders.loc[filter_large & filter_first_class]"
   ]
  },
  {
   "cell_type": "code",
   "execution_count": 103,
   "id": "3f95376a",
   "metadata": {},
   "outputs": [],
   "source": [
    "### Язык запросов"
   ]
  },
  {
   "cell_type": "markdown",
   "id": "15f298e4",
   "metadata": {},
   "source": [
    "Еще один способ решить предыдущую задачу — использовать язык запросов. Все условия пишем одной строкой 'sales > 1000 & ship_mode == 'First' и передаем ее в метод .query()."
   ]
  },
  {
   "cell_type": "code",
   "execution_count": 104,
   "id": "c8a146d6",
   "metadata": {},
   "outputs": [
    {
     "data": {
      "text/html": [
       "<div>\n",
       "<style scoped>\n",
       "    .dataframe tbody tr th:only-of-type {\n",
       "        vertical-align: middle;\n",
       "    }\n",
       "\n",
       "    .dataframe tbody tr th {\n",
       "        vertical-align: top;\n",
       "    }\n",
       "\n",
       "    .dataframe thead th {\n",
       "        text-align: right;\n",
       "    }\n",
       "</style>\n",
       "<table border=\"1\" class=\"dataframe\">\n",
       "  <thead>\n",
       "    <tr style=\"text-align: right;\">\n",
       "      <th></th>\n",
       "      <th>order_date</th>\n",
       "      <th>ship_mode</th>\n",
       "      <th>customer_id</th>\n",
       "      <th>sales</th>\n",
       "    </tr>\n",
       "  </thead>\n",
       "  <tbody>\n",
       "    <tr>\n",
       "      <th>100090</th>\n",
       "      <td>2014-07-08</td>\n",
       "      <td>First</td>\n",
       "      <td>EB-13705</td>\n",
       "      <td>699.192</td>\n",
       "    </tr>\n",
       "  </tbody>\n",
       "</table>\n",
       "</div>"
      ],
      "text/plain": [
       "        order_date ship_mode customer_id    sales\n",
       "100090  2014-07-08     First    EB-13705  699.192"
      ]
     },
     "execution_count": 104,
     "metadata": {},
     "output_type": "execute_result"
    }
   ],
   "source": [
    "orders.query('sales > 100 & ship_mode == \"First\"')"
   ]
  },
  {
   "cell_type": "markdown",
   "id": "352d7b3a",
   "metadata": {},
   "source": [
    "значения для фильтров можно сохранить в переменной, а в запросе сослаться на нее с помощью символа @: sales > @sales_filter"
   ]
  },
  {
   "cell_type": "code",
   "execution_count": 109,
   "id": "9ceedb67",
   "metadata": {},
   "outputs": [
    {
     "data": {
      "text/html": [
       "<div>\n",
       "<style scoped>\n",
       "    .dataframe tbody tr th:only-of-type {\n",
       "        vertical-align: middle;\n",
       "    }\n",
       "\n",
       "    .dataframe tbody tr th {\n",
       "        vertical-align: top;\n",
       "    }\n",
       "\n",
       "    .dataframe thead th {\n",
       "        text-align: right;\n",
       "    }\n",
       "</style>\n",
       "<table border=\"1\" class=\"dataframe\">\n",
       "  <thead>\n",
       "    <tr style=\"text-align: right;\">\n",
       "      <th></th>\n",
       "      <th>order_date</th>\n",
       "      <th>ship_mode</th>\n",
       "      <th>customer_id</th>\n",
       "      <th>sales</th>\n",
       "    </tr>\n",
       "  </thead>\n",
       "  <tbody>\n",
       "    <tr>\n",
       "      <th>100006</th>\n",
       "      <td>2014-09-07</td>\n",
       "      <td>Standard</td>\n",
       "      <td>DK-13375</td>\n",
       "      <td>377.97</td>\n",
       "    </tr>\n",
       "  </tbody>\n",
       "</table>\n",
       "</div>"
      ],
      "text/plain": [
       "        order_date ship_mode customer_id   sales\n",
       "100006  2014-09-07  Standard    DK-13375  377.97"
      ]
     },
     "execution_count": 109,
     "metadata": {},
     "output_type": "execute_result"
    }
   ],
   "source": [
    "sales_filter = 100\n",
    "ship_mode_filter = 'First'\n",
    "orders.query('sales > @sales_filter & ship_mode > @ship_mode_filter')"
   ]
  },
  {
   "cell_type": "markdown",
   "id": "962b3664",
   "metadata": {},
   "source": [
    "### Считаем производные метрики"
   ]
  },
  {
   "cell_type": "markdown",
   "id": "6799244d",
   "metadata": {},
   "source": [
    "Задача: посчитаем, сколько денег магазин заработал с помощью каждого класса доставки.  \n",
    "просуммируем выручку со всех заказов."
   ]
  },
  {
   "cell_type": "code",
   "execution_count": 110,
   "id": "a198a6a5",
   "metadata": {},
   "outputs": [
    {
     "data": {
      "text/plain": [
       "1172.1460000000002"
      ]
     },
     "execution_count": 110,
     "metadata": {},
     "output_type": "execute_result"
    }
   ],
   "source": [
    "orders['sales'].sum()"
   ]
  },
  {
   "cell_type": "markdown",
   "id": "f6ea258e",
   "metadata": {},
   "source": [
    "Добавим класс доставки. Перед суммированием сгруппируем данные с помощью метода .groupby():"
   ]
  },
  {
   "cell_type": "code",
   "execution_count": 111,
   "id": "f23933b0",
   "metadata": {},
   "outputs": [
    {
     "data": {
      "text/plain": [
       "ship_mode\n",
       "First       699.192\n",
       "Standard    472.954\n",
       "Name: sales, dtype: float64"
      ]
     },
     "execution_count": 111,
     "metadata": {},
     "output_type": "execute_result"
    }
   ],
   "source": [
    "orders.groupby('ship_mode')['sales'].sum()"
   ]
  },
  {
   "cell_type": "code",
   "execution_count": 112,
   "id": "2694c96e",
   "metadata": {},
   "outputs": [
    {
     "data": {
      "text/plain": [
       "ship_mode\n",
       "First      699.2\n",
       "Standard   473.0\n",
       "Name: sales, dtype: float64"
      ]
     },
     "execution_count": 112,
     "metadata": {},
     "output_type": "execute_result"
    }
   ],
   "source": [
    "# округлял значения до сотых\n",
    "pd.options.display.float_format = '{:,.1f}'.format\n",
    "orders.groupby('ship_mode')['sales'].sum()"
   ]
  },
  {
   "cell_type": "code",
   "execution_count": 113,
   "id": "31a02d14",
   "metadata": {},
   "outputs": [
    {
     "data": {
      "text/plain": [
       "ship_mode  order_date\n",
       "First      2014-07-08   699.2\n",
       "Standard   2014-01-28     3.9\n",
       "           2014-03-14    91.1\n",
       "           2014-09-07   378.0\n",
       "Name: sales, dtype: float64"
      ]
     },
     "execution_count": 113,
     "metadata": {},
     "output_type": "execute_result"
    }
   ],
   "source": [
    "# Добавим разбивку по датам заказа\n",
    "orders.groupby(['ship_mode', 'order_date'])['sales'].sum()"
   ]
  },
  {
   "cell_type": "markdown",
   "id": "6b0aba0f",
   "metadata": {},
   "source": [
    "выручка прыгает ото дня ко дню: иногда 10 долларов, а иногда 378. Интересно, это меняется количество заказов или средний чек? Добавим к выборке количество заказов. Для этого вместо .sum() используем метод .agg(), в который передадим список с названиями нужных функций."
   ]
  },
  {
   "cell_type": "code",
   "execution_count": 114,
   "id": "79d8eddd",
   "metadata": {},
   "outputs": [
    {
     "data": {
      "text/html": [
       "<div>\n",
       "<style scoped>\n",
       "    .dataframe tbody tr th:only-of-type {\n",
       "        vertical-align: middle;\n",
       "    }\n",
       "\n",
       "    .dataframe tbody tr th {\n",
       "        vertical-align: top;\n",
       "    }\n",
       "\n",
       "    .dataframe thead th {\n",
       "        text-align: right;\n",
       "    }\n",
       "</style>\n",
       "<table border=\"1\" class=\"dataframe\">\n",
       "  <thead>\n",
       "    <tr style=\"text-align: right;\">\n",
       "      <th></th>\n",
       "      <th></th>\n",
       "      <th>sum</th>\n",
       "      <th>count</th>\n",
       "    </tr>\n",
       "    <tr>\n",
       "      <th>ship_mode</th>\n",
       "      <th>order_date</th>\n",
       "      <th></th>\n",
       "      <th></th>\n",
       "    </tr>\n",
       "  </thead>\n",
       "  <tbody>\n",
       "    <tr>\n",
       "      <th>First</th>\n",
       "      <th>2014-07-08</th>\n",
       "      <td>699.2</td>\n",
       "      <td>1</td>\n",
       "    </tr>\n",
       "    <tr>\n",
       "      <th rowspan=\"3\" valign=\"top\">Standard</th>\n",
       "      <th>2014-01-28</th>\n",
       "      <td>3.9</td>\n",
       "      <td>1</td>\n",
       "    </tr>\n",
       "    <tr>\n",
       "      <th>2014-03-14</th>\n",
       "      <td>91.1</td>\n",
       "      <td>1</td>\n",
       "    </tr>\n",
       "    <tr>\n",
       "      <th>2014-09-07</th>\n",
       "      <td>378.0</td>\n",
       "      <td>1</td>\n",
       "    </tr>\n",
       "  </tbody>\n",
       "</table>\n",
       "</div>"
      ],
      "text/plain": [
       "                       sum  count\n",
       "ship_mode order_date             \n",
       "First     2014-07-08 699.2      1\n",
       "Standard  2014-01-28   3.9      1\n",
       "          2014-03-14  91.1      1\n",
       "          2014-09-07 378.0      1"
      ]
     },
     "execution_count": 114,
     "metadata": {},
     "output_type": "execute_result"
    }
   ],
   "source": [
    "orders.groupby(['ship_mode', 'order_date'])['sales'].agg(['sum', 'count'])"
   ]
  },
  {
   "cell_type": "markdown",
   "id": "cad9ab66",
   "metadata": {},
   "source": [
    "прыгает средний чек. Интересно, а какой был самый удачный день? Чтобы узнать, отсортируем получившийся датафрейм: выведем 2 самых денежных дней по выручке:"
   ]
  },
  {
   "cell_type": "code",
   "execution_count": 115,
   "id": "aca48723",
   "metadata": {},
   "outputs": [
    {
     "data": {
      "text/html": [
       "<div>\n",
       "<style scoped>\n",
       "    .dataframe tbody tr th:only-of-type {\n",
       "        vertical-align: middle;\n",
       "    }\n",
       "\n",
       "    .dataframe tbody tr th {\n",
       "        vertical-align: top;\n",
       "    }\n",
       "\n",
       "    .dataframe thead th {\n",
       "        text-align: right;\n",
       "    }\n",
       "</style>\n",
       "<table border=\"1\" class=\"dataframe\">\n",
       "  <thead>\n",
       "    <tr style=\"text-align: right;\">\n",
       "      <th></th>\n",
       "      <th></th>\n",
       "      <th>sum</th>\n",
       "    </tr>\n",
       "    <tr>\n",
       "      <th>ship_mode</th>\n",
       "      <th>order_date</th>\n",
       "      <th></th>\n",
       "    </tr>\n",
       "  </thead>\n",
       "  <tbody>\n",
       "    <tr>\n",
       "      <th>First</th>\n",
       "      <th>2014-07-08</th>\n",
       "      <td>699.2</td>\n",
       "    </tr>\n",
       "    <tr>\n",
       "      <th>Standard</th>\n",
       "      <th>2014-09-07</th>\n",
       "      <td>378.0</td>\n",
       "    </tr>\n",
       "  </tbody>\n",
       "</table>\n",
       "</div>"
      ],
      "text/plain": [
       "                       sum\n",
       "ship_mode order_date      \n",
       "First     2014-07-08 699.2\n",
       "Standard  2014-09-07 378.0"
      ]
     },
     "execution_count": 115,
     "metadata": {},
     "output_type": "execute_result"
    }
   ],
   "source": [
    "orders.groupby(['ship_mode', 'order_date'])['sales'].agg(['sum']).sort_values(by='sum', ascending=False).head(2)"
   ]
  },
  {
   "cell_type": "code",
   "execution_count": 118,
   "id": "398c9e0b",
   "metadata": {},
   "outputs": [
    {
     "data": {
      "text/html": [
       "<div>\n",
       "<style scoped>\n",
       "    .dataframe tbody tr th:only-of-type {\n",
       "        vertical-align: middle;\n",
       "    }\n",
       "\n",
       "    .dataframe tbody tr th {\n",
       "        vertical-align: top;\n",
       "    }\n",
       "\n",
       "    .dataframe thead th {\n",
       "        text-align: right;\n",
       "    }\n",
       "</style>\n",
       "<table border=\"1\" class=\"dataframe\">\n",
       "  <thead>\n",
       "    <tr style=\"text-align: right;\">\n",
       "      <th></th>\n",
       "      <th></th>\n",
       "      <th>sum</th>\n",
       "    </tr>\n",
       "    <tr>\n",
       "      <th>ship_mode</th>\n",
       "      <th>order_date</th>\n",
       "      <th></th>\n",
       "    </tr>\n",
       "  </thead>\n",
       "  <tbody>\n",
       "    <tr>\n",
       "      <th>First</th>\n",
       "      <th>2014-07-08</th>\n",
       "      <td>699.2</td>\n",
       "    </tr>\n",
       "    <tr>\n",
       "      <th rowspan=\"2\" valign=\"top\">Standard</th>\n",
       "      <th>2014-09-07</th>\n",
       "      <td>378.0</td>\n",
       "    </tr>\n",
       "    <tr>\n",
       "      <th>2014-03-14</th>\n",
       "      <td>91.1</td>\n",
       "    </tr>\n",
       "  </tbody>\n",
       "</table>\n",
       "</div>"
      ],
      "text/plain": [
       "                       sum\n",
       "ship_mode order_date      \n",
       "First     2014-07-08 699.2\n",
       "Standard  2014-09-07 378.0\n",
       "          2014-03-14  91.1"
      ]
     },
     "execution_count": 118,
     "metadata": {},
     "output_type": "execute_result"
    }
   ],
   "source": [
    "# Команда разбить её на несколько строк \n",
    "orders \\\n",
    "    .groupby(['ship_mode', 'order_date'])['sales'] \\\n",
    "    .agg(['sum']) \\\n",
    "    .sort_values(by='sum', ascending=False) \\\n",
    "    .head(3)"
   ]
  },
  {
   "cell_type": "markdown",
   "id": "40125cbc",
   "metadata": {},
   "source": [
    "### Объединяем несколько датафреймов"
   ]
  },
  {
   "cell_type": "code",
   "execution_count": null,
   "id": "14b4d074",
   "metadata": {},
   "outputs": [],
   "source": [
    "мы смотрели только на таблицу с заказами  \n",
    "у нас есть еще данные о клиентах интернет-магазина  \n",
    "Загрузим их в переменную customers "
   ]
  },
  {
   "cell_type": "code",
   "execution_count": 122,
   "id": "657b105d",
   "metadata": {},
   "outputs": [
    {
     "data": {
      "text/html": [
       "<div>\n",
       "<style scoped>\n",
       "    .dataframe tbody tr th:only-of-type {\n",
       "        vertical-align: middle;\n",
       "    }\n",
       "\n",
       "    .dataframe tbody tr th {\n",
       "        vertical-align: top;\n",
       "    }\n",
       "\n",
       "    .dataframe thead th {\n",
       "        text-align: right;\n",
       "    }\n",
       "</style>\n",
       "<table border=\"1\" class=\"dataframe\">\n",
       "  <thead>\n",
       "    <tr style=\"text-align: right;\">\n",
       "      <th></th>\n",
       "      <th>name</th>\n",
       "      <th>segment</th>\n",
       "      <th>state</th>\n",
       "      <th>city</th>\n",
       "    </tr>\n",
       "  </thead>\n",
       "  <tbody>\n",
       "    <tr>\n",
       "      <th>DK-13375</th>\n",
       "      <td>Claire Gute</td>\n",
       "      <td>Consumer</td>\n",
       "      <td>Kentucky</td>\n",
       "      <td>Henderson</td>\n",
       "    </tr>\n",
       "    <tr>\n",
       "      <th>EB-13705</th>\n",
       "      <td>Darrin Van Huff</td>\n",
       "      <td>Corporate</td>\n",
       "      <td>California</td>\n",
       "      <td>Los Angeles</td>\n",
       "    </tr>\n",
       "    <tr>\n",
       "      <th>NF-18475</th>\n",
       "      <td>Sean Donnell</td>\n",
       "      <td>Consumer</td>\n",
       "      <td>Florida</td>\n",
       "      <td>Fort Lauderdale</td>\n",
       "    </tr>\n",
       "    <tr>\n",
       "      <th>JC-15340</th>\n",
       "      <td>Brosina Hoffman</td>\n",
       "      <td>Consumer</td>\n",
       "      <td>California</td>\n",
       "      <td>Los Angeles</td>\n",
       "    </tr>\n",
       "  </tbody>\n",
       "</table>\n",
       "</div>"
      ],
      "text/plain": [
       "                     name    segment       state             city\n",
       "DK-13375      Claire Gute   Consumer    Kentucky        Henderson\n",
       "EB-13705  Darrin Van Huff  Corporate  California      Los Angeles\n",
       "NF-18475     Sean Donnell   Consumer     Florida  Fort Lauderdale\n",
       "JC-15340  Brosina Hoffman   Consumer  California      Los Angeles"
      ]
     },
     "execution_count": 122,
     "metadata": {},
     "output_type": "execute_result"
    }
   ],
   "source": [
    "id = ['DK-13375', 'EB-13705', 'NF-18475', 'JC-15340']\n",
    "sales = {\n",
    "         'name':     ['Claire Gute', 'Darrin Van Huff', 'Sean Donnell', 'Brosina Hoffman'],\n",
    "         'segment':  ['Consumer', 'Corporate', 'Consumer', 'Consumer'],\n",
    "         'state': ['Kentucky', 'California', 'Florida', 'California'],\n",
    "         'city': ['Henderson', 'Los Angeles', 'Fort Lauderdale', 'Los Angeles']\n",
    "         }\n",
    "customers  = pd.DataFrame(data=sales, index=id)\n",
    "customers "
   ]
  },
  {
   "cell_type": "markdown",
   "id": "b7c8c88d",
   "metadata": {},
   "source": [
    "знаем тип клиента, место его проживания, его имя и имя контактного лица. У каждого клиента есть уникальный номер id. Этот же номер лежит в колонке customer_id таблицы orders. Значит можем найти, какие заказы сделал каждый клиент. Например, посмотрим, заказы пользователя DK-13375:"
   ]
  },
  {
   "cell_type": "code",
   "execution_count": 123,
   "id": "c53010b1",
   "metadata": {},
   "outputs": [
    {
     "data": {
      "text/html": [
       "<div>\n",
       "<style scoped>\n",
       "    .dataframe tbody tr th:only-of-type {\n",
       "        vertical-align: middle;\n",
       "    }\n",
       "\n",
       "    .dataframe tbody tr th {\n",
       "        vertical-align: top;\n",
       "    }\n",
       "\n",
       "    .dataframe thead th {\n",
       "        text-align: right;\n",
       "    }\n",
       "</style>\n",
       "<table border=\"1\" class=\"dataframe\">\n",
       "  <thead>\n",
       "    <tr style=\"text-align: right;\">\n",
       "      <th></th>\n",
       "      <th>order_date</th>\n",
       "      <th>ship_mode</th>\n",
       "      <th>customer_id</th>\n",
       "      <th>sales</th>\n",
       "    </tr>\n",
       "  </thead>\n",
       "  <tbody>\n",
       "    <tr>\n",
       "      <th>100006</th>\n",
       "      <td>2014-09-07</td>\n",
       "      <td>Standard</td>\n",
       "      <td>DK-13375</td>\n",
       "      <td>378.0</td>\n",
       "    </tr>\n",
       "  </tbody>\n",
       "</table>\n",
       "</div>"
      ],
      "text/plain": [
       "        order_date ship_mode customer_id  sales\n",
       "100006  2014-09-07  Standard    DK-13375  378.0"
      ]
     },
     "execution_count": 123,
     "metadata": {},
     "output_type": "execute_result"
    }
   ],
   "source": [
    "cust_filter = 'DK-13375'\n",
    "orders.query('customer_id == @cust_filter')"
   ]
  },
  {
   "cell_type": "markdown",
   "id": "6973103e",
   "metadata": {},
   "source": [
    "узнать, что за клиенты, которые сделали 2014-07-08 заказы со стандартной доставкой.  \n",
    "Для этого объединим таблицы с клиентами и заказами. Датафреймы объединяют с помощью методов .concat(), .merge() и .join(). Все они делают одно и то же, но отличаются синтаксисом — на практике достаточно уметь пользоваться одним из них."
   ]
  },
  {
   "cell_type": "code",
   "execution_count": 124,
   "id": "5cf917b1",
   "metadata": {},
   "outputs": [
    {
     "data": {
      "text/plain": [
       "Index(['order_date', 'ship_mode', 'customer_id', 'sales', 'name', 'segment',\n",
       "       'state', 'city'],\n",
       "      dtype='object')"
      ]
     },
     "execution_count": 124,
     "metadata": {},
     "output_type": "execute_result"
    }
   ],
   "source": [
    "new_df = pd.merge(orders, customers, how='inner', left_on='customer_id', right_index=True)\n",
    "new_df.columns"
   ]
  },
  {
   "cell_type": "markdown",
   "id": "cbbd04b1",
   "metadata": {},
   "source": [
    "В .merge() я сначала указал названия датафреймов, которые хочу объединить. Затем уточнил, как именно их объединить и какие колонки использовать в качестве ключа.\n",
    "\n",
    "Ключ — это колонка, связывающая оба датафрейма. В нашем случае — номер клиента. В таблице с заказами он в колонке customer_id, а таблице с клиентами — в индексе. Поэтому в команде мы пишем: left_on='customer_id', right_index=True."
   ]
  },
  {
   "cell_type": "markdown",
   "id": "fba3246b",
   "metadata": {},
   "source": [
    "### Решаем задачу"
   ]
  },
  {
   "cell_type": "markdown",
   "id": "15ed8240",
   "metadata": {},
   "source": [
    "Найдем 2 городa, принесших самую большую выручку в 2014 году."
   ]
  },
  {
   "cell_type": "code",
   "execution_count": 132,
   "id": "cd9708e5",
   "metadata": {},
   "outputs": [
    {
     "data": {
      "text/html": [
       "<div>\n",
       "<style scoped>\n",
       "    .dataframe tbody tr th:only-of-type {\n",
       "        vertical-align: middle;\n",
       "    }\n",
       "\n",
       "    .dataframe tbody tr th {\n",
       "        vertical-align: top;\n",
       "    }\n",
       "\n",
       "    .dataframe thead th {\n",
       "        text-align: right;\n",
       "    }\n",
       "</style>\n",
       "<table border=\"1\" class=\"dataframe\">\n",
       "  <thead>\n",
       "    <tr style=\"text-align: right;\">\n",
       "      <th></th>\n",
       "      <th>order_date</th>\n",
       "      <th>ship_mode</th>\n",
       "      <th>customer_id</th>\n",
       "      <th>sales</th>\n",
       "    </tr>\n",
       "  </thead>\n",
       "  <tbody>\n",
       "    <tr>\n",
       "      <th>100006</th>\n",
       "      <td>2014-09-07</td>\n",
       "      <td>Standard</td>\n",
       "      <td>DK-13375</td>\n",
       "      <td>378.0</td>\n",
       "    </tr>\n",
       "    <tr>\n",
       "      <th>100090</th>\n",
       "      <td>2014-07-08</td>\n",
       "      <td>First</td>\n",
       "      <td>EB-13705</td>\n",
       "      <td>699.2</td>\n",
       "    </tr>\n",
       "  </tbody>\n",
       "</table>\n",
       "</div>"
      ],
      "text/plain": [
       "        order_date ship_mode customer_id  sales\n",
       "100006  2014-09-07  Standard    DK-13375  378.0\n",
       "100090  2014-07-08     First    EB-13705  699.2"
      ]
     },
     "execution_count": 132,
     "metadata": {},
     "output_type": "execute_result"
    }
   ],
   "source": [
    "orders_2014 = orders.query(\"order_date >= '2014-01-01' & order_date <= '2014-12-31'\")\n",
    "orders_2014.head(2)"
   ]
  },
  {
   "cell_type": "code",
   "execution_count": 134,
   "id": "3ee884a1",
   "metadata": {},
   "outputs": [],
   "source": [
    "# Город — это атрибут пользователей, а не заказов. Добавим информацию о пользователях:\n",
    "with_customers_2014 = pd.merge(customers, orders_2014, how='inner', left_index=True, right_on='customer_id')"
   ]
  },
  {
   "cell_type": "markdown",
   "id": "7606194e",
   "metadata": {},
   "source": [
    "Cруппируем получившийся датафрейм по городам и посчитаем выручку:"
   ]
  },
  {
   "cell_type": "code",
   "execution_count": 135,
   "id": "a4600eea",
   "metadata": {},
   "outputs": [],
   "source": [
    "grouped_2014 = with_customers_2014.groupby('city')['sales'].sum()"
   ]
  },
  {
   "cell_type": "code",
   "execution_count": 136,
   "id": "331213a6",
   "metadata": {},
   "outputs": [
    {
     "data": {
      "text/plain": [
       "city\n",
       "Fort Lauderdale    91.1\n",
       "Henderson         378.0\n",
       "Los Angeles       703.1\n",
       "Name: sales, dtype: float64"
      ]
     },
     "execution_count": 136,
     "metadata": {},
     "output_type": "execute_result"
    }
   ],
   "source": [
    "grouped_2014.head()"
   ]
  },
  {
   "cell_type": "code",
   "execution_count": 139,
   "id": "d027cfbe",
   "metadata": {},
   "outputs": [
    {
     "name": "stdout",
     "output_type": "stream",
     "text": [
      "city\n",
      "Los Angeles   703.1\n",
      "Henderson     378.0\n",
      "Name: sales, dtype: float64\n"
     ]
    }
   ],
   "source": [
    "# Отсортируем по убыванию продаж и оставим топ-2\n",
    "top2 = grouped_2014.sort_values(ascending=False).head(2)\n",
    "print(top2)"
   ]
  },
  {
   "cell_type": "code",
   "execution_count": null,
   "id": "737b3229",
   "metadata": {},
   "outputs": [],
   "source": []
  }
 ],
 "metadata": {
  "kernelspec": {
   "display_name": "Python 3 (ipykernel)",
   "language": "python",
   "name": "python3"
  },
  "language_info": {
   "codemirror_mode": {
    "name": "ipython",
    "version": 3
   },
   "file_extension": ".py",
   "mimetype": "text/x-python",
   "name": "python",
   "nbconvert_exporter": "python",
   "pygments_lexer": "ipython3",
   "version": "3.11.5"
  }
 },
 "nbformat": 4,
 "nbformat_minor": 5
}
