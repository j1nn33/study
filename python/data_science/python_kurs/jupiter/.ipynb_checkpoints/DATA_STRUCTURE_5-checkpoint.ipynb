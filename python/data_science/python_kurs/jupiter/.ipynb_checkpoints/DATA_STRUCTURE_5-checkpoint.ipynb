{
 "cells": [
  {
   "cell_type": "code",
   "execution_count": 2,
   "id": "53c8dbbb",
   "metadata": {},
   "outputs": [],
   "source": [
    "### Подготовительная часть\n",
    "# импортирование библиотек\n",
    "import pandas as pd\n",
    "import numpy as np\n",
    "# загрузка данных \n",
    "pd.read_csv(filepath_or_buffer = \"../../source/sp500_1.csv\", \n",
    "            sep =',')\n",
    "# модификация данных \n",
    "sp500 = pd.read_csv(filepath_or_buffer = \"../../source/sp500_1.csv\", \n",
    "            sep =',',\n",
    "            usecols = ['Symbol', 'Sector', 'Price','Founded'],\n",
    "            index_col = 'Symbol')\n",
    "np.random.seed(123)\n",
    "numbers = pd.Series(data = np.random.normal(size=10),\n",
    "                    index = np.arange(25,35))\n",
    "Simpsons = pd.Series({'Homer'  : 120,\n",
    "                     'Marge'  : 60,\n",
    "                     'BArt'   : 35,\n",
    "                     'Lisa'   : 30,\n",
    "                     'Maggie' : 7})"
   ]
  },
  {
   "cell_type": "markdown",
   "id": "9eec7850",
   "metadata": {},
   "source": [
    "### Добавелние"
   ]
  },
  {
   "cell_type": "code",
   "execution_count": 3,
   "id": "43334ec4",
   "metadata": {},
   "outputs": [],
   "source": [
    "# Создание копии, чтобы исходные данные не менять"
   ]
  },
  {
   "cell_type": "code",
   "execution_count": 4,
   "id": "141d064d",
   "metadata": {},
   "outputs": [],
   "source": [
    "sp500_copy=sp500.copy()"
   ]
  },
  {
   "cell_type": "code",
   "execution_count": 5,
   "id": "b421d4f8",
   "metadata": {},
   "outputs": [],
   "source": [
    "# Добавление столбца"
   ]
  },
  {
   "cell_type": "code",
   "execution_count": 6,
   "id": "5a964cb6",
   "metadata": {},
   "outputs": [
    {
     "data": {
      "text/html": [
       "<div>\n",
       "<style scoped>\n",
       "    .dataframe tbody tr th:only-of-type {\n",
       "        vertical-align: middle;\n",
       "    }\n",
       "\n",
       "    .dataframe tbody tr th {\n",
       "        vertical-align: top;\n",
       "    }\n",
       "\n",
       "    .dataframe thead th {\n",
       "        text-align: right;\n",
       "    }\n",
       "</style>\n",
       "<table border=\"1\" class=\"dataframe\">\n",
       "  <thead>\n",
       "    <tr style=\"text-align: right;\">\n",
       "      <th></th>\n",
       "      <th>Sector</th>\n",
       "      <th>Price</th>\n",
       "      <th>Founded</th>\n",
       "      <th>RoundedPrice</th>\n",
       "    </tr>\n",
       "    <tr>\n",
       "      <th>Symbol</th>\n",
       "      <th></th>\n",
       "      <th></th>\n",
       "      <th></th>\n",
       "      <th></th>\n",
       "    </tr>\n",
       "  </thead>\n",
       "  <tbody>\n",
       "    <tr>\n",
       "      <th>MMM</th>\n",
       "      <td>Industrials</td>\n",
       "      <td>66740</td>\n",
       "      <td>1902</td>\n",
       "      <td>66740</td>\n",
       "    </tr>\n",
       "    <tr>\n",
       "      <th>AOS</th>\n",
       "      <td>Industrials</td>\n",
       "      <td>4343243243432434</td>\n",
       "      <td>1916</td>\n",
       "      <td>4343243243432434</td>\n",
       "    </tr>\n",
       "    <tr>\n",
       "      <th>ABT</th>\n",
       "      <td>Health Care</td>\n",
       "      <td>1800</td>\n",
       "      <td>1888</td>\n",
       "      <td>1800</td>\n",
       "    </tr>\n",
       "  </tbody>\n",
       "</table>\n",
       "</div>"
      ],
      "text/plain": [
       "             Sector             Price Founded      RoundedPrice\n",
       "Symbol                                                         \n",
       "MMM     Industrials             66740    1902             66740\n",
       "AOS     Industrials  4343243243432434    1916  4343243243432434\n",
       "ABT     Health Care              1800    1888              1800"
      ]
     },
     "execution_count": 6,
     "metadata": {},
     "output_type": "execute_result"
    }
   ],
   "source": [
    "sp500_copy['RoundedPrice'] = sp500_copy.Price.round()\n",
    "sp500_copy.head(3)"
   ]
  },
  {
   "cell_type": "code",
   "execution_count": 7,
   "id": "5cd7ec24",
   "metadata": {},
   "outputs": [],
   "source": [
    "# метод insert"
   ]
  },
  {
   "cell_type": "code",
   "execution_count": 8,
   "id": "64e4f186",
   "metadata": {},
   "outputs": [],
   "source": [
    "sp500_copy=sp500.copy()"
   ]
  },
  {
   "cell_type": "code",
   "execution_count": 9,
   "id": "ff14e07d",
   "metadata": {},
   "outputs": [],
   "source": [
    "# вставляем столебц RoundedPrice в качестве третьго столбца датафрейма"
   ]
  },
  {
   "cell_type": "code",
   "execution_count": null,
   "id": "1f2b8014",
   "metadata": {},
   "outputs": [],
   "source": []
  }
 ],
 "metadata": {
  "kernelspec": {
   "display_name": "Python 3 (ipykernel)",
   "language": "python",
   "name": "python3"
  },
  "language_info": {
   "codemirror_mode": {
    "name": "ipython",
    "version": 3
   },
   "file_extension": ".py",
   "mimetype": "text/x-python",
   "name": "python",
   "nbconvert_exporter": "python",
   "pygments_lexer": "ipython3",
   "version": "3.11.4"
  }
 },
 "nbformat": 4,
 "nbformat_minor": 5
}
