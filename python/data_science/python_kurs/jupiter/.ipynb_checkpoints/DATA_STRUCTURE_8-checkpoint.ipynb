{
 "cells": [
  {
   "cell_type": "markdown",
   "id": "72095cba",
   "metadata": {},
   "source": [
    "### Математические операции"
   ]
  },
  {
   "cell_type": "code",
   "execution_count": 1,
   "id": "f602304d",
   "metadata": {},
   "outputs": [],
   "source": [
    "# импорт и настройка\n",
    "# импортирование библиотек\n",
    "import pandas as pd\n",
    "import numpy as np\n",
    "pd.options.display.max_rows = 10\n",
    "sp500 = pd.read_csv(\"../../source/sp500_2.csv\", \n",
    "                    index_col='Symbol',\n",
    "                    usecols=['Symbol','Sector','Price','BooK Value'])"
   ]
  },
  {
   "cell_type": "code",
   "execution_count": 2,
   "id": "7095486b",
   "metadata": {},
   "outputs": [
    {
     "data": {
      "text/html": [
       "<div>\n",
       "<style scoped>\n",
       "    .dataframe tbody tr th:only-of-type {\n",
       "        vertical-align: middle;\n",
       "    }\n",
       "\n",
       "    .dataframe tbody tr th {\n",
       "        vertical-align: top;\n",
       "    }\n",
       "\n",
       "    .dataframe thead th {\n",
       "        text-align: right;\n",
       "    }\n",
       "</style>\n",
       "<table border=\"1\" class=\"dataframe\">\n",
       "  <thead>\n",
       "    <tr style=\"text-align: right;\">\n",
       "      <th></th>\n",
       "      <th>Sector</th>\n",
       "      <th>Price</th>\n",
       "      <th>BooK Value</th>\n",
       "    </tr>\n",
       "    <tr>\n",
       "      <th>Symbol</th>\n",
       "      <th></th>\n",
       "      <th></th>\n",
       "      <th></th>\n",
       "    </tr>\n",
       "  </thead>\n",
       "  <tbody>\n",
       "    <tr>\n",
       "      <th>MMM</th>\n",
       "      <td>Industrials</td>\n",
       "      <td>222.89</td>\n",
       "      <td>11.34</td>\n",
       "    </tr>\n",
       "    <tr>\n",
       "      <th>AOS</th>\n",
       "      <td>Industrials</td>\n",
       "      <td>60.24</td>\n",
       "      <td>6.35</td>\n",
       "    </tr>\n",
       "  </tbody>\n",
       "</table>\n",
       "</div>"
      ],
      "text/plain": [
       "             Sector   Price  BooK Value\n",
       "Symbol                                 \n",
       "MMM     Industrials  222.89       11.34\n",
       "AOS     Industrials   60.24        6.35"
      ]
     },
     "execution_count": 2,
     "metadata": {},
     "output_type": "execute_result"
    }
   ],
   "source": [
    "sp500.head(2)"
   ]
  },
  {
   "cell_type": "code",
   "execution_count": 3,
   "id": "368f9528",
   "metadata": {},
   "outputs": [],
   "source": [
    "# считываем исторические данные (датафрейм содержит данные об ациях компании mirosoft, apple)"
   ]
  },
  {
   "cell_type": "code",
   "execution_count": 4,
   "id": "2701dcf0",
   "metadata": {},
   "outputs": [],
   "source": [
    "omh = pd.read_csv(\"../../source/omh.csv\",\n",
    "                  parse_dates=['Date'])\n",
    "omh.set_index('Date', inplace=True)"
   ]
  },
  {
   "cell_type": "code",
   "execution_count": 5,
   "id": "aeb72547",
   "metadata": {},
   "outputs": [
    {
     "data": {
      "text/html": [
       "<div>\n",
       "<style scoped>\n",
       "    .dataframe tbody tr th:only-of-type {\n",
       "        vertical-align: middle;\n",
       "    }\n",
       "\n",
       "    .dataframe tbody tr th {\n",
       "        vertical-align: top;\n",
       "    }\n",
       "\n",
       "    .dataframe thead th {\n",
       "        text-align: right;\n",
       "    }\n",
       "</style>\n",
       "<table border=\"1\" class=\"dataframe\">\n",
       "  <thead>\n",
       "    <tr style=\"text-align: right;\">\n",
       "      <th></th>\n",
       "      <th>MSFT</th>\n",
       "      <th>AAPL</th>\n",
       "    </tr>\n",
       "    <tr>\n",
       "      <th>Date</th>\n",
       "      <th></th>\n",
       "      <th></th>\n",
       "    </tr>\n",
       "  </thead>\n",
       "  <tbody>\n",
       "    <tr>\n",
       "      <th>2014-12-01</th>\n",
       "      <td>48.62</td>\n",
       "      <td>115.07</td>\n",
       "    </tr>\n",
       "    <tr>\n",
       "      <th>2014-12-02</th>\n",
       "      <td>48.46</td>\n",
       "      <td>114.63</td>\n",
       "    </tr>\n",
       "    <tr>\n",
       "      <th>2014-12-03</th>\n",
       "      <td>48.08</td>\n",
       "      <td>115.93</td>\n",
       "    </tr>\n",
       "    <tr>\n",
       "      <th>2014-12-04</th>\n",
       "      <td>48.84</td>\n",
       "      <td>115.49</td>\n",
       "    </tr>\n",
       "    <tr>\n",
       "      <th>2014-12-05</th>\n",
       "      <td>48.42</td>\n",
       "      <td>115.00</td>\n",
       "    </tr>\n",
       "  </tbody>\n",
       "</table>\n",
       "</div>"
      ],
      "text/plain": [
       "             MSFT    AAPL\n",
       "Date                     \n",
       "2014-12-01  48.62  115.07\n",
       "2014-12-02  48.46  114.63\n",
       "2014-12-03  48.08  115.93\n",
       "2014-12-04  48.84  115.49\n",
       "2014-12-05  48.42  115.00"
      ]
     },
     "execution_count": 5,
     "metadata": {},
     "output_type": "execute_result"
    }
   ],
   "source": [
    "omh.head()"
   ]
  },
  {
   "cell_type": "markdown",
   "id": "fec521d0",
   "metadata": {},
   "source": [
    "### Сводка статистик"
   ]
  },
  {
   "cell_type": "code",
   "execution_count": 58,
   "id": "0de6712f",
   "metadata": {},
   "outputs": [],
   "source": [
    "# вычисляем сводку статистик для отдельного столбца Price (вычисление итоговой статистики для каждого столбца)"
   ]
  },
  {
   "cell_type": "code",
   "execution_count": 59,
   "id": "1d3a9eab",
   "metadata": {},
   "outputs": [
    {
     "data": {
      "text/html": [
       "<div>\n",
       "<style scoped>\n",
       "    .dataframe tbody tr th:only-of-type {\n",
       "        vertical-align: middle;\n",
       "    }\n",
       "\n",
       "    .dataframe tbody tr th {\n",
       "        vertical-align: top;\n",
       "    }\n",
       "\n",
       "    .dataframe thead th {\n",
       "        text-align: right;\n",
       "    }\n",
       "</style>\n",
       "<table border=\"1\" class=\"dataframe\">\n",
       "  <thead>\n",
       "    <tr style=\"text-align: right;\">\n",
       "      <th></th>\n",
       "      <th>Price</th>\n",
       "      <th>BooK Value</th>\n",
       "    </tr>\n",
       "  </thead>\n",
       "  <tbody>\n",
       "    <tr>\n",
       "      <th>count</th>\n",
       "      <td>505.000000</td>\n",
       "      <td>497.000000</td>\n",
       "    </tr>\n",
       "    <tr>\n",
       "      <th>mean</th>\n",
       "      <td>103.830634</td>\n",
       "      <td>14.453179</td>\n",
       "    </tr>\n",
       "    <tr>\n",
       "      <th>std</th>\n",
       "      <td>134.427636</td>\n",
       "      <td>89.660508</td>\n",
       "    </tr>\n",
       "    <tr>\n",
       "      <th>min</th>\n",
       "      <td>2.820000</td>\n",
       "      <td>0.510000</td>\n",
       "    </tr>\n",
       "    <tr>\n",
       "      <th>25%</th>\n",
       "      <td>46.250000</td>\n",
       "      <td>2.020000</td>\n",
       "    </tr>\n",
       "    <tr>\n",
       "      <th>50%</th>\n",
       "      <td>73.920000</td>\n",
       "      <td>3.400000</td>\n",
       "    </tr>\n",
       "    <tr>\n",
       "      <th>75%</th>\n",
       "      <td>116.540000</td>\n",
       "      <td>6.110000</td>\n",
       "    </tr>\n",
       "    <tr>\n",
       "      <th>max</th>\n",
       "      <td>1806.060000</td>\n",
       "      <td>1403.380000</td>\n",
       "    </tr>\n",
       "  </tbody>\n",
       "</table>\n",
       "</div>"
      ],
      "text/plain": [
       "             Price   BooK Value\n",
       "count   505.000000   497.000000\n",
       "mean    103.830634    14.453179\n",
       "std     134.427636    89.660508\n",
       "min       2.820000     0.510000\n",
       "25%      46.250000     2.020000\n",
       "50%      73.920000     3.400000\n",
       "75%     116.540000     6.110000\n",
       "max    1806.060000  1403.380000"
      ]
     },
     "execution_count": 59,
     "metadata": {},
     "output_type": "execute_result"
    }
   ],
   "source": [
    "sp500.describe()"
   ]
  },
  {
   "cell_type": "markdown",
   "id": "e1580133",
   "metadata": {},
   "source": [
    "|          |Price      | BooK Value | Description                                                           |\n",
    "|----------|-----------|------------| ----------------------------------------------------------------------|  \n",
    "| count    |505.000000 |497.000000  | значнея заполненые NoN - не считаются (поэтому разница в значениях )  |\n",
    "| mean     |103.830634 |14.453179   | среднее значнение                                                     |                 \n",
    "| std      |134.42763  |89.660508   | стандартное отклонение                                                |\n",
    "| min      |2.820000   |0.510000    |                                                                       |\n",
    "| 25%      |46.250000  |2.02000     | 25 - перцентиль                                                       |\n",
    "| 50%      |73.920000  |3.400000    | 50 - перцентиль                                                       |\n",
    "| 75%      |116.540000 |6.110000    | 75 - перцентиль                                                       | \n",
    "| max      |1806.060000|1403.380000 |                                                                       | "
   ]
  },
  {
   "cell_type": "code",
   "execution_count": 7,
   "id": "804974c1",
   "metadata": {},
   "outputs": [
    {
     "data": {
      "text/plain": [
       "count     505.000000\n",
       "mean      103.830634\n",
       "std       134.427636\n",
       "min         2.820000\n",
       "25%        46.250000\n",
       "50%        73.920000\n",
       "75%       116.540000\n",
       "max      1806.060000\n",
       "Name: Price, dtype: float64"
      ]
     },
     "execution_count": 7,
     "metadata": {},
     "output_type": "execute_result"
    }
   ],
   "source": [
    "sp500.Price.describe()"
   ]
  },
  {
   "cell_type": "code",
   "execution_count": 60,
   "id": "80f7319f",
   "metadata": {},
   "outputs": [],
   "source": [
    "# получаем сводку статистик для нечисловых данных"
   ]
  },
  {
   "cell_type": "markdown",
   "id": "be7893ef",
   "metadata": {},
   "source": [
    "|          |                      | Description                           |\n",
    "|----------|----------------------|---------------------------------------|  \n",
    "| count    |505                   |                                       |\n",
    "| unique   |11                    |                                       |       \n",
    "| top      |Consumer Discretionary| аиболее часто встречающиеся значение  |\n",
    "| freq     |84                    |сколько раз встречается значение       |                                                                       |"
   ]
  },
  {
   "cell_type": "code",
   "execution_count": 67,
   "id": "6713b2a8",
   "metadata": {},
   "outputs": [
    {
     "data": {
      "text/plain": [
       "count                        505\n",
       "unique                        11\n",
       "top       Consumer Discretionary\n",
       "freq                          84\n",
       "Name: Sector, dtype: object"
      ]
     },
     "execution_count": 67,
     "metadata": {},
     "output_type": "execute_result"
    }
   ],
   "source": [
    "sp500.Sector.describe()"
   ]
  },
  {
   "cell_type": "code",
   "execution_count": 10,
   "id": "edfe3cdf",
   "metadata": {},
   "outputs": [],
   "source": [
    "# info - метод (кол-во и тип значений, объем памяти)"
   ]
  },
  {
   "cell_type": "code",
   "execution_count": 11,
   "id": "625b2f85",
   "metadata": {},
   "outputs": [
    {
     "name": "stdout",
     "output_type": "stream",
     "text": [
      "<class 'pandas.core.frame.DataFrame'>\n",
      "Index: 505 entries, MMM to ZTS\n",
      "Data columns (total 3 columns):\n",
      " #   Column      Non-Null Count  Dtype  \n",
      "---  ------      --------------  -----  \n",
      " 0   Sector      505 non-null    object \n",
      " 1   Price       505 non-null    float64\n",
      " 2   BooK Value  497 non-null    float64\n",
      "dtypes: float64(2), object(1)\n",
      "memory usage: 15.8+ KB\n"
     ]
    }
   ],
   "source": [
    "sp500.info()"
   ]
  },
  {
   "cell_type": "code",
   "execution_count": 12,
   "id": "90d5576e",
   "metadata": {},
   "outputs": [],
   "source": [
    "# получаем среднюю сводку для нечисловых данных"
   ]
  },
  {
   "cell_type": "code",
   "execution_count": 68,
   "id": "a3324135",
   "metadata": {},
   "outputs": [
    {
     "data": {
      "text/plain": [
       "Consumer Discretionary        84\n",
       "Information Technology        70\n",
       "Financials                    68\n",
       "Industrials                   67\n",
       "Health Care                   61\n",
       "                              ..\n",
       "Real Estate                   33\n",
       "Energy                        32\n",
       "Utilities                     28\n",
       "Materials                     25\n",
       "Telecommunication Services     3\n",
       "Name: Sector, Length: 11, dtype: int64"
      ]
     },
     "execution_count": 68,
     "metadata": {},
     "output_type": "execute_result"
    }
   ],
   "source": [
    "sp500.Sector.value_counts()"
   ]
  },
  {
   "cell_type": "code",
   "execution_count": 69,
   "id": "d0140cd1",
   "metadata": {},
   "outputs": [
    {
     "data": {
      "text/plain": [
       "Consumer Discretionary        0.166337\n",
       "Information Technology        0.138614\n",
       "Financials                    0.134653\n",
       "Industrials                   0.132673\n",
       "Health Care                   0.120792\n",
       "                                ...   \n",
       "Real Estate                   0.065347\n",
       "Energy                        0.063366\n",
       "Utilities                     0.055446\n",
       "Materials                     0.049505\n",
       "Telecommunication Services    0.005941\n",
       "Name: Sector, Length: 11, dtype: float64"
      ]
     },
     "execution_count": 69,
     "metadata": {},
     "output_type": "execute_result"
    }
   ],
   "source": [
    "# получить долю \n",
    "sp500.Sector.value_counts(normalize=True)"
   ]
  },
  {
   "cell_type": "markdown",
   "id": "0417ff24",
   "metadata": {},
   "source": [
    "### Арифметические операции"
   ]
  },
  {
   "cell_type": "markdown",
   "id": "f8fe4d0a",
   "metadata": {},
   "source": [
    "- задаем стартовое значение генератора случайных чисел для получения воспроизводимых результатов\n",
    "- созадем объект DataFrame"
   ]
  },
  {
   "cell_type": "code",
   "execution_count": 14,
   "id": "2a58bffb",
   "metadata": {},
   "outputs": [
    {
     "data": {
      "text/html": [
       "<div>\n",
       "<style scoped>\n",
       "    .dataframe tbody tr th:only-of-type {\n",
       "        vertical-align: middle;\n",
       "    }\n",
       "\n",
       "    .dataframe tbody tr th {\n",
       "        vertical-align: top;\n",
       "    }\n",
       "\n",
       "    .dataframe thead th {\n",
       "        text-align: right;\n",
       "    }\n",
       "</style>\n",
       "<table border=\"1\" class=\"dataframe\">\n",
       "  <thead>\n",
       "    <tr style=\"text-align: right;\">\n",
       "      <th></th>\n",
       "      <th>A</th>\n",
       "      <th>B</th>\n",
       "      <th>C</th>\n",
       "      <th>D</th>\n",
       "    </tr>\n",
       "  </thead>\n",
       "  <tbody>\n",
       "    <tr>\n",
       "      <th>0</th>\n",
       "      <td>-1.085631</td>\n",
       "      <td>0.997345</td>\n",
       "      <td>0.282978</td>\n",
       "      <td>-1.506295</td>\n",
       "    </tr>\n",
       "    <tr>\n",
       "      <th>1</th>\n",
       "      <td>-0.578600</td>\n",
       "      <td>1.651437</td>\n",
       "      <td>-2.426679</td>\n",
       "      <td>-0.428913</td>\n",
       "    </tr>\n",
       "    <tr>\n",
       "      <th>2</th>\n",
       "      <td>1.265936</td>\n",
       "      <td>-0.866740</td>\n",
       "      <td>-0.678886</td>\n",
       "      <td>-0.094709</td>\n",
       "    </tr>\n",
       "    <tr>\n",
       "      <th>3</th>\n",
       "      <td>1.491390</td>\n",
       "      <td>-0.638902</td>\n",
       "      <td>-0.443982</td>\n",
       "      <td>-0.434351</td>\n",
       "    </tr>\n",
       "    <tr>\n",
       "      <th>4</th>\n",
       "      <td>2.205930</td>\n",
       "      <td>2.186786</td>\n",
       "      <td>1.004054</td>\n",
       "      <td>0.386186</td>\n",
       "    </tr>\n",
       "  </tbody>\n",
       "</table>\n",
       "</div>"
      ],
      "text/plain": [
       "          A         B         C         D\n",
       "0 -1.085631  0.997345  0.282978 -1.506295\n",
       "1 -0.578600  1.651437 -2.426679 -0.428913\n",
       "2  1.265936 -0.866740 -0.678886 -0.094709\n",
       "3  1.491390 -0.638902 -0.443982 -0.434351\n",
       "4  2.205930  2.186786  1.004054  0.386186"
      ]
     },
     "execution_count": 14,
     "metadata": {},
     "output_type": "execute_result"
    }
   ],
   "source": [
    "np.random.seed(123)\n",
    "df = pd.DataFrame(np.random.randn(5, 4),\n",
    "                  columns = ['A', 'B', 'C', 'D'])\n",
    "df"
   ]
  },
  {
   "cell_type": "code",
   "execution_count": 15,
   "id": "62ad9293",
   "metadata": {},
   "outputs": [],
   "source": [
    "# умножаем все на 2, берем абсолютные значения\n",
    "# получается новый датаферйм (исходный остается неизменным)"
   ]
  },
  {
   "cell_type": "code",
   "execution_count": 16,
   "id": "4cd86572",
   "metadata": {},
   "outputs": [
    {
     "data": {
      "text/html": [
       "<div>\n",
       "<style scoped>\n",
       "    .dataframe tbody tr th:only-of-type {\n",
       "        vertical-align: middle;\n",
       "    }\n",
       "\n",
       "    .dataframe tbody tr th {\n",
       "        vertical-align: top;\n",
       "    }\n",
       "\n",
       "    .dataframe thead th {\n",
       "        text-align: right;\n",
       "    }\n",
       "</style>\n",
       "<table border=\"1\" class=\"dataframe\">\n",
       "  <thead>\n",
       "    <tr style=\"text-align: right;\">\n",
       "      <th></th>\n",
       "      <th>A</th>\n",
       "      <th>B</th>\n",
       "      <th>C</th>\n",
       "      <th>D</th>\n",
       "    </tr>\n",
       "  </thead>\n",
       "  <tbody>\n",
       "    <tr>\n",
       "      <th>0</th>\n",
       "      <td>2.171261</td>\n",
       "      <td>1.994691</td>\n",
       "      <td>0.565957</td>\n",
       "      <td>3.012589</td>\n",
       "    </tr>\n",
       "    <tr>\n",
       "      <th>1</th>\n",
       "      <td>1.157201</td>\n",
       "      <td>3.302873</td>\n",
       "      <td>4.853358</td>\n",
       "      <td>0.857825</td>\n",
       "    </tr>\n",
       "    <tr>\n",
       "      <th>2</th>\n",
       "      <td>2.531873</td>\n",
       "      <td>1.733481</td>\n",
       "      <td>1.357772</td>\n",
       "      <td>0.189418</td>\n",
       "    </tr>\n",
       "    <tr>\n",
       "      <th>3</th>\n",
       "      <td>2.982779</td>\n",
       "      <td>1.277804</td>\n",
       "      <td>0.887964</td>\n",
       "      <td>0.868703</td>\n",
       "    </tr>\n",
       "    <tr>\n",
       "      <th>4</th>\n",
       "      <td>4.411860</td>\n",
       "      <td>4.373572</td>\n",
       "      <td>2.008108</td>\n",
       "      <td>0.772373</td>\n",
       "    </tr>\n",
       "  </tbody>\n",
       "</table>\n",
       "</div>"
      ],
      "text/plain": [
       "          A         B         C         D\n",
       "0  2.171261  1.994691  0.565957  3.012589\n",
       "1  1.157201  3.302873  4.853358  0.857825\n",
       "2  2.531873  1.733481  1.357772  0.189418\n",
       "3  2.982779  1.277804  0.887964  0.868703\n",
       "4  4.411860  4.373572  2.008108  0.772373"
      ]
     },
     "execution_count": 16,
     "metadata": {},
     "output_type": "execute_result"
    }
   ],
   "source": [
    "abs(df*2)"
   ]
  },
  {
   "cell_type": "code",
   "execution_count": 70,
   "id": "4f9ed875",
   "metadata": {},
   "outputs": [],
   "source": [
    "# При выполнении операции над DataFrame и Series \n",
    "# происходит выравниеваение Series по столбцам DataFrame"
   ]
  },
  {
   "cell_type": "code",
   "execution_count": null,
   "id": "9bbddefe",
   "metadata": {},
   "outputs": [],
   "source": [
    "# вычитание первой строки из каждой строки объекта DataFrame"
   ]
  },
  {
   "cell_type": "code",
   "execution_count": 18,
   "id": "03dce960",
   "metadata": {},
   "outputs": [
    {
     "data": {
      "text/html": [
       "<div>\n",
       "<style scoped>\n",
       "    .dataframe tbody tr th:only-of-type {\n",
       "        vertical-align: middle;\n",
       "    }\n",
       "\n",
       "    .dataframe tbody tr th {\n",
       "        vertical-align: top;\n",
       "    }\n",
       "\n",
       "    .dataframe thead th {\n",
       "        text-align: right;\n",
       "    }\n",
       "</style>\n",
       "<table border=\"1\" class=\"dataframe\">\n",
       "  <thead>\n",
       "    <tr style=\"text-align: right;\">\n",
       "      <th></th>\n",
       "      <th>A</th>\n",
       "      <th>B</th>\n",
       "      <th>C</th>\n",
       "      <th>D</th>\n",
       "    </tr>\n",
       "  </thead>\n",
       "  <tbody>\n",
       "    <tr>\n",
       "      <th>0</th>\n",
       "      <td>-1.085631</td>\n",
       "      <td>0.997345</td>\n",
       "      <td>0.282978</td>\n",
       "      <td>-1.506295</td>\n",
       "    </tr>\n",
       "    <tr>\n",
       "      <th>1</th>\n",
       "      <td>-0.578600</td>\n",
       "      <td>1.651437</td>\n",
       "      <td>-2.426679</td>\n",
       "      <td>-0.428913</td>\n",
       "    </tr>\n",
       "    <tr>\n",
       "      <th>2</th>\n",
       "      <td>1.265936</td>\n",
       "      <td>-0.866740</td>\n",
       "      <td>-0.678886</td>\n",
       "      <td>-0.094709</td>\n",
       "    </tr>\n",
       "    <tr>\n",
       "      <th>3</th>\n",
       "      <td>1.491390</td>\n",
       "      <td>-0.638902</td>\n",
       "      <td>-0.443982</td>\n",
       "      <td>-0.434351</td>\n",
       "    </tr>\n",
       "    <tr>\n",
       "      <th>4</th>\n",
       "      <td>2.205930</td>\n",
       "      <td>2.186786</td>\n",
       "      <td>1.004054</td>\n",
       "      <td>0.386186</td>\n",
       "    </tr>\n",
       "  </tbody>\n",
       "</table>\n",
       "</div>"
      ],
      "text/plain": [
       "          A         B         C         D\n",
       "0 -1.085631  0.997345  0.282978 -1.506295\n",
       "1 -0.578600  1.651437 -2.426679 -0.428913\n",
       "2  1.265936 -0.866740 -0.678886 -0.094709\n",
       "3  1.491390 -0.638902 -0.443982 -0.434351\n",
       "4  2.205930  2.186786  1.004054  0.386186"
      ]
     },
     "execution_count": 18,
     "metadata": {},
     "output_type": "execute_result"
    }
   ],
   "source": [
    "df"
   ]
  },
  {
   "cell_type": "code",
   "execution_count": 19,
   "id": "ea6360c5",
   "metadata": {},
   "outputs": [
    {
     "data": {
      "text/plain": [
       "A   -1.085631\n",
       "B    0.997345\n",
       "C    0.282978\n",
       "D   -1.506295\n",
       "Name: 0, dtype: float64"
      ]
     },
     "execution_count": 19,
     "metadata": {},
     "output_type": "execute_result"
    }
   ],
   "source": [
    "df.iloc[0]"
   ]
  },
  {
   "cell_type": "code",
   "execution_count": 20,
   "id": "5105ac7c",
   "metadata": {},
   "outputs": [
    {
     "data": {
      "text/html": [
       "<div>\n",
       "<style scoped>\n",
       "    .dataframe tbody tr th:only-of-type {\n",
       "        vertical-align: middle;\n",
       "    }\n",
       "\n",
       "    .dataframe tbody tr th {\n",
       "        vertical-align: top;\n",
       "    }\n",
       "\n",
       "    .dataframe thead th {\n",
       "        text-align: right;\n",
       "    }\n",
       "</style>\n",
       "<table border=\"1\" class=\"dataframe\">\n",
       "  <thead>\n",
       "    <tr style=\"text-align: right;\">\n",
       "      <th></th>\n",
       "      <th>A</th>\n",
       "      <th>B</th>\n",
       "      <th>C</th>\n",
       "      <th>D</th>\n",
       "    </tr>\n",
       "  </thead>\n",
       "  <tbody>\n",
       "    <tr>\n",
       "      <th>0</th>\n",
       "      <td>0.000000</td>\n",
       "      <td>0.000000</td>\n",
       "      <td>0.000000</td>\n",
       "      <td>0.000000</td>\n",
       "    </tr>\n",
       "    <tr>\n",
       "      <th>1</th>\n",
       "      <td>0.507030</td>\n",
       "      <td>0.654091</td>\n",
       "      <td>-2.709658</td>\n",
       "      <td>1.077382</td>\n",
       "    </tr>\n",
       "    <tr>\n",
       "      <th>2</th>\n",
       "      <td>2.351567</td>\n",
       "      <td>-1.864086</td>\n",
       "      <td>-0.961865</td>\n",
       "      <td>1.411586</td>\n",
       "    </tr>\n",
       "    <tr>\n",
       "      <th>3</th>\n",
       "      <td>2.577020</td>\n",
       "      <td>-1.636247</td>\n",
       "      <td>-0.726960</td>\n",
       "      <td>1.071943</td>\n",
       "    </tr>\n",
       "    <tr>\n",
       "      <th>4</th>\n",
       "      <td>3.291561</td>\n",
       "      <td>1.189441</td>\n",
       "      <td>0.721075</td>\n",
       "      <td>1.892481</td>\n",
       "    </tr>\n",
       "  </tbody>\n",
       "</table>\n",
       "</div>"
      ],
      "text/plain": [
       "          A         B         C         D\n",
       "0  0.000000  0.000000  0.000000  0.000000\n",
       "1  0.507030  0.654091 -2.709658  1.077382\n",
       "2  2.351567 -1.864086 -0.961865  1.411586\n",
       "3  2.577020 -1.636247 -0.726960  1.071943\n",
       "4  3.291561  1.189441  0.721075  1.892481"
      ]
     },
     "execution_count": 20,
     "metadata": {},
     "output_type": "execute_result"
    }
   ],
   "source": [
    "df - df.iloc[0]"
   ]
  },
  {
   "cell_type": "code",
   "execution_count": 21,
   "id": "d98cf27d",
   "metadata": {},
   "outputs": [],
   "source": [
    "# вычитаем объект DataFrame из Series "
   ]
  },
  {
   "cell_type": "code",
   "execution_count": 22,
   "id": "a1a95954",
   "metadata": {},
   "outputs": [
    {
     "data": {
      "text/html": [
       "<div>\n",
       "<style scoped>\n",
       "    .dataframe tbody tr th:only-of-type {\n",
       "        vertical-align: middle;\n",
       "    }\n",
       "\n",
       "    .dataframe tbody tr th {\n",
       "        vertical-align: top;\n",
       "    }\n",
       "\n",
       "    .dataframe thead th {\n",
       "        text-align: right;\n",
       "    }\n",
       "</style>\n",
       "<table border=\"1\" class=\"dataframe\">\n",
       "  <thead>\n",
       "    <tr style=\"text-align: right;\">\n",
       "      <th></th>\n",
       "      <th>A</th>\n",
       "      <th>B</th>\n",
       "      <th>C</th>\n",
       "      <th>D</th>\n",
       "    </tr>\n",
       "  </thead>\n",
       "  <tbody>\n",
       "    <tr>\n",
       "      <th>0</th>\n",
       "      <td>0.000000</td>\n",
       "      <td>0.000000</td>\n",
       "      <td>0.000000</td>\n",
       "      <td>0.000000</td>\n",
       "    </tr>\n",
       "    <tr>\n",
       "      <th>1</th>\n",
       "      <td>-0.507030</td>\n",
       "      <td>-0.654091</td>\n",
       "      <td>2.709658</td>\n",
       "      <td>-1.077382</td>\n",
       "    </tr>\n",
       "    <tr>\n",
       "      <th>2</th>\n",
       "      <td>-2.351567</td>\n",
       "      <td>1.864086</td>\n",
       "      <td>0.961865</td>\n",
       "      <td>-1.411586</td>\n",
       "    </tr>\n",
       "    <tr>\n",
       "      <th>3</th>\n",
       "      <td>-2.577020</td>\n",
       "      <td>1.636247</td>\n",
       "      <td>0.726960</td>\n",
       "      <td>-1.071943</td>\n",
       "    </tr>\n",
       "    <tr>\n",
       "      <th>4</th>\n",
       "      <td>-3.291561</td>\n",
       "      <td>-1.189441</td>\n",
       "      <td>-0.721075</td>\n",
       "      <td>-1.892481</td>\n",
       "    </tr>\n",
       "  </tbody>\n",
       "</table>\n",
       "</div>"
      ],
      "text/plain": [
       "          A         B         C         D\n",
       "0  0.000000  0.000000  0.000000  0.000000\n",
       "1 -0.507030 -0.654091  2.709658 -1.077382\n",
       "2 -2.351567  1.864086  0.961865 -1.411586\n",
       "3 -2.577020  1.636247  0.726960 -1.071943\n",
       "4 -3.291561 -1.189441 -0.721075 -1.892481"
      ]
     },
     "execution_count": 22,
     "metadata": {},
     "output_type": "execute_result"
    }
   ],
   "source": [
    "df.iloc[0] - df"
   ]
  },
  {
   "cell_type": "code",
   "execution_count": null,
   "id": "970fca66",
   "metadata": {},
   "outputs": [],
   "source": []
  },
  {
   "cell_type": "markdown",
   "id": "222fecbd",
   "metadata": {},
   "source": [
    "- возьмем второе и третье поле 1-ой строки:\n",
    "- добавляем столбец Е\n",
    "- смотрим, как применяется выравнивание в этой математической операции"
   ]
  },
  {
   "cell_type": "code",
   "execution_count": 23,
   "id": "9c3dc83a",
   "metadata": {},
   "outputs": [
    {
     "data": {
      "text/html": [
       "<div>\n",
       "<style scoped>\n",
       "    .dataframe tbody tr th:only-of-type {\n",
       "        vertical-align: middle;\n",
       "    }\n",
       "\n",
       "    .dataframe tbody tr th {\n",
       "        vertical-align: top;\n",
       "    }\n",
       "\n",
       "    .dataframe thead th {\n",
       "        text-align: right;\n",
       "    }\n",
       "</style>\n",
       "<table border=\"1\" class=\"dataframe\">\n",
       "  <thead>\n",
       "    <tr style=\"text-align: right;\">\n",
       "      <th></th>\n",
       "      <th>A</th>\n",
       "      <th>B</th>\n",
       "      <th>C</th>\n",
       "      <th>D</th>\n",
       "    </tr>\n",
       "  </thead>\n",
       "  <tbody>\n",
       "    <tr>\n",
       "      <th>0</th>\n",
       "      <td>-1.085631</td>\n",
       "      <td>0.997345</td>\n",
       "      <td>0.282978</td>\n",
       "      <td>-1.506295</td>\n",
       "    </tr>\n",
       "    <tr>\n",
       "      <th>1</th>\n",
       "      <td>-0.578600</td>\n",
       "      <td>1.651437</td>\n",
       "      <td>-2.426679</td>\n",
       "      <td>-0.428913</td>\n",
       "    </tr>\n",
       "    <tr>\n",
       "      <th>2</th>\n",
       "      <td>1.265936</td>\n",
       "      <td>-0.866740</td>\n",
       "      <td>-0.678886</td>\n",
       "      <td>-0.094709</td>\n",
       "    </tr>\n",
       "    <tr>\n",
       "      <th>3</th>\n",
       "      <td>1.491390</td>\n",
       "      <td>-0.638902</td>\n",
       "      <td>-0.443982</td>\n",
       "      <td>-0.434351</td>\n",
       "    </tr>\n",
       "    <tr>\n",
       "      <th>4</th>\n",
       "      <td>2.205930</td>\n",
       "      <td>2.186786</td>\n",
       "      <td>1.004054</td>\n",
       "      <td>0.386186</td>\n",
       "    </tr>\n",
       "  </tbody>\n",
       "</table>\n",
       "</div>"
      ],
      "text/plain": [
       "          A         B         C         D\n",
       "0 -1.085631  0.997345  0.282978 -1.506295\n",
       "1 -0.578600  1.651437 -2.426679 -0.428913\n",
       "2  1.265936 -0.866740 -0.678886 -0.094709\n",
       "3  1.491390 -0.638902 -0.443982 -0.434351\n",
       "4  2.205930  2.186786  1.004054  0.386186"
      ]
     },
     "execution_count": 23,
     "metadata": {},
     "output_type": "execute_result"
    }
   ],
   "source": [
    "df"
   ]
  },
  {
   "cell_type": "code",
   "execution_count": 71,
   "id": "838c7bf9",
   "metadata": {},
   "outputs": [
    {
     "data": {
      "text/plain": [
       "B    0.997345\n",
       "C    0.282978\n",
       "E    0.000000\n",
       "Name: 0, dtype: float64"
      ]
     },
     "execution_count": 71,
     "metadata": {},
     "output_type": "execute_result"
    }
   ],
   "source": [
    "# создаем обект Series на основе 1 строки DataFrame В С + добавеляем Е\n",
    "s = df.iloc[0][1:3]\n",
    "s['E'] = 0\n",
    "s"
   ]
  },
  {
   "cell_type": "code",
   "execution_count": null,
   "id": "ecaba093",
   "metadata": {},
   "outputs": [],
   "source": [
    "# выравниеваение Series по столбцам DataFrame"
   ]
  },
  {
   "cell_type": "code",
   "execution_count": 25,
   "id": "7de2d37b",
   "metadata": {},
   "outputs": [
    {
     "data": {
      "text/html": [
       "<div>\n",
       "<style scoped>\n",
       "    .dataframe tbody tr th:only-of-type {\n",
       "        vertical-align: middle;\n",
       "    }\n",
       "\n",
       "    .dataframe tbody tr th {\n",
       "        vertical-align: top;\n",
       "    }\n",
       "\n",
       "    .dataframe thead th {\n",
       "        text-align: right;\n",
       "    }\n",
       "</style>\n",
       "<table border=\"1\" class=\"dataframe\">\n",
       "  <thead>\n",
       "    <tr style=\"text-align: right;\">\n",
       "      <th></th>\n",
       "      <th>A</th>\n",
       "      <th>B</th>\n",
       "      <th>C</th>\n",
       "      <th>D</th>\n",
       "      <th>E</th>\n",
       "    </tr>\n",
       "  </thead>\n",
       "  <tbody>\n",
       "    <tr>\n",
       "      <th>0</th>\n",
       "      <td>NaN</td>\n",
       "      <td>1.994691</td>\n",
       "      <td>0.565957</td>\n",
       "      <td>NaN</td>\n",
       "      <td>NaN</td>\n",
       "    </tr>\n",
       "    <tr>\n",
       "      <th>1</th>\n",
       "      <td>NaN</td>\n",
       "      <td>2.648782</td>\n",
       "      <td>-2.143701</td>\n",
       "      <td>NaN</td>\n",
       "      <td>NaN</td>\n",
       "    </tr>\n",
       "    <tr>\n",
       "      <th>2</th>\n",
       "      <td>NaN</td>\n",
       "      <td>0.130605</td>\n",
       "      <td>-0.395908</td>\n",
       "      <td>NaN</td>\n",
       "      <td>NaN</td>\n",
       "    </tr>\n",
       "    <tr>\n",
       "      <th>3</th>\n",
       "      <td>NaN</td>\n",
       "      <td>0.358443</td>\n",
       "      <td>-0.161003</td>\n",
       "      <td>NaN</td>\n",
       "      <td>NaN</td>\n",
       "    </tr>\n",
       "    <tr>\n",
       "      <th>4</th>\n",
       "      <td>NaN</td>\n",
       "      <td>3.184132</td>\n",
       "      <td>1.287032</td>\n",
       "      <td>NaN</td>\n",
       "      <td>NaN</td>\n",
       "    </tr>\n",
       "  </tbody>\n",
       "</table>\n",
       "</div>"
      ],
      "text/plain": [
       "    A         B         C   D   E\n",
       "0 NaN  1.994691  0.565957 NaN NaN\n",
       "1 NaN  2.648782 -2.143701 NaN NaN\n",
       "2 NaN  0.130605 -0.395908 NaN NaN\n",
       "3 NaN  0.358443 -0.161003 NaN NaN\n",
       "4 NaN  3.184132  1.287032 NaN NaN"
      ]
     },
     "execution_count": 25,
     "metadata": {},
     "output_type": "execute_result"
    }
   ],
   "source": [
    "df + s"
   ]
  },
  {
   "cell_type": "code",
   "execution_count": 26,
   "id": "0c9692f0",
   "metadata": {},
   "outputs": [],
   "source": [
    "# извлекаем строки в позициях с 1-й по 3-ю и только столбцы В и С\n",
    "# по сути - извлекаем небольшой квадрат из середины df"
   ]
  },
  {
   "cell_type": "code",
   "execution_count": 27,
   "id": "a7715b18",
   "metadata": {},
   "outputs": [
    {
     "data": {
      "text/html": [
       "<div>\n",
       "<style scoped>\n",
       "    .dataframe tbody tr th:only-of-type {\n",
       "        vertical-align: middle;\n",
       "    }\n",
       "\n",
       "    .dataframe tbody tr th {\n",
       "        vertical-align: top;\n",
       "    }\n",
       "\n",
       "    .dataframe thead th {\n",
       "        text-align: right;\n",
       "    }\n",
       "</style>\n",
       "<table border=\"1\" class=\"dataframe\">\n",
       "  <thead>\n",
       "    <tr style=\"text-align: right;\">\n",
       "      <th></th>\n",
       "      <th>B</th>\n",
       "      <th>C</th>\n",
       "    </tr>\n",
       "  </thead>\n",
       "  <tbody>\n",
       "    <tr>\n",
       "      <th>1</th>\n",
       "      <td>1.651437</td>\n",
       "      <td>-2.426679</td>\n",
       "    </tr>\n",
       "    <tr>\n",
       "      <th>2</th>\n",
       "      <td>-0.866740</td>\n",
       "      <td>-0.678886</td>\n",
       "    </tr>\n",
       "    <tr>\n",
       "      <th>3</th>\n",
       "      <td>-0.638902</td>\n",
       "      <td>-0.443982</td>\n",
       "    </tr>\n",
       "  </tbody>\n",
       "</table>\n",
       "</div>"
      ],
      "text/plain": [
       "          B         C\n",
       "1  1.651437 -2.426679\n",
       "2 -0.866740 -0.678886\n",
       "3 -0.638902 -0.443982"
      ]
     },
     "execution_count": 27,
     "metadata": {},
     "output_type": "execute_result"
    }
   ],
   "source": [
    "subframe = df[1:4][['B', 'C']].copy()\n",
    "subframe"
   ]
  },
  {
   "cell_type": "code",
   "execution_count": 28,
   "id": "57c1961c",
   "metadata": {},
   "outputs": [],
   "source": [
    "# как происходит выравнивание при выполнении операции вычитания"
   ]
  },
  {
   "cell_type": "code",
   "execution_count": 29,
   "id": "794387d3",
   "metadata": {},
   "outputs": [
    {
     "data": {
      "text/html": [
       "<div>\n",
       "<style scoped>\n",
       "    .dataframe tbody tr th:only-of-type {\n",
       "        vertical-align: middle;\n",
       "    }\n",
       "\n",
       "    .dataframe tbody tr th {\n",
       "        vertical-align: top;\n",
       "    }\n",
       "\n",
       "    .dataframe thead th {\n",
       "        text-align: right;\n",
       "    }\n",
       "</style>\n",
       "<table border=\"1\" class=\"dataframe\">\n",
       "  <thead>\n",
       "    <tr style=\"text-align: right;\">\n",
       "      <th></th>\n",
       "      <th>A</th>\n",
       "      <th>B</th>\n",
       "      <th>C</th>\n",
       "      <th>D</th>\n",
       "    </tr>\n",
       "  </thead>\n",
       "  <tbody>\n",
       "    <tr>\n",
       "      <th>0</th>\n",
       "      <td>NaN</td>\n",
       "      <td>NaN</td>\n",
       "      <td>NaN</td>\n",
       "      <td>NaN</td>\n",
       "    </tr>\n",
       "    <tr>\n",
       "      <th>1</th>\n",
       "      <td>NaN</td>\n",
       "      <td>0.0</td>\n",
       "      <td>0.0</td>\n",
       "      <td>NaN</td>\n",
       "    </tr>\n",
       "    <tr>\n",
       "      <th>2</th>\n",
       "      <td>NaN</td>\n",
       "      <td>0.0</td>\n",
       "      <td>0.0</td>\n",
       "      <td>NaN</td>\n",
       "    </tr>\n",
       "    <tr>\n",
       "      <th>3</th>\n",
       "      <td>NaN</td>\n",
       "      <td>0.0</td>\n",
       "      <td>0.0</td>\n",
       "      <td>NaN</td>\n",
       "    </tr>\n",
       "    <tr>\n",
       "      <th>4</th>\n",
       "      <td>NaN</td>\n",
       "      <td>NaN</td>\n",
       "      <td>NaN</td>\n",
       "      <td>NaN</td>\n",
       "    </tr>\n",
       "  </tbody>\n",
       "</table>\n",
       "</div>"
      ],
      "text/plain": [
       "    A    B    C   D\n",
       "0 NaN  NaN  NaN NaN\n",
       "1 NaN  0.0  0.0 NaN\n",
       "2 NaN  0.0  0.0 NaN\n",
       "3 NaN  0.0  0.0 NaN\n",
       "4 NaN  NaN  NaN NaN"
      ]
     },
     "execution_count": 29,
     "metadata": {},
     "output_type": "execute_result"
    }
   ],
   "source": [
    "df - subframe"
   ]
  },
  {
   "cell_type": "code",
   "execution_count": 30,
   "id": "b15a8756",
   "metadata": {},
   "outputs": [
    {
     "data": {
      "text/html": [
       "<div>\n",
       "<style scoped>\n",
       "    .dataframe tbody tr th:only-of-type {\n",
       "        vertical-align: middle;\n",
       "    }\n",
       "\n",
       "    .dataframe tbody tr th {\n",
       "        vertical-align: top;\n",
       "    }\n",
       "\n",
       "    .dataframe thead th {\n",
       "        text-align: right;\n",
       "    }\n",
       "</style>\n",
       "<table border=\"1\" class=\"dataframe\">\n",
       "  <thead>\n",
       "    <tr style=\"text-align: right;\">\n",
       "      <th></th>\n",
       "      <th>A</th>\n",
       "      <th>B</th>\n",
       "      <th>C</th>\n",
       "      <th>D</th>\n",
       "    </tr>\n",
       "  </thead>\n",
       "  <tbody>\n",
       "    <tr>\n",
       "      <th>0</th>\n",
       "      <td>-1.085631</td>\n",
       "      <td>0.997345</td>\n",
       "      <td>0.282978</td>\n",
       "      <td>-1.506295</td>\n",
       "    </tr>\n",
       "    <tr>\n",
       "      <th>1</th>\n",
       "      <td>-0.578600</td>\n",
       "      <td>1.651437</td>\n",
       "      <td>-2.426679</td>\n",
       "      <td>-0.428913</td>\n",
       "    </tr>\n",
       "    <tr>\n",
       "      <th>2</th>\n",
       "      <td>1.265936</td>\n",
       "      <td>-0.866740</td>\n",
       "      <td>-0.678886</td>\n",
       "      <td>-0.094709</td>\n",
       "    </tr>\n",
       "    <tr>\n",
       "      <th>3</th>\n",
       "      <td>1.491390</td>\n",
       "      <td>-0.638902</td>\n",
       "      <td>-0.443982</td>\n",
       "      <td>-0.434351</td>\n",
       "    </tr>\n",
       "    <tr>\n",
       "      <th>4</th>\n",
       "      <td>2.205930</td>\n",
       "      <td>2.186786</td>\n",
       "      <td>1.004054</td>\n",
       "      <td>0.386186</td>\n",
       "    </tr>\n",
       "  </tbody>\n",
       "</table>\n",
       "</div>"
      ],
      "text/plain": [
       "          A         B         C         D\n",
       "0 -1.085631  0.997345  0.282978 -1.506295\n",
       "1 -0.578600  1.651437 -2.426679 -0.428913\n",
       "2  1.265936 -0.866740 -0.678886 -0.094709\n",
       "3  1.491390 -0.638902 -0.443982 -0.434351\n",
       "4  2.205930  2.186786  1.004054  0.386186"
      ]
     },
     "execution_count": 30,
     "metadata": {},
     "output_type": "execute_result"
    }
   ],
   "source": [
    "# извлекаем столбец А и вычитаем его из нашего датафрейма\n",
    "df"
   ]
  },
  {
   "cell_type": "code",
   "execution_count": 31,
   "id": "cf0cf85c",
   "metadata": {},
   "outputs": [
    {
     "data": {
      "text/html": [
       "<div>\n",
       "<style scoped>\n",
       "    .dataframe tbody tr th:only-of-type {\n",
       "        vertical-align: middle;\n",
       "    }\n",
       "\n",
       "    .dataframe tbody tr th {\n",
       "        vertical-align: top;\n",
       "    }\n",
       "\n",
       "    .dataframe thead th {\n",
       "        text-align: right;\n",
       "    }\n",
       "</style>\n",
       "<table border=\"1\" class=\"dataframe\">\n",
       "  <thead>\n",
       "    <tr style=\"text-align: right;\">\n",
       "      <th></th>\n",
       "      <th>A</th>\n",
       "      <th>B</th>\n",
       "      <th>C</th>\n",
       "      <th>D</th>\n",
       "    </tr>\n",
       "  </thead>\n",
       "  <tbody>\n",
       "    <tr>\n",
       "      <th>0</th>\n",
       "      <td>0.0</td>\n",
       "      <td>2.082976</td>\n",
       "      <td>1.368609</td>\n",
       "      <td>-0.420664</td>\n",
       "    </tr>\n",
       "    <tr>\n",
       "      <th>1</th>\n",
       "      <td>0.0</td>\n",
       "      <td>2.230037</td>\n",
       "      <td>-1.848079</td>\n",
       "      <td>0.149688</td>\n",
       "    </tr>\n",
       "    <tr>\n",
       "      <th>2</th>\n",
       "      <td>0.0</td>\n",
       "      <td>-2.132677</td>\n",
       "      <td>-1.944822</td>\n",
       "      <td>-1.360645</td>\n",
       "    </tr>\n",
       "    <tr>\n",
       "      <th>3</th>\n",
       "      <td>0.0</td>\n",
       "      <td>-2.130292</td>\n",
       "      <td>-1.935372</td>\n",
       "      <td>-1.925741</td>\n",
       "    </tr>\n",
       "    <tr>\n",
       "      <th>4</th>\n",
       "      <td>0.0</td>\n",
       "      <td>-0.019144</td>\n",
       "      <td>-1.201876</td>\n",
       "      <td>-1.819744</td>\n",
       "    </tr>\n",
       "  </tbody>\n",
       "</table>\n",
       "</div>"
      ],
      "text/plain": [
       "     A         B         C         D\n",
       "0  0.0  2.082976  1.368609 -0.420664\n",
       "1  0.0  2.230037 -1.848079  0.149688\n",
       "2  0.0 -2.132677 -1.944822 -1.360645\n",
       "3  0.0 -2.130292 -1.935372 -1.925741\n",
       "4  0.0 -0.019144 -1.201876 -1.819744"
      ]
     },
     "execution_count": 31,
     "metadata": {},
     "output_type": "execute_result"
    }
   ],
   "source": [
    "df.sub(df['A'], axis =0)"
   ]
  },
  {
   "cell_type": "markdown",
   "id": "3ca684b4",
   "metadata": {},
   "source": [
    "### Одномерные статистики"
   ]
  },
  {
   "cell_type": "code",
   "execution_count": 32,
   "id": "8e0a51e0",
   "metadata": {},
   "outputs": [],
   "source": [
    "# минимум / максимум\n",
    "# определяем максимальную цену для обеих акций"
   ]
  },
  {
   "cell_type": "code",
   "execution_count": 33,
   "id": "4df9cc90",
   "metadata": {},
   "outputs": [
    {
     "data": {
      "text/plain": [
       "MSFT     45.16\n",
       "AAPL    106.75\n",
       "dtype: float64"
      ]
     },
     "execution_count": 33,
     "metadata": {},
     "output_type": "execute_result"
    }
   ],
   "source": [
    "omh[['MSFT','AAPL']].min()"
   ]
  },
  {
   "cell_type": "code",
   "execution_count": 34,
   "id": "fe6be1f5",
   "metadata": {},
   "outputs": [],
   "source": [
    "# определим индекс, которому соответсвует максимальная цена для обеих акций"
   ]
  },
  {
   "cell_type": "code",
   "execution_count": 35,
   "id": "5dea36ea",
   "metadata": {},
   "outputs": [
    {
     "data": {
      "text/plain": [
       "MSFT   2014-12-16\n",
       "AAPL   2014-12-16\n",
       "dtype: datetime64[ns]"
      ]
     },
     "execution_count": 35,
     "metadata": {},
     "output_type": "execute_result"
    }
   ],
   "source": [
    "omh[['MSFT','AAPL']].idxmin()"
   ]
  },
  {
   "cell_type": "code",
   "execution_count": 36,
   "id": "a0f7aa59",
   "metadata": {},
   "outputs": [],
   "source": [
    "# среднее значение / медиана / мода"
   ]
  },
  {
   "cell_type": "markdown",
   "id": "a78b5d73",
   "metadata": {},
   "source": [
    "<image\n",
    "    src='../../source/1.png'\n",
    "    alt=\"среднее значение / медиана / мода\">"
   ]
  },
  {
   "cell_type": "markdown",
   "id": "47e61322",
   "metadata": {},
   "source": [
    "![среднее значение / медиана / мода](../../source/1.png)"
   ]
  },
  {
   "cell_type": "code",
   "execution_count": 37,
   "id": "9b69ea11",
   "metadata": {},
   "outputs": [],
   "source": [
    "# вычисление среднего значения mean() для всех столбцов в датафрейме omh"
   ]
  },
  {
   "cell_type": "code",
   "execution_count": 38,
   "id": "52ed0ea4",
   "metadata": {},
   "outputs": [
    {
     "data": {
      "text/plain": [
       "MSFT     47.493182\n",
       "AAPL    112.411364\n",
       "dtype: float64"
      ]
     },
     "execution_count": 38,
     "metadata": {},
     "output_type": "execute_result"
    }
   ],
   "source": [
    "omh.mean()"
   ]
  },
  {
   "cell_type": "code",
   "execution_count": 39,
   "id": "fcca3394",
   "metadata": {},
   "outputs": [],
   "source": [
    "# вычисление значения, усредненного по всем столбцам, для каждой строки (выводим только первые 5)"
   ]
  },
  {
   "cell_type": "code",
   "execution_count": 40,
   "id": "4bcb650f",
   "metadata": {},
   "outputs": [
    {
     "data": {
      "text/plain": [
       "Date\n",
       "2014-12-01    81.845\n",
       "2014-12-02    81.545\n",
       "2014-12-03    82.005\n",
       "2014-12-04    82.165\n",
       "2014-12-05    81.710\n",
       "dtype: float64"
      ]
     },
     "execution_count": 40,
     "metadata": {},
     "output_type": "execute_result"
    }
   ],
   "source": [
    "omh.mean(axis = 1).head()"
   ]
  },
  {
   "cell_type": "code",
   "execution_count": 41,
   "id": "4a59e226",
   "metadata": {},
   "outputs": [],
   "source": [
    "# вычисляем медиану значений для каждолго столбца"
   ]
  },
  {
   "cell_type": "code",
   "execution_count": 42,
   "id": "3ca3e296",
   "metadata": {},
   "outputs": [
    {
     "data": {
      "text/plain": [
       "MSFT     47.625\n",
       "AAPL    112.530\n",
       "dtype: float64"
      ]
     },
     "execution_count": 42,
     "metadata": {},
     "output_type": "execute_result"
    }
   ],
   "source": [
    "omh.median()"
   ]
  },
  {
   "cell_type": "code",
   "execution_count": 43,
   "id": "553b91d1",
   "metadata": {},
   "outputs": [],
   "source": [
    "# вычисляем моду для столбца Sector (мода - самое часто встречающееся значение в серии) \n",
    "# возвращает не скалярное значение а серию, тк мод может быть несколько "
   ]
  },
  {
   "cell_type": "code",
   "execution_count": 44,
   "id": "a885776c",
   "metadata": {},
   "outputs": [
    {
     "data": {
      "text/plain": [
       "0    Consumer Discretionary\n",
       "dtype: object"
      ]
     },
     "execution_count": 44,
     "metadata": {},
     "output_type": "execute_result"
    }
   ],
   "source": [
    "sp500.Sector.mode()"
   ]
  },
  {
   "cell_type": "code",
   "execution_count": 45,
   "id": "82070851",
   "metadata": {},
   "outputs": [],
   "source": [
    "# мод может быть несколько, пэтому результат операции - Series"
   ]
  },
  {
   "cell_type": "code",
   "execution_count": 46,
   "id": "c2a127eb",
   "metadata": {},
   "outputs": [
    {
     "data": {
      "text/plain": [
       "0    1\n",
       "1    3\n",
       "dtype: int64"
      ]
     },
     "execution_count": 46,
     "metadata": {},
     "output_type": "execute_result"
    }
   ],
   "source": [
    "s = pd.Series([1, 2, 3, 3, 5, 1])\n",
    "s.mode()"
   ]
  },
  {
   "cell_type": "markdown",
   "id": "94eb1d5d",
   "metadata": {},
   "source": [
    "### дисперсия / среднеквадратичное отклонение"
   ]
  },
  {
   "cell_type": "code",
   "execution_count": 47,
   "id": "c44b81db",
   "metadata": {},
   "outputs": [],
   "source": [
    "# вычисляем дисперсию значений в каждом столбце\n",
    "# дисперсия - насколько сильно значение отличается от среднего"
   ]
  },
  {
   "cell_type": "code",
   "execution_count": 48,
   "id": "0c9da78a",
   "metadata": {},
   "outputs": [
    {
     "data": {
      "text/plain": [
       "MSFT    0.870632\n",
       "AAPL    5.706231\n",
       "dtype: float64"
      ]
     },
     "execution_count": 48,
     "metadata": {},
     "output_type": "execute_result"
    }
   ],
   "source": [
    "omh.var()"
   ]
  },
  {
   "cell_type": "code",
   "execution_count": null,
   "id": "7b540fdf",
   "metadata": {},
   "outputs": [],
   "source": [
    "# вычислеине дисперсии по формуле напрямую"
   ]
  },
  {
   "cell_type": "code",
   "execution_count": 49,
   "id": "66908c3f",
   "metadata": {},
   "outputs": [
    {
     "data": {
      "text/plain": [
       "0.8706322510824867"
      ]
     },
     "execution_count": 49,
     "metadata": {},
     "output_type": "execute_result"
    }
   ],
   "source": [
    "(omh.MSFT**2 - omh.MSFT.mean()**2).sum() / (omh.shape[0]-1)"
   ]
  },
  {
   "cell_type": "code",
   "execution_count": 50,
   "id": "98208033",
   "metadata": {},
   "outputs": [],
   "source": [
    "# вычисление среднеквадратичного отклонения"
   ]
  },
  {
   "cell_type": "code",
   "execution_count": 51,
   "id": "0dd502b2",
   "metadata": {},
   "outputs": [
    {
     "data": {
      "text/plain": [
       "MSFT    0.933077\n",
       "AAPL    2.388772\n",
       "dtype: float64"
      ]
     },
     "execution_count": 51,
     "metadata": {},
     "output_type": "execute_result"
    }
   ],
   "source": [
    "omh.std()"
   ]
  },
  {
   "cell_type": "code",
   "execution_count": null,
   "id": "bee123ed",
   "metadata": {},
   "outputs": [],
   "source": [
    "# вычислеине по формуле напрямую"
   ]
  },
  {
   "cell_type": "code",
   "execution_count": 52,
   "id": "ecda4c23",
   "metadata": {},
   "outputs": [
    {
     "data": {
      "text/plain": [
       "0.9330767659106356"
      ]
     },
     "execution_count": 52,
     "metadata": {},
     "output_type": "execute_result"
    }
   ],
   "source": [
    "omh.MSFT.var()**0.5"
   ]
  },
  {
   "cell_type": "markdown",
   "id": "81018637",
   "metadata": {},
   "source": [
    "###  ковариация / корреляция"
   ]
  },
  {
   "cell_type": "code",
   "execution_count": null,
   "id": "cc4da508",
   "metadata": {},
   "outputs": [],
   "source": [
    "# ковариация и кореляция - это взаимосвязь между двумя переменными\n",
    "# ковариация - показвает как взаимосязанны переменные (положительно или отрицательно), но не дает понминия о силе взаимосвязи\n",
    "# кореляция - сила взаимосвязи между переменными принимает значение от -1 до 1\n",
    "# -1 - идеальная отрицательня взаимосязь, 0 нет взаимосвязи, 1 - деальная положительная взаимосязь"
   ]
  },
  {
   "cell_type": "code",
   "execution_count": 53,
   "id": "0b178984",
   "metadata": {},
   "outputs": [],
   "source": [
    "# вычисляем ковариацию между MSFT и AAPL"
   ]
  },
  {
   "cell_type": "code",
   "execution_count": 54,
   "id": "bf7b7709",
   "metadata": {},
   "outputs": [
    {
     "data": {
      "text/plain": [
       "1.9261240259740264"
      ]
     },
     "execution_count": 54,
     "metadata": {},
     "output_type": "execute_result"
    }
   ],
   "source": [
    "omh.MSFT.cov(omh.AAPL)"
   ]
  },
  {
   "cell_type": "code",
   "execution_count": null,
   "id": "dfef6e8d",
   "metadata": {},
   "outputs": [],
   "source": [
    "# 1.9261240259740264 прямая зависимоть, тк положительное число (те при росте акции MSFT растер и акция AAPL )"
   ]
  },
  {
   "cell_type": "code",
   "execution_count": 55,
   "id": "5d9c99f3",
   "metadata": {},
   "outputs": [
    {
     "data": {
      "text/plain": [
       "0.8641560684381169"
      ]
     },
     "execution_count": 55,
     "metadata": {},
     "output_type": "execute_result"
    }
   ],
   "source": [
    "omh.MSFT.cov(omh.AAPL) / (omh.MSFT.std() * omh.AAPL.std())"
   ]
  },
  {
   "cell_type": "code",
   "execution_count": 56,
   "id": "fd0853a2",
   "metadata": {},
   "outputs": [],
   "source": [
    "# либо можем получать матрицу ковариаций"
   ]
  },
  {
   "cell_type": "code",
   "execution_count": 57,
   "id": "d732a5a4",
   "metadata": {},
   "outputs": [
    {
     "data": {
      "text/html": [
       "<div>\n",
       "<style scoped>\n",
       "    .dataframe tbody tr th:only-of-type {\n",
       "        vertical-align: middle;\n",
       "    }\n",
       "\n",
       "    .dataframe tbody tr th {\n",
       "        vertical-align: top;\n",
       "    }\n",
       "\n",
       "    .dataframe thead th {\n",
       "        text-align: right;\n",
       "    }\n",
       "</style>\n",
       "<table border=\"1\" class=\"dataframe\">\n",
       "  <thead>\n",
       "    <tr style=\"text-align: right;\">\n",
       "      <th></th>\n",
       "      <th>MSFT</th>\n",
       "      <th>AAPL</th>\n",
       "    </tr>\n",
       "  </thead>\n",
       "  <tbody>\n",
       "    <tr>\n",
       "      <th>MSFT</th>\n",
       "      <td>1.000000</td>\n",
       "      <td>0.864156</td>\n",
       "    </tr>\n",
       "    <tr>\n",
       "      <th>AAPL</th>\n",
       "      <td>0.864156</td>\n",
       "      <td>1.000000</td>\n",
       "    </tr>\n",
       "  </tbody>\n",
       "</table>\n",
       "</div>"
      ],
      "text/plain": [
       "          MSFT      AAPL\n",
       "MSFT  1.000000  0.864156\n",
       "AAPL  0.864156  1.000000"
      ]
     },
     "execution_count": 57,
     "metadata": {},
     "output_type": "execute_result"
    }
   ],
   "source": [
    "omh.corr()"
   ]
  },
  {
   "cell_type": "markdown",
   "id": "8d80c374",
   "metadata": {},
   "source": [
    "### Преобразование данных"
   ]
  },
  {
   "cell_type": "markdown",
   "id": "3eb066fb",
   "metadata": {},
   "source": [
    "### дискретизация и квантилизация"
   ]
  },
  {
   "cell_type": "code",
   "execution_count": null,
   "id": "d3ab9089",
   "metadata": {},
   "outputs": [],
   "source": [
    "# дискретизация  - способ разбиение нерперывных данных на группы (бины bins )"
   ]
  },
  {
   "cell_type": "code",
   "execution_count": 77,
   "id": "835b41aa",
   "metadata": {},
   "outputs": [],
   "source": [
    "# генерируем 10000 случайных чисел из стандартного нормального распределения"
   ]
  },
  {
   "cell_type": "code",
   "execution_count": 78,
   "id": "4ca728c9",
   "metadata": {},
   "outputs": [
    {
     "data": {
      "text/plain": [
       "array([ 0.4691123 , -0.28286334, -1.5090585 , ...,  0.26296448,\n",
       "       -0.83377412, -0.10418135])"
      ]
     },
     "execution_count": 78,
     "metadata": {},
     "output_type": "execute_result"
    }
   ],
   "source": [
    "np.random.seed(123456)\n",
    "dist = np.random.normal(size = 10000)\n",
    "dist"
   ]
  },
  {
   "cell_type": "code",
   "execution_count": 79,
   "id": "3396f1a6",
   "metadata": {},
   "outputs": [],
   "source": [
    "# выводим среднее и стандарное отклонение \n",
    "# тк случайные числа взяты из нормального распределения то ожидается, что по мере увеличения выборки\n",
    "# среднее будет приближаться к 0\n",
    "# стандарное отклонеине приближаться к 1"
   ]
  },
  {
   "cell_type": "code",
   "execution_count": 80,
   "id": "25694325",
   "metadata": {},
   "outputs": [
    {
     "data": {
      "text/plain": [
       "(-0.002863324040906651, 1.008716203199891)"
      ]
     },
     "execution_count": 80,
     "metadata": {},
     "output_type": "execute_result"
    }
   ],
   "source": [
    "(dist.mean(), dist.std())"
   ]
  },
  {
   "cell_type": "code",
   "execution_count": 81,
   "id": "fda8a104",
   "metadata": {},
   "outputs": [],
   "source": [
    "# разбиваем на 5 одинаковых по размеру групп (по размеру интевалов - не количесву наблюдений в группе)"
   ]
  },
  {
   "cell_type": "code",
   "execution_count": 83,
   "id": "bf9acbe3",
   "metadata": {},
   "outputs": [
    {
     "data": {
      "text/plain": [
       "[(-0.633, 0.81], (-0.633, 0.81], (-2.077, -0.633], (-2.077, -0.633], (0.81, 2.254], ..., (-2.077, -0.633], (-0.633, 0.81], (-0.633, 0.81], (-2.077, -0.633], (-0.633, 0.81]]\n",
       "Length: 10000\n",
       "Categories (5, interval[float64, right]): [(-3.528, -2.077] < (-2.077, -0.633] < (-0.633, 0.81] < (0.81, 2.254] < (2.254, 3.698]]"
      ]
     },
     "execution_count": 83,
     "metadata": {},
     "output_type": "execute_result"
    }
   ],
   "source": [
    "bins = pd.cut(dist, 5)\n",
    "bins"
   ]
  },
  {
   "cell_type": "code",
   "execution_count": 85,
   "id": "cd99af6c",
   "metadata": {},
   "outputs": [],
   "source": [
    "# найдем дляны соответсвующих интервалов "
   ]
  },
  {
   "cell_type": "code",
   "execution_count": 86,
   "id": "25413643",
   "metadata": {},
   "outputs": [
    {
     "data": {
      "text/plain": [
       "IntervalIndex([(-3.528, -2.077], (-2.077, -0.633], (-0.633, 0.81], (0.81, 2.254], (2.254, 3.698]], dtype='interval[float64, right]')"
      ]
     },
     "execution_count": 86,
     "metadata": {},
     "output_type": "execute_result"
    }
   ],
   "source": [
    "bins.categories"
   ]
  },
  {
   "cell_type": "code",
   "execution_count": 87,
   "id": "58ab762a",
   "metadata": {},
   "outputs": [
    {
     "data": {
      "text/plain": [
       "[1.451, 1.444, 1.443, 1.444, 1.444]"
      ]
     },
     "execution_count": 87,
     "metadata": {},
     "output_type": "execute_result"
    }
   ],
   "source": [
    "# вычисляем размеры интервалов\n",
    "[q.right - q.left for q in bins.categories]"
   ]
  },
  {
   "cell_type": "code",
   "execution_count": 88,
   "id": "1af21972",
   "metadata": {},
   "outputs": [],
   "source": [
    "# генерируем 50 значений возраста в диапазоне от 6 до 70\n",
    "# ages = np.random.randint(6, 70, 50) - в выборке 50 челове от 6 до 70 лет"
   ]
  },
  {
   "cell_type": "code",
   "execution_count": 90,
   "id": "f6d2a81b",
   "metadata": {},
   "outputs": [
    {
     "data": {
      "text/plain": [
       "array([20, 45,  8, 28, 53,  7, 12, 19, 66, 42, 10, 37, 34, 25, 44, 69, 34,\n",
       "       67, 25, 51,  8, 50, 33, 42, 20, 31, 64, 51, 59, 11, 40, 32, 33, 29,\n",
       "       28, 18, 16, 47, 45, 66, 43, 65, 16, 17, 69,  9, 19, 42, 33, 39])"
      ]
     },
     "execution_count": 90,
     "metadata": {},
     "output_type": "execute_result"
    }
   ],
   "source": [
    "np.random.seed(242)\n",
    "ages = np.random.randint(6, 70, 50)\n",
    "ages"
   ]
  },
  {
   "cell_type": "code",
   "execution_count": 91,
   "id": "3e8f236b",
   "metadata": {},
   "outputs": [],
   "source": [
    "# добавляем имена для групп"
   ]
  },
  {
   "cell_type": "code",
   "execution_count": 94,
   "id": "f89c8671",
   "metadata": {},
   "outputs": [
    {
     "data": {
      "text/html": [
       "<div>\n",
       "<style scoped>\n",
       "    .dataframe tbody tr th:only-of-type {\n",
       "        vertical-align: middle;\n",
       "    }\n",
       "\n",
       "    .dataframe tbody tr th {\n",
       "        vertical-align: top;\n",
       "    }\n",
       "\n",
       "    .dataframe thead th {\n",
       "        text-align: right;\n",
       "    }\n",
       "</style>\n",
       "<table border=\"1\" class=\"dataframe\">\n",
       "  <thead>\n",
       "    <tr style=\"text-align: right;\">\n",
       "      <th></th>\n",
       "      <th>counts</th>\n",
       "      <th>freqs</th>\n",
       "    </tr>\n",
       "    <tr>\n",
       "      <th>categories</th>\n",
       "      <th></th>\n",
       "      <th></th>\n",
       "    </tr>\n",
       "  </thead>\n",
       "  <tbody>\n",
       "    <tr>\n",
       "      <th>Youth</th>\n",
       "      <td>7</td>\n",
       "      <td>0.14</td>\n",
       "    </tr>\n",
       "    <tr>\n",
       "      <th>Youth Adult</th>\n",
       "      <td>4</td>\n",
       "      <td>0.08</td>\n",
       "    </tr>\n",
       "    <tr>\n",
       "      <th>Adult</th>\n",
       "      <td>16</td>\n",
       "      <td>0.32</td>\n",
       "    </tr>\n",
       "    <tr>\n",
       "      <th>Middle Aged</th>\n",
       "      <td>12</td>\n",
       "      <td>0.24</td>\n",
       "    </tr>\n",
       "    <tr>\n",
       "      <th>Retired person</th>\n",
       "      <td>11</td>\n",
       "      <td>0.22</td>\n",
       "    </tr>\n",
       "  </tbody>\n",
       "</table>\n",
       "</div>"
      ],
      "text/plain": [
       "                counts  freqs\n",
       "categories                   \n",
       "Youth                7   0.14\n",
       "Youth Adult          4   0.08\n",
       "Adult               16   0.32\n",
       "Middle Aged         12   0.24\n",
       "Retired person      11   0.22"
      ]
     },
     "execution_count": 94,
     "metadata": {},
     "output_type": "execute_result"
    }
   ],
   "source": [
    "ranges = [6, 12, 18, 35, 50, 70]\n",
    "labels = ['Youth', 'Youth Adult', 'Adult', 'Middle Aged', 'Retired person']\n",
    "agebins = pd.cut(ages, ranges, labels=labels)\n",
    "agebins.describe()"
   ]
  },
  {
   "cell_type": "code",
   "execution_count": 95,
   "id": "fa7206c0",
   "metadata": {},
   "outputs": [],
   "source": [
    "# разбиваем (используя квантили) на 5 групп с одинаковым количеством элементов "
   ]
  },
  {
   "cell_type": "code",
   "execution_count": 96,
   "id": "9bbb0cbf",
   "metadata": {},
   "outputs": [],
   "source": [
    "qbin = pd.qcut(dist, 5)"
   ]
  },
  {
   "cell_type": "code",
   "execution_count": 97,
   "id": "9d807eb3",
   "metadata": {},
   "outputs": [],
   "source": [
    "# найдем статистику по полученным группам categories"
   ]
  },
  {
   "cell_type": "code",
   "execution_count": 98,
   "id": "e9e8e834",
   "metadata": {},
   "outputs": [
    {
     "data": {
      "text/html": [
       "<div>\n",
       "<style scoped>\n",
       "    .dataframe tbody tr th:only-of-type {\n",
       "        vertical-align: middle;\n",
       "    }\n",
       "\n",
       "    .dataframe tbody tr th {\n",
       "        vertical-align: top;\n",
       "    }\n",
       "\n",
       "    .dataframe thead th {\n",
       "        text-align: right;\n",
       "    }\n",
       "</style>\n",
       "<table border=\"1\" class=\"dataframe\">\n",
       "  <thead>\n",
       "    <tr style=\"text-align: right;\">\n",
       "      <th></th>\n",
       "      <th>counts</th>\n",
       "      <th>freqs</th>\n",
       "    </tr>\n",
       "    <tr>\n",
       "      <th>categories</th>\n",
       "      <th></th>\n",
       "      <th></th>\n",
       "    </tr>\n",
       "  </thead>\n",
       "  <tbody>\n",
       "    <tr>\n",
       "      <th>(-3.522, -0.861]</th>\n",
       "      <td>2000</td>\n",
       "      <td>0.2</td>\n",
       "    </tr>\n",
       "    <tr>\n",
       "      <th>(-0.861, -0.241]</th>\n",
       "      <td>2000</td>\n",
       "      <td>0.2</td>\n",
       "    </tr>\n",
       "    <tr>\n",
       "      <th>(-0.241, 0.261]</th>\n",
       "      <td>2000</td>\n",
       "      <td>0.2</td>\n",
       "    </tr>\n",
       "    <tr>\n",
       "      <th>(0.261, 0.866]</th>\n",
       "      <td>2000</td>\n",
       "      <td>0.2</td>\n",
       "    </tr>\n",
       "    <tr>\n",
       "      <th>(0.866, 3.698]</th>\n",
       "      <td>2000</td>\n",
       "      <td>0.2</td>\n",
       "    </tr>\n",
       "  </tbody>\n",
       "</table>\n",
       "</div>"
      ],
      "text/plain": [
       "                  counts  freqs\n",
       "categories                     \n",
       "(-3.522, -0.861]    2000    0.2\n",
       "(-0.861, -0.241]    2000    0.2\n",
       "(-0.241, 0.261]     2000    0.2\n",
       "(0.261, 0.866]      2000    0.2\n",
       "(0.866, 3.698]      2000    0.2"
      ]
     },
     "execution_count": 98,
     "metadata": {},
     "output_type": "execute_result"
    }
   ],
   "source": [
    "qbin.describe()"
   ]
  },
  {
   "cell_type": "code",
   "execution_count": 99,
   "id": "6c18edae",
   "metadata": {},
   "outputs": [],
   "source": [
    "# пример использования qcut\n",
    "# разобъем данные из sp500_copy на 5 групп (группы в зависимости от стоимости акций диапазон array )"
   ]
  },
  {
   "cell_type": "code",
   "execution_count": 100,
   "id": "067289e7",
   "metadata": {},
   "outputs": [],
   "source": [
    "sp500_copy = sp500.copy()"
   ]
  },
  {
   "cell_type": "code",
   "execution_count": 101,
   "id": "27083863",
   "metadata": {},
   "outputs": [
    {
     "data": {
      "text/plain": [
       "Symbol\n",
       "MMM     group_5\n",
       "AOS     group_2\n",
       "ABT     group_2\n",
       "ABBV    group_4\n",
       "ACN     group_5\n",
       "         ...   \n",
       "XYL     group_3\n",
       "YUM     group_3\n",
       "ZBH     group_4\n",
       "ZION    group_2\n",
       "ZTS     group_3\n",
       "Name: Price_Group, Length: 505, dtype: category\n",
       "Categories (5, object): ['group_1' < 'group_2' < 'group_3' < 'group_4' < 'group_5']"
      ]
     },
     "execution_count": 101,
     "metadata": {},
     "output_type": "execute_result"
    }
   ],
   "source": [
    "sp500_copy['Price_Group'], bins = pd.qcut(sp500_copy.Price,\n",
    "                                          5,\n",
    "                                          labels=['group_'+str(i) for i in range(1, 6)],\n",
    "                                          retbins=True)\n",
    "sp500_copy.Price_Group"
   ]
  },
  {
   "cell_type": "code",
   "execution_count": 102,
   "id": "d60881e3",
   "metadata": {},
   "outputs": [
    {
     "data": {
      "text/plain": [
       "array([   2.82 ,   40.57 ,   62.638,   90.774,  140.848, 1806.06 ])"
      ]
     },
     "execution_count": 102,
     "metadata": {},
     "output_type": "execute_result"
    }
   ],
   "source": [
    "bins"
   ]
  },
  {
   "cell_type": "code",
   "execution_count": 103,
   "id": "85f7b2be",
   "metadata": {},
   "outputs": [
    {
     "data": {
      "text/plain": [
       "group_1    101\n",
       "group_2    101\n",
       "group_3    101\n",
       "group_4    101\n",
       "group_5    101\n",
       "Name: Price_Group, dtype: int64"
      ]
     },
     "execution_count": 103,
     "metadata": {},
     "output_type": "execute_result"
    }
   ],
   "source": [
    "sp500_copy.Price_Group.value_counts()"
   ]
  },
  {
   "cell_type": "markdown",
   "id": "37c9fc8a",
   "metadata": {},
   "source": [
    "### куммулятивные суммы"
   ]
  },
  {
   "cell_type": "code",
   "execution_count": 104,
   "id": "ccf899aa",
   "metadata": {},
   "outputs": [],
   "source": [
    "# вычисляем куммулятивную сумму"
   ]
  },
  {
   "cell_type": "code",
   "execution_count": 105,
   "id": "c932e8b1",
   "metadata": {},
   "outputs": [
    {
     "data": {
      "text/plain": [
       "0     1\n",
       "1     3\n",
       "2     6\n",
       "3    10\n",
       "dtype: int64"
      ]
     },
     "execution_count": 105,
     "metadata": {},
     "output_type": "execute_result"
    }
   ],
   "source": [
    "pd.Series([1, 2, 3, 4]).cumsum()\n",
    "# 1 строка 1+2\n",
    "# 2 строка 1+2+3\n",
    "# 3 строка 1+2+3+4"
   ]
  },
  {
   "cell_type": "code",
   "execution_count": 106,
   "id": "45a01303",
   "metadata": {},
   "outputs": [],
   "source": [
    "# вычисляем куммулятивное произведение"
   ]
  },
  {
   "cell_type": "code",
   "execution_count": 107,
   "id": "da9d8024",
   "metadata": {},
   "outputs": [
    {
     "data": {
      "text/plain": [
       "0     1\n",
       "1     2\n",
       "2     6\n",
       "3    24\n",
       "dtype: int64"
      ]
     },
     "execution_count": 107,
     "metadata": {},
     "output_type": "execute_result"
    }
   ],
   "source": [
    "pd.Series([1, 2, 3, 4]).cumprod()"
   ]
  },
  {
   "cell_type": "markdown",
   "id": "95bf2c3e",
   "metadata": {},
   "source": [
    "### ранжирование "
   ]
  },
  {
   "cell_type": "code",
   "execution_count": 108,
   "id": "26ff6e6c",
   "metadata": {},
   "outputs": [],
   "source": [
    "# для примера "
   ]
  },
  {
   "cell_type": "code",
   "execution_count": 112,
   "id": "1783bf95",
   "metadata": {},
   "outputs": [
    {
     "data": {
      "text/plain": [
       "a    160\n",
       "b    165\n",
       "c    165\n",
       "d    170\n",
       "e    175\n",
       "dtype: int64"
      ]
     },
     "execution_count": 112,
     "metadata": {},
     "output_type": "execute_result"
    }
   ],
   "source": [
    "s = pd.Series([160, 165, 165, 170, 175], index=list('abcde'))\n",
    "s"
   ]
  },
  {
   "cell_type": "code",
   "execution_count": 113,
   "id": "7aeed14c",
   "metadata": {},
   "outputs": [],
   "source": [
    "# ранжируем значения"
   ]
  },
  {
   "cell_type": "code",
   "execution_count": 114,
   "id": "1c1bceee",
   "metadata": {},
   "outputs": [
    {
     "data": {
      "text/plain": [
       "a    1.0\n",
       "b    2.5\n",
       "c    2.5\n",
       "d    4.0\n",
       "e    5.0\n",
       "dtype: float64"
      ]
     },
     "execution_count": 114,
     "metadata": {},
     "output_type": "execute_result"
    }
   ],
   "source": [
    "s.rank()"
   ]
  },
  {
   "cell_type": "markdown",
   "id": "d772d06c",
   "metadata": {},
   "source": [
    "### относительное изменение"
   ]
  },
  {
   "cell_type": "code",
   "execution_count": 116,
   "id": "a57538c9",
   "metadata": {},
   "outputs": [
    {
     "data": {
      "text/html": [
       "<div>\n",
       "<style scoped>\n",
       "    .dataframe tbody tr th:only-of-type {\n",
       "        vertical-align: middle;\n",
       "    }\n",
       "\n",
       "    .dataframe tbody tr th {\n",
       "        vertical-align: top;\n",
       "    }\n",
       "\n",
       "    .dataframe thead th {\n",
       "        text-align: right;\n",
       "    }\n",
       "</style>\n",
       "<table border=\"1\" class=\"dataframe\">\n",
       "  <thead>\n",
       "    <tr style=\"text-align: right;\">\n",
       "      <th></th>\n",
       "      <th>MSFT</th>\n",
       "    </tr>\n",
       "    <tr>\n",
       "      <th>Date</th>\n",
       "      <th></th>\n",
       "    </tr>\n",
       "  </thead>\n",
       "  <tbody>\n",
       "    <tr>\n",
       "      <th>2014-12-01</th>\n",
       "      <td>48.62</td>\n",
       "    </tr>\n",
       "    <tr>\n",
       "      <th>2014-12-02</th>\n",
       "      <td>48.46</td>\n",
       "    </tr>\n",
       "    <tr>\n",
       "      <th>2014-12-03</th>\n",
       "      <td>48.08</td>\n",
       "    </tr>\n",
       "    <tr>\n",
       "      <th>2014-12-04</th>\n",
       "      <td>48.84</td>\n",
       "    </tr>\n",
       "    <tr>\n",
       "      <th>2014-12-05</th>\n",
       "      <td>48.42</td>\n",
       "    </tr>\n",
       "  </tbody>\n",
       "</table>\n",
       "</div>"
      ],
      "text/plain": [
       "             MSFT\n",
       "Date             \n",
       "2014-12-01  48.62\n",
       "2014-12-02  48.46\n",
       "2014-12-03  48.08\n",
       "2014-12-04  48.84\n",
       "2014-12-05  48.42"
      ]
     },
     "execution_count": 116,
     "metadata": {},
     "output_type": "execute_result"
    }
   ],
   "source": [
    "omh[['MSFT']].head()"
   ]
  },
  {
   "cell_type": "code",
   "execution_count": 117,
   "id": "0a3a6de3",
   "metadata": {},
   "outputs": [],
   "source": [
    "# вычисляем относительное изменине для MSFT (текущее значение с предыдущем)"
   ]
  },
  {
   "cell_type": "code",
   "execution_count": 118,
   "id": "100383f5",
   "metadata": {},
   "outputs": [
    {
     "data": {
      "text/html": [
       "<div>\n",
       "<style scoped>\n",
       "    .dataframe tbody tr th:only-of-type {\n",
       "        vertical-align: middle;\n",
       "    }\n",
       "\n",
       "    .dataframe tbody tr th {\n",
       "        vertical-align: top;\n",
       "    }\n",
       "\n",
       "    .dataframe thead th {\n",
       "        text-align: right;\n",
       "    }\n",
       "</style>\n",
       "<table border=\"1\" class=\"dataframe\">\n",
       "  <thead>\n",
       "    <tr style=\"text-align: right;\">\n",
       "      <th></th>\n",
       "      <th>MSFT</th>\n",
       "    </tr>\n",
       "    <tr>\n",
       "      <th>Date</th>\n",
       "      <th></th>\n",
       "    </tr>\n",
       "  </thead>\n",
       "  <tbody>\n",
       "    <tr>\n",
       "      <th>2014-12-01</th>\n",
       "      <td>NaN</td>\n",
       "    </tr>\n",
       "    <tr>\n",
       "      <th>2014-12-02</th>\n",
       "      <td>-0.003291</td>\n",
       "    </tr>\n",
       "    <tr>\n",
       "      <th>2014-12-03</th>\n",
       "      <td>-0.007842</td>\n",
       "    </tr>\n",
       "    <tr>\n",
       "      <th>2014-12-04</th>\n",
       "      <td>0.015807</td>\n",
       "    </tr>\n",
       "    <tr>\n",
       "      <th>2014-12-05</th>\n",
       "      <td>-0.008600</td>\n",
       "    </tr>\n",
       "  </tbody>\n",
       "</table>\n",
       "</div>"
      ],
      "text/plain": [
       "                MSFT\n",
       "Date                \n",
       "2014-12-01       NaN\n",
       "2014-12-02 -0.003291\n",
       "2014-12-03 -0.007842\n",
       "2014-12-04  0.015807\n",
       "2014-12-05 -0.008600"
      ]
     },
     "execution_count": 118,
     "metadata": {},
     "output_type": "execute_result"
    }
   ],
   "source": [
    "omh[['MSFT']].pct_change().head()"
   ]
  },
  {
   "cell_type": "code",
   "execution_count": 119,
   "id": "1317f7f2",
   "metadata": {},
   "outputs": [
    {
     "data": {
      "text/plain": [
       "-0.003290826820238515"
      ]
     },
     "execution_count": 119,
     "metadata": {},
     "output_type": "execute_result"
    }
   ],
   "source": [
    "# как получилось первое значение\n",
    "(48.46 - 48.62)/48.62"
   ]
  },
  {
   "cell_type": "markdown",
   "id": "5f799b46",
   "metadata": {},
   "source": [
    "### оконные функции"
   ]
  },
  {
   "cell_type": "code",
   "execution_count": 120,
   "id": "329a29a6",
   "metadata": {},
   "outputs": [],
   "source": [
    "# объект Rolling - создание скользящего окна \n",
    "# скользящее окно позволяет пересчитывать статистику для каждого окна\n",
    "# r = omh.MSFT.rolling(3) - задание скользящего окна в 3 значения "
   ]
  },
  {
   "cell_type": "code",
   "execution_count": 121,
   "id": "6a25c7a4",
   "metadata": {},
   "outputs": [],
   "source": [
    "r = omh.MSFT.rolling(3)"
   ]
  },
  {
   "cell_type": "code",
   "execution_count": 122,
   "id": "96862154",
   "metadata": {},
   "outputs": [],
   "source": [
    "# возможные операции"
   ]
  },
  {
   "cell_type": "code",
   "execution_count": 126,
   "id": "ea9a6213",
   "metadata": {},
   "outputs": [
    {
     "data": {
      "text/plain": [
       "Rolling [window=3,center=False,axis=0,method=single]"
      ]
     },
     "execution_count": 126,
     "metadata": {},
     "output_type": "execute_result"
    }
   ],
   "source": [
    "r"
   ]
  },
  {
   "cell_type": "code",
   "execution_count": 124,
   "id": "7bb3dab2",
   "metadata": {},
   "outputs": [],
   "source": [
    "# скользящее среднее "
   ]
  },
  {
   "cell_type": "code",
   "execution_count": 127,
   "id": "61b0301e",
   "metadata": {},
   "outputs": [
    {
     "data": {
      "text/plain": [
       "Date\n",
       "2014-12-01          NaN\n",
       "2014-12-02          NaN\n",
       "2014-12-03    48.386667\n",
       "2014-12-04    48.460000\n",
       "2014-12-05    48.446667\n",
       "                ...    \n",
       "2014-12-24    48.190000\n",
       "2014-12-26    48.156667\n",
       "2014-12-29    47.823333\n",
       "2014-12-30    47.450000\n",
       "2014-12-31    46.973333\n",
       "Name: MSFT, Length: 22, dtype: float64"
      ]
     },
     "execution_count": 127,
     "metadata": {},
     "output_type": "execute_result"
    }
   ],
   "source": [
    "r.mean()"
   ]
  },
  {
   "cell_type": "code",
   "execution_count": 128,
   "id": "29639b71",
   "metadata": {},
   "outputs": [],
   "source": [
    "# первое значение (среднее значнеие первых трех )"
   ]
  },
  {
   "cell_type": "code",
   "execution_count": 130,
   "id": "5da0293d",
   "metadata": {},
   "outputs": [
    {
     "data": {
      "text/plain": [
       "48.38666666666666"
      ]
     },
     "execution_count": 130,
     "metadata": {},
     "output_type": "execute_result"
    }
   ],
   "source": [
    "omh.MSFT.loc['2014-12-01':'2014-12-03'].mean()"
   ]
  },
  {
   "cell_type": "code",
   "execution_count": 129,
   "id": "62a4070d",
   "metadata": {},
   "outputs": [],
   "source": [
    "# второе значение (скользящее окно перемещается на 1 интервал вдоль данных)"
   ]
  },
  {
   "cell_type": "code",
   "execution_count": 131,
   "id": "8ac1cf8e",
   "metadata": {},
   "outputs": [
    {
     "data": {
      "text/plain": [
       "48.46"
      ]
     },
     "execution_count": 131,
     "metadata": {},
     "output_type": "execute_result"
    }
   ],
   "source": [
    "omh.MSFT.loc['2014-12-02':'2014-12-04'].mean()"
   ]
  },
  {
   "cell_type": "code",
   "execution_count": null,
   "id": "c67dca71",
   "metadata": {},
   "outputs": [],
   "source": []
  }
 ],
 "metadata": {
  "kernelspec": {
   "display_name": "Python 3 (ipykernel)",
   "language": "python",
   "name": "python3"
  },
  "language_info": {
   "codemirror_mode": {
    "name": "ipython",
    "version": 3
   },
   "file_extension": ".py",
   "mimetype": "text/x-python",
   "name": "python",
   "nbconvert_exporter": "python",
   "pygments_lexer": "ipython3",
   "version": "3.10.7"
  }
 },
 "nbformat": 4,
 "nbformat_minor": 5
}
